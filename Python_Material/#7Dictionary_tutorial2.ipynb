{
 "cells": [
  {
   "cell_type": "code",
   "execution_count": null,
   "id": "3e648cdd",
   "metadata": {},
   "outputs": [],
   "source": [
    "#Dictionary\n",
    "#A dictionary is a collection which is unordered, changeable and indexed. \n",
    "# In Python dictionaries are written with curly brackets, and they have keys and values.\n",
    "\n",
    "#Creating a dictionary is as simple as placing items inside curly braces {} separated by comma.\n",
    "# dictionary with mixed keys"
   ]
  },
  {
   "cell_type": "code",
   "execution_count": 1,
   "id": "7c923e57",
   "metadata": {},
   "outputs": [
    {
     "name": "stdout",
     "output_type": "stream",
     "text": [
      "John\n"
     ]
    }
   ],
   "source": [
    "my_dict = {'name': 'John', 1: [2, 4, 3]}\n",
    "print(my_dict['name'])\n"
   ]
  },
  {
   "cell_type": "code",
   "execution_count": 2,
   "id": "39602c1b",
   "metadata": {},
   "outputs": [],
   "source": [
    "# using dict()\n",
    "my_dict = dict({1:'apple', 2:'ball'})\n"
   ]
  },
  {
   "cell_type": "code",
   "execution_count": 3,
   "id": "77043f6d",
   "metadata": {},
   "outputs": [],
   "source": [
    "# delete a particular item\n",
    "del my_dict[1] "
   ]
  },
  {
   "cell_type": "code",
   "execution_count": 4,
   "id": "05449479",
   "metadata": {},
   "outputs": [
    {
     "name": "stdout",
     "output_type": "stream",
     "text": [
      "{\"key 1\": \"Value 1\", \"key 2\": \"Value 2\", \"decimal\": 100, \"boolean\": false, \"list\": [1, 2, 3], \"dict\": {\"child key 1\": \"value 1\", \"child key 2\": \"value 2\"}}\n"
     ]
    }
   ],
   "source": [
    "#Real World Example \n",
    "# Can be used in creating a Json object for Web related content\n",
    "\n",
    "import json\n",
    "\n",
    "my_dictionary = {\n",
    "    \"key 1\": \"Value 1\",\n",
    "    \"key 2\": \"Value 2\",\n",
    "    \"decimal\": 100,\n",
    "    \"boolean\": False,\n",
    "    \"list\": [1, 2, 3],\n",
    "    \"dict\": {\n",
    "        \"child key 1\": \"value 1\",\n",
    "        \"child key 2\": \"value 2\"\n",
    "    }\n",
    "}\n",
    "\n",
    "print(json.dumps(my_dictionary))"
   ]
  },
  {
   "cell_type": "code",
   "execution_count": null,
   "id": "378ba695",
   "metadata": {},
   "outputs": [],
   "source": []
  }
 ],
 "metadata": {
  "kernelspec": {
   "display_name": "Python 3 (ipykernel)",
   "language": "python",
   "name": "python3"
  },
  "language_info": {
   "codemirror_mode": {
    "name": "ipython",
    "version": 3
   },
   "file_extension": ".py",
   "mimetype": "text/x-python",
   "name": "python",
   "nbconvert_exporter": "python",
   "pygments_lexer": "ipython3",
   "version": "3.11.4"
  }
 },
 "nbformat": 4,
 "nbformat_minor": 5
}
