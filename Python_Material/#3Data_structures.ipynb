{
 "cells": [
  {
   "cell_type": "code",
   "execution_count": null,
   "id": "30a9f951",
   "metadata": {},
   "outputs": [],
   "source": [
    "# DATA STRUCTURES\n",
    "\n",
    "TWO TYPES\n",
    "\n",
    "1.PREMITIVE\n",
    "\n",
    "    A.INTEGERS\n",
    "    B-FLOAT\n",
    "    C.STRING\n",
    "    D.BOOLEAN\n",
    "    \n",
    "2.NON-PREMITIVE\n",
    "\n",
    "     A.LIST\n",
    "     B.TUPLE\n",
    "     C.DICTIONARY\n",
    "     D.SETS"
   ]
  },
  {
   "cell_type": "code",
   "execution_count": 1,
   "id": "5d3fed64",
   "metadata": {},
   "outputs": [
    {
     "name": "stdout",
     "output_type": "stream",
     "text": [
      "value of r: 222222222222222222222222222222222222222222222222222222222222222\n",
      "sum of 5 10 is: 15\n",
      "-5\n",
      "<class 'int'>\n"
     ]
    }
   ],
   "source": [
    "#INTEGERS\n",
    "\n",
    "x = 5\n",
    "y = 10\n",
    "\n",
    "r = 222222222222222222222222222222222222222222222222222222222222222\n",
    "\n",
    "print('value of r:',r)\n",
    "\n",
    "z = x+y\n",
    "print('sum of',x,y,'is:',z)\n",
    "\n",
    "a = x-y\n",
    "print(a)\n",
    "print(type(a))"
   ]
  },
  {
   "cell_type": "code",
   "execution_count": 2,
   "id": "867a0788",
   "metadata": {},
   "outputs": [
    {
     "name": "stdout",
     "output_type": "stream",
     "text": [
      "<class 'float'>\n",
      "<class 'float'>\n"
     ]
    }
   ],
   "source": [
    "#float\n",
    "\n",
    "x = 2.0\n",
    "y = 5.0\n",
    "z = 8\n",
    "\n",
    "print(type(x))\n",
    "print(type(z//x))"
   ]
  },
  {
   "cell_type": "code",
   "execution_count": 3,
   "id": "2b53d3dd",
   "metadata": {},
   "outputs": [
    {
     "name": "stdout",
     "output_type": "stream",
     "text": [
      "<class 'str'>\n"
     ]
    }
   ],
   "source": [
    "# string\n",
    "\n",
    "x = 'cake'\n",
    "y = 'cookie'\n",
    "\n",
    "print(type(x))"
   ]
  },
  {
   "cell_type": "code",
   "execution_count": 4,
   "id": "62776325",
   "metadata": {},
   "outputs": [
    {
     "name": "stdout",
     "output_type": "stream",
     "text": [
      "cake & cookie\n",
      "<class 'str'>\n",
      "cakecake\n",
      "c\n",
      "ce\n",
      "Python\n",
      "TESTING\n",
      "abcdefgeijkl\n",
      "12\n",
      "False\n",
      "abdcd jklmnyzw\n",
      "python\n",
      "-1\n",
      "5abcd\n"
     ]
    }
   ],
   "source": [
    "# coke & cookie\n",
    "\n",
    "print(x ,'&', y)\n",
    "print(type(x+'&'+y))\n",
    "\n",
    "#cakecake.(repeat)\n",
    "\n",
    "print(x*2)\n",
    "\n",
    "# slicing  cake\n",
    "\n",
    "print(x[:1])\n",
    "\n",
    "print(y[0]+x[3])\n",
    "\n",
    "# range function\n",
    "\n",
    "#[1:n]   --> 1 to n-1\n",
    "\n",
    "#methods\n",
    "\n",
    "str1 = 'python'\n",
    "str2 = 'datascience'\n",
    "\n",
    "#capitalize\n",
    "\n",
    "print(str1.capitalize())\n",
    "\n",
    "# upper\n",
    "str5 = 'testing'\n",
    "\n",
    "print(str5.upper())\n",
    "\n",
    "#lower\n",
    "\n",
    "str3 = 'ABCDEFGEIJKL'\n",
    "\n",
    "print(str3.lower())\n",
    "\n",
    "#len\n",
    "\n",
    "print(len(str3))\n",
    "\n",
    "# is digit\n",
    "\n",
    "print(str1.isdigit())\n",
    "\n",
    "#Replace\n",
    "\n",
    "a = 'abdcd 4 xyzw'\n",
    "b = 'jklmn'\n",
    "\n",
    "print(a.replace('4 x',b))\n",
    "\n",
    "print(str1.replace('info',str2))\n",
    "\n",
    "#find\n",
    "\n",
    "str1 = 'Python'\n",
    "str2 = 'abc'\n",
    "\n",
    "print(str1.find(str2)) #ifstring is present it gives starting position otherwise it gives -1\n",
    "\n",
    "x = 5\n",
    "y = 'abcd'\n",
    "\n",
    "z = str(x)+y\n",
    "print(z)"
   ]
  },
  {
   "cell_type": "code",
   "execution_count": 5,
   "id": "0a691747",
   "metadata": {},
   "outputs": [
    {
     "name": "stdout",
     "output_type": "stream",
     "text": [
      "False\n",
      "True\n",
      "test1\n"
     ]
    }
   ],
   "source": [
    "# Boolean\n",
    "\n",
    "x = 4\n",
    "y = 2\n",
    "print(x == y)\n",
    "print(x!=y)\n",
    "\n",
    "z = (x!=y)\n",
    "\n",
    "if z:\n",
    "    print('test1')\n",
    "else:\n",
    "    print('test2')"
   ]
  }
 ],
 "metadata": {
  "kernelspec": {
   "display_name": "Python 3 (ipykernel)",
   "language": "python",
   "name": "python3"
  },
  "language_info": {
   "codemirror_mode": {
    "name": "ipython",
    "version": 3
   },
   "file_extension": ".py",
   "mimetype": "text/x-python",
   "name": "python",
   "nbconvert_exporter": "python",
   "pygments_lexer": "ipython3",
   "version": "3.11.4"
  }
 },
 "nbformat": 4,
 "nbformat_minor": 5
}
