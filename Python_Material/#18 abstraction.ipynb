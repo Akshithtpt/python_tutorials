{
 "cells": [
  {
   "cell_type": "code",
   "execution_count": null,
   "id": "ef2ae926",
   "metadata": {},
   "outputs": [],
   "source": [
    "'''Abstraction in python is defined as a process of handling complexity by hiding unnecessary information from the \n",
    "user. This is one of the core concepts of object-oriented programming (OOP) languages. That enables the user to \n",
    "implement even more complex logic on top of the provided abstraction without understanding or even thinking about \n",
    "all the hidden background/back-end complexity.\n",
    "That’s a very generic core topic not only limited to object-oriented programming. You can observe it everywhere in \n",
    "the real world or in our surroundings'''"
   ]
  },
  {
   "cell_type": "code",
   "execution_count": null,
   "id": "ffd35751",
   "metadata": {},
   "outputs": [],
   "source": [
    "'''For the sake of understanding let us have an example as we all use the social platforms and contact our friends,\n",
    "chat, share images etc., but we don’t know how these operations are happening in the background.'''"
   ]
  },
  {
   "cell_type": "code",
   "execution_count": null,
   "id": "8e31eb9b",
   "metadata": {},
   "outputs": [],
   "source": [
    "'''Abstraction provides a programmer to hide all the irrelevant data/process of an application in order to reduce \n",
    "complexity and increase the efficiency of the program. Now, we can start learning how we can achieve abstraction \n",
    "using the Python program.'''"
   ]
  },
  {
   "cell_type": "code",
   "execution_count": 4,
   "id": "762e3df9",
   "metadata": {},
   "outputs": [
    {
     "name": "stdout",
     "output_type": "stream",
     "text": [
      "I have 3 sides\n",
      "I have 4 sides\n",
      "I have 5 sides\n",
      "I have 6 sides\n"
     ]
    }
   ],
   "source": [
    "# Python program showing \n",
    "# abstract base class work \n",
    "from abc import ABC, abstractmethod \n",
    "\n",
    "\n",
    "class Polygon(ABC): \n",
    "\n",
    "\t#abstractmethod\n",
    "\tdef noofsides(self): \n",
    "\t\tpass\n",
    "\n",
    "\n",
    "class Triangle(Polygon): \n",
    "\n",
    "\t# overriding abstract method \n",
    "\tdef noofsides(self): \n",
    "\t\tprint(\"I have 3 sides\") \n",
    "\n",
    "\n",
    "class Pentagon(Polygon): \n",
    "\n",
    "\t# overriding abstract method \n",
    "\tdef noofsides(self): \n",
    "\t\tprint(\"I have 5 sides\") \n",
    "\n",
    "\n",
    "class Hexagon(Polygon): \n",
    "\n",
    "\t# overriding abstract method \n",
    "\tdef noofsides(self): \n",
    "\t\tprint(\"I have 6 sides\") \n",
    "\n",
    "\n",
    "class Quadrilateral(Polygon): \n",
    "\n",
    "\t# overriding abstract method \n",
    "\tdef noofsides(self): \n",
    "\t\tprint(\"I have 4 sides\") \n",
    "\n",
    "\n",
    "# Driver code \n",
    "R = Triangle() \n",
    "R.noofsides() \n",
    "\n",
    "K = Quadrilateral() \n",
    "K.noofsides() \n",
    "\n",
    "R = Pentagon() \n",
    "R.noofsides() \n",
    "\n",
    "K = Hexagon() \n",
    "K.noofsides() \n"
   ]
  },
  {
   "cell_type": "code",
   "execution_count": 5,
   "id": "5d1b0d64",
   "metadata": {},
   "outputs": [
    {
     "name": "stdout",
     "output_type": "stream",
     "text": [
      "I can walk and run\n",
      "I can crawl\n",
      "I can bark\n",
      "I can roar\n"
     ]
    }
   ],
   "source": [
    "# Python program showing \n",
    "# abstract base class work \n",
    "from abc import ABC, abstractmethod \n",
    "\n",
    "\n",
    "class Animal(ABC): \n",
    "\n",
    "\tdef move(self): \n",
    "\t\tpass\n",
    "\n",
    "class Human(Animal): \n",
    "\n",
    "\tdef move(self): \n",
    "\t\tprint(\"I can walk and run\") \n",
    "\n",
    "class Snake(Animal): \n",
    "\n",
    "\tdef move(self): \n",
    "\t\tprint(\"I can crawl\") \n",
    "\n",
    "class Dog(Animal): \n",
    "\n",
    "\tdef move(self): \n",
    "\t\tprint(\"I can bark\") \n",
    "\n",
    "class Lion(Animal): \n",
    "\n",
    "\tdef move(self): \n",
    "\t\tprint(\"I can roar\") \n",
    "\n",
    "# Driver code \n",
    "R = Human() \n",
    "R.move() \n",
    "\n",
    "K = Snake() \n",
    "K.move() \n",
    "\n",
    "R = Dog() \n",
    "R.move() \n",
    "\n",
    "K = Lion() \n",
    "K.move() \n"
   ]
  },
  {
   "cell_type": "code",
   "execution_count": 6,
   "id": "8ff5db92",
   "metadata": {},
   "outputs": [
    {
     "name": "stdout",
     "output_type": "stream",
     "text": [
      "True\n",
      "True\n"
     ]
    }
   ],
   "source": [
    "# Python program showing \n",
    "# implementation of abstract \n",
    "# class through subclassing \n",
    "import abc \n",
    "\n",
    "class parent:\t \n",
    "\tdef equivalue(self): \n",
    "\t\tpass\n",
    "\n",
    "class child(parent): \n",
    "\tdef equivalue(self): \n",
    "\t\tprint(\"child class\") \n",
    "\n",
    "# Driver code \n",
    "print( issubclass(child, parent)) \n",
    "print( isinstance(child(), parent))"
   ]
  },
  {
   "cell_type": "code",
   "execution_count": 7,
   "id": "d1d889e8",
   "metadata": {},
   "outputs": [
    {
     "name": "stdout",
     "output_type": "stream",
     "text": [
      "Abstract Base Class\n",
      "subclass \n"
     ]
    }
   ],
   "source": [
    "# Python program invoking a \n",
    "# method using super() \n",
    "\n",
    "import abc \n",
    "from abc import ABC, abstractmethod \n",
    "\n",
    "class R(ABC): \n",
    "\tdef rk(self): \n",
    "\t\tprint(\"Abstract Base Class\") \n",
    "\n",
    "class K(R): \n",
    "\tdef rk(self): \n",
    "\t\tsuper().rk() \n",
    "\t\tprint(\"subclass \") \n",
    "\n",
    "# Driver code \n",
    "r = K() \n",
    "r.rk() \n"
   ]
  },
  {
   "cell_type": "code",
   "execution_count": 8,
   "id": "c28db3c6",
   "metadata": {},
   "outputs": [
    {
     "name": "stdout",
     "output_type": "stream",
     "text": [
      "<bound method parent.equivalue of <__main__.parent object at 0x121e15510>>\n",
      "<bound method child.equivalue of <__main__.child object at 0x121b71990>>\n"
     ]
    }
   ],
   "source": [
    "# Python program showing \n",
    "# abstract properties \n",
    "\n",
    "import abc \n",
    "from abc import ABC, abstractmethod \n",
    "\n",
    "class parent(ABC): \n",
    "#@abc.abstractproperty \n",
    "\tdef equivalue(self): \n",
    "\t\treturn \"parent class\"\n",
    "class child(parent): \n",
    "\t\n",
    "\t#property\n",
    "\tdef equivalue(self): \n",
    "\t\treturn \"child class\"\n",
    "\n",
    "\n",
    "try: \n",
    "\tr =parent() \n",
    "\tprint( r.equivalue) \n",
    "except Exception as err: \n",
    "\tprint (err) \n",
    "\n",
    "r = child() \n",
    "print (r.equivalue) \n"
   ]
  },
  {
   "cell_type": "code",
   "execution_count": null,
   "id": "5ac44e27",
   "metadata": {},
   "outputs": [],
   "source": []
  }
 ],
 "metadata": {
  "kernelspec": {
   "display_name": "Python 3 (ipykernel)",
   "language": "python",
   "name": "python3"
  },
  "language_info": {
   "codemirror_mode": {
    "name": "ipython",
    "version": 3
   },
   "file_extension": ".py",
   "mimetype": "text/x-python",
   "name": "python",
   "nbconvert_exporter": "python",
   "pygments_lexer": "ipython3",
   "version": "3.11.4"
  }
 },
 "nbformat": 4,
 "nbformat_minor": 5
}
