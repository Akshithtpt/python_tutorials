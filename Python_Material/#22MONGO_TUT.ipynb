{
 "cells": [
  {
   "cell_type": "code",
   "execution_count": 1,
   "id": "faa1866f",
   "metadata": {},
   "outputs": [],
   "source": [
    "#MongoDB stores data in JSON-like documents, which makes the database very flexible and scalable.\n",
    "\n",
    "import pymongo"
   ]
  },
  {
   "cell_type": "code",
   "execution_count": null,
   "id": "6a3828f8",
   "metadata": {},
   "outputs": [],
   "source": [
    "pip install pymongo"
   ]
  },
  {
   "cell_type": "code",
   "execution_count": null,
   "id": "0043e90e",
   "metadata": {},
   "outputs": [],
   "source": [
    "pip install resources"
   ]
  },
  {
   "cell_type": "code",
   "execution_count": 3,
   "id": "04447efb",
   "metadata": {},
   "outputs": [],
   "source": [
    "#create mongo db\n",
    "\n",
    "#To create a database in MongoDB, start by creating a MongoClient object, \n",
    "#then specify a connection URL with the correct ip address and the name of the database you want to create.\n",
    "#MongoDB will create the database if it does not exist, and make a connection to it.\n",
    "\n",
    "import pymongo\n",
    "\n",
    "myclient = pymongo.MongoClient(\"mongodb://localhost:27017/\")\n",
    "\n",
    "mydb = myclient[\"AGENT_DB\"]"
   ]
  },
  {
   "cell_type": "code",
   "execution_count": 1,
   "id": "f114acac",
   "metadata": {},
   "outputs": [
    {
     "ename": "NameError",
     "evalue": "name 'myclient' is not defined",
     "output_type": "error",
     "traceback": [
      "\u001b[0;31m---------------------------------------------------------------------------\u001b[0m",
      "\u001b[0;31mNameError\u001b[0m                                 Traceback (most recent call last)",
      "Cell \u001b[0;32mIn[1], line 2\u001b[0m\n\u001b[1;32m      1\u001b[0m \u001b[38;5;66;03m#In MongoDB, a database is not created until it gets content!\u001b[39;00m\n\u001b[0;32m----> 2\u001b[0m \u001b[38;5;28mprint\u001b[39m(myclient\u001b[38;5;241m.\u001b[39mlist_database_names())\n",
      "\u001b[0;31mNameError\u001b[0m: name 'myclient' is not defined"
     ]
    }
   ],
   "source": [
    "#In MongoDB, a database is not created until it gets content!\n",
    "print(myclient.list_database_names())"
   ]
  },
  {
   "cell_type": "code",
   "execution_count": 2,
   "id": "ad1158c0",
   "metadata": {},
   "outputs": [
    {
     "ename": "NameError",
     "evalue": "name 'myclient' is not defined",
     "output_type": "error",
     "traceback": [
      "\u001b[0;31m---------------------------------------------------------------------------\u001b[0m",
      "\u001b[0;31mNameError\u001b[0m                                 Traceback (most recent call last)",
      "Cell \u001b[0;32mIn[2], line 3\u001b[0m\n\u001b[1;32m      1\u001b[0m \u001b[38;5;66;03m#CHECK DB\u001b[39;00m\n\u001b[0;32m----> 3\u001b[0m dblist \u001b[38;5;241m=\u001b[39m myclient\u001b[38;5;241m.\u001b[39mlist_database_names()\n\u001b[1;32m      4\u001b[0m \u001b[38;5;28;01mif\u001b[39;00m \u001b[38;5;124m\"\u001b[39m\u001b[38;5;124mAGENT_DB\u001b[39m\u001b[38;5;124m\"\u001b[39m \u001b[38;5;129;01min\u001b[39;00m dblist:\n\u001b[1;32m      5\u001b[0m   \u001b[38;5;28mprint\u001b[39m(\u001b[38;5;124m\"\u001b[39m\u001b[38;5;124mThe database exists.\u001b[39m\u001b[38;5;124m\"\u001b[39m)\n",
      "\u001b[0;31mNameError\u001b[0m: name 'myclient' is not defined"
     ]
    }
   ],
   "source": [
    "#CHECK DB\n",
    "\n",
    "dblist = myclient.list_database_names()\n",
    "if \"AGENT_DB\" in dblist:\n",
    "  print(\"The database exists.\")"
   ]
  },
  {
   "cell_type": "code",
   "execution_count": 6,
   "id": "a6915034",
   "metadata": {},
   "outputs": [],
   "source": [
    "#A collection in MongoDB is the same as a table in SQL databases\n",
    "\n",
    "import pymongo\n",
    "\n",
    "myclient = pymongo.MongoClient(\"mongodb://localhost:27017/\")\n",
    "mydb = myclient[\"AGENT_DB\"]\n",
    "\n",
    "mycol = mydb[\"AGENT_DTL\"]\n"
   ]
  },
  {
   "cell_type": "code",
   "execution_count": 3,
   "id": "e3484db8",
   "metadata": {},
   "outputs": [
    {
     "ename": "NameError",
     "evalue": "name 'mydb' is not defined",
     "output_type": "error",
     "traceback": [
      "\u001b[0;31m---------------------------------------------------------------------------\u001b[0m",
      "\u001b[0;31mNameError\u001b[0m                                 Traceback (most recent call last)",
      "Cell \u001b[0;32mIn[3], line 3\u001b[0m\n\u001b[1;32m      1\u001b[0m \u001b[38;5;66;03m#In MongoDB, a collection is not created until it gets content!\u001b[39;00m\n\u001b[0;32m----> 3\u001b[0m \u001b[38;5;28mprint\u001b[39m(mydb\u001b[38;5;241m.\u001b[39mlist_collection_names())\n",
      "\u001b[0;31mNameError\u001b[0m: name 'mydb' is not defined"
     ]
    }
   ],
   "source": [
    "#In MongoDB, a collection is not created until it gets content!\n",
    "\n",
    "print(mydb.list_collection_names())"
   ]
  },
  {
   "cell_type": "code",
   "execution_count": 4,
   "id": "8726e295",
   "metadata": {},
   "outputs": [
    {
     "ename": "NameError",
     "evalue": "name 'mydb' is not defined",
     "output_type": "error",
     "traceback": [
      "\u001b[0;31m---------------------------------------------------------------------------\u001b[0m",
      "\u001b[0;31mNameError\u001b[0m                                 Traceback (most recent call last)",
      "Cell \u001b[0;32mIn[4], line 1\u001b[0m\n\u001b[0;32m----> 1\u001b[0m collist \u001b[38;5;241m=\u001b[39m mydb\u001b[38;5;241m.\u001b[39mlist_collection_names()\n\u001b[1;32m      2\u001b[0m \u001b[38;5;28;01mif\u001b[39;00m \u001b[38;5;124m\"\u001b[39m\u001b[38;5;124mAGENT_DTL\u001b[39m\u001b[38;5;124m\"\u001b[39m \u001b[38;5;129;01min\u001b[39;00m collist:\n\u001b[1;32m      3\u001b[0m   \u001b[38;5;28mprint\u001b[39m(\u001b[38;5;124m\"\u001b[39m\u001b[38;5;124mThe collection exists.\u001b[39m\u001b[38;5;124m\"\u001b[39m)\n",
      "\u001b[0;31mNameError\u001b[0m: name 'mydb' is not defined"
     ]
    }
   ],
   "source": [
    "collist = mydb.list_collection_names()\n",
    "if \"AGENT_DTL\" in collist:\n",
    "  print(\"The collection exists.\")"
   ]
  },
  {
   "cell_type": "code",
   "execution_count": 6,
   "id": "d60d850d",
   "metadata": {},
   "outputs": [],
   "source": [
    "#A document in MongoDB is the same as a record in SQL databases.\n",
    "\n",
    "import pymongo\n",
    "\n",
    "myclient = pymongo.MongoClient(\"mongodb://localhost:27017/\")\n",
    "mydb = myclient[\"AGENT_DB\"]\n",
    "mycol = mydb[\"AGENT_DTL\"]\n",
    "\n",
    "mydict = { \"name\": \"LEANN\", \"address\": \"1 NATIONALLIFE DRIVE\" }\n",
    "\n",
    "x = mycol.insert_one(mydict)\n"
   ]
  },
  {
   "cell_type": "code",
   "execution_count": 7,
   "id": "bb7ecd43",
   "metadata": {},
   "outputs": [
    {
     "name": "stdout",
     "output_type": "stream",
     "text": [
      "64efb270b442373332f3faac\n"
     ]
    }
   ],
   "source": [
    "mydict = { \"name\": \"Peter\", \"address\": \"Lowstreet 27\" }\n",
    "\n",
    "x = mycol.insert_one(mydict)\n",
    "\n",
    "print(x.inserted_id)"
   ]
  },
  {
   "cell_type": "code",
   "execution_count": 9,
   "id": "7e0e680f",
   "metadata": {},
   "outputs": [
    {
     "name": "stdout",
     "output_type": "stream",
     "text": [
      "[ObjectId('64efb2bfb442373332f3faae'), ObjectId('64efb2bfb442373332f3faaf'), ObjectId('64efb2bfb442373332f3fab0'), ObjectId('64efb2bfb442373332f3fab1'), ObjectId('64efb2bfb442373332f3fab2'), ObjectId('64efb2bfb442373332f3fab3'), ObjectId('64efb2bfb442373332f3fab4'), ObjectId('64efb2bfb442373332f3fab5'), ObjectId('64efb2bfb442373332f3fab6'), ObjectId('64efb2bfb442373332f3fab7'), ObjectId('64efb2bfb442373332f3fab8'), ObjectId('64efb2bfb442373332f3fab9')]\n"
     ]
    }
   ],
   "source": [
    "import pymongo\n",
    "\n",
    "myclient = pymongo.MongoClient(\"mongodb://localhost:27017/\")\n",
    "mydb = myclient[\"AGENT_DB\"]\n",
    "mycol = mydb[\"AGENT_DTL\"]\n",
    "\n",
    "mylist = [\n",
    "  { \"name\": \"Amy\", \"address\": \"Apple st 652\"},\n",
    "  { \"name\": \"Hannah\", \"address\": \"Mountain 21\"},\n",
    "  { \"name\": \"Michael\", \"address\": \"Valley 345\"},\n",
    "  { \"name\": \"Sandy\", \"address\": \"Ocean blvd 2\"},\n",
    "  { \"name\": \"Betty\", \"address\": \"Green Grass 1\"},\n",
    "  { \"name\": \"Richard\", \"address\": \"Sky st 331\"},\n",
    "  { \"name\": \"Susan\", \"address\": \"One way 98\"},\n",
    "  { \"name\": \"Vicky\", \"address\": \"Yellow Garden 2\"},\n",
    "  { \"name\": \"Ben\", \"address\": \"Park Lane 38\"},\n",
    "  { \"name\": \"William\", \"address\": \"Central st 954\"},\n",
    "  { \"name\": \"Chuck\", \"address\": \"Main Road 989\"},\n",
    "  { \"name\": \"Viola\", \"address\": \"Sideway 1633\"}\n",
    "]\n",
    "\n",
    "x = mycol.insert_many(mylist)\n",
    "\n",
    "#print list of the _id values of the inserted documents:\n",
    "print(x.inserted_ids)"
   ]
  },
  {
   "cell_type": "code",
   "execution_count": 10,
   "id": "ee09c67a",
   "metadata": {},
   "outputs": [
    {
     "name": "stdout",
     "output_type": "stream",
     "text": [
      "The database exists.\n"
     ]
    }
   ],
   "source": [
    "dblist = myclient.list_database_names()\n",
    "if \"AGENT_DB\" in dblist:\n",
    "  print(\"The database exists.\")"
   ]
  },
  {
   "cell_type": "code",
   "execution_count": 11,
   "id": "b2d76b55",
   "metadata": {},
   "outputs": [
    {
     "name": "stdout",
     "output_type": "stream",
     "text": [
      "[1, 2, 3, 4, 5, 6, 7, 8, 9, 10, 11, 12, 13, 14]\n"
     ]
    }
   ],
   "source": [
    "import pymongo\n",
    "\n",
    "myclient = pymongo.MongoClient(\"mongodb://localhost:27017/\")\n",
    "mydb = myclient[\"AGENT_DB\"]\n",
    "mycol = mydb[\"AGENT_DTL\"]\n",
    "\n",
    "mylist = [\n",
    "  { \"_id\": 1, \"name\": \"John\", \"address\": \"Highway 37\"},\n",
    "  { \"_id\": 2, \"name\": \"Peter\", \"address\": \"Lowstreet 27\"},\n",
    "  { \"_id\": 3, \"name\": \"Amy\", \"address\": \"Apple st 652\"},\n",
    "  { \"_id\": 4, \"name\": \"Hannah\", \"address\": \"Mountain 21\"},\n",
    "  { \"_id\": 5, \"name\": \"Michael\", \"address\": \"Valley 345\"},\n",
    "  { \"_id\": 6, \"name\": \"Sandy\", \"address\": \"Ocean blvd 2\"},\n",
    "  { \"_id\": 7, \"name\": \"Betty\", \"address\": \"Green Grass 1\"},\n",
    "  { \"_id\": 8, \"name\": \"Richard\", \"address\": \"Sky st 331\"},\n",
    "  { \"_id\": 9, \"name\": \"Susan\", \"address\": \"One way 98\"},\n",
    "  { \"_id\": 10, \"name\": \"Vicky\", \"address\": \"Yellow Garden 2\"},\n",
    "  { \"_id\": 11, \"name\": \"Ben\", \"address\": \"Park Lane 38\"},\n",
    "  { \"_id\": 12, \"name\": \"William\", \"address\": \"Central st 954\"},\n",
    "  { \"_id\": 13, \"name\": \"Chuck\", \"address\": \"Main Road 989\"},\n",
    "  { \"_id\": 14, \"name\": \"Viola\", \"address\": \"Sideway 1633\"}\n",
    "]\n",
    "\n",
    "x = mycol.insert_many(mylist)\n",
    "\n",
    "#print list of the _id values of the inserted documents:\n",
    "print(x.inserted_ids)"
   ]
  },
  {
   "cell_type": "code",
   "execution_count": 12,
   "id": "446c00ee",
   "metadata": {},
   "outputs": [
    {
     "name": "stdout",
     "output_type": "stream",
     "text": [
      "{'_id': ObjectId('64efb250b442373332f3faab'), 'name': 'LEANN', 'address': '1 NATIONALLIFE DRIVE'}\n"
     ]
    }
   ],
   "source": [
    "#In MongoDB we use the find() and find_one() methods to find data in a collection.\n",
    "\n",
    "#Just like the SELECT statement is used to find data in a table in a MySQL database.\n",
    "\n",
    "import pymongo\n",
    "\n",
    "myclient = pymongo.MongoClient(\"mongodb://localhost:27017/\")\n",
    "mydb = myclient[\"AGENT_DB\"]\n",
    "mycol = mydb[\"AGENT_DTL\"]\n",
    "\n",
    "x = mycol.find_one()\n",
    "\n",
    "print(x)"
   ]
  },
  {
   "cell_type": "code",
   "execution_count": 14,
   "id": "ab1ee2c4",
   "metadata": {},
   "outputs": [
    {
     "name": "stdout",
     "output_type": "stream",
     "text": [
      "{'_id': ObjectId('64efb250b442373332f3faab'), 'name': 'LEANN', 'address': '1 NATIONALLIFE DRIVE'}\n",
      "{'_id': ObjectId('64efb270b442373332f3faac'), 'name': 'Peter', 'address': 'Lowstreet 27'}\n",
      "{'_id': ObjectId('64efb2bfb442373332f3faae'), 'name': 'Amy', 'address': 'Apple st 652'}\n",
      "{'_id': ObjectId('64efb2bfb442373332f3faaf'), 'name': 'Hannah', 'address': 'Mountain 21'}\n",
      "{'_id': ObjectId('64efb2bfb442373332f3fab0'), 'name': 'Michael', 'address': 'Valley 345'}\n",
      "{'_id': ObjectId('64efb2bfb442373332f3fab1'), 'name': 'Sandy', 'address': 'Ocean blvd 2'}\n",
      "{'_id': ObjectId('64efb2bfb442373332f3fab2'), 'name': 'Betty', 'address': 'Green Grass 1'}\n",
      "{'_id': ObjectId('64efb2bfb442373332f3fab3'), 'name': 'Richard', 'address': 'Sky st 331'}\n",
      "{'_id': ObjectId('64efb2bfb442373332f3fab4'), 'name': 'Susan', 'address': 'One way 98'}\n",
      "{'_id': ObjectId('64efb2bfb442373332f3fab5'), 'name': 'Vicky', 'address': 'Yellow Garden 2'}\n",
      "{'_id': ObjectId('64efb2bfb442373332f3fab6'), 'name': 'Ben', 'address': 'Park Lane 38'}\n",
      "{'_id': ObjectId('64efb2bfb442373332f3fab7'), 'name': 'William', 'address': 'Central st 954'}\n",
      "{'_id': ObjectId('64efb2bfb442373332f3fab8'), 'name': 'Chuck', 'address': 'Main Road 989'}\n",
      "{'_id': ObjectId('64efb2bfb442373332f3fab9'), 'name': 'Viola', 'address': 'Sideway 1633'}\n",
      "{'_id': 1, 'name': 'John', 'address': 'Highway 37'}\n",
      "{'_id': 2, 'name': 'Peter', 'address': 'Lowstreet 27'}\n",
      "{'_id': 3, 'name': 'Amy', 'address': 'Apple st 652'}\n",
      "{'_id': 4, 'name': 'Hannah', 'address': 'Mountain 21'}\n",
      "{'_id': 5, 'name': 'Michael', 'address': 'Valley 345'}\n",
      "{'_id': 6, 'name': 'Sandy', 'address': 'Ocean blvd 2'}\n",
      "{'_id': 7, 'name': 'Betty', 'address': 'Green Grass 1'}\n",
      "{'_id': 8, 'name': 'Richard', 'address': 'Sky st 331'}\n",
      "{'_id': 9, 'name': 'Susan', 'address': 'One way 98'}\n",
      "{'_id': 10, 'name': 'Vicky', 'address': 'Yellow Garden 2'}\n",
      "{'_id': 11, 'name': 'Ben', 'address': 'Park Lane 38'}\n",
      "{'_id': 12, 'name': 'William', 'address': 'Central st 954'}\n",
      "{'_id': 13, 'name': 'Chuck', 'address': 'Main Road 989'}\n",
      "{'_id': 14, 'name': 'Viola', 'address': 'Sideway 1633'}\n"
     ]
    }
   ],
   "source": [
    "import pymongo\n",
    "\n",
    "myclient = pymongo.MongoClient(\"mongodb://localhost:27017/\")\n",
    "mydb = myclient[\"AGENT_DB\"]\n",
    "mycol = mydb[\"AGENT_DTL\"]\n",
    "\n",
    "for x in mycol.find():\n",
    "  print(x)"
   ]
  },
  {
   "cell_type": "code",
   "execution_count": 15,
   "id": "f8e72d8b",
   "metadata": {},
   "outputs": [
    {
     "name": "stdout",
     "output_type": "stream",
     "text": [
      "{'name': 'LEANN', 'address': '1 NATIONALLIFE DRIVE'}\n",
      "{'name': 'Peter', 'address': 'Lowstreet 27'}\n",
      "{'name': 'Amy', 'address': 'Apple st 652'}\n",
      "{'name': 'Hannah', 'address': 'Mountain 21'}\n",
      "{'name': 'Michael', 'address': 'Valley 345'}\n",
      "{'name': 'Sandy', 'address': 'Ocean blvd 2'}\n",
      "{'name': 'Betty', 'address': 'Green Grass 1'}\n",
      "{'name': 'Richard', 'address': 'Sky st 331'}\n",
      "{'name': 'Susan', 'address': 'One way 98'}\n",
      "{'name': 'Vicky', 'address': 'Yellow Garden 2'}\n",
      "{'name': 'Ben', 'address': 'Park Lane 38'}\n",
      "{'name': 'William', 'address': 'Central st 954'}\n",
      "{'name': 'Chuck', 'address': 'Main Road 989'}\n",
      "{'name': 'Viola', 'address': 'Sideway 1633'}\n",
      "{'name': 'John', 'address': 'Highway 37'}\n",
      "{'name': 'Peter', 'address': 'Lowstreet 27'}\n",
      "{'name': 'Amy', 'address': 'Apple st 652'}\n",
      "{'name': 'Hannah', 'address': 'Mountain 21'}\n",
      "{'name': 'Michael', 'address': 'Valley 345'}\n",
      "{'name': 'Sandy', 'address': 'Ocean blvd 2'}\n",
      "{'name': 'Betty', 'address': 'Green Grass 1'}\n",
      "{'name': 'Richard', 'address': 'Sky st 331'}\n",
      "{'name': 'Susan', 'address': 'One way 98'}\n",
      "{'name': 'Vicky', 'address': 'Yellow Garden 2'}\n",
      "{'name': 'Ben', 'address': 'Park Lane 38'}\n",
      "{'name': 'William', 'address': 'Central st 954'}\n",
      "{'name': 'Chuck', 'address': 'Main Road 989'}\n",
      "{'name': 'Viola', 'address': 'Sideway 1633'}\n"
     ]
    }
   ],
   "source": [
    "#Return ONLY name and address NOT ids\n",
    "\n",
    "import pymongo\n",
    "\n",
    "myclient = pymongo.MongoClient(\"mongodb://localhost:27017/\")\n",
    "mydb = myclient[\"AGENT_DB\"]\n",
    "mycol = mydb[\"AGENT_DTL\"]\n",
    "\n",
    "for x in mycol.find({},{ \"_id\": 0, \"name\": 1, \"address\": 1 }):\n",
    "  print(x)"
   ]
  },
  {
   "cell_type": "code",
   "execution_count": 16,
   "id": "f45824a5",
   "metadata": {},
   "outputs": [
    {
     "name": "stdout",
     "output_type": "stream",
     "text": [
      "{'_id': ObjectId('64efb250b442373332f3faab'), 'name': 'LEANN'}\n",
      "{'_id': ObjectId('64efb270b442373332f3faac'), 'name': 'Peter'}\n",
      "{'_id': ObjectId('64efb2bfb442373332f3faae'), 'name': 'Amy'}\n",
      "{'_id': ObjectId('64efb2bfb442373332f3faaf'), 'name': 'Hannah'}\n",
      "{'_id': ObjectId('64efb2bfb442373332f3fab0'), 'name': 'Michael'}\n",
      "{'_id': ObjectId('64efb2bfb442373332f3fab1'), 'name': 'Sandy'}\n",
      "{'_id': ObjectId('64efb2bfb442373332f3fab2'), 'name': 'Betty'}\n",
      "{'_id': ObjectId('64efb2bfb442373332f3fab3'), 'name': 'Richard'}\n",
      "{'_id': ObjectId('64efb2bfb442373332f3fab4'), 'name': 'Susan'}\n",
      "{'_id': ObjectId('64efb2bfb442373332f3fab5'), 'name': 'Vicky'}\n",
      "{'_id': ObjectId('64efb2bfb442373332f3fab6'), 'name': 'Ben'}\n",
      "{'_id': ObjectId('64efb2bfb442373332f3fab7'), 'name': 'William'}\n",
      "{'_id': ObjectId('64efb2bfb442373332f3fab8'), 'name': 'Chuck'}\n",
      "{'_id': ObjectId('64efb2bfb442373332f3fab9'), 'name': 'Viola'}\n",
      "{'_id': 1, 'name': 'John'}\n",
      "{'_id': 2, 'name': 'Peter'}\n",
      "{'_id': 3, 'name': 'Amy'}\n",
      "{'_id': 4, 'name': 'Hannah'}\n",
      "{'_id': 5, 'name': 'Michael'}\n",
      "{'_id': 6, 'name': 'Sandy'}\n",
      "{'_id': 7, 'name': 'Betty'}\n",
      "{'_id': 8, 'name': 'Richard'}\n",
      "{'_id': 9, 'name': 'Susan'}\n",
      "{'_id': 10, 'name': 'Vicky'}\n",
      "{'_id': 11, 'name': 'Ben'}\n",
      "{'_id': 12, 'name': 'William'}\n",
      "{'_id': 13, 'name': 'Chuck'}\n",
      "{'_id': 14, 'name': 'Viola'}\n"
     ]
    }
   ],
   "source": [
    "#You are not allowed to specify both 0 and 1 values in the same object (except if one of the fields is the _id field).\n",
    "#If you specify a field with the value 0, all other fields get the value 1, and vice versa\n",
    "\n",
    "import pymongo\n",
    "\n",
    "myclient = pymongo.MongoClient(\"mongodb://localhost:27017/\")\n",
    "mydb = myclient[\"AGENT_DB\"]\n",
    "mycol = mydb[\"AGENT_DTL\"]\n",
    "\n",
    "for x in mycol.find({},{ \"address\": 0 }):\n",
    "  print(x)"
   ]
  },
  {
   "cell_type": "code",
   "execution_count": 17,
   "id": "2307aca0",
   "metadata": {},
   "outputs": [
    {
     "ename": "OperationFailure",
     "evalue": "Cannot do exclusion on field address in inclusion projection, full error: {'ok': 0.0, 'errmsg': 'Cannot do exclusion on field address in inclusion projection', 'code': 31254, 'codeName': 'Location31254'}",
     "output_type": "error",
     "traceback": [
      "\u001b[0;31m---------------------------------------------------------------------------\u001b[0m",
      "\u001b[0;31mOperationFailure\u001b[0m                          Traceback (most recent call last)",
      "Cell \u001b[0;32mIn[17], line 10\u001b[0m\n\u001b[1;32m      7\u001b[0m mydb \u001b[38;5;241m=\u001b[39m myclient[\u001b[38;5;124m\"\u001b[39m\u001b[38;5;124mAGENT_DB\u001b[39m\u001b[38;5;124m\"\u001b[39m]\n\u001b[1;32m      8\u001b[0m mycol \u001b[38;5;241m=\u001b[39m mydb[\u001b[38;5;124m\"\u001b[39m\u001b[38;5;124mAGENT_DTL\u001b[39m\u001b[38;5;124m\"\u001b[39m]\n\u001b[0;32m---> 10\u001b[0m \u001b[38;5;28;01mfor\u001b[39;00m x \u001b[38;5;129;01min\u001b[39;00m mycol\u001b[38;5;241m.\u001b[39mfind({},{ \u001b[38;5;124m\"\u001b[39m\u001b[38;5;124mname\u001b[39m\u001b[38;5;124m\"\u001b[39m: \u001b[38;5;241m1\u001b[39m, \u001b[38;5;124m\"\u001b[39m\u001b[38;5;124maddress\u001b[39m\u001b[38;5;124m\"\u001b[39m: \u001b[38;5;241m0\u001b[39m }):\n\u001b[1;32m     11\u001b[0m   \u001b[38;5;28mprint\u001b[39m(x)\n",
      "File \u001b[0;32m~/anaconda3/lib/python3.11/site-packages/pymongo/cursor.py:1262\u001b[0m, in \u001b[0;36mCursor.next\u001b[0;34m(self)\u001b[0m\n\u001b[1;32m   1260\u001b[0m \u001b[38;5;28;01mif\u001b[39;00m \u001b[38;5;28mself\u001b[39m\u001b[38;5;241m.\u001b[39m__empty:\n\u001b[1;32m   1261\u001b[0m     \u001b[38;5;28;01mraise\u001b[39;00m \u001b[38;5;167;01mStopIteration\u001b[39;00m\n\u001b[0;32m-> 1262\u001b[0m \u001b[38;5;28;01mif\u001b[39;00m \u001b[38;5;28mlen\u001b[39m(\u001b[38;5;28mself\u001b[39m\u001b[38;5;241m.\u001b[39m__data) \u001b[38;5;129;01mor\u001b[39;00m \u001b[38;5;28mself\u001b[39m\u001b[38;5;241m.\u001b[39m_refresh():\n\u001b[1;32m   1263\u001b[0m     \u001b[38;5;28;01mreturn\u001b[39;00m \u001b[38;5;28mself\u001b[39m\u001b[38;5;241m.\u001b[39m__data\u001b[38;5;241m.\u001b[39mpopleft()\n\u001b[1;32m   1264\u001b[0m \u001b[38;5;28;01melse\u001b[39;00m:\n",
      "File \u001b[0;32m~/anaconda3/lib/python3.11/site-packages/pymongo/cursor.py:1179\u001b[0m, in \u001b[0;36mCursor._refresh\u001b[0;34m(self)\u001b[0m\n\u001b[1;32m   1157\u001b[0m         \u001b[38;5;28;01mraise\u001b[39;00m InvalidOperation(\n\u001b[1;32m   1158\u001b[0m             \u001b[38;5;124m\"\u001b[39m\u001b[38;5;124mPassing a \u001b[39m\u001b[38;5;124m'\u001b[39m\u001b[38;5;124mhint\u001b[39m\u001b[38;5;124m'\u001b[39m\u001b[38;5;124m is required when using the min/max query\u001b[39m\u001b[38;5;124m\"\u001b[39m\n\u001b[1;32m   1159\u001b[0m             \u001b[38;5;124m\"\u001b[39m\u001b[38;5;124m option to ensure the query utilizes the correct index\u001b[39m\u001b[38;5;124m\"\u001b[39m\n\u001b[1;32m   1160\u001b[0m         )\n\u001b[1;32m   1161\u001b[0m     q \u001b[38;5;241m=\u001b[39m \u001b[38;5;28mself\u001b[39m\u001b[38;5;241m.\u001b[39m_query_class(\n\u001b[1;32m   1162\u001b[0m         \u001b[38;5;28mself\u001b[39m\u001b[38;5;241m.\u001b[39m__query_flags,\n\u001b[1;32m   1163\u001b[0m         \u001b[38;5;28mself\u001b[39m\u001b[38;5;241m.\u001b[39m__collection\u001b[38;5;241m.\u001b[39mdatabase\u001b[38;5;241m.\u001b[39mname,\n\u001b[0;32m   (...)\u001b[0m\n\u001b[1;32m   1177\u001b[0m         \u001b[38;5;28mself\u001b[39m\u001b[38;5;241m.\u001b[39m__exhaust,\n\u001b[1;32m   1178\u001b[0m     )\n\u001b[0;32m-> 1179\u001b[0m     \u001b[38;5;28mself\u001b[39m\u001b[38;5;241m.\u001b[39m__send_message(q)\n\u001b[1;32m   1180\u001b[0m \u001b[38;5;28;01melif\u001b[39;00m \u001b[38;5;28mself\u001b[39m\u001b[38;5;241m.\u001b[39m__id:  \u001b[38;5;66;03m# Get More\u001b[39;00m\n\u001b[1;32m   1181\u001b[0m     \u001b[38;5;28;01mif\u001b[39;00m \u001b[38;5;28mself\u001b[39m\u001b[38;5;241m.\u001b[39m__limit:\n",
      "File \u001b[0;32m~/anaconda3/lib/python3.11/site-packages/pymongo/cursor.py:1060\u001b[0m, in \u001b[0;36mCursor.__send_message\u001b[0;34m(self, operation)\u001b[0m\n\u001b[1;32m   1057\u001b[0m     \u001b[38;5;28;01mraise\u001b[39;00m InvalidOperation(\u001b[38;5;124m\"\u001b[39m\u001b[38;5;124mexhaust cursors do not support auto encryption\u001b[39m\u001b[38;5;124m\"\u001b[39m)\n\u001b[1;32m   1059\u001b[0m \u001b[38;5;28;01mtry\u001b[39;00m:\n\u001b[0;32m-> 1060\u001b[0m     response \u001b[38;5;241m=\u001b[39m client\u001b[38;5;241m.\u001b[39m_run_operation(\n\u001b[1;32m   1061\u001b[0m         operation, \u001b[38;5;28mself\u001b[39m\u001b[38;5;241m.\u001b[39m_unpack_response, address\u001b[38;5;241m=\u001b[39m\u001b[38;5;28mself\u001b[39m\u001b[38;5;241m.\u001b[39m__address\n\u001b[1;32m   1062\u001b[0m     )\n\u001b[1;32m   1063\u001b[0m \u001b[38;5;28;01mexcept\u001b[39;00m OperationFailure \u001b[38;5;28;01mas\u001b[39;00m exc:\n\u001b[1;32m   1064\u001b[0m     \u001b[38;5;28;01mif\u001b[39;00m exc\u001b[38;5;241m.\u001b[39mcode \u001b[38;5;129;01min\u001b[39;00m _CURSOR_CLOSED_ERRORS \u001b[38;5;129;01mor\u001b[39;00m \u001b[38;5;28mself\u001b[39m\u001b[38;5;241m.\u001b[39m__exhaust:\n\u001b[1;32m   1065\u001b[0m         \u001b[38;5;66;03m# Don't send killCursors because the cursor is already closed.\u001b[39;00m\n",
      "File \u001b[0;32m~/anaconda3/lib/python3.11/site-packages/pymongo/_csot.py:108\u001b[0m, in \u001b[0;36mapply.<locals>.csot_wrapper\u001b[0;34m(self, *args, **kwargs)\u001b[0m\n\u001b[1;32m    106\u001b[0m         \u001b[38;5;28;01mwith\u001b[39;00m _TimeoutContext(timeout):\n\u001b[1;32m    107\u001b[0m             \u001b[38;5;28;01mreturn\u001b[39;00m func(\u001b[38;5;28mself\u001b[39m, \u001b[38;5;241m*\u001b[39margs, \u001b[38;5;241m*\u001b[39m\u001b[38;5;241m*\u001b[39mkwargs)\n\u001b[0;32m--> 108\u001b[0m \u001b[38;5;28;01mreturn\u001b[39;00m func(\u001b[38;5;28mself\u001b[39m, \u001b[38;5;241m*\u001b[39margs, \u001b[38;5;241m*\u001b[39m\u001b[38;5;241m*\u001b[39mkwargs)\n",
      "File \u001b[0;32m~/anaconda3/lib/python3.11/site-packages/pymongo/mongo_client.py:1388\u001b[0m, in \u001b[0;36mMongoClient._run_operation\u001b[0;34m(self, operation, unpack_res, address)\u001b[0m\n\u001b[1;32m   1383\u001b[0m     operation\u001b[38;5;241m.\u001b[39mreset()  \u001b[38;5;66;03m# Reset op in case of retry.\u001b[39;00m\n\u001b[1;32m   1384\u001b[0m     \u001b[38;5;28;01mreturn\u001b[39;00m server\u001b[38;5;241m.\u001b[39mrun_operation(\n\u001b[1;32m   1385\u001b[0m         conn, operation, read_preference, \u001b[38;5;28mself\u001b[39m\u001b[38;5;241m.\u001b[39m_event_listeners, unpack_res\n\u001b[1;32m   1386\u001b[0m     )\n\u001b[0;32m-> 1388\u001b[0m \u001b[38;5;28;01mreturn\u001b[39;00m \u001b[38;5;28mself\u001b[39m\u001b[38;5;241m.\u001b[39m_retryable_read(\n\u001b[1;32m   1389\u001b[0m     _cmd,\n\u001b[1;32m   1390\u001b[0m     operation\u001b[38;5;241m.\u001b[39mread_preference,\n\u001b[1;32m   1391\u001b[0m     operation\u001b[38;5;241m.\u001b[39msession,\n\u001b[1;32m   1392\u001b[0m     address\u001b[38;5;241m=\u001b[39maddress,\n\u001b[1;32m   1393\u001b[0m     retryable\u001b[38;5;241m=\u001b[39m\u001b[38;5;28misinstance\u001b[39m(operation, message\u001b[38;5;241m.\u001b[39m_Query),\n\u001b[1;32m   1394\u001b[0m )\n",
      "File \u001b[0;32m~/anaconda3/lib/python3.11/site-packages/pymongo/_csot.py:108\u001b[0m, in \u001b[0;36mapply.<locals>.csot_wrapper\u001b[0;34m(self, *args, **kwargs)\u001b[0m\n\u001b[1;32m    106\u001b[0m         \u001b[38;5;28;01mwith\u001b[39;00m _TimeoutContext(timeout):\n\u001b[1;32m    107\u001b[0m             \u001b[38;5;28;01mreturn\u001b[39;00m func(\u001b[38;5;28mself\u001b[39m, \u001b[38;5;241m*\u001b[39margs, \u001b[38;5;241m*\u001b[39m\u001b[38;5;241m*\u001b[39mkwargs)\n\u001b[0;32m--> 108\u001b[0m \u001b[38;5;28;01mreturn\u001b[39;00m func(\u001b[38;5;28mself\u001b[39m, \u001b[38;5;241m*\u001b[39margs, \u001b[38;5;241m*\u001b[39m\u001b[38;5;241m*\u001b[39mkwargs)\n",
      "File \u001b[0;32m~/anaconda3/lib/python3.11/site-packages/pymongo/mongo_client.py:1535\u001b[0m, in \u001b[0;36mMongoClient._retryable_read\u001b[0;34m(self, func, read_pref, session, address, retryable)\u001b[0m\n\u001b[1;32m   1533\u001b[0m             \u001b[38;5;28;01massert\u001b[39;00m last_error \u001b[38;5;129;01mis\u001b[39;00m \u001b[38;5;129;01mnot\u001b[39;00m \u001b[38;5;28;01mNone\u001b[39;00m\n\u001b[1;32m   1534\u001b[0m             \u001b[38;5;28;01mraise\u001b[39;00m last_error\n\u001b[0;32m-> 1535\u001b[0m         \u001b[38;5;28;01mreturn\u001b[39;00m func(session, server, conn, read_pref)\n\u001b[1;32m   1536\u001b[0m \u001b[38;5;28;01mexcept\u001b[39;00m ServerSelectionTimeoutError:\n\u001b[1;32m   1537\u001b[0m     \u001b[38;5;28;01mif\u001b[39;00m retrying:\n\u001b[1;32m   1538\u001b[0m         \u001b[38;5;66;03m# The application may think the write was never attempted\u001b[39;00m\n\u001b[1;32m   1539\u001b[0m         \u001b[38;5;66;03m# if we raise ServerSelectionTimeoutError on the retry\u001b[39;00m\n\u001b[1;32m   1540\u001b[0m         \u001b[38;5;66;03m# attempt. Raise the original exception instead.\u001b[39;00m\n",
      "File \u001b[0;32m~/anaconda3/lib/python3.11/site-packages/pymongo/mongo_client.py:1384\u001b[0m, in \u001b[0;36mMongoClient._run_operation.<locals>._cmd\u001b[0;34m(session, server, conn, read_preference)\u001b[0m\n\u001b[1;32m   1377\u001b[0m \u001b[38;5;28;01mdef\u001b[39;00m \u001b[38;5;21m_cmd\u001b[39m(\n\u001b[1;32m   1378\u001b[0m     session: Optional[ClientSession],\n\u001b[1;32m   1379\u001b[0m     server: Server,\n\u001b[1;32m   1380\u001b[0m     conn: Connection,\n\u001b[1;32m   1381\u001b[0m     read_preference: _ServerMode,\n\u001b[1;32m   1382\u001b[0m ) \u001b[38;5;241m-\u001b[39m\u001b[38;5;241m>\u001b[39m Response:\n\u001b[1;32m   1383\u001b[0m     operation\u001b[38;5;241m.\u001b[39mreset()  \u001b[38;5;66;03m# Reset op in case of retry.\u001b[39;00m\n\u001b[0;32m-> 1384\u001b[0m     \u001b[38;5;28;01mreturn\u001b[39;00m server\u001b[38;5;241m.\u001b[39mrun_operation(\n\u001b[1;32m   1385\u001b[0m         conn, operation, read_preference, \u001b[38;5;28mself\u001b[39m\u001b[38;5;241m.\u001b[39m_event_listeners, unpack_res\n\u001b[1;32m   1386\u001b[0m     )\n",
      "File \u001b[0;32m~/anaconda3/lib/python3.11/site-packages/pymongo/helpers.py:315\u001b[0m, in \u001b[0;36m_handle_reauth.<locals>.inner\u001b[0;34m(*args, **kwargs)\u001b[0m\n\u001b[1;32m    312\u001b[0m \u001b[38;5;28;01mfrom\u001b[39;00m \u001b[38;5;21;01mpymongo\u001b[39;00m\u001b[38;5;21;01m.\u001b[39;00m\u001b[38;5;21;01mpool\u001b[39;00m \u001b[38;5;28;01mimport\u001b[39;00m Connection\n\u001b[1;32m    314\u001b[0m \u001b[38;5;28;01mtry\u001b[39;00m:\n\u001b[0;32m--> 315\u001b[0m     \u001b[38;5;28;01mreturn\u001b[39;00m func(\u001b[38;5;241m*\u001b[39margs, \u001b[38;5;241m*\u001b[39m\u001b[38;5;241m*\u001b[39mkwargs)\n\u001b[1;32m    316\u001b[0m \u001b[38;5;28;01mexcept\u001b[39;00m OperationFailure \u001b[38;5;28;01mas\u001b[39;00m exc:\n\u001b[1;32m    317\u001b[0m     \u001b[38;5;28;01mif\u001b[39;00m no_reauth:\n",
      "File \u001b[0;32m~/anaconda3/lib/python3.11/site-packages/pymongo/server.py:174\u001b[0m, in \u001b[0;36mServer.run_operation\u001b[0;34m(self, conn, operation, read_preference, listeners, unpack_res)\u001b[0m\n\u001b[1;32m    172\u001b[0m         first \u001b[38;5;241m=\u001b[39m docs[\u001b[38;5;241m0\u001b[39m]\n\u001b[1;32m    173\u001b[0m         operation\u001b[38;5;241m.\u001b[39mclient\u001b[38;5;241m.\u001b[39m_process_response(first, operation\u001b[38;5;241m.\u001b[39msession)\n\u001b[0;32m--> 174\u001b[0m         _check_command_response(first, conn\u001b[38;5;241m.\u001b[39mmax_wire_version)\n\u001b[1;32m    175\u001b[0m \u001b[38;5;28;01mexcept\u001b[39;00m \u001b[38;5;167;01mException\u001b[39;00m \u001b[38;5;28;01mas\u001b[39;00m exc:\n\u001b[1;32m    176\u001b[0m     \u001b[38;5;28;01mif\u001b[39;00m publish:\n",
      "File \u001b[0;32m~/anaconda3/lib/python3.11/site-packages/pymongo/helpers.py:223\u001b[0m, in \u001b[0;36m_check_command_response\u001b[0;34m(response, max_wire_version, allowable_errors, parse_write_concern_error)\u001b[0m\n\u001b[1;32m    220\u001b[0m \u001b[38;5;28;01melif\u001b[39;00m code \u001b[38;5;241m==\u001b[39m \u001b[38;5;241m43\u001b[39m:\n\u001b[1;32m    221\u001b[0m     \u001b[38;5;28;01mraise\u001b[39;00m CursorNotFound(errmsg, code, response, max_wire_version)\n\u001b[0;32m--> 223\u001b[0m \u001b[38;5;28;01mraise\u001b[39;00m OperationFailure(errmsg, code, response, max_wire_version)\n",
      "\u001b[0;31mOperationFailure\u001b[0m: Cannot do exclusion on field address in inclusion projection, full error: {'ok': 0.0, 'errmsg': 'Cannot do exclusion on field address in inclusion projection', 'code': 31254, 'codeName': 'Location31254'}"
     ]
    }
   ],
   "source": [
    "#You get an error if you specify both 0 and 1 values in the same object \n",
    "#(except if one of the fields is the _id field)\n",
    "\n",
    "import pymongo\n",
    "\n",
    "myclient = pymongo.MongoClient(\"mongodb://localhost:27017/\")\n",
    "mydb = myclient[\"AGENT_DB\"]\n",
    "mycol = mydb[\"AGENT_DTL\"]\n",
    "\n",
    "for x in mycol.find({},{ \"name\": 1, \"address\": 0 }):\n",
    "  print(x)"
   ]
  },
  {
   "cell_type": "code",
   "execution_count": 18,
   "id": "153e047a",
   "metadata": {},
   "outputs": [
    {
     "name": "stdout",
     "output_type": "stream",
     "text": [
      "{'_id': ObjectId('64efb2bfb442373332f3fab6'), 'name': 'Ben', 'address': 'Park Lane 38'}\n",
      "{'_id': 11, 'name': 'Ben', 'address': 'Park Lane 38'}\n"
     ]
    }
   ],
   "source": [
    "#The first argument of the find() method is a query object, and is used to limit the search.\n",
    "\n",
    "import pymongo\n",
    "\n",
    "myclient = pymongo.MongoClient(\"mongodb://localhost:27017/\")\n",
    "mydb = myclient[\"AGENT_DB\"]\n",
    "mycol = mydb[\"AGENT_DTL\"]\n",
    "\n",
    "myquery = { \"address\": \"Park Lane 38\" }\n",
    "\n",
    "mydoc = mycol.find(myquery)\n",
    "\n",
    "for x in mydoc:\n",
    "  print(x)"
   ]
  },
  {
   "cell_type": "code",
   "execution_count": 19,
   "id": "4627b40c",
   "metadata": {},
   "outputs": [
    {
     "name": "stdout",
     "output_type": "stream",
     "text": [
      "{'_id': ObjectId('64efb2bfb442373332f3fab0'), 'name': 'Michael', 'address': 'Valley 345'}\n",
      "{'_id': ObjectId('64efb2bfb442373332f3fab3'), 'name': 'Richard', 'address': 'Sky st 331'}\n",
      "{'_id': ObjectId('64efb2bfb442373332f3fab5'), 'name': 'Vicky', 'address': 'Yellow Garden 2'}\n",
      "{'_id': ObjectId('64efb2bfb442373332f3fab9'), 'name': 'Viola', 'address': 'Sideway 1633'}\n",
      "{'_id': 5, 'name': 'Michael', 'address': 'Valley 345'}\n",
      "{'_id': 8, 'name': 'Richard', 'address': 'Sky st 331'}\n",
      "{'_id': 10, 'name': 'Vicky', 'address': 'Yellow Garden 2'}\n",
      "{'_id': 14, 'name': 'Viola', 'address': 'Sideway 1633'}\n"
     ]
    }
   ],
   "source": [
    "#to find the documents where the \"address\" field starts with the letter \"S\" or higher (alphabetically)\n",
    "#Use the greater than modifier: {\"$gt\": \"S\"}:\n",
    "\n",
    "import pymongo\n",
    "\n",
    "myclient = pymongo.MongoClient(\"mongodb://localhost:27017/\")\n",
    "mydb = myclient[\"AGENT_DB\"]\n",
    "mycol = mydb[\"AGENT_DTL\"]\n",
    "\n",
    "myquery = { \"address\": { \"$gt\": \"S\" } }\n",
    "\n",
    "mydoc = mycol.find(myquery)\n",
    "\n",
    "for x in mydoc:\n",
    "  print(x)"
   ]
  },
  {
   "cell_type": "code",
   "execution_count": 20,
   "id": "57152e69",
   "metadata": {},
   "outputs": [
    {
     "name": "stdout",
     "output_type": "stream",
     "text": [
      "{'_id': ObjectId('64efb2bfb442373332f3fab3'), 'name': 'Richard', 'address': 'Sky st 331'}\n",
      "{'_id': ObjectId('64efb2bfb442373332f3fab9'), 'name': 'Viola', 'address': 'Sideway 1633'}\n",
      "{'_id': 8, 'name': 'Richard', 'address': 'Sky st 331'}\n",
      "{'_id': 14, 'name': 'Viola', 'address': 'Sideway 1633'}\n"
     ]
    }
   ],
   "source": [
    "#o find only the documents where the \"address\" field starts with the letter \"S\"\n",
    "#use the regular expression {\"$regex\": \"^S\"}\n",
    "\n",
    "import pymongo\n",
    "\n",
    "myclient = pymongo.MongoClient(\"mongodb://localhost:27017/\")\n",
    "mydb = myclient[\"AGENT_DB\"]\n",
    "mycol = mydb[\"AGENT_DTL\"]\n",
    "\n",
    "myquery = { \"address\": { \"$regex\": \"^S\" } }\n",
    "\n",
    "mydoc = mycol.find(myquery)\n",
    "\n",
    "for x in mydoc:\n",
    "  print(x)"
   ]
  },
  {
   "cell_type": "code",
   "execution_count": 21,
   "id": "e82021b2",
   "metadata": {},
   "outputs": [
    {
     "name": "stdout",
     "output_type": "stream",
     "text": [
      "{'_id': ObjectId('64efb2bfb442373332f3faae'), 'name': 'Amy', 'address': 'Apple st 652'}\n",
      "{'_id': 3, 'name': 'Amy', 'address': 'Apple st 652'}\n",
      "{'_id': ObjectId('64efb2bfb442373332f3fab6'), 'name': 'Ben', 'address': 'Park Lane 38'}\n",
      "{'_id': 11, 'name': 'Ben', 'address': 'Park Lane 38'}\n",
      "{'_id': ObjectId('64efb2bfb442373332f3fab2'), 'name': 'Betty', 'address': 'Green Grass 1'}\n",
      "{'_id': 7, 'name': 'Betty', 'address': 'Green Grass 1'}\n",
      "{'_id': ObjectId('64efb2bfb442373332f3fab8'), 'name': 'Chuck', 'address': 'Main Road 989'}\n",
      "{'_id': 13, 'name': 'Chuck', 'address': 'Main Road 989'}\n",
      "{'_id': ObjectId('64efb2bfb442373332f3faaf'), 'name': 'Hannah', 'address': 'Mountain 21'}\n",
      "{'_id': 4, 'name': 'Hannah', 'address': 'Mountain 21'}\n",
      "{'_id': 1, 'name': 'John', 'address': 'Highway 37'}\n",
      "{'_id': ObjectId('64efb250b442373332f3faab'), 'name': 'LEANN', 'address': '1 NATIONALLIFE DRIVE'}\n",
      "{'_id': ObjectId('64efb2bfb442373332f3fab0'), 'name': 'Michael', 'address': 'Valley 345'}\n",
      "{'_id': 5, 'name': 'Michael', 'address': 'Valley 345'}\n",
      "{'_id': ObjectId('64efb270b442373332f3faac'), 'name': 'Peter', 'address': 'Lowstreet 27'}\n",
      "{'_id': 2, 'name': 'Peter', 'address': 'Lowstreet 27'}\n",
      "{'_id': ObjectId('64efb2bfb442373332f3fab3'), 'name': 'Richard', 'address': 'Sky st 331'}\n",
      "{'_id': 8, 'name': 'Richard', 'address': 'Sky st 331'}\n",
      "{'_id': ObjectId('64efb2bfb442373332f3fab1'), 'name': 'Sandy', 'address': 'Ocean blvd 2'}\n",
      "{'_id': 6, 'name': 'Sandy', 'address': 'Ocean blvd 2'}\n",
      "{'_id': ObjectId('64efb2bfb442373332f3fab4'), 'name': 'Susan', 'address': 'One way 98'}\n",
      "{'_id': 9, 'name': 'Susan', 'address': 'One way 98'}\n",
      "{'_id': ObjectId('64efb2bfb442373332f3fab5'), 'name': 'Vicky', 'address': 'Yellow Garden 2'}\n",
      "{'_id': 10, 'name': 'Vicky', 'address': 'Yellow Garden 2'}\n",
      "{'_id': ObjectId('64efb2bfb442373332f3fab9'), 'name': 'Viola', 'address': 'Sideway 1633'}\n",
      "{'_id': 14, 'name': 'Viola', 'address': 'Sideway 1633'}\n",
      "{'_id': ObjectId('64efb2bfb442373332f3fab7'), 'name': 'William', 'address': 'Central st 954'}\n",
      "{'_id': 12, 'name': 'William', 'address': 'Central st 954'}\n"
     ]
    }
   ],
   "source": [
    "#SORT\n",
    "\n",
    "#Use the sort() method to sort the result in ascending or descending order.\n",
    "#The sort() method takes one parameter for \"fieldname\" \n",
    "#And one parameter for \"direction\" (ascending is the default direction).\n",
    "\n",
    "import pymongo\n",
    "\n",
    "myclient = pymongo.MongoClient(\"mongodb://localhost:27017/\")\n",
    "mydb = myclient[\"AGENT_DB\"]\n",
    "mycol = mydb[\"AGENT_DTL\"]\n",
    "\n",
    "mydoc = mycol.find().sort(\"name\")\n",
    "\n",
    "for x in mydoc:\n",
    "  print(x)"
   ]
  },
  {
   "cell_type": "code",
   "execution_count": 22,
   "id": "e3a10d26",
   "metadata": {},
   "outputs": [
    {
     "name": "stdout",
     "output_type": "stream",
     "text": [
      "{'_id': ObjectId('64efb2bfb442373332f3fab7'), 'name': 'William', 'address': 'Central st 954'}\n",
      "{'_id': 12, 'name': 'William', 'address': 'Central st 954'}\n",
      "{'_id': ObjectId('64efb2bfb442373332f3fab9'), 'name': 'Viola', 'address': 'Sideway 1633'}\n",
      "{'_id': 14, 'name': 'Viola', 'address': 'Sideway 1633'}\n",
      "{'_id': ObjectId('64efb2bfb442373332f3fab5'), 'name': 'Vicky', 'address': 'Yellow Garden 2'}\n",
      "{'_id': 10, 'name': 'Vicky', 'address': 'Yellow Garden 2'}\n",
      "{'_id': ObjectId('64efb2bfb442373332f3fab4'), 'name': 'Susan', 'address': 'One way 98'}\n",
      "{'_id': 9, 'name': 'Susan', 'address': 'One way 98'}\n",
      "{'_id': ObjectId('64efb2bfb442373332f3fab1'), 'name': 'Sandy', 'address': 'Ocean blvd 2'}\n",
      "{'_id': 6, 'name': 'Sandy', 'address': 'Ocean blvd 2'}\n",
      "{'_id': ObjectId('64efb2bfb442373332f3fab3'), 'name': 'Richard', 'address': 'Sky st 331'}\n",
      "{'_id': 8, 'name': 'Richard', 'address': 'Sky st 331'}\n",
      "{'_id': ObjectId('64efb270b442373332f3faac'), 'name': 'Peter', 'address': 'Lowstreet 27'}\n",
      "{'_id': 2, 'name': 'Peter', 'address': 'Lowstreet 27'}\n",
      "{'_id': ObjectId('64efb2bfb442373332f3fab0'), 'name': 'Michael', 'address': 'Valley 345'}\n",
      "{'_id': 5, 'name': 'Michael', 'address': 'Valley 345'}\n",
      "{'_id': ObjectId('64efb250b442373332f3faab'), 'name': 'LEANN', 'address': '1 NATIONALLIFE DRIVE'}\n",
      "{'_id': 1, 'name': 'John', 'address': 'Highway 37'}\n",
      "{'_id': ObjectId('64efb2bfb442373332f3faaf'), 'name': 'Hannah', 'address': 'Mountain 21'}\n",
      "{'_id': 4, 'name': 'Hannah', 'address': 'Mountain 21'}\n",
      "{'_id': ObjectId('64efb2bfb442373332f3fab8'), 'name': 'Chuck', 'address': 'Main Road 989'}\n",
      "{'_id': 13, 'name': 'Chuck', 'address': 'Main Road 989'}\n",
      "{'_id': ObjectId('64efb2bfb442373332f3fab2'), 'name': 'Betty', 'address': 'Green Grass 1'}\n",
      "{'_id': 7, 'name': 'Betty', 'address': 'Green Grass 1'}\n",
      "{'_id': ObjectId('64efb2bfb442373332f3fab6'), 'name': 'Ben', 'address': 'Park Lane 38'}\n",
      "{'_id': 11, 'name': 'Ben', 'address': 'Park Lane 38'}\n",
      "{'_id': ObjectId('64efb2bfb442373332f3faae'), 'name': 'Amy', 'address': 'Apple st 652'}\n",
      "{'_id': 3, 'name': 'Amy', 'address': 'Apple st 652'}\n"
     ]
    }
   ],
   "source": [
    "#sort(\"name\", 1) #ascending\n",
    "#sort(\"name\", -1) #descending\n",
    "\n",
    "import pymongo\n",
    "\n",
    "myclient = pymongo.MongoClient(\"mongodb://localhost:27017/\")\n",
    "mydb = myclient[\"AGENT_DB\"]\n",
    "mycol = mydb[\"AGENT_DTL\"]\n",
    "\n",
    "mydoc = mycol.find().sort(\"name\", -1)\n",
    "\n",
    "for x in mydoc:\n",
    "  print(x)"
   ]
  },
  {
   "cell_type": "code",
   "execution_count": 23,
   "id": "eadeddea",
   "metadata": {},
   "outputs": [
    {
     "data": {
      "text/plain": [
       "<pymongo.results.DeleteResult at 0x1061bb670>"
      ]
     },
     "execution_count": 23,
     "metadata": {},
     "output_type": "execute_result"
    }
   ],
   "source": [
    "#DELETE DOCUMENT\n",
    "\n",
    "#To delete one document, we use the delete_one() method.\n",
    "#The first parameter of the delete_one() method is a query object defining which document to delete.\n",
    "\n",
    "import pymongo\n",
    "\n",
    "myclient = pymongo.MongoClient(\"mongodb://localhost:27017/\")\n",
    "mydb = myclient[\"AGENT_DB\"]\n",
    "mycol = mydb[\"AGENT_DTL\"]\n",
    "\n",
    "myquery = { \"address\": \"Mountain 21\" }\n",
    "\n",
    "mycol.delete_one(myquery)"
   ]
  },
  {
   "cell_type": "code",
   "execution_count": 24,
   "id": "b266616c",
   "metadata": {},
   "outputs": [
    {
     "name": "stdout",
     "output_type": "stream",
     "text": [
      "4  documents deleted.\n"
     ]
    }
   ],
   "source": [
    "#To delete more than one document, use the delete_many() method.\n",
    "#The first parameter of the delete_many() method is a query object defining which documents to delete.\n",
    "\n",
    "import pymongo\n",
    "\n",
    "myclient = pymongo.MongoClient(\"mongodb://localhost:27017/\")\n",
    "mydb = myclient[\"AGENT_DB\"]\n",
    "mycol = mydb[\"AGENT_DTL\"]\n",
    "\n",
    "myquery = { \"address\": {\"$regex\": \"^S\"} }\n",
    "\n",
    "x = mycol.delete_many(myquery)\n",
    "\n",
    "print(x.deleted_count, \" documents deleted.\")"
   ]
  },
  {
   "cell_type": "code",
   "execution_count": 25,
   "id": "2ffb1716",
   "metadata": {},
   "outputs": [
    {
     "name": "stdout",
     "output_type": "stream",
     "text": [
      "23  documents deleted.\n"
     ]
    }
   ],
   "source": [
    "import pymongo\n",
    "\n",
    "myclient = pymongo.MongoClient(\"mongodb://localhost:27017/\")\n",
    "mydb = myclient[\"AGENT_DB\"]\n",
    "mycol = mydb[\"AGENT_DTL\"]\n",
    "\n",
    "x = mycol.delete_many({})\n",
    "\n",
    "print(x.deleted_count, \" documents deleted.\")"
   ]
  },
  {
   "cell_type": "code",
   "execution_count": 26,
   "id": "f6e7a34f",
   "metadata": {},
   "outputs": [],
   "source": [
    "#Delete Collection\n",
    "\n",
    "#You can delete a table, or collection as it is called in MongoDB, by using the drop() method.\n",
    "#The drop() method returns true if the collection was dropped successfully, and false if the collection does not exist.\n",
    "\n",
    "import pymongo\n",
    "\n",
    "myclient = pymongo.MongoClient(\"mongodb://localhost:27017/\")\n",
    "mydb = myclient[\"AGENT_DB\"]\n",
    "mycol = mydb[\"AGENT_DTL\"]\n",
    "\n",
    "mycol.drop()\n"
   ]
  },
  {
   "cell_type": "code",
   "execution_count": 27,
   "id": "4c947cba",
   "metadata": {},
   "outputs": [],
   "source": [
    "#Update Collection\n",
    "#You can update a record, or document as it is called in MongoDB, by using the update_one() method.\n",
    "#The first parameter of the update_one() method is a query object defining which document to update.\n",
    "#If the query finds more than one record, only the first occurrence is updated.\n",
    "\n",
    "import pymongo\n",
    "\n",
    "myclient = pymongo.MongoClient(\"mongodb://localhost:27017/\")\n",
    "mydb = myclient[\"AGENT_DB\"]\n",
    "mycol = mydb[\"AGENT_DTL\"]\n",
    "\n",
    "myquery = { \"address\": \"Valley 345\" }\n",
    "newvalues = { \"$set\": { \"address\": \"Canyon 123\" } }\n",
    "\n",
    "mycol.update_one(myquery, newvalues)\n",
    "\n",
    "for x in mycol.find():\n",
    "  print(x)"
   ]
  },
  {
   "cell_type": "code",
   "execution_count": 28,
   "id": "b3ff6d00",
   "metadata": {},
   "outputs": [
    {
     "name": "stdout",
     "output_type": "stream",
     "text": [
      "0 documents updated.\n"
     ]
    }
   ],
   "source": [
    "#To update all documents that meets the criteria of the query, use the update_many() method\n",
    "\n",
    "import pymongo\n",
    "\n",
    "myclient = pymongo.MongoClient(\"mongodb://localhost:27017/\")\n",
    "mydb = myclient[\"AGENT_DB\"]\n",
    "mycol = mydb[\"AGENT_DTL\"]\n",
    "\n",
    "myquery = { \"address\": { \"$regex\": \"^S\" } }\n",
    "newvalues = { \"$set\": { \"name\": \"Minnie\" } }\n",
    "\n",
    "x = mycol.update_many(myquery, newvalues)\n",
    "\n",
    "print(x.modified_count, \"documents updated.\")"
   ]
  },
  {
   "cell_type": "code",
   "execution_count": 29,
   "id": "cbb6ebc3",
   "metadata": {},
   "outputs": [],
   "source": [
    "#To limit the result in MongoDB, we use the limit() method.\n",
    "\n",
    "#The limit() method takes one parameter, a number defining how many documents to return.\n",
    "\n",
    "import pymongo\n",
    "\n",
    "myclient = pymongo.MongoClient(\"mongodb://localhost:27017/\")\n",
    "mydb = myclient[\"AGENT_DB\"]\n",
    "mycol = mydb[\"AGENT_DTL\"]\n",
    "\n",
    "myresult = mycol.find().limit(5)\n",
    "\n",
    "#print the result:\n",
    "for x in myresult:\n",
    "  print(x)"
   ]
  },
  {
   "cell_type": "code",
   "execution_count": null,
   "id": "e3f15c80",
   "metadata": {},
   "outputs": [],
   "source": []
  }
 ],
 "metadata": {
  "kernelspec": {
   "display_name": "Python 3 (ipykernel)",
   "language": "python",
   "name": "python3"
  },
  "language_info": {
   "codemirror_mode": {
    "name": "ipython",
    "version": 3
   },
   "file_extension": ".py",
   "mimetype": "text/x-python",
   "name": "python",
   "nbconvert_exporter": "python",
   "pygments_lexer": "ipython3",
   "version": "3.11.4"
  }
 },
 "nbformat": 4,
 "nbformat_minor": 5
}
