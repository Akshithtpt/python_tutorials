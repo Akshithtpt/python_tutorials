{
 "cells": [
  {
   "cell_type": "code",
   "execution_count": null,
   "id": "bd423f4e",
   "metadata": {},
   "outputs": [],
   "source": [
    "# If conditions\n",
    "\n",
    "TYPES OF IF STATEMENTS:\n",
    "\n",
    "1.SIMPLE IF STATEMENT\n",
    "2.IF ELSE STATEMENT\n",
    "3.NESTED IF ELSE \n",
    "4.IF...ELIF...\n",
    "5.SINGLE IF"
   ]
  },
  {
   "cell_type": "code",
   "execution_count": null,
   "id": "058e0e6e",
   "metadata": {},
   "outputs": [],
   "source": [
    "1.SIMPLE IF STATEMENT:\n",
    "\n",
    "           if <condition>: \n",
    "                --------------\n",
    "                --------------  IF CONDITION IS TRUE THEN IT EXECUTED THIS LINE\n",
    "                --------------\n",
    "           ------------------\n",
    "           ------------------  IF CONDITION FAILS THEN IT EXECUTES BELOW LINES\n",
    "           ------------------"
   ]
  },
  {
   "cell_type": "code",
   "execution_count": null,
   "id": "3dd722d0",
   "metadata": {},
   "outputs": [],
   "source": [
    "2.IF ELSE STATEMENTS:\n",
    "\n",
    "         if  <condition>:\n",
    "              -----------------\n",
    "              -----------------     IF CONDITION IS TRUE THEN THEN IT EXECUTE THIS LINE\n",
    "              -----------------\n",
    "         else:\n",
    "              ------------------\n",
    "              ------------------    IF CONDITION IS FAILS THEN IT EXECUTE THIS LINE\n",
    "              ------------------\n",
    "         ------------------------\n",
    "         ------------------------  AFTER EXECUTION OF ABOVE ANY STATEMENTS CONTROL GOES TO THIS LINES\n",
    "         ------------------------\n"
   ]
  },
  {
   "cell_type": "code",
   "execution_count": null,
   "id": "5d8b7d0c",
   "metadata": {},
   "outputs": [],
   "source": [
    "3.NESTED IF ELSE\n",
    "\n",
    "        if <condition>:      IF CONDITION IS TRUE THEN CONTROL GOES TO BELOW IF\n",
    "             if <condition>:    IF CONDITION IS TRUE THEN CONTROL GOES TO BELOW IF  \n",
    "                 if <condition>:    \n",
    "                     ------------------\n",
    "                     ------------------    IF CONDITION IS TRUE THEN CONTROL COMES HERE\n",
    "                     ------------------\n",
    "                 else:\n",
    "                     ------------------\n",
    "                     ------------------   IF THIRD IF CONDITION FAILS THEN COMES HERE\n",
    "                     ------------------\n",
    "             else:\n",
    "                 -------------------\n",
    "                 -------------------     IF SECOND IF FAILS THEN CONDITION COMES HERE\n",
    "                 -------------------\n",
    "         else:\n",
    "             -----------------\n",
    "             -----------------       IF FIRST IF FAILS CONTROL COMES HERE\n",
    "             -----------------\n",
    "------------------------------------------------\n",
    "------------------------------------------------ AFTER COMPLETED OF BEFORE IF BASED ON THE CONDITIONS, CONTROL COMES OUT OF IF TO THIS\n",
    "------------------------------------------------"
   ]
  },
  {
   "cell_type": "code",
   "execution_count": null,
   "id": "ba3ff563",
   "metadata": {},
   "outputs": [],
   "source": [
    "\n",
    "4. IF....ELIF....\n",
    "\n",
    "        if <condition>:            IF THIS IF IS TRUE CONTROL GOES TO BELOW LINE ELSE CONTROL GOES TO BELOW ELIF\n",
    "            -------------------\n",
    "            -------------------\n",
    "            -------------------\n",
    "        elif <condition>:          IF THIS IF IS TRUE CONTROL GOES TO BELOW LINE ELSE CONTROL GOES TO BELOW ELIF\n",
    "             ------------------\n",
    "-           -------------------\n",
    "            -------------------\n",
    "         elif <condition>:          IF THIS IF IS TRUE CONTROL GOES TO BELOW LINE ELSE CONTROL GOES TO BELOW ELIF\n",
    "             -------------------\n",
    "             -------------------\n",
    "             -------------------\n",
    "         .\n",
    "         .\n",
    "         .\n",
    "         .\n",
    "         .\n",
    "         else:\n",
    "             ---------------------\n",
    "             --------------------- IF NO IF CONDITION STATISFIES THEN CONTROL COMES TO ELSE PART\n",
    "             ---------------------\n",
    "   -----------------------------------------\n",
    "------------------------------------------     AFTER EXECUTION OF ABOVE CONTROLS COMES HERE\n",
    "----------------------------------------------\n"
   ]
  },
  {
   "cell_type": "code",
   "execution_count": null,
   "id": "37064fd8",
   "metadata": {},
   "outputs": [],
   "source": [
    "5.SIMPLE IF\n",
    "\n",
    "       if <condition>: statement\n",
    "       -----------------------------\n",
    "       -----------------------------\n",
    "       ----------------------------"
   ]
  },
  {
   "cell_type": "code",
   "execution_count": 1,
   "id": "6d5a947d",
   "metadata": {},
   "outputs": [
    {
     "name": "stdout",
     "output_type": "stream",
     "text": [
      "enter value of a:5\n",
      "entered number is odd number\n"
     ]
    }
   ],
   "source": [
    "a = int(input('enter value of a:'))\n",
    "if a%2 == 0:\n",
    "    print('entered number is even number')\n",
    "else:\n",
    "    print('entered number is odd number')"
   ]
  },
  {
   "cell_type": "code",
   "execution_count": 2,
   "id": "83b58dc8",
   "metadata": {},
   "outputs": [
    {
     "name": "stdout",
     "output_type": "stream",
     "text": [
      "b is greater\n"
     ]
    }
   ],
   "source": [
    "a = 5\n",
    "b = 6\n",
    "if a > 5:\n",
    "    print('a is greater')\n",
    "else:\n",
    "    print('b is greater')"
   ]
  },
  {
   "cell_type": "code",
   "execution_count": 3,
   "id": "1b417277",
   "metadata": {},
   "outputs": [
    {
     "name": "stdout",
     "output_type": "stream",
     "text": [
      "value of b is: 15\n"
     ]
    }
   ],
   "source": [
    "a = 11\n",
    "if a == 10:\n",
    "    print('a is equal to 10')\n",
    "b = 15\n",
    "print('value of b is:',b)"
   ]
  },
  {
   "cell_type": "code",
   "execution_count": 4,
   "id": "50d91a39",
   "metadata": {},
   "outputs": [
    {
     "name": "stdout",
     "output_type": "stream",
     "text": [
      "enter value of N:6\n",
      "entered value is positve number\n"
     ]
    }
   ],
   "source": [
    "n = int(input('enter value of N:'))\n",
    "if n > 0:\n",
    "    print('entered value is positve number')\n",
    "else:\n",
    "    print('entered value is negative number')"
   ]
  },
  {
   "cell_type": "code",
   "execution_count": 5,
   "id": "d88cc0ba",
   "metadata": {},
   "outputs": [
    {
     "name": "stdout",
     "output_type": "stream",
     "text": [
      "enter value of a:7\n",
      "enter value of b:8\n",
      "b is greater\n"
     ]
    }
   ],
   "source": [
    "a = int(input('enter value of a:'))\n",
    "b = int(input('enter value of b:'))\n",
    "if a!=b:\n",
    "    if a > b:\n",
    "        print('a is greater')\n",
    "    else:\n",
    "        print('b is greater')\n",
    "else:\n",
    "    print('both are equal')"
   ]
  },
  {
   "cell_type": "code",
   "execution_count": 6,
   "id": "5abcdd8f",
   "metadata": {},
   "outputs": [
    {
     "name": "stdout",
     "output_type": "stream",
     "text": [
      "enter emp number:100\n",
      "enter emp name:SURESH\n",
      "enter job descriptionMANAGER\n",
      "enter salary:25000\n",
      "######################################\n",
      "### employee bonus report###\n",
      "_____________________________________\n",
      "###emp number: 100 ###\n",
      "###emp name: SURESH ###\n",
      "###emp job: MANAGER ###\n",
      "###emp sal: 25000 ###\n",
      "###emp ann_sal: 300000 ###\n",
      "###emp bonus: 30000.0 ###\n",
      "____________________________________\n",
      "#####################################\n"
     ]
    }
   ],
   "source": [
    "empno = int(input('enter emp number:'))\n",
    "ename = str(input('enter emp name:'))\n",
    "job   = str(input('enter job description'))\n",
    "sal = int(input('enter salary:'))\n",
    "ann_sal = sal * 12\n",
    "if job == 'manager':\n",
    "    bonus = ann_sal * 20/100\n",
    "elif job == 'developer':\n",
    "    bonus = ann_sal * 18/100\n",
    "elif job == 'salesman':\n",
    "    bonus = ann_sal * 15/100\n",
    "else:\n",
    "    bonus = ann_sal * 10/100\n",
    "\n",
    "print('######################################')\n",
    "print('### employee bonus report###')\n",
    "print('_____________________________________')\n",
    "print('###emp number:',empno,'###')\n",
    "print('###emp name:',ename,'###')\n",
    "print('###emp job:',job,'###')\n",
    "print('###emp sal:',sal,'###')\n",
    "print('###emp ann_sal:',ann_sal,'###')\n",
    "print('###emp bonus:',bonus,'###')\n",
    "print('____________________________________')\n",
    "print('#####################################')"
   ]
  },
  {
   "cell_type": "code",
   "execution_count": 7,
   "id": "e7fc519f",
   "metadata": {},
   "outputs": [
    {
     "name": "stdout",
     "output_type": "stream",
     "text": [
      "value of a is 50\n"
     ]
    }
   ],
   "source": [
    "a = 50\n",
    "if a  == 50:\n",
    "    print('value of a is 50')"
   ]
  },
  {
   "cell_type": "code",
   "execution_count": 8,
   "id": "0db3f694",
   "metadata": {},
   "outputs": [
    {
     "name": "stdout",
     "output_type": "stream",
     "text": [
      "enter userid:Equivalue\n",
      "enter password:Akshith\n",
      "login successful\n"
     ]
    }
   ],
   "source": [
    "Userid = str(input('enter userid:'))\n",
    "password =  str(input('enter password:'))\n",
    "if Userid == 'Equivalue' and password == 'Akshith':\n",
    "    print('login successful')\n",
    "else:\n",
    "    print('login failed')"
   ]
  },
  {
   "cell_type": "code",
   "execution_count": 9,
   "id": "0b6d6368",
   "metadata": {},
   "outputs": [
    {
     "name": "stdout",
     "output_type": "stream",
     "text": [
      "A IS EQUAL TO B\n"
     ]
    }
   ],
   "source": [
    "a = 5\n",
    "b = 5\n",
    "if a == b:\n",
    "    print('A IS EQUAL TO B')"
   ]
  },
  {
   "cell_type": "code",
   "execution_count": 10,
   "id": "48207fc5",
   "metadata": {},
   "outputs": [
    {
     "name": "stdout",
     "output_type": "stream",
     "text": [
      "N is negative number\n"
     ]
    }
   ],
   "source": [
    "n = -10\n",
    "if n>0:\n",
    "    print('N is a positve number')\n",
    "else:\n",
    "    print('N is negative number')"
   ]
  },
  {
   "cell_type": "code",
   "execution_count": 11,
   "id": "6cc51297",
   "metadata": {},
   "outputs": [
    {
     "name": "stdout",
     "output_type": "stream",
     "text": [
      "all the theree elements are equal\n"
     ]
    }
   ],
   "source": [
    "a = 5\n",
    "b = 5\n",
    "if a!=b:\n",
    "    if a>b:\n",
    "        print('a is greater')\n",
    "    else:\n",
    "        print('b is greater')\n",
    "else:\n",
    "    print('all the theree elements are equal')"
   ]
  },
  {
   "cell_type": "code",
   "execution_count": 12,
   "id": "d3f66169",
   "metadata": {},
   "outputs": [
    {
     "name": "stdout",
     "output_type": "stream",
     "text": [
      "enter value of a:6\n",
      "a is not a 3 digit number\n"
     ]
    }
   ],
   "source": [
    "a = int(input('enter value of a:'))\n",
    "if a>99 and a<1000:\n",
    "    print('a is 3 digit number')\n",
    "else:\n",
    "    print('a is not a 3 digit number')"
   ]
  },
  {
   "cell_type": "code",
   "execution_count": null,
   "id": "9351e333",
   "metadata": {},
   "outputs": [],
   "source": []
  }
 ],
 "metadata": {
  "kernelspec": {
   "display_name": "Python 3 (ipykernel)",
   "language": "python",
   "name": "python3"
  },
  "language_info": {
   "codemirror_mode": {
    "name": "ipython",
    "version": 3
   },
   "file_extension": ".py",
   "mimetype": "text/x-python",
   "name": "python",
   "nbconvert_exporter": "python",
   "pygments_lexer": "ipython3",
   "version": "3.11.4"
  }
 },
 "nbformat": 4,
 "nbformat_minor": 5
}
