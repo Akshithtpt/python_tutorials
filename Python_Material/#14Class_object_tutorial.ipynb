{
 "cells": [
  {
   "cell_type": "code",
   "execution_count": null,
   "id": "cf43baef",
   "metadata": {},
   "outputs": [],
   "source": [
    "#CLASS\n",
    "\n",
    "1.Class is a collection of properties & methods.\n",
    "2.class is a keyword to create new class.\n",
    "3.The instance of class is known as object.\n",
    "4.[DOT]. is the operator to access class properties & methods through object.\n",
    "5. self is a special argument it holds current object address."
   ]
  },
  {
   "cell_type": "code",
   "execution_count": null,
   "id": "3186a435",
   "metadata": {},
   "outputs": [],
   "source": [
    "#Syntax\n",
    "\n",
    "class <class name>:\n",
    "    var1 = value\n",
    "    var2 = value     --> Class variables\n",
    "    ..\n",
    "    ..\n",
    "    ..\n",
    "    def <function name>(self,<arg1>,.....):\n",
    "        ------------\n",
    "        ------------\n",
    "        ------------\n",
    "    def <function name2>(self,<arg2>,....):      --> class methods\n",
    "        ------------\n",
    "        ------------\n",
    "        ------------\n",
    "object1 = classname()\n",
    "object2 = classname()   --> object creation\n",
    ".\n",
    "."
   ]
  },
  {
   "cell_type": "code",
   "execution_count": null,
   "id": "7d79046c",
   "metadata": {},
   "outputs": [],
   "source": [
    "CLASS CREATION\n",
    "CLASS VARIABLES\n",
    "CLASS METHODS\n",
    "OBJECT CREATION"
   ]
  },
  {
   "cell_type": "code",
   "execution_count": 1,
   "id": "5ea2db0f",
   "metadata": {},
   "outputs": [
    {
     "name": "stdout",
     "output_type": "stream",
     "text": [
      "I am F1 <__main__.c1 object at 0x1066eb310>\n",
      "I am F1 <__main__.c1 object at 0x106af7450>\n",
      "I am F1 <__main__.c1 object at 0x106af6fd0>\n"
     ]
    }
   ],
   "source": [
    "class c1:   #CLASS CREATION\n",
    "    def f1(self):\n",
    "        print('I am F1',self)\n",
    "\n",
    "#Object creation        \n",
    "x=c1()\n",
    "y=c1()\n",
    "k=c1()\n",
    "#calling class methods\n",
    "x.f1()\n",
    "y.f1()\n",
    "k.f1()"
   ]
  },
  {
   "cell_type": "code",
   "execution_count": 2,
   "id": "7bcfca01",
   "metadata": {},
   "outputs": [
    {
     "name": "stdout",
     "output_type": "stream",
     "text": [
      "i am f1,my a,b values are 10 20\n",
      "i am f1,my a,b values are 100 200\n",
      "i am f1,my a,b values are 1000 2000\n"
     ]
    }
   ],
   "source": [
    "class test:\n",
    "    def f1(self,a,b):\n",
    "        self.a = a\n",
    "        self.b = b\n",
    "        print('i am f1,my a,b values are',self.a,self.b)\n",
    "#object creation\n",
    "x=test()\n",
    "y=test()\n",
    "k=test()\n",
    "#calling class methods\n",
    "x.f1(10,20)\n",
    "y.f1(100,200)\n",
    "k.f1(1000,2000)"
   ]
  },
  {
   "cell_type": "code",
   "execution_count": 3,
   "id": "67fa5929",
   "metadata": {},
   "outputs": [
    {
     "name": "stdout",
     "output_type": "stream",
     "text": [
      "empid \t ename \t\t job \t salary\n",
      "##################################################\n",
      "101 \t sai \t manager \t 10000\n",
      "102 \t hari \t president \t 20000\n",
      "103 \t lakshmi \t analyst \t 12000\n",
      "##################################################\n"
     ]
    }
   ],
   "source": [
    "class employee:\n",
    "    def getdata(self,id,name,job,sal):\n",
    "        self.id = id\n",
    "        self.name = name\n",
    "        self.job = job\n",
    "        self.sal = sal\n",
    "    def display(self):\n",
    "        print(self.id,'\\t',self.name,'\\t',self.job,'\\t',self.sal)\n",
    "        \n",
    "#object creation\n",
    "\n",
    "a = employee()\n",
    "b = employee()\n",
    "c = employee()\n",
    "\n",
    "#calling methods\n",
    "\n",
    "a.getdata(101,'sai','manager',10000)\n",
    "b.getdata(102,'hari','president',20000)\n",
    "c.getdata(103,'lakshmi','analyst',12000)\n",
    "print('empid \\t ename \\t\\t job \\t salary')\n",
    "print('#'*50)\n",
    "a.display()\n",
    "b.display()\n",
    "c.display()\n",
    "print('#'*50)"
   ]
  },
  {
   "cell_type": "code",
   "execution_count": 4,
   "id": "f461ea02",
   "metadata": {},
   "outputs": [
    {
     "name": "stdout",
     "output_type": "stream",
     "text": [
      "Area of Circle is: 28.259999999999998\n",
      "Area of triangle is: 18.84\n"
     ]
    }
   ],
   "source": [
    "class Area :\n",
    "    pi=3.14\n",
    "    area=0\n",
    "    def area_circle(self,r) :\n",
    "        self.r=r\n",
    "        Area.area=Area.pi*self.r*self.r\n",
    "        print('Area of Circle is:',Area.area)\n",
    "    def area_traingle(self,r) :\n",
    "        self.r=r\n",
    "        Area.area=2*Area.pi*self.r\n",
    "        print('Area of triangle is:',Area.area)\n",
    "c=Area()\n",
    "t=Area()\n",
    "c.area_circle(3)\n",
    "t.area_traingle(3)"
   ]
  },
  {
   "cell_type": "code",
   "execution_count": 5,
   "id": "13442600",
   "metadata": {},
   "outputs": [
    {
     "name": "stdout",
     "output_type": "stream",
     "text": [
      "*****************************************\n",
      "Name : Hari\n",
      "Course :  unix\n",
      "Phno : 999\n",
      "*****************************************\n",
      "#######END OF THE RECORD#################\n",
      "*****************************************\n",
      "Name : Sai\n",
      "Course :  Python\n",
      "Phno : 272727\n",
      "*****************************************\n",
      "#######END OF THE RECORD#################\n",
      "*****************************************\n",
      "Name : Padma\n",
      "Course :  Oracle\n",
      "Phno : 88888\n",
      "*****************************************\n",
      "#######END OF THE RECORD#################\n",
      "Total no of students :  3\n"
     ]
    }
   ],
   "source": [
    "class   student :\n",
    "    cnt=0\n",
    "    def info(self,name,course,phno):\n",
    "        self.name=name\n",
    "        self.course=course\n",
    "        self.phno=phno\n",
    "        student.cnt=student.cnt+1\n",
    "    def display(self):\n",
    "        print(\"*****************************************\")\n",
    "        print(\"Name :\",self.name)\n",
    "        print(\"Course : \",self.course)\n",
    "        print(\"Phno :\",self.phno)\n",
    "        print(\"*****************************************\")\n",
    "        print(\"#######END OF THE RECORD#################\")\n",
    "a=student()\n",
    "b=student()\n",
    "c=student()\n",
    "a.info('Hari','unix',999)\n",
    "b.info('Sai','Python',272727)\n",
    "c.info('Padma','Oracle',88888)\n",
    "a.display()\n",
    "b.display()\n",
    "c.display()\n",
    "print(\"Total no of students : \",student.cnt)"
   ]
  },
  {
   "cell_type": "code",
   "execution_count": null,
   "id": "3cdc6016",
   "metadata": {},
   "outputs": [],
   "source": [
    "# Constructor\n",
    "\n",
    "It is a special method,it invokes automatically whenever the object is created and it allocates memory\n",
    "for given object.\n",
    "name of constructor is\n",
    "\n",
    "def _ _ init _ _(self,<arg>......):"
   ]
  },
  {
   "cell_type": "code",
   "execution_count": null,
   "id": "c097506c",
   "metadata": {},
   "outputs": [],
   "source": [
    "#Destructor\n",
    "\n",
    "It is also a special method,it invokes automatically whenever the control is outside of object\n",
    "and deallocates memory for given object.\n",
    "\n",
    "Name of destructor is \n",
    "\n",
    "def _ _del _ _(self):"
   ]
  },
  {
   "cell_type": "code",
   "execution_count": 6,
   "id": "b8b6241c",
   "metadata": {},
   "outputs": [
    {
     "name": "stdout",
     "output_type": "stream",
     "text": [
      "Hey I am a constructor\n"
     ]
    }
   ],
   "source": [
    "class c1:\n",
    "    def __init__(self):\n",
    "        print('Hey I am a constructor')\n",
    "a=c1()"
   ]
  },
  {
   "cell_type": "code",
   "execution_count": 7,
   "id": "82febaa0",
   "metadata": {},
   "outputs": [
    {
     "name": "stdout",
     "output_type": "stream",
     "text": [
      " hey, i am constructor : 1\n",
      " hey, i am constructor : 2\n",
      " hey, i am constructor : 3\n",
      " hey, i am constructor : 4\n",
      " hey, i am constructor : 5\n",
      "total no of objects: 5\n",
      " hey, i am constructor : 6\n",
      "total no of objects: 6\n"
     ]
    }
   ],
   "source": [
    "class  c1 :\n",
    "    i=0 # class variable\n",
    "    def __init__(self) :   # constructor method\n",
    "        c1.i=c1.i+1\n",
    "        print(\" hey, i am constructor :\",c1.i)\n",
    "    def f1(self) :\n",
    "        print(\"total no of objects:\",c1.i)\n",
    "\n",
    "x=c1()\n",
    "y=c1()\n",
    "z=c1()\n",
    "k=c1()\n",
    "m=c1()\n",
    "x.f1()\n",
    "l=c1()\n",
    "x.f1()"
   ]
  },
  {
   "cell_type": "code",
   "execution_count": 8,
   "id": "7877b5d9",
   "metadata": {},
   "outputs": [
    {
     "name": "stdout",
     "output_type": "stream",
     "text": [
      "*****************************************\n",
      "Name : Hari\n",
      "Course :  unix\n",
      "Phno : 999\n",
      "*****************************************\n",
      "#######END OF THE RECORD#################\n",
      "*****************************************\n",
      "Name : Sai\n",
      "Course :  Python\n",
      "Phno : 272727\n",
      "*****************************************\n",
      "#######END OF THE RECORD#################\n",
      "*****************************************\n",
      "Name : Padma\n",
      "Course :  Oracle\n",
      "Phno : 88888\n",
      "*****************************************\n",
      "#######END OF THE RECORD#################\n",
      "Total no of students :  3\n"
     ]
    }
   ],
   "source": [
    "class student:\n",
    "    cnt=0\n",
    "    def __init__(self,name,course,phno):\n",
    "        self.name=name\n",
    "        self.course=course\n",
    "        self.phno=phno\n",
    "        student.cnt=student.cnt+1\n",
    "    def display(self):\n",
    "        print(\"*****************************************\")\n",
    "        print(\"Name :\",self.name)\n",
    "        print(\"Course : \",self.course)\n",
    "        print(\"Phno :\",self.phno)\n",
    "        print(\"*****************************************\")\n",
    "        print(\"#######END OF THE RECORD#################\")\n",
    "a=student('Hari','unix',999)\n",
    "b=student('Sai','Python',272727)\n",
    "c=student('Padma','Oracle',88888)\n",
    "a.display()\n",
    "b.display()\n",
    "c.display()\n",
    "print(\"Total no of students : \",student.cnt)"
   ]
  },
  {
   "cell_type": "code",
   "execution_count": 9,
   "id": "19e40990",
   "metadata": {},
   "outputs": [
    {
     "name": "stdout",
     "output_type": "stream",
     "text": [
      "Name : Hari\n",
      "Course :  unix\n",
      "Phno : 999\n",
      "********************\n",
      "Name : Sai\n",
      "Course :  Python\n",
      "Phno : 272727\n",
      "********************\n",
      "Name : Padma\n",
      "Course :  Oracle\n",
      "Phno : 88888\n",
      "********************\n",
      "Total no of students :  3\n"
     ]
    }
   ],
   "source": [
    "#Example of parametrized contructor\n",
    "class   student :\n",
    "    cnt=0\n",
    "    def __init__(self,name,course,phno) :\n",
    "        self.name=name\n",
    "        self.course=course\n",
    "        self.phno=phno\n",
    "        student.cnt=student.cnt+1\n",
    "    def display(self) :\n",
    "        print(\"Name :\",self.name)\n",
    "        print(\"Course : \",self.course)\n",
    "        print(\"Phno :\",self.phno)\n",
    "        print(\"********************\")\n",
    "a=student('Hari','unix',999)\n",
    "b=student('Sai','Python',272727)\n",
    "c=student('Padma','Oracle',88888)\n",
    "a.display()\n",
    "b.display()\n",
    "c.display()\n",
    "print(\"Total no of students : \",student.cnt)"
   ]
  },
  {
   "cell_type": "code",
   "execution_count": 10,
   "id": "97fb321e",
   "metadata": {},
   "outputs": [
    {
     "name": "stdout",
     "output_type": "stream",
     "text": [
      "Name : Hari\n",
      "Course :  unix\n",
      "Phno : 999\n",
      "********************\n",
      "Name : Sai\n",
      "Course :  Python\n",
      "Phno : 272727\n",
      "********************\n",
      "Name : Padma\n",
      "Course :  Oracle\n",
      "Phno : 88888\n",
      "********************\n",
      "Total no of students :  3\n"
     ]
    }
   ],
   "source": [
    "#Example of parametrized contructor\n",
    "class   student :\n",
    "    cnt=0\n",
    "    def __init__(self,name,course,phno) :\n",
    "        self.name=name\n",
    "        self.course=course\n",
    "        self.phno=phno\n",
    "        student.cnt=student.cnt+1\n",
    "    def display(self) :\n",
    "        print(\"Name :\",self.name)\n",
    "        print(\"Course : \",self.course)\n",
    "        print(\"Phno :\",self.phno)\n",
    "        print(\"********************\")\n",
    "a=student('Hari','unix',999)\n",
    "b=student('Sai','Python',272727)\n",
    "c=student('Padma','Oracle',88888)\n",
    "a.display()\n",
    "b.display()\n",
    "c.display()\n",
    "print(\"Total no of students : \",student.cnt)"
   ]
  },
  {
   "cell_type": "code",
   "execution_count": 11,
   "id": "51d58615",
   "metadata": {},
   "outputs": [
    {
     "name": "stdout",
     "output_type": "stream",
     "text": [
      "Name :  Hari , Salary:  2000\n",
      "Name :  Sai , Salary:  5000\n",
      "Total Employee  2\n",
      "Employee.__doc__: Common base class for all employees\n",
      "Employee.__name__: Employee\n",
      "Employee.__module__: __main__\n",
      "Employee.__bases__: (<class 'object'>,)\n",
      "Employee.__dict__: {'__module__': '__main__', '__doc__': 'Common base class for all employees', 'empCount': 2, '__init__': <function Employee.__init__ at 0x106adf7e0>, 'displayCount': <function Employee.displayCount at 0x106adf880>, 'displayEmployee': <function Employee.displayEmployee at 0x106adf920>, '__dict__': <attribute '__dict__' of 'Employee' objects>, '__weakref__': <attribute '__weakref__' of 'Employee' objects>}\n"
     ]
    }
   ],
   "source": [
    "class Employee:\n",
    "   'Common base class for all employees'\n",
    "   empCount = 0\n",
    "\n",
    "   def __init__(self, name, salary):\n",
    "      self.ename = name\n",
    "      self.esalary = salary\n",
    "      Employee.empCount += 1\n",
    "   \n",
    "   def displayCount(self):\n",
    "     print(\"Total Employee s\", Employee.empCount)\n",
    "\n",
    "   def displayEmployee(self):\n",
    "      print(\"Name : \", self.ename,  \", Salary: \", self.esalary)\n",
    "\n",
    "\"This would create first object of Employee class\"\n",
    "emp1 = Employee(\"Hari\", 2000)\n",
    "\"This would create second object of Employee class\"\n",
    "emp2 = Employee(\"Sai\", 5000)\n",
    "emp1.displayEmployee()\n",
    "emp2.displayEmployee()\n",
    "print(\"Total Employee \" , Employee.empCount)\n",
    "\n",
    "print(\"Employee.__doc__:\", Employee.__doc__)\n",
    "print(\"Employee.__name__:\", Employee.__name__)\n",
    "print(\"Employee.__module__:\", Employee.__module__)\n",
    "print(\"Employee.__bases__:\", Employee.__bases__)\n",
    "print(\"Employee.__dict__:\", Employee.__dict__)"
   ]
  },
  {
   "cell_type": "code",
   "execution_count": 12,
   "id": "bd83d78e",
   "metadata": {},
   "outputs": [
    {
     "name": "stdout",
     "output_type": "stream",
     "text": [
      "2 + 3j\n",
      "3 + 4j\n"
     ]
    }
   ],
   "source": [
    "class ComplexNumber:\n",
    "    def __init__(self,r ,i):  # parametrized constructor\n",
    "        self.real = r\n",
    "        self.imag = i\n",
    "\n",
    "    def getData(self):  # class method\n",
    "        print(self.real,\"+\",str(self.imag)+\"j\")\n",
    "c1=ComplexNumber(2,3)\n",
    "c1.getData()\n",
    "c2=ComplexNumber(3,4)\n",
    "c2.getData()"
   ]
  },
  {
   "cell_type": "code",
   "execution_count": 13,
   "id": "a59d2d8b",
   "metadata": {},
   "outputs": [
    {
     "name": "stdout",
     "output_type": "stream",
     "text": [
      "10\n",
      "20\n",
      "<__main__.c1 object at 0x106b02610>\n"
     ]
    }
   ],
   "source": [
    "class c1:\n",
    "    def f1(self,a,b):\n",
    "        self.a = a\n",
    "        self.b = b\n",
    "        print(self.a)\n",
    "        print(self.b)\n",
    "x=c1()\n",
    "\n",
    "x.f1(10,20)\n",
    "\n",
    "\n",
    "# In[1]:\n",
    "\n",
    "\n",
    "class c1:   #class <class name>:\n",
    "    def f1(self):\n",
    "        print(self)\n",
    "\n",
    "x=c1()\n",
    "\n",
    "x.f1()"
   ]
  },
  {
   "cell_type": "code",
   "execution_count": 14,
   "id": "099edc30",
   "metadata": {},
   "outputs": [
    {
     "name": "stdout",
     "output_type": "stream",
     "text": [
      "#########################\n",
      "NAME \t ID \t MARKS\n",
      "RAVI\n",
      "100\n",
      "80\n",
      "##################################################\n",
      "#########################\n",
      "NAME \t ID \t MARKS\n",
      "suresh\n",
      "200\n",
      "90\n",
      "##################################################\n",
      "#########################\n",
      "NAME \t ID \t MARKS\n",
      "ramesh\n",
      "300\n",
      "50\n",
      "##################################################\n"
     ]
    }
   ],
   "source": [
    "class student:\n",
    "    def info(self,name,id,marks):\n",
    "        self.name = name\n",
    "        self.id   = id\n",
    "        self.marks = marks\n",
    "    def display(self):\n",
    "        print('#'*25)\n",
    "        print('NAME \\t ID \\t MARKS')\n",
    "        print(self.name)\n",
    "        print(self.id)\n",
    "        print(self.marks)\n",
    "        print('#'*50)\n",
    "x = student()\n",
    "y = student()\n",
    "z = student()\n",
    "x.info('RAVI',100,80)\n",
    "y.info('suresh',200,90)\n",
    "z.info('ramesh',300,50)\n",
    "x.display()\n",
    "y.display()\n",
    "z.display()"
   ]
  },
  {
   "cell_type": "code",
   "execution_count": 15,
   "id": "47fb28d4",
   "metadata": {},
   "outputs": [
    {
     "name": "stdout",
     "output_type": "stream",
     "text": [
      "im in f1\n"
     ]
    }
   ],
   "source": [
    "#class\n",
    "#class method\n",
    "#object creation\n",
    "#calling object\n",
    "\n",
    "class test:\n",
    "    def f1(self):\n",
    "        print('im in f1')\n",
    "x=test()\n",
    "x.f1()"
   ]
  },
  {
   "cell_type": "code",
   "execution_count": 16,
   "id": "3cd91ff7",
   "metadata": {},
   "outputs": [
    {
     "name": "stdout",
     "output_type": "stream",
     "text": [
      "ravi\n",
      "999999999\n"
     ]
    }
   ],
   "source": [
    "class student:\n",
    "    cnt=0\n",
    "    def info(self,name,phono):\n",
    "        self.name = name\n",
    "        self.phono = phono\n",
    "        print(self.name)\n",
    "        print(self.phono)\n",
    "a=student()\n",
    "a.info('ravi',999999999)"
   ]
  },
  {
   "cell_type": "code",
   "execution_count": 17,
   "id": "fdb6c6f8",
   "metadata": {},
   "outputs": [
    {
     "name": "stdout",
     "output_type": "stream",
     "text": [
      "ravi\n",
      "9999999\n",
      "ram\n",
      "88888\n"
     ]
    }
   ],
   "source": [
    "class student:\n",
    "    cnt=0\n",
    "    def __init__(self,name,phono):\n",
    "        self.name = name\n",
    "        self.phono = phono\n",
    "        print(self.name)\n",
    "        print(self.phono)\n",
    "a=student('ravi',9999999)\n",
    "b=student('ram',88888)"
   ]
  },
  {
   "cell_type": "code",
   "execution_count": null,
   "id": "10024ab1",
   "metadata": {},
   "outputs": [],
   "source": []
  }
 ],
 "metadata": {
  "kernelspec": {
   "display_name": "Python 3 (ipykernel)",
   "language": "python",
   "name": "python3"
  },
  "language_info": {
   "codemirror_mode": {
    "name": "ipython",
    "version": 3
   },
   "file_extension": ".py",
   "mimetype": "text/x-python",
   "name": "python",
   "nbconvert_exporter": "python",
   "pygments_lexer": "ipython3",
   "version": "3.11.4"
  }
 },
 "nbformat": 4,
 "nbformat_minor": 5
}
