{
 "cells": [
  {
   "cell_type": "code",
   "execution_count": null,
   "id": "29dd4ffe",
   "metadata": {},
   "outputs": [],
   "source": [
    "Lists:\n",
    "\n",
    "-->LIST is a collection of scalar elements (Dissimilar).\n",
    "--> It is a group of scalar elements ie; It is a group of dissimilar type of elements.\n",
    "--> The list elements are mutable(Changes).\n",
    "--> List elements must enclosed with Square Brakets [].\n",
    "--> LIST elements can be any length.\n",
    "-->LIST elements starts with '0'(ZERO) and reverse index is -1."
   ]
  },
  {
   "cell_type": "code",
   "execution_count": 2,
   "id": "0ca5148d",
   "metadata": {},
   "outputs": [],
   "source": [
    "#CREATING A LIST:\n",
    "\n",
    "a= [10,20,30,40,50,60]\n",
    "\n",
    "b = [10,1.5,\"unix\",\"python\"]\n",
    "\n",
    "c = ['c','c++','python','data']\n",
    "\n",
    "d = [] #--> empty list"
   ]
  },
  {
   "cell_type": "code",
   "execution_count": 3,
   "id": "6e1ad5e2",
   "metadata": {},
   "outputs": [
    {
     "name": "stdout",
     "output_type": "stream",
     "text": [
      "[10, 20, 30, 40, 50, 60]\n",
      "<class 'list'>\n",
      "30\n",
      "60\n",
      "[20, 30, 40, 50]\n",
      "[10, 20, 30]\n",
      "[40, 50, 60]\n",
      "[30, 40, 50, 60]\n"
     ]
    }
   ],
   "source": [
    "#ACCESSING LIST:\n",
    "\n",
    "print(a)\n",
    "\n",
    "print(type(a))  # <type 'list'>\n",
    "\n",
    "print(a[2])  # 30\n",
    "\n",
    "print(a[-1])  # 60\n",
    "\n",
    "print(a[1:5])  #[20,30,40,50]\n",
    "\n",
    "print(a[:3]) #[10,20,30]\n",
    "\n",
    "print(a[-3:]) # [40,50,60]\n",
    "\n",
    "print(a[2:])  #[30,40,50,60]"
   ]
  },
  {
   "cell_type": "code",
   "execution_count": 4,
   "id": "c77f29e6",
   "metadata": {},
   "outputs": [
    {
     "ename": "IndexError",
     "evalue": "list assignment index out of range",
     "output_type": "error",
     "traceback": [
      "\u001b[0;31m---------------------------------------------------------------------------\u001b[0m",
      "\u001b[0;31mIndexError\u001b[0m                                Traceback (most recent call last)",
      "Cell \u001b[0;32mIn[4], line 5\u001b[0m\n\u001b[1;32m      1\u001b[0m \u001b[38;5;66;03m#UPDATING/MODIFYING ELEMENTS:\u001b[39;00m\n\u001b[1;32m      3\u001b[0m a[\u001b[38;5;241m2\u001b[39m] \u001b[38;5;241m=\u001b[39m \u001b[38;5;241m300\u001b[39m\n\u001b[0;32m----> 5\u001b[0m a[\u001b[38;5;241m6\u001b[39m] \u001b[38;5;241m=\u001b[39m\u001b[38;5;241m500\u001b[39m\n",
      "\u001b[0;31mIndexError\u001b[0m: list assignment index out of range"
     ]
    }
   ],
   "source": [
    "#UPDATING/MODIFYING ELEMENTS:\n",
    "\n",
    "a[2] = 300\n",
    "\n",
    "a[6] =500 # error because we don't have index 6"
   ]
  },
  {
   "cell_type": "code",
   "execution_count": 6,
   "id": "c030a0fe",
   "metadata": {},
   "outputs": [
    {
     "ename": "IndexError",
     "evalue": "list assignment index out of range",
     "output_type": "error",
     "traceback": [
      "\u001b[0;31m---------------------------------------------------------------------------\u001b[0m",
      "\u001b[0;31mIndexError\u001b[0m                                Traceback (most recent call last)",
      "Cell \u001b[0;32mIn[6], line 3\u001b[0m\n\u001b[1;32m      1\u001b[0m \u001b[38;5;66;03m#DELETING ELEMENTS:\u001b[39;00m\n\u001b[0;32m----> 3\u001b[0m \u001b[38;5;28;01mdel\u001b[39;00m a[\u001b[38;5;241m2\u001b[39m]\n\u001b[1;32m      5\u001b[0m \u001b[38;5;28;01mdel\u001b[39;00m  a[\u001b[38;5;241m1\u001b[39m:\u001b[38;5;241m4\u001b[39m]\n\u001b[1;32m      7\u001b[0m \u001b[38;5;28;01mdel\u001b[39;00m a[\u001b[38;5;241m-\u001b[39m\u001b[38;5;241m1\u001b[39m]\n",
      "\u001b[0;31mIndexError\u001b[0m: list assignment index out of range"
     ]
    }
   ],
   "source": [
    "#DELETING ELEMENTS:\n",
    "\n",
    "del a[2]\n",
    "\n",
    "del  a[1:4]\n",
    "\n",
    "del a[-1]\n",
    "print(a)"
   ]
  },
  {
   "cell_type": "code",
   "execution_count": 9,
   "id": "15a7cbd8",
   "metadata": {},
   "outputs": [
    {
     "name": "stdout",
     "output_type": "stream",
     "text": [
      "[[10, 20, 30, 100, 200, 300]]\n"
     ]
    }
   ],
   "source": [
    "#CONCATENATION LIST:\n",
    "\n",
    "a=[10,20,30]\n",
    "\n",
    "b=[100,200,300]\n",
    "\n",
    "c=[a+b]   # [10,20,30,100,200,300]\n",
    "print(c)"
   ]
  },
  {
   "cell_type": "code",
   "execution_count": 10,
   "id": "27be0653",
   "metadata": {},
   "outputs": [
    {
     "name": "stdout",
     "output_type": "stream",
     "text": [
      "['a', 'b', 'c', 'a', 'b', 'c', 'a', 'b', 'c']\n"
     ]
    }
   ],
   "source": [
    "#MULTIPLICATION:\n",
    "\n",
    "a=['a','b','c']\n",
    "\n",
    "b=a*3\n",
    "\n",
    "print(b) #['a','b','c','a','b','c','a','b','c']"
   ]
  },
  {
   "cell_type": "code",
   "execution_count": 11,
   "id": "f423b7b1",
   "metadata": {},
   "outputs": [
    {
     "name": "stdout",
     "output_type": "stream",
     "text": [
      "7\n"
     ]
    }
   ],
   "source": [
    "#OPERATIONS ON LISTS:\n",
    "\n",
    "a=['c','b','e','a','m','z','n']\n",
    "\n",
    "print(len(a))  # 7 --> length of lists"
   ]
  },
  {
   "cell_type": "code",
   "execution_count": 12,
   "id": "f9feaa57",
   "metadata": {},
   "outputs": [
    {
     "name": "stdout",
     "output_type": "stream",
     "text": [
      "['a', 'b', 'c', 'e', 'm', 'n', 'z']\n"
     ]
    }
   ],
   "source": [
    "print(sorted(a))  # ['a', 'b', 'c', 'e', 'm', 'n', 'z']"
   ]
  },
  {
   "cell_type": "code",
   "execution_count": null,
   "id": "bf067db9",
   "metadata": {},
   "outputs": [],
   "source": [
    "a.append('test')\n",
    "\n",
    "print(a)    # ['c', 'b', 'e', 'a', 'm', 'z', 'n', 'test']"
   ]
  },
  {
   "cell_type": "code",
   "execution_count": 21,
   "id": "7c56039d",
   "metadata": {},
   "outputs": [
    {
     "name": "stdout",
     "output_type": "stream",
     "text": [
      "['aaa', 'n', 'z', 'm', 'a', 'e', 'b', 'a', 'b', 'c', 'a', 'b', 'c', 'a', 'b', 'c', 'aaaaaa', 'vvvvvvv']\n"
     ]
    }
   ],
   "source": [
    "a.insert(0,'aaa')\n",
    "print(a)   #['aaa', 'c', 'b', 'e', 'a', 'm', 'z', 'n', 'test']"
   ]
  },
  {
   "cell_type": "code",
   "execution_count": 22,
   "id": "b45519b0",
   "metadata": {},
   "outputs": [
    {
     "name": "stdout",
     "output_type": "stream",
     "text": [
      "['n', 'z', 'm', 'a', 'e', 'b', 'a', 'b', 'c', 'a', 'b', 'c', 'a', 'b', 'c', 'aaaaaa', 'vvvvvvv']\n"
     ]
    }
   ],
   "source": [
    "a.remove('aaa')\n",
    "print(a)   #['c', 'b', 'e', 'a', 'm', 'z', 'n', 'test']"
   ]
  },
  {
   "cell_type": "code",
   "execution_count": 19,
   "id": "3e92374c",
   "metadata": {},
   "outputs": [
    {
     "name": "stdout",
     "output_type": "stream",
     "text": [
      "['n', 'z', 'm', 'a', 'e', 'b', 'a', 'b', 'c', 'a', 'b', 'c', 'a', 'b', 'c', 'aaaaaa', 'vvvvvvv']\n"
     ]
    }
   ],
   "source": [
    "b=['aaaaaa','vvvvvvv']\n",
    "a.extend(b)\n",
    "print(a)   #['c', 'b', 'e', 'a', 'm', 'z', 'n', 'test', 'aaaaaa', 'vvvvvvv']"
   ]
  },
  {
   "cell_type": "code",
   "execution_count": 17,
   "id": "6afbe1fc",
   "metadata": {},
   "outputs": [
    {
     "name": "stdout",
     "output_type": "stream",
     "text": [
      "['n', 'z', 'm', 'a', 'e', 'b']\n"
     ]
    }
   ],
   "source": [
    "a.pop()   # 'vvvvvvv' --> removes last value in list if we mention number then that index will be deleted\n",
    "print(a)   # ['c', 'b', 'e', 'a', 'm', 'z', 'n', 'test', 'aaaaaa']"
   ]
  },
  {
   "cell_type": "code",
   "execution_count": 16,
   "id": "9c0da80a",
   "metadata": {},
   "outputs": [
    {
     "name": "stdout",
     "output_type": "stream",
     "text": [
      "['n', 'z', 'm', 'a', 'e', 'b', 'c']\n"
     ]
    }
   ],
   "source": [
    "a.reverse()\n",
    "print(a)   # ['aaaaaa', 'test', 'n', 'z', 'm', 'a', 'b', 'c']"
   ]
  },
  {
   "cell_type": "code",
   "execution_count": 15,
   "id": "8c7abf6a",
   "metadata": {},
   "outputs": [
    {
     "name": "stdout",
     "output_type": "stream",
     "text": [
      "1\n"
     ]
    }
   ],
   "source": [
    "#count  -->  Search list and return number of instances found\n",
    "print(a.count('z'))  #1"
   ]
  },
  {
   "cell_type": "code",
   "execution_count": 13,
   "id": "6d01559a",
   "metadata": {},
   "outputs": [
    {
     "name": "stdout",
     "output_type": "stream",
     "text": [
      "True\n",
      "False\n"
     ]
    }
   ],
   "source": [
    "my_list = ['a','p','p','l','e']\n",
    "\n",
    "print('a' in my_list)  # TRUE\n",
    "print('b' in my_list)  #FALSE"
   ]
  },
  {
   "cell_type": "code",
   "execution_count": null,
   "id": "51bf9eaf",
   "metadata": {},
   "outputs": [],
   "source": []
  }
 ],
 "metadata": {
  "kernelspec": {
   "display_name": "Python 3 (ipykernel)",
   "language": "python",
   "name": "python3"
  },
  "language_info": {
   "codemirror_mode": {
    "name": "ipython",
    "version": 3
   },
   "file_extension": ".py",
   "mimetype": "text/x-python",
   "name": "python",
   "nbconvert_exporter": "python",
   "pygments_lexer": "ipython3",
   "version": "3.11.4"
  }
 },
 "nbformat": 4,
 "nbformat_minor": 5
}
