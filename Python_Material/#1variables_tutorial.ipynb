{
 "cells": [
  {
   "cell_type": "code",
   "execution_count": null,
   "id": "0b2d90f2",
   "metadata": {},
   "outputs": [],
   "source": [
    "#variables\n",
    "\n",
    "#Python variables are the reserved memory locations used to store values with in a Python Program. \n",
    "#when you create a variable you reserve some space in the memory.\n",
    "\n",
    "#Based on the data type of a variable, Python interpreter allocates memory and decides what can be stored in the reserved memory. \n",
    "#Therefore, by assigning different data types to Python variables you can store integers, decimals or characters in these variables"
   ]
  },
  {
   "cell_type": "code",
   "execution_count": null,
   "id": "a408d7b8",
   "metadata": {},
   "outputs": [],
   "source": [
    "#The operand to the left of the = operator is the name of the variable and the operand to the right of the = operator \n",
    "#is the value stored in the variable\n",
    "\n",
    "x = 100 #x is called as variable"
   ]
  },
  {
   "cell_type": "code",
   "execution_count": 1,
   "id": "ca310154",
   "metadata": {},
   "outputs": [
    {
     "name": "stdout",
     "output_type": "stream",
     "text": [
      "100\n",
      "test\n",
      "1.0\n"
     ]
    }
   ],
   "source": [
    "#creating a variable\n",
    "\n",
    "x = 100\n",
    "y = \"test\"\n",
    "z = 1.0\n",
    "print(x)\n",
    "print(y)\n",
    "print(z)"
   ]
  },
  {
   "cell_type": "code",
   "execution_count": 2,
   "id": "19fd00b7",
   "metadata": {},
   "outputs": [
    {
     "name": "stdout",
     "output_type": "stream",
     "text": [
      "200\n"
     ]
    }
   ],
   "source": [
    "#updating a value assigned to variable\n",
    "\n",
    "x = 200\n",
    "print(x)"
   ]
  },
  {
   "cell_type": "code",
   "execution_count": 3,
   "id": "4ca88445",
   "metadata": {},
   "outputs": [
    {
     "ename": "NameError",
     "evalue": "name 'x' is not defined",
     "output_type": "error",
     "traceback": [
      "\u001b[0;31m---------------------------------------------------------------------------\u001b[0m",
      "\u001b[0;31mNameError\u001b[0m                                 Traceback (most recent call last)",
      "Cell \u001b[0;32mIn[3], line 4\u001b[0m\n\u001b[1;32m      1\u001b[0m \u001b[38;5;66;03m#delete a variable\u001b[39;00m\n\u001b[1;32m      3\u001b[0m \u001b[38;5;28;01mdel\u001b[39;00m x\n\u001b[0;32m----> 4\u001b[0m \u001b[38;5;28mprint\u001b[39m(x)\n",
      "\u001b[0;31mNameError\u001b[0m: name 'x' is not defined"
     ]
    }
   ],
   "source": [
    "#delete a variable\n",
    "\n",
    "del x\n",
    "print(x)"
   ]
  },
  {
   "cell_type": "code",
   "execution_count": 4,
   "id": "2f91e147",
   "metadata": {},
   "outputs": [
    {
     "name": "stdout",
     "output_type": "stream",
     "text": [
      "500\n",
      "500\n",
      "500\n"
     ]
    }
   ],
   "source": [
    "#we can do multiple assigned as well\n",
    "\n",
    "x = y = z = 500\n",
    "print(x)\n",
    "print(y)\n",
    "print(z)"
   ]
  },
  {
   "cell_type": "code",
   "execution_count": 5,
   "id": "9b51fcab",
   "metadata": {},
   "outputs": [
    {
     "name": "stdout",
     "output_type": "stream",
     "text": [
      "1\n",
      "1.5\n",
      "test\n"
     ]
    }
   ],
   "source": [
    "x,y,z = 1,1.5,\"test\"\n",
    "print(x)\n",
    "print(y)\n",
    "print(z)"
   ]
  },
  {
   "cell_type": "code",
   "execution_count": null,
   "id": "45f58c6d",
   "metadata": {},
   "outputs": [],
   "source": [
    "#rules for variables\n",
    "\n",
    "#A variable name must start with a letter or the underscore character\n",
    "#A variable name cannot start with a number or any special character like $, (, * % etc.\n",
    "#A variable name can only contain alpha-numeric characters and underscores (A-z, 0-9, and _ )\n",
    "#Python variable names are case-sensitive which means Name and NAME are two different variables in Python.\n",
    "#Python reserved keywords cannot be used naming the variable."
   ]
  },
  {
   "cell_type": "code",
   "execution_count": 8,
   "id": "69ae04d0",
   "metadata": {},
   "outputs": [
    {
     "name": "stdout",
     "output_type": "stream",
     "text": [
      "15\n"
     ]
    }
   ],
   "source": [
    "#local variable\n",
    "\n",
    "#Local variable means a variable defined inside a function. we cannot able to access it outside of a function\n",
    "\n",
    "def sum(x,y):\n",
    "   sum = x + y\n",
    "   return sum\n",
    "print(sum(5, 10))"
   ]
  },
  {
   "cell_type": "code",
   "execution_count": 9,
   "id": "dd426c5e",
   "metadata": {},
   "outputs": [
    {
     "name": "stdout",
     "output_type": "stream",
     "text": [
      "15\n"
     ]
    }
   ],
   "source": [
    "#Global Variables\n",
    "\n",
    "#Global variable is a variable defined outside a function can be accessed within any function\n",
    "\n",
    "x = 5\n",
    "y = 10\n",
    "def sum():\n",
    "   sum = x + y\n",
    "   return sum\n",
    "print(sum())"
   ]
  },
  {
   "cell_type": "code",
   "execution_count": null,
   "id": "62ea68f6",
   "metadata": {},
   "outputs": [],
   "source": []
  }
 ],
 "metadata": {
  "kernelspec": {
   "display_name": "Python 3 (ipykernel)",
   "language": "python",
   "name": "python3"
  },
  "language_info": {
   "codemirror_mode": {
    "name": "ipython",
    "version": 3
   },
   "file_extension": ".py",
   "mimetype": "text/x-python",
   "name": "python",
   "nbconvert_exporter": "python",
   "pygments_lexer": "ipython3",
   "version": "3.11.4"
  }
 },
 "nbformat": 4,
 "nbformat_minor": 5
}
