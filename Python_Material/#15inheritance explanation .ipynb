{
 "cells": [
  {
   "cell_type": "code",
   "execution_count": null,
   "metadata": {},
   "outputs": [],
   "source": [
    "#Inheritance  --> reuseability\n",
    "\n",
    "4 types of inheritance\n",
    "\n",
    "1.Simple inheritance\n",
    "2.multiple inheritance\n",
    "3.multilevel inheritance\n",
    "4.heirarichal inheritnace"
   ]
  },
  {
   "cell_type": "code",
   "execution_count": null,
   "metadata": {},
   "outputs": [],
   "source": [
    "#Simple inheritance\n",
    "\n",
    "A  <--  B\n",
    "\n",
    "A is called Parantel class\n",
    "B is called child class\n",
    "\n",
    "class A:\n",
    "    def f1():\n",
    "        _________\n",
    "        _________\n",
    "    def f2():\n",
    "        __________\n",
    "        __________\n",
    "class B(A):\n",
    "    def f3():\n",
    "        __________\n",
    "        __________\n",
    "b1 = B()\n",
    "b1.f1()\n",
    "b1.f2()\n",
    "b1.f3()"
   ]
  },
  {
   "cell_type": "code",
   "execution_count": null,
   "metadata": {},
   "outputs": [],
   "source": [
    "#Multiple inheritance\n",
    "\n",
    "A    B      C\n",
    "\n",
    "     |\n",
    "    \n",
    "    D\n",
    "\n",
    "class A:\n",
    "    def f1():\n",
    "        .........\n",
    "        .........\n",
    "    def f2():\n",
    "        ..........\n",
    "        ..........\n",
    "class B:\n",
    "    def f3():\n",
    "        ..........\n",
    "        ..........\n",
    "    def f4():\n",
    "        ..........\n",
    "        ..........\n",
    "class C:\n",
    "    def f5():\n",
    "        ..........\n",
    "        ..........\n",
    "class D(A,B,C):\n",
    "    def f6():\n",
    "        ..........\n",
    "        ..........\n",
    "\n",
    "a1 = D()\n",
    "a1.f1()\n",
    "a1.f3()"
   ]
  },
  {
   "cell_type": "code",
   "execution_count": null,
   "metadata": {},
   "outputs": [],
   "source": [
    "#Multi Level inheritance\n",
    "\n",
    "\n",
    "A <-- B <-- C <-- D\n",
    "\n",
    "class A:\n",
    "    def f1():\n",
    "        ..........\n",
    "        ..........\n",
    "    def f2():\n",
    "        ..........\n",
    "class B(A):\n",
    "    def f3():\n",
    "        .........\n",
    "class C(B):\n",
    "    def f4():\n",
    "        .........\n",
    "class D(C):\n",
    "    def f5():\n",
    "        .........\n",
    "\n",
    "a = D()\n",
    "a.f1()\n",
    "a.f3()\n",
    "a.f5()"
   ]
  },
  {
   "cell_type": "code",
   "execution_count": null,
   "metadata": {},
   "outputs": [],
   "source": [
    "# heiraichal inheritance\n",
    "\n",
    "B\n",
    "\n",
    "C    -->    A\n",
    "\n",
    "\n",
    "D\n",
    "\n",
    "\n",
    "class A:\n",
    "    def f1():\n",
    "        ........\n",
    "        ........\n",
    "    def f2():\n",
    "        ........\n",
    "        ........\n",
    "        \n",
    "class B(A)\n",
    "     def f3():\n",
    "        .........\n",
    "class C(A):\n",
    "    def f4():\n",
    "        ...........\n",
    "        ...........\n",
    "class D(A):\n",
    "    def f5():\n",
    "        ...............\n",
    "\n",
    "a = B()\n",
    "a.f1()\n",
    "\n",
    "b = D()\n",
    "d.f5()"
   ]
  },
  {
   "cell_type": "code",
   "execution_count": 12,
   "metadata": {},
   "outputs": [
    {
     "name": "stdout",
     "output_type": "stream",
     "text": [
      "100\n",
      "10000\n",
      "1000\n"
     ]
    }
   ],
   "source": [
    "#heirarichal inheriance\n",
    "\n",
    "class A:\n",
    "    def f1(self,a):\n",
    "        self.a=a\n",
    "class sqr(A):\n",
    "    def f2(self):\n",
    "        return self.a*self.a\n",
    "class cube(A):\n",
    "    def f3(self):\n",
    "        return self.a*self.a*self.a\n",
    "s1 = sqr()\n",
    "s1.f1(10)\n",
    "print(s1.f2())\n",
    "s2=sqr()\n",
    "s2.f1(100)\n",
    "print(s2.f2())\n",
    "s3 = cube()\n",
    "s3.f1(10)\n",
    "print(s3.f3())"
   ]
  },
  {
   "cell_type": "code",
   "execution_count": 4,
   "metadata": {},
   "outputs": [
    {
     "name": "stdout",
     "output_type": "stream",
     "text": [
      "i am in f1\n",
      "i am in f2\n",
      "i am in f3\n",
      "a= 100 b= 200 C= 300\n"
     ]
    }
   ],
   "source": [
    "#multiple inheritance\n",
    "\n",
    "class A:\n",
    "    a=100\n",
    "    def f1(self):\n",
    "        print('i am in f1')\n",
    "class B:\n",
    "    b=200\n",
    "    def f2(self):\n",
    "        print('i am in f2')\n",
    "class C(A,B):\n",
    "    c=300\n",
    "    def f3(self):\n",
    "        self.f1()\n",
    "        self.f2()\n",
    "        print('i am in f3')\n",
    "        print('a=',A.a,'b=',B.b,'C=',C.c)\n",
    "x=C()\n",
    "x.f3()\n"
   ]
  },
  {
   "cell_type": "code",
   "execution_count": 11,
   "metadata": {},
   "outputs": [
    {
     "name": "stdout",
     "output_type": "stream",
     "text": [
      "i am in A class\n",
      "i am in B class\n",
      "i am in C class\n"
     ]
    }
   ],
   "source": [
    "#Multilevel inheritance\n",
    "\n",
    "class A:\n",
    "    def f1(self):\n",
    "        print('i am in A class')\n",
    "class B(A):\n",
    "    def f2(self):\n",
    "        print('i am in B class')\n",
    "class C(B):\n",
    "    def f3(self):\n",
    "        print('i am in C class')\n",
    "c1=C()\n",
    "c1.f1()\n",
    "c1.f2()\n",
    "c1.f3()"
   ]
  },
  {
   "cell_type": "code",
   "execution_count": 3,
   "metadata": {},
   "outputs": [
    {
     "name": "stdout",
     "output_type": "stream",
     "text": [
      "i amin person class\n",
      "Akshith\n",
      "200\n",
      "30000\n",
      "developer\n"
     ]
    }
   ],
   "source": [
    "#Simple inheritance\n",
    " \n",
    "class Person:\n",
    "    def info(self,name,id):\n",
    "        print('i amin person class')\n",
    "        self.name = name\n",
    "        self.id = id\n",
    "    def display(self):\n",
    "        print(self.name)\n",
    "        print(self.id)\n",
    "class employee(Person):\n",
    "    def info1(self,name,id,sal,job):\n",
    "        self.sal = sal\n",
    "        self.job = job\n",
    "        Person.info(self,name,id)\n",
    "    def display1(self):\n",
    "        print(self.name)\n",
    "        print(self.id)\n",
    "        print(self.sal)\n",
    "        print(self.job)\n",
    "#test1=Person()\n",
    "#test1.info('Akshith',200)\n",
    "#test1.display()\n",
    "test = employee()\n",
    "test.info1('Akshith',200,30000,'developer')\n",
    "test.display1()"
   ]
  },
  {
   "cell_type": "code",
   "execution_count": 13,
   "metadata": {},
   "outputs": [
    {
     "name": "stdout",
     "output_type": "stream",
     "text": [
      "i am a base class constructor\n",
      "i am a derived class constructor\n"
     ]
    }
   ],
   "source": [
    "#Inheritance with constructor\n",
    "\n",
    "class A:\n",
    "    def __init__(self):\n",
    "        print('i am a base class constructor')\n",
    "class B(A):\n",
    "    def __init__(self):\n",
    "        A.__init__(self)\n",
    "        print('i am a derived class constructor')\n",
    "b1=B()\n",
    "#b2=A()\n"
   ]
  },
  {
   "cell_type": "code",
   "execution_count": 13,
   "metadata": {},
   "outputs": [
    {
     "name": "stdout",
     "output_type": "stream",
     "text": [
      "virat kholi,31\n"
     ]
    }
   ],
   "source": [
    "class person:\n",
    "    def __init__(self,first,last):\n",
    "        self.firstname = first\n",
    "        self.lastname = last\n",
    "    def fullname(self):\n",
    "        return self.firstname+\" \"+self.lastname\n",
    "class employee(person):\n",
    "    def __init__(self,first,last,age):\n",
    "        person.__init__(self,first,last)\n",
    "        self.age = age\n",
    "    def getemployee(self):\n",
    "        return self.fullname()+\",\"+self.age\n",
    "y = employee('virat','kholi',\"31\")\n",
    "print(y.getemployee())"
   ]
  },
  {
   "cell_type": "code",
   "execution_count": 14,
   "metadata": {},
   "outputs": [
    {
     "name": "stdout",
     "output_type": "stream",
     "text": [
      "ID \t NAME \t MARKS\n",
      "#########################\n",
      "200 \t ravi \t 300\n",
      "#########################\n",
      "#########################\n",
      "300 \t suresh \t 400\n",
      "#########################\n",
      "#########################\n",
      "400 \t ramesh \t 500\n",
      "#########################\n"
     ]
    }
   ],
   "source": [
    "class student:   # creating a class   class <classname>:\n",
    "    def info(self,id,name,marks):\n",
    "        self.id = id\n",
    "        self.name = name\n",
    "        self.marks = marks\n",
    "    def display(self):\n",
    "        print('#'*25)\n",
    "        print(self.id,'\\t',self.name,'\\t',self.marks)\n",
    "        print('#'*25)\n",
    "\n",
    "a = student()\n",
    "b = student()\n",
    "c = student()\n",
    "\n",
    "a.info(200,'ravi',300)\n",
    "b.info(300,'suresh',400)\n",
    "c.info(400,'ramesh',500)\n",
    "print('ID \\t NAME \\t MARKS')\n",
    "a.display()\n",
    "b.display()\n",
    "c.display()"
   ]
  },
  {
   "cell_type": "code",
   "execution_count": 15,
   "metadata": {},
   "outputs": [
    {
     "name": "stdout",
     "output_type": "stream",
     "text": [
      "ID \t NAME \t MARKS\n",
      "#########################\n",
      "200 \t ravi \t 300\n",
      "#########################\n",
      "#########################\n",
      "300 \t suresh \t 400\n",
      "#########################\n",
      "#########################\n",
      "400 \t ramesh \t 500\n",
      "#########################\n"
     ]
    }
   ],
   "source": [
    "class student:   # creating a class   class <classname>:\n",
    "    def __init__(self,id,name,marks):\n",
    "        self.id = id\n",
    "        self.name = name\n",
    "        self.marks = marks\n",
    "    def display(self):\n",
    "        print('#'*25)\n",
    "        print(self.id,'\\t',self.name,'\\t',self.marks)\n",
    "        print('#'*25)\n",
    "\n",
    "a = student(200,'ravi',300)\n",
    "b = student(300,'suresh',400)\n",
    "c = student(400,'ramesh',500)\n",
    "\n",
    "#a.info(200,'ravi',300)\n",
    "#b.info(300,'suresh',400)\n",
    "#c.info(400,'ramesh',500)\n",
    "print('ID \\t NAME \\t MARKS')\n",
    "a.display()\n",
    "b.display()\n",
    "c.display()"
   ]
  },
  {
   "cell_type": "code",
   "execution_count": 19,
   "metadata": {},
   "outputs": [
    {
     "name": "stdout",
     "output_type": "stream",
     "text": [
      "we are in class 1\n",
      "we are in class 2\n",
      "40\n",
      "10\n",
      "rakesh\n"
     ]
    }
   ],
   "source": [
    "class person:\n",
    "    def info(self,id,name):\n",
    "        self.id= id\n",
    "        self.name = name\n",
    "        print('we are in class 1')\n",
    "    def display(self):\n",
    "        print(self.id)\n",
    "        print(self.name)\n",
    "class student(person):\n",
    "    def info1(self,id,name,age):\n",
    "        self.age = age\n",
    "        person.info(self,id,name)\n",
    "        print('we are in class 2')\n",
    "    def display1(self):\n",
    "        print(self.age)\n",
    "        print(self.id)\n",
    "        print(self.name)\n",
    "a = student()\n",
    "a.info1(10,'rakesh',40)\n",
    "a.display1()\n",
    "        "
   ]
  },
  {
   "cell_type": "code",
   "execution_count": 23,
   "metadata": {},
   "outputs": [
    {
     "name": "stdout",
     "output_type": "stream",
     "text": [
      "ID \t NAME \t          SAL \t JOB\n",
      "########################################\n",
      "10 \t rakesh \t 20000 \t manager\n",
      "########################################\n",
      "20 \t suresh \t 30000 \t developer\n",
      "########################################\n",
      "30 \t ramesh \t 40000 \t analyst\n",
      "########################################\n"
     ]
    }
   ],
   "source": [
    "class employee:\n",
    "    def emp1(self,id,name,sal):   #__init__\n",
    "        self.id = id\n",
    "        self.name = name\n",
    "        self.sal = sal\n",
    "class emp2(employee):\n",
    "    def emp3(self,id,name,sal,job):  # __init__\n",
    "        self.job = job\n",
    "        employee.emp1(self,id,name,sal)   # __init__\n",
    "    def display(self):\n",
    "        print(self.id,'\\t',self.name,'\\t',self.sal,'\\t',self.job)\n",
    "a = emp2()  #give data here\n",
    "b = emp2()\n",
    "c = emp2()\n",
    "a.emp3(10,'rakesh',20000,'manager')    #comment all 3 lines below\n",
    "b.emp3(20,'suresh',30000,'developer')\n",
    "c.emp3(30,'ramesh',40000,'analyst')\n",
    "print('ID \\t NAME \\t          SAL \\t JOB')\n",
    "print('#'*40)\n",
    "a.display()\n",
    "print('#'*40)\n",
    "b.display()\n",
    "print('#'*40)\n",
    "c.display()\n",
    "print('#'*40)"
   ]
  },
  {
   "cell_type": "code",
   "execution_count": 25,
   "metadata": {},
   "outputs": [
    {
     "name": "stdout",
     "output_type": "stream",
     "text": [
      "ID \t NAME \t          SAL \t JOB\n",
      "########################################\n",
      "10 \t rakesh \t 20000 \t manager\n",
      "########################################\n",
      "20 \t suresh \t 30000 \t developer\n",
      "########################################\n",
      "30 \t ramesh \t 40000 \t analyst\n",
      "########################################\n"
     ]
    }
   ],
   "source": [
    "class employee:\n",
    "    def __init__(self,id,name,sal):\n",
    "        self.id = id\n",
    "        self.name = name\n",
    "        self.sal = sal\n",
    "class emp2(employee):\n",
    "    def __init__(self,id,name,sal,job):\n",
    "        self.job = job\n",
    "        employee.__init__(self,id,name,sal)\n",
    "    def display(self):\n",
    "        print(self.id,'\\t',self.name,'\\t',self.sal,'\\t',self.job)\n",
    "a = emp2(10,'rakesh',20000,'manager')\n",
    "b = emp2(20,'suresh',30000,'developer')\n",
    "c = emp2(30,'ramesh',40000,'analyst')\n",
    "#a.emp3(10,'rakesh',20000,'manager')\n",
    "#b.emp3(20,'suresh',30000,'developer')\n",
    "#c.emp3(30,'ramesh',40000,'analyst')\n",
    "print('ID \\t NAME \\t          SAL \\t JOB')\n",
    "print('#'*40)\n",
    "a.display()\n",
    "print('#'*40)\n",
    "b.display()\n",
    "print('#'*40)\n",
    "c.display()\n",
    "print('#'*40)"
   ]
  },
  {
   "cell_type": "code",
   "execution_count": 33,
   "metadata": {},
   "outputs": [
    {
     "name": "stdout",
     "output_type": "stream",
     "text": [
      "i am class A\n",
      "i am clas B\n",
      "i am class c\n",
      "i am class D\n"
     ]
    }
   ],
   "source": [
    "class A:\n",
    "    def A1(self):\n",
    "        print('i am class A')\n",
    "class B:\n",
    "    def B1(self):\n",
    "        print('i am clas B')\n",
    "class C:\n",
    "    def C1(self):\n",
    "        print('i am class c')\n",
    "class D(A,B,C):\n",
    "    def D1(self):\n",
    "        A.A1(self)\n",
    "        B.B1(self)\n",
    "        C.C1(self)\n",
    "        print('i am class D')\n",
    "a = D()\n",
    "a.D1()"
   ]
  },
  {
   "cell_type": "code",
   "execution_count": 29,
   "metadata": {},
   "outputs": [
    {
     "name": "stdout",
     "output_type": "stream",
     "text": [
      "number \t name \t  marks \t  avg\n",
      "#########################\n",
      "20\n",
      "rakesh\n",
      "100\n",
      "50\n",
      "#########################\n",
      "30\n",
      "ramesh\n",
      "90\n",
      "40\n",
      "#########################\n",
      "40\n",
      "suresh\n",
      "80\n",
      "30\n",
      "#########################\n"
     ]
    }
   ],
   "source": [
    "class rollno:\n",
    "    def no(self,num):\n",
    "        self.number = num\n",
    "class name:\n",
    "    def N1(self,nme):\n",
    "        self.name = nme\n",
    "class marks:\n",
    "    def M1(self,mark):\n",
    "        self.mark = mark\n",
    "class student(rollno,name,marks):\n",
    "    def info(self,num,nme,mark,avg):\n",
    "        self.avg =  avg\n",
    "        rollno.no(self,num)\n",
    "        name.N1(self,nme)\n",
    "        marks.M1(self,mark)\n",
    "    def display(self):\n",
    "        print(self.number)\n",
    "        print(self.name)\n",
    "        print(self.mark)\n",
    "        print(self.avg)\n",
    "a=student()\n",
    "b=student()\n",
    "c=student()\n",
    "a.info(20,'rakesh',100,50)\n",
    "b.info(30,'ramesh',90,40)\n",
    "c.info(40,'suresh',80,30)\n",
    "print('number \\t name \\t  marks \\t  avg')\n",
    "print('#'*25)\n",
    "a.display()\n",
    "print('#'*25)\n",
    "b.display()\n",
    "print('#'*25)\n",
    "c.display()\n",
    "print('#'*25)"
   ]
  },
  {
   "cell_type": "code",
   "execution_count": 30,
   "metadata": {},
   "outputs": [
    {
     "name": "stdout",
     "output_type": "stream",
     "text": [
      "number \t name \t  marks \t  avg\n",
      "#########################\n",
      "20\n",
      "rakesh\n",
      "100\n",
      "50\n",
      "#########################\n",
      "30\n",
      "ramesh\n",
      "90\n",
      "40\n",
      "#########################\n",
      "40\n",
      "suresh\n",
      "80\n",
      "30\n",
      "#########################\n"
     ]
    }
   ],
   "source": [
    "class rollno:\n",
    "    def __init__(self,num):\n",
    "        self.number = num\n",
    "class name:\n",
    "    def __init__(self,nme):\n",
    "        self.name = nme\n",
    "class marks:\n",
    "    def __init__(self,mark):\n",
    "        self.mark = mark\n",
    "class student(rollno,name,marks):\n",
    "    def __init__(self,num,nme,mark,avg):\n",
    "        self.avg =  avg\n",
    "        rollno.__init__(self,num)\n",
    "        name.__init__(self,nme)\n",
    "        marks.__init__(self,mark)\n",
    "    def display(self):\n",
    "        print(self.number)\n",
    "        print(self.name)\n",
    "        print(self.mark)\n",
    "        print(self.avg)\n",
    "a=student(20,'rakesh',100,50)\n",
    "b=student(30,'ramesh',90,40)\n",
    "c=student(40,'suresh',80,30)\n",
    "#a.info(20,'rakesh',100,50)\n",
    "#b.info(30,'ramesh',90,40)\n",
    "#c.info(40,'suresh',80,30)\n",
    "print('number \\t name \\t  marks \\t  avg')\n",
    "print('#'*25)\n",
    "a.display()\n",
    "print('#'*25)\n",
    "b.display()\n",
    "print('#'*25)\n",
    "c.display()\n",
    "print('#'*25)"
   ]
  },
  {
   "cell_type": "code",
   "execution_count": 36,
   "metadata": {},
   "outputs": [
    {
     "name": "stdout",
     "output_type": "stream",
     "text": [
      "i am in clas A\n",
      "i am in class B\n",
      "i am in class C\n",
      "i am in class D\n"
     ]
    }
   ],
   "source": [
    "class A:\n",
    "    def A1(self):\n",
    "        print('i am in clas A')\n",
    "class B(A):\n",
    "    def B1(self):\n",
    "        A.A1(self)\n",
    "        print('i am in class B')\n",
    "class C(B):\n",
    "    def C1(self):\n",
    "        B.B1(self)\n",
    "        print('i am in class C')\n",
    "class D(C):\n",
    "    def D1(self):\n",
    "        C.C1(self)\n",
    "        print('i am in class D')\n",
    "        \n",
    "e =D()\n",
    "e.D1()\n"
   ]
  },
  {
   "cell_type": "code",
   "execution_count": 38,
   "metadata": {},
   "outputs": [
    {
     "name": "stdout",
     "output_type": "stream",
     "text": [
      "ID \t   NAME \t    SAL \t   job\n",
      "20 \t Ravi \t 2000 \t manager\n",
      "30 \t Rakesh \t 4000 \t manager\n",
      "40 \t Ravish \t 2000 \t manager\n"
     ]
    }
   ],
   "source": [
    "class id:\n",
    "    def t1(self,ID):\n",
    "        self.id = ID\n",
    "class name(id):\n",
    "    def t2(self,ID,NAME):\n",
    "        self.name = NAME\n",
    "        id.t1(self,ID)\n",
    "class sal(name):\n",
    "    def t3(self,ID,NAME,SAL):\n",
    "        self.sal = SAL\n",
    "        name.t2(self,ID,NAME)\n",
    "class employee(sal):\n",
    "    def t4(self,ID,NAME,SAL,JOB):\n",
    "        self.job = JOB\n",
    "        sal.t3(self,ID,NAME,SAL)\n",
    "    def display(self):\n",
    "        print(self.id,'\\t',self.name,'\\t',self.sal,'\\t',self.job)\n",
    "a=employee()\n",
    "b=employee()\n",
    "c=employee()\n",
    "a.t4(20,'Ravi',2000,'manager')\n",
    "b.t4(30,'Rakesh',4000,'manager')\n",
    "c.t4(40,'Ravish',2000,'manager')\n",
    "print('ID \\t   NAME \\t    SAL \\t   job')\n",
    "a.display()\n",
    "b.display()\n",
    "c.display()\n",
    "        "
   ]
  },
  {
   "cell_type": "code",
   "execution_count": null,
   "metadata": {},
   "outputs": [],
   "source": [
    "class A:\n",
    "    def A1:\n",
    "        print('I AM IN CLASS A')\n",
    "class B(A):\n",
    "    def B1:\n",
    "        print('I AM IN CLASS B')\n",
    "class C(A):\n",
    "    "
   ]
  },
  {
   "cell_type": "code",
   "execution_count": 7,
   "metadata": {},
   "outputs": [
    {
     "name": "stdout",
     "output_type": "stream",
     "text": [
      "200 \t Ravi\n",
      "300 \t 500\n",
      "200 \t 80\n"
     ]
    }
   ],
   "source": [
    "class id:\n",
    "    def rollno(self,ID):\n",
    "        self.id = ID\n",
    "class name(id):\n",
    "    def N(self,ID,NAME):\n",
    "        self.name = NAME\n",
    "        id.rollno(self,ID)\n",
    "    def display1(self):\n",
    "        print(self.id,'\\t',self.name)\n",
    "class marks(id):\n",
    "    def M(self,ID,MARKS):\n",
    "        self.marks = MARKS\n",
    "        id.rollno(self,ID)\n",
    "    def display2(self):\n",
    "        print(self.id,'\\t',self.marks)\n",
    "class avg(id):\n",
    "    def D(self,ID,AVG):\n",
    "        self.avg = AVG\n",
    "        id.rollno(self,ID)\n",
    "    def display3(self):\n",
    "        print(self.id,'\\t',self.avg)\n",
    "a = name()\n",
    "a.N(200,'Ravi')\n",
    "a.display1()\n",
    "\n",
    "b = marks()\n",
    "b.M(300,500)\n",
    "b.display2()\n",
    "\n",
    "c=avg()\n",
    "c.D(200,80)\n",
    "c.display3()\n",
    "        "
   ]
  },
  {
   "cell_type": "code",
   "execution_count": 12,
   "metadata": {},
   "outputs": [
    {
     "name": "stdout",
     "output_type": "stream",
     "text": [
      "200\n",
      "300 \t 30000\n",
      "500 \t 4\n"
     ]
    }
   ],
   "source": [
    "class test:\n",
    "    def A1(self,jobid):\n",
    "        self.jobid = jobid\n",
    "    def display(self):\n",
    "        print(self.jobid)\n",
    "class test1(test):\n",
    "    def B1(self,jobid,sal):\n",
    "        self.sal = sal\n",
    "        test.A1(self,jobid)\n",
    "    def display1(self):\n",
    "        print(self.jobid,'\\t',self.sal)\n",
    "class test2(test):\n",
    "    def C1(self,jobid,role):\n",
    "        self.role = role\n",
    "        test.A1(self,jobid)\n",
    "    def display2(self):\n",
    "        print(self.jobid,'\\t',self.role)\n",
    "class test3(test):\n",
    "    def D1(self,jobid,grade):\n",
    "        self.grade = grade\n",
    "        test.A1(self,jobid)\n",
    "    def display3(self):\n",
    "        print(self.jobid,'\\t',self.grade)\n",
    "class test4(test):\n",
    "    def E1(self,jobid,exp):\n",
    "        self.exp = exp\n",
    "        test.A1(self,jobid)\n",
    "    def display4(self):\n",
    "        print(self.jobid,'\\t',self.exp)\n",
    "a=test()\n",
    "a.A1(200)\n",
    "a.display()\n",
    "\n",
    "b=test1()\n",
    "b.B1(300,30000)\n",
    "b.display1()\n",
    "\n",
    "c=test4()\n",
    "c.E1(500,4)\n",
    "c.display4()\n",
    "        "
   ]
  },
  {
   "cell_type": "code",
   "execution_count": null,
   "metadata": {},
   "outputs": [],
   "source": []
  }
 ],
 "metadata": {
  "kernelspec": {
   "display_name": "Python 3 (ipykernel)",
   "language": "python",
   "name": "python3"
  },
  "language_info": {
   "codemirror_mode": {
    "name": "ipython",
    "version": 3
   },
   "file_extension": ".py",
   "mimetype": "text/x-python",
   "name": "python",
   "nbconvert_exporter": "python",
   "pygments_lexer": "ipython3",
   "version": "3.11.4"
  }
 },
 "nbformat": 4,
 "nbformat_minor": 2
}
