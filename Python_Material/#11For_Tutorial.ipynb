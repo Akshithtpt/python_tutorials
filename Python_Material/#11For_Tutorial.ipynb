{
 "cells": [
  {
   "cell_type": "code",
   "execution_count": null,
   "id": "77130d60",
   "metadata": {},
   "outputs": [],
   "source": [
    "for variable in  ( list values ) :\n",
    "\t-----------------\n",
    "\t-----------------\n",
    "-------------------\n",
    "-------------------"
   ]
  },
  {
   "cell_type": "code",
   "execution_count": null,
   "id": "52c4371f",
   "metadata": {},
   "outputs": [],
   "source": [
    "2.for variable in ( list of values):\n",
    "\t--------------------\n",
    "\t--------------------\n",
    "  else :\n",
    "\t-------------------\n",
    "\t-------------------\n",
    "----------------------------\n",
    "----------------------------"
   ]
  },
  {
   "cell_type": "code",
   "execution_count": 1,
   "id": "b2e7ea45",
   "metadata": {},
   "outputs": [
    {
     "name": "stdout",
     "output_type": "stream",
     "text": [
      "P\n",
      "y\n",
      "t\n",
      "h\n",
      "o\n",
      "n\n",
      "completed\n"
     ]
    }
   ],
   "source": [
    "for i in \"Python\":\n",
    "    print(i)\n",
    "print('completed')"
   ]
  },
  {
   "cell_type": "code",
   "execution_count": 2,
   "id": "358c2cd0",
   "metadata": {},
   "outputs": [
    {
     "name": "stdout",
     "output_type": "stream",
     "text": [
      "enter value of stringequiv\n",
      "e\n",
      "q\n",
      "u\n",
      "i\n",
      "v\n"
     ]
    }
   ],
   "source": [
    "a = str(input(\"enter value of string\"))\n",
    "for i in a:\n",
    "    print(i)"
   ]
  },
  {
   "cell_type": "code",
   "execution_count": 3,
   "id": "8788b8cb",
   "metadata": {},
   "outputs": [
    {
     "name": "stdout",
     "output_type": "stream",
     "text": [
      "1\n",
      "2\n",
      "3\n",
      "4\n",
      "5\n",
      "test\n"
     ]
    }
   ],
   "source": [
    "for i in [1,2,3,4,5]:\n",
    "    print(i)\n",
    "print('test')"
   ]
  },
  {
   "cell_type": "code",
   "execution_count": 4,
   "id": "d7b41d3b",
   "metadata": {},
   "outputs": [
    {
     "name": "stdout",
     "output_type": "stream",
     "text": [
      "1\n",
      "2\n",
      "3\n",
      "4\n",
      "5\n",
      "6\n",
      "7\n",
      "8\n",
      "9\n"
     ]
    }
   ],
   "source": [
    "for i in range (1,10):\n",
    "    print(i)"
   ]
  },
  {
   "cell_type": "code",
   "execution_count": 5,
   "id": "2151a612",
   "metadata": {},
   "outputs": [
    {
     "name": "stdout",
     "output_type": "stream",
     "text": [
      "apple\n",
      "banana\n"
     ]
    }
   ],
   "source": [
    "fruits = [\"apple\", \"banana\", \"cherry\"]\n",
    "for x in fruits:\n",
    "  print(x) \n",
    "  if x == \"banana\":\n",
    "    break"
   ]
  },
  {
   "cell_type": "code",
   "execution_count": 6,
   "id": "7c201261",
   "metadata": {},
   "outputs": [
    {
     "name": "stdout",
     "output_type": "stream",
     "text": [
      "apple\n"
     ]
    }
   ],
   "source": [
    "fruits = [\"apple\", \"banana\", \"cherry\"]\n",
    "for x in fruits:\n",
    "  if x == \"banana\":\n",
    "    break\n",
    "  print(x)"
   ]
  },
  {
   "cell_type": "code",
   "execution_count": 7,
   "id": "405880b8",
   "metadata": {},
   "outputs": [
    {
     "name": "stdout",
     "output_type": "stream",
     "text": [
      "2\n",
      "5\n",
      "8\n",
      "11\n",
      "14\n",
      "17\n",
      "20\n",
      "23\n",
      "26\n",
      "29\n"
     ]
    }
   ],
   "source": [
    "for x in range(2, 30, 3):   #2 to 29 , increase 3 every time\n",
    "    print(x)"
   ]
  },
  {
   "cell_type": "code",
   "execution_count": null,
   "id": "99bb973d",
   "metadata": {},
   "outputs": [],
   "source": [
    "#enumerate concept\n",
    "\n",
    "Enumerate() method adds a counter to an iterable and returns it in a form of enumerate object. \n",
    "This enumerate object can then be used directly in for loops or be converted into a list of tuples \n",
    "using list() method\n",
    "\n",
    "enumerate(iterable, start=0)"
   ]
  },
  {
   "cell_type": "code",
   "execution_count": 8,
   "id": "ec6aa237",
   "metadata": {},
   "outputs": [
    {
     "name": "stdout",
     "output_type": "stream",
     "text": [
      "Return type: <class 'enumerate'>\n",
      "[(0, 'python'), (1, 'java'), (2, 'c'), (3, 'c++'), (4, 'perl')]\n",
      "[(100, 'python'), (101, 'java'), (102, 'c'), (103, 'c++'), (104, 'perl')]\n"
     ]
    }
   ],
   "source": [
    "# Python program to illustrate \n",
    "# enumerate function \n",
    "\n",
    "s1 = [\"python\",\"java\",\"c\",\"c++\",\"perl\"] \n",
    "s2 = \"DATASCIENCE\"\n",
    "\n",
    "# creating enumerate objects \n",
    "s3 = enumerate(s1) \n",
    "s4 = enumerate(s2)\n",
    "\n",
    "print(\"Return type:\",type(s3))\n",
    "print(list(enumerate(s1)))\n",
    "\n",
    "# changing start index to 2 from 0 \n",
    "print(list(enumerate(s1,100)))"
   ]
  },
  {
   "cell_type": "code",
   "execution_count": 9,
   "id": "b1cc020b",
   "metadata": {},
   "outputs": [
    {
     "name": "stdout",
     "output_type": "stream",
     "text": [
      "index is: 0 value is: apples\n",
      "index is 0 and value is apples\n",
      "index is: 1 value is: bananas\n",
      "index is 1 and value is bananas\n",
      "index is: 2 value is: oranges\n",
      "index is 2 and value is oranges\n"
     ]
    }
   ],
   "source": [
    "L = ['apples', 'bananas', 'oranges']\n",
    "#M = [1,2,3,4,5]\n",
    "#for val in L:\n",
    "for idx, val in enumerate(L):\n",
    "    print('index is:',idx,'value is:',val)\n",
    "    print(\"index is %d and value is %s\" % (idx,val))"
   ]
  },
  {
   "cell_type": "code",
   "execution_count": 10,
   "id": "dafd94af",
   "metadata": {},
   "outputs": [
    {
     "name": "stdout",
     "output_type": "stream",
     "text": [
      "index is 0 and value is apples\n",
      "index is 1 and value is bananas\n",
      "index is 2 and value is oranges\n"
     ]
    }
   ],
   "source": [
    "t = ('apples', 'bananas', 'oranges')\n",
    "for idx, val in enumerate(t):\n",
    "  print(\"index is %d and value is %s\" % (idx, val))"
   ]
  },
  {
   "cell_type": "code",
   "execution_count": 11,
   "id": "61d01fb7",
   "metadata": {},
   "outputs": [
    {
     "name": "stdout",
     "output_type": "stream",
     "text": [
      "index is 0, name is Matt, and age is 20\n",
      "index is 1, name is Karim, and age is 30\n",
      "index is 2, name is Maya, and age is 40\n"
     ]
    }
   ],
   "source": [
    "L = [('Matt', 20), ('Karim', 30), ('Maya', 40)] # ('Matt',20) - val -- val[0] = Matt\n",
    "for idx, val in enumerate(L):\n",
    "  name = val[0]\n",
    "  age = val[1]\n",
    "  print(\"index is %d, name is %s, and age is %d\"          % (idx, name, age))"
   ]
  },
  {
   "cell_type": "code",
   "execution_count": 12,
   "id": "3627faea",
   "metadata": {},
   "outputs": [
    {
     "name": "stdout",
     "output_type": "stream",
     "text": [
      "index is 5, name is Matt, and age is 20\n",
      "index is 6, name is Karim, and age is 30\n",
      "index is 7, name is Maya, and age is 40\n"
     ]
    }
   ],
   "source": [
    "for idx, (name,age) in enumerate(L,5):\n",
    "  print(\"index is %d, name is %s, and age is %d\"         % (idx, name, age))"
   ]
  },
  {
   "cell_type": "code",
   "execution_count": 13,
   "id": "9e351fbc",
   "metadata": {},
   "outputs": [
    {
     "name": "stdout",
     "output_type": "stream",
     "text": [
      "index is 0 and character is P\n",
      "index is 1 and character is y\n",
      "index is 2 and character is t\n",
      "index is 3 and character is h\n",
      "index is 4 and character is o\n",
      "index is 5 and character is n\n"
     ]
    }
   ],
   "source": [
    "str = \"Python\"\n",
    "for idx, ch in enumerate(str):\n",
    "  print(\"index is %d and character is %s\"          % (idx, ch))"
   ]
  },
  {
   "cell_type": "code",
   "execution_count": 14,
   "id": "631be400",
   "metadata": {},
   "outputs": [
    {
     "data": {
      "text/plain": [
       "[(0, 'a'), (1, 'b'), (2, 'c')]"
      ]
     },
     "execution_count": 14,
     "metadata": {},
     "output_type": "execute_result"
    }
   ],
   "source": [
    "list(enumerate(['a', 'b', 'c']))"
   ]
  },
  {
   "cell_type": "code",
   "execution_count": 15,
   "id": "c923b064",
   "metadata": {},
   "outputs": [
    {
     "name": "stdout",
     "output_type": "stream",
     "text": [
      "0 a\n",
      "1 b\n"
     ]
    }
   ],
   "source": [
    "for idx, val in enumerate(['a', 'b']):\n",
    "    print(idx, val)"
   ]
  },
  {
   "cell_type": "code",
   "execution_count": 16,
   "id": "6c144b7b",
   "metadata": {},
   "outputs": [
    {
     "name": "stdout",
     "output_type": "stream",
     "text": [
      "value of i is 10,value of y is 20.000000,value of z is rohit\n"
     ]
    }
   ],
   "source": [
    "i = 10\n",
    "y = 20.00\n",
    "z = 'rohit'\n",
    "x = True\n",
    "print(\"value of i is %d,value of y is %f,value of z is %s\" %(i,y,z))"
   ]
  },
  {
   "cell_type": "code",
   "execution_count": 17,
   "id": "d56ebc72",
   "metadata": {},
   "outputs": [
    {
     "name": "stdout",
     "output_type": "stream",
     "text": [
      "value of idx is 0,value of c is 1,value of d is 2\n",
      "value of idx is 1,value of c is 1,value of d is 3\n",
      "value of idx is 2,value of c is 3,value of d is 5\n"
     ]
    }
   ],
   "source": [
    "l = [(1,2,3),(1,3,4),(3,5,7)]\n",
    "for idx,val in enumerate(l):\n",
    "    c = val[0]\n",
    "    d = val[1]\n",
    "    e = val[2]\n",
    "    print('value of idx is %d,value of c is %d,value of d is %d'%(idx,c,d))\n"
   ]
  },
  {
   "cell_type": "code",
   "execution_count": null,
   "id": "61331023",
   "metadata": {},
   "outputs": [],
   "source": []
  }
 ],
 "metadata": {
  "kernelspec": {
   "display_name": "Python 3 (ipykernel)",
   "language": "python",
   "name": "python3"
  },
  "language_info": {
   "codemirror_mode": {
    "name": "ipython",
    "version": 3
   },
   "file_extension": ".py",
   "mimetype": "text/x-python",
   "name": "python",
   "nbconvert_exporter": "python",
   "pygments_lexer": "ipython3",
   "version": "3.11.4"
  }
 },
 "nbformat": 4,
 "nbformat_minor": 5
}
