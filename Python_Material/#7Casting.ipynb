{
 "cells": [
  {
   "cell_type": "code",
   "execution_count": null,
   "id": "85796469",
   "metadata": {},
   "outputs": [],
   "source": [
    "CASTING:\n",
    "\n",
    "There may be times when you want to specify a type on to a variable. This can be done with casting. Python is an object-orientated language, and as such it uses classes to define data types, including its primitive types.\n",
    "\n",
    "Casting in python is therefore done using constructor functions:\n",
    "\n",
    "int() - constructs an integer number from an integer literal, a float literal (by rounding down to the previous whole number), or a string literal (providing the string represents a whole number)\n",
    "\n",
    "float() - constructs a float number from an integer literal, a float literal or a string literal (providing the string represents a float or an integer)\n",
    "\n",
    "str() - constructs a string from a wide variety of data types, including strings, integer literals and float literals"
   ]
  },
  {
   "cell_type": "code",
   "execution_count": 1,
   "id": "ba5caaa5",
   "metadata": {},
   "outputs": [],
   "source": [
    "#Example\n",
    "\n",
    "#Integers:\n",
    "\n",
    "x = int(5)   # x will be 5\n",
    "y = int(6.8) # y will be 6\n",
    "z = int(\"6\") # z will be 6"
   ]
  },
  {
   "cell_type": "code",
   "execution_count": 2,
   "id": "1875d8db",
   "metadata": {},
   "outputs": [],
   "source": [
    "#Example\n",
    "\n",
    "#Floats:\n",
    "\n",
    "x = float(7)     # x will be 7.0\n",
    "y = float(7.8)   # y will be 7.8\n",
    "z = float(\"9\")   # z will be 9.0\n",
    "w = float(\"5.2\") # w will be 5.2"
   ]
  },
  {
   "cell_type": "code",
   "execution_count": 3,
   "id": "1ff499cb",
   "metadata": {},
   "outputs": [],
   "source": [
    "#Example\n",
    "\n",
    "#Strings:\n",
    "\n",
    "x = str(\"equivalue\") # x will be 'equivalue'\n",
    "y = str(5)    # y will be '5'\n",
    "z = str(6.0)  # z will be '6.0'"
   ]
  },
  {
   "cell_type": "code",
   "execution_count": null,
   "id": "58f872cc",
   "metadata": {},
   "outputs": [],
   "source": []
  }
 ],
 "metadata": {
  "kernelspec": {
   "display_name": "Python 3 (ipykernel)",
   "language": "python",
   "name": "python3"
  },
  "language_info": {
   "codemirror_mode": {
    "name": "ipython",
    "version": 3
   },
   "file_extension": ".py",
   "mimetype": "text/x-python",
   "name": "python",
   "nbconvert_exporter": "python",
   "pygments_lexer": "ipython3",
   "version": "3.11.4"
  }
 },
 "nbformat": 4,
 "nbformat_minor": 5
}
