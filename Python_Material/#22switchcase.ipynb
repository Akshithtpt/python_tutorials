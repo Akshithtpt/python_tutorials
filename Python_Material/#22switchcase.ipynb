{
 "cells": [
  {
   "cell_type": "code",
   "execution_count": 1,
   "id": "c23befc5",
   "metadata": {},
   "outputs": [
    {
     "name": "stdout",
     "output_type": "stream",
     "text": [
      "nothing\n"
     ]
    }
   ],
   "source": [
    "# Function to convert number into string \n",
    "# Switcher is dictionary data type here \n",
    "def numbers_to_strings(argument): \n",
    "    switcher = { \n",
    "        0: \"zero\", \n",
    "        1: \"one\", \n",
    "        2: \"two\", \n",
    "    } \n",
    "  \n",
    "    # get() method of dictionary data type returns  \n",
    "    # value of passed argument if it is present  \n",
    "    # in dictionary otherwise second argument will \n",
    "    # be assigned as default value of passed argument \n",
    "    return switcher.get(argument, \"nothing\") \n",
    "  \n",
    "# Driver program \n",
    "argument=5\n",
    "print (numbers_to_strings(argument)) \n"
   ]
  },
  {
   "cell_type": "code",
   "execution_count": 2,
   "id": "a18417c8",
   "metadata": {},
   "outputs": [
    {
     "data": {
      "text/plain": [
       "'Invalid day of week'"
      ]
     },
     "execution_count": 2,
     "metadata": {},
     "output_type": "execute_result"
    }
   ],
   "source": [
    "def week(i):\n",
    "        switcher={\n",
    "                0:'Sunday',\n",
    "                1:'Monday',\n",
    "                2:'Tuesday',\n",
    "                3:'Wednesday',\n",
    "                4:'Thursday',\n",
    "                5:'Friday',\n",
    "                6:'Saturday'\n",
    "             }\n",
    "        return switcher.get(i,\"Invalid day of week\")\n",
    "week(7)"
   ]
  },
  {
   "cell_type": "code",
   "execution_count": 3,
   "id": "9a07eae2",
   "metadata": {},
   "outputs": [
    {
     "data": {
      "text/plain": [
       "'orange'"
      ]
     },
     "execution_count": 3,
     "metadata": {},
     "output_type": "execute_result"
    }
   ],
   "source": [
    "def furits(x):\n",
    "    switcher={\n",
    "        1: 'apple',\n",
    "        2: 'banana',\n",
    "        3: 'orange'\n",
    "    }\n",
    "    return switcher.get(x,'fruit not in list')\n",
    "furits(3)"
   ]
  },
  {
   "cell_type": "code",
   "execution_count": 4,
   "id": "7e5643dd",
   "metadata": {},
   "outputs": [
    {
     "data": {
      "text/plain": [
       "'apple'"
      ]
     },
     "execution_count": 4,
     "metadata": {},
     "output_type": "execute_result"
    }
   ],
   "source": [
    "def test(x):\n",
    "    switcher = {\n",
    "        'a':'apple',\n",
    "        'b': 'bat',\n",
    "        'c':'cat'\n",
    "    }\n",
    "    return switcher.get(x,'na')\n",
    "test('a')"
   ]
  },
  {
   "cell_type": "code",
   "execution_count": 5,
   "id": "757cec80",
   "metadata": {},
   "outputs": [
    {
     "data": {
      "text/plain": [
       "'one'"
      ]
     },
     "execution_count": 5,
     "metadata": {},
     "output_type": "execute_result"
    }
   ],
   "source": [
    "def zero():\n",
    "        return 'zero'\n",
    "def one():\n",
    "        return 'one'\n",
    "def indirect(i):\n",
    "        switcher={\n",
    "                0:zero,\n",
    "                1:one,\n",
    "                2:lambda:'two'\n",
    "                }\n",
    "        func=switcher.get(i,lambda :'Invalid')\n",
    "        return func()\n",
    "indirect(1)"
   ]
  },
  {
   "cell_type": "code",
   "execution_count": null,
   "id": "9d458f25",
   "metadata": {},
   "outputs": [],
   "source": []
  }
 ],
 "metadata": {
  "kernelspec": {
   "display_name": "Python 3 (ipykernel)",
   "language": "python",
   "name": "python3"
  },
  "language_info": {
   "codemirror_mode": {
    "name": "ipython",
    "version": 3
   },
   "file_extension": ".py",
   "mimetype": "text/x-python",
   "name": "python",
   "nbconvert_exporter": "python",
   "pygments_lexer": "ipython3",
   "version": "3.11.4"
  }
 },
 "nbformat": 4,
 "nbformat_minor": 5
}
