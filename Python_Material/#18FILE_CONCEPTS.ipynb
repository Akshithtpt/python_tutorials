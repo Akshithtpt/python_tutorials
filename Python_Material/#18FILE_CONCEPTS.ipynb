{
 "cells": [
  {
   "cell_type": "code",
   "execution_count": null,
   "id": "49cc0b09",
   "metadata": {},
   "outputs": [],
   "source": [
    "#File handling is an important part of any web application.\n",
    "\n",
    "#Python has several functions for creating, reading, updating, and deleting files."
   ]
  },
  {
   "cell_type": "code",
   "execution_count": null,
   "id": "59a11486",
   "metadata": {},
   "outputs": [],
   "source": [
    "#File Handling\n",
    "\n",
    "#First, we need to open file for any operation on file.\n",
    "\n",
    "#The open() function takes two parameters; filename, and mode.\n",
    "\n",
    "#There are four different methods (modes) for opening a file:\n",
    "\n",
    "#\"r\" - Read - Default value. Opens a file for reading, error if the file does not exist\n",
    "\n",
    "#\"a\" - Append - Opens a file for appending, creates the file if it does not exist\n",
    "\n",
    "#\"w\" - Write - Opens a file for writing, creates the file if it does not exist\n",
    "\n",
    "#\"x\" - Create - Creates the specified file, returns an error if the file exists"
   ]
  },
  {
   "cell_type": "code",
   "execution_count": null,
   "id": "506c12de",
   "metadata": {},
   "outputs": [],
   "source": [
    "#we can use 2 different format for files. i.e.; text or binary\n",
    "\n",
    "#\"t\" - Text - Default value. Text mode\n",
    "\n",
    "#\"b\" - Binary - Binary mode (e.g. images)"
   ]
  },
  {
   "cell_type": "code",
   "execution_count": 1,
   "id": "2ca32e82",
   "metadata": {},
   "outputs": [],
   "source": [
    "#creating a new file\n",
    "\n",
    "f1 = open('test1.txt','xt')  #file created"
   ]
  },
  {
   "cell_type": "code",
   "execution_count": 4,
   "id": "fe624404",
   "metadata": {},
   "outputs": [
    {
     "name": "stdout",
     "output_type": "stream",
     "text": [
      "This is to test file creation and use for testing\n"
     ]
    }
   ],
   "source": [
    "#reading a file\n",
    "f1 = open('test1.txt')\n",
    "print(f1.read())"
   ]
  },
  {
   "cell_type": "code",
   "execution_count": 5,
   "id": "ffea664c",
   "metadata": {},
   "outputs": [
    {
     "name": "stdout",
     "output_type": "stream",
     "text": [
      "Comments are used to explain code when the basic code itself isn't clear.\n",
      "\n",
      "Python ignores comments, and so will not execute code in there, or raise syntax errors for plain English sentences.\n",
      "\n",
      "Types of comments:\n",
      "\n",
      "1.Single line comment\n",
      "2.Inline comment\n",
      "3.Multiple Line Comment\n",
      "\n",
      "1.Single Line comment:\n",
      "\n",
      "Single-line comments begin with the hash character (#) and are terminated by the end of line.\n",
      "\n",
      "# This is a single line comment in Python\n",
      "\n",
      "2.Inline comment:\n",
      "\n",
      "print(\"Hello World\")  # This line prints \"Hello World\"\n",
      "\n",
      "3.Multiple Line comment:\n",
      "\n",
      "Comments spanning multiple lines have \"\"\" or ''' on either end. This is the same as a multiline string, but they can be used as comments:\n",
      "\n",
      "\"\"\"\n",
      "This type of comment spans multiple lines.\n",
      "These are mostly used for documentation of functions, classes and modules.\n",
      "\"\"\"\n"
     ]
    }
   ],
   "source": [
    "#if the file is present is different location we can use location as well\n",
    "\n",
    "f2 = open(\"/Users/akshithkumardhuvvuru/Documents/python_material/comments.txt\", \"r\")\n",
    "print(f2.read())"
   ]
  },
  {
   "cell_type": "code",
   "execution_count": 7,
   "id": "d67a5d6f",
   "metadata": {},
   "outputs": [
    {
     "name": "stdout",
     "output_type": "stream",
     "text": [
      "Comments a\n"
     ]
    }
   ],
   "source": [
    "#we can specify characters of a file to be read as below - \n",
    "\n",
    "f2 = open(\"/Users/akshithkumardhuvvuru/Documents/python_material/comments.txt\", \"r\")\n",
    "print(f2.read(10))"
   ]
  },
  {
   "cell_type": "code",
   "execution_count": 15,
   "id": "8dc247d1",
   "metadata": {},
   "outputs": [
    {
     "name": "stdout",
     "output_type": "stream",
     "text": [
      "Comments are used to explain code when the basic code itself isn't clear.\n",
      "\n"
     ]
    }
   ],
   "source": [
    "#readline() is the method to read lines in a file\n",
    "\n",
    "f2 = open(\"/Users/akshithkumardhuvvuru/Documents/python_material/comments.txt\", \"r\")\n",
    "print(f2.readline())\n",
    "#print(f2.readlines())"
   ]
  },
  {
   "cell_type": "code",
   "execution_count": 16,
   "id": "20629da1",
   "metadata": {},
   "outputs": [
    {
     "name": "stdout",
     "output_type": "stream",
     "text": [
      "Comments are used to explain code when the basic code itself isn't clear.\n",
      "\n",
      "\n",
      "\n",
      "Python ignores comments, and so will not execute code in there, or raise syntax errors for plain English sentences.\n",
      "\n",
      "\n",
      "\n",
      "Types of comments:\n",
      "\n",
      "\n",
      "\n",
      "1.Single line comment\n",
      "\n",
      "2.Inline comment\n",
      "\n",
      "3.Multiple Line Comment\n",
      "\n",
      "\n",
      "\n",
      "1.Single Line comment:\n",
      "\n",
      "\n",
      "\n",
      "Single-line comments begin with the hash character (#) and are terminated by the end of line.\n",
      "\n",
      "\n",
      "\n",
      "# This is a single line comment in Python\n",
      "\n",
      "\n",
      "\n",
      "2.Inline comment:\n",
      "\n",
      "\n",
      "\n",
      "print(\"Hello World\")  # This line prints \"Hello World\"\n",
      "\n",
      "\n",
      "\n",
      "3.Multiple Line comment:\n",
      "\n",
      "\n",
      "\n",
      "Comments spanning multiple lines have \"\"\" or ''' on either end. This is the same as a multiline string, but they can be used as comments:\n",
      "\n",
      "\n",
      "\n",
      "\"\"\"\n",
      "\n",
      "This type of comment spans multiple lines.\n",
      "\n",
      "These are mostly used for documentation of functions, classes and modules.\n",
      "\n",
      "\"\"\"\n"
     ]
    }
   ],
   "source": [
    "f2 = open(\"/Users/akshithkumardhuvvuru/Documents/python_material/comments.txt\", \"r\")\n",
    "for x in f2:\n",
    "    print(x)\n",
    "#print(f2.readline())\n",
    "#print(f2.readlines())"
   ]
  },
  {
   "cell_type": "code",
   "execution_count": 17,
   "id": "856f00ce",
   "metadata": {},
   "outputs": [
    {
     "name": "stdout",
     "output_type": "stream",
     "text": [
      "Comments are used to explain code when the basic code itself isn't clear.\n",
      "\n"
     ]
    }
   ],
   "source": [
    "#always when we open a file we need to close it\n",
    "\n",
    "f2 = open(\"/Users/akshithkumardhuvvuru/Documents/python_material/comments.txt\", \"r\")\n",
    "print(f2.readline())\n",
    "f2.close()\n",
    "#print(f2.readlines())"
   ]
  },
  {
   "cell_type": "code",
   "execution_count": 21,
   "id": "ff0c85e2",
   "metadata": {},
   "outputs": [
    {
     "name": "stdout",
     "output_type": "stream",
     "text": [
      "This is to test file creation and use for testingtesting the write logic with append method\n",
      "testing the write logic with append method\n",
      "This is to test file creation and use for testingtesting the write logic with append method\n",
      "testing the write logic with append method\n",
      " new line testing the write logic with append method\n"
     ]
    }
   ],
   "source": [
    "#write to a exsisiting file\n",
    "\n",
    "#we have 2 parameters\n",
    "\n",
    "#'a' --> this is used to append data to end of the file\n",
    "#'w'--> this is to overwride entire data of a file\n",
    "\n",
    "f3 = open('test1.txt','rt')\n",
    "print(f3.read()) #read file before append data\n",
    "f3.close()\n",
    "f3 = open('test1.txt','a') #open file in appened mode\n",
    "f3.write('new line testing the write logic with append method')\n",
    "#f3.write('\\n new line testing the write logic with append method')\n",
    "f3.close()\n",
    "f3 = open('test1.txt','rt')\n",
    "print(f3.read())\n",
    "f3.close()"
   ]
  },
  {
   "cell_type": "code",
   "execution_count": 22,
   "id": "e43a3055",
   "metadata": {},
   "outputs": [
    {
     "name": "stdout",
     "output_type": "stream",
     "text": [
      "This is to test file creation and use for testingtesting the write logic with append method\n",
      "testing the write logic with append method\n",
      " new line testing the write logic with append method\n",
      "new line testing the write logic with write method\n"
     ]
    }
   ],
   "source": [
    "f3 = open('test1.txt','rt')\n",
    "print(f3.read()) #read file before override data\n",
    "f3.close()\n",
    "f3 = open('test1.txt','w') #open file in override mode\n",
    "f3.write('new line testing the write logic with write method')\n",
    "#f3.write('\\n new line testing the write logic with append method')\n",
    "f3.close()\n",
    "f3 = open('test1.txt','rt')\n",
    "print(f3.read())\n",
    "f3.close()"
   ]
  },
  {
   "cell_type": "code",
   "execution_count": 23,
   "id": "715e20d6",
   "metadata": {},
   "outputs": [],
   "source": [
    "#deleting a file, this can be done by importing os method\n",
    "\n",
    "import os\n",
    "os.remove('test1.txt')"
   ]
  },
  {
   "cell_type": "code",
   "execution_count": 24,
   "id": "6a784290",
   "metadata": {},
   "outputs": [
    {
     "name": "stdout",
     "output_type": "stream",
     "text": [
      "The file does not exist\n"
     ]
    }
   ],
   "source": [
    "import os\n",
    "if os.path.exists(\"test1.txt\"):\n",
    "    os.remove(\"test1.txt\")\n",
    "else:\n",
    "    print(\"The file does not exist\")"
   ]
  },
  {
   "cell_type": "code",
   "execution_count": null,
   "id": "771c44a3",
   "metadata": {},
   "outputs": [],
   "source": [
    "#we can delete entire folder as well using os.rmdir\n",
    "\n",
    "import os\n",
    "os.rmdir(\"folder_name\")"
   ]
  }
 ],
 "metadata": {
  "kernelspec": {
   "display_name": "Python 3 (ipykernel)",
   "language": "python",
   "name": "python3"
  },
  "language_info": {
   "codemirror_mode": {
    "name": "ipython",
    "version": 3
   },
   "file_extension": ".py",
   "mimetype": "text/x-python",
   "name": "python",
   "nbconvert_exporter": "python",
   "pygments_lexer": "ipython3",
   "version": "3.11.4"
  }
 },
 "nbformat": 4,
 "nbformat_minor": 5
}
