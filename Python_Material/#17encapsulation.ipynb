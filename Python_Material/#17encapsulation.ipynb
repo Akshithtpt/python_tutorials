{
 "cells": [
  {
   "cell_type": "code",
   "execution_count": null,
   "id": "a8bc1bf0",
   "metadata": {},
   "outputs": [],
   "source": [
    "'''Consider a real-life example of encapsulation, in a company, there are different sections like the \n",
    "accounts section, finance section, sales section etc. The finance section handles all the financial transactions \n",
    "and keeps records of all the data related to finance. Similarly, the sales section handles all the sales-related \n",
    "activities and keeps records of all the sales. Now there may arise a situation when due to some reason an official \n",
    "from the finance section needs all the data about sales in a particular month. In this case, he is not allowed to \n",
    "directly access the data of the sales section. He will first have to contact some other officer in the sales \n",
    "section and then request him to give the particular data. This is what encapsulation is. Here the data of the \n",
    "sales section and the employees that can manipulate them are wrapped under a single name “sales section”. \n",
    "Using encapsulation also hides the data. In this example, the data of the sections like sales, finance, or \n",
    "accounts are hidden from any other section.'''"
   ]
  },
  {
   "cell_type": "code",
   "execution_count": null,
   "id": "70d9081c",
   "metadata": {},
   "outputs": [],
   "source": [
    "#The __init__ method is a constructor and runs as soon as an object of a class is instantiated"
   ]
  },
  {
   "cell_type": "code",
   "execution_count": 1,
   "id": "d5fdd0d6",
   "metadata": {},
   "outputs": [
    {
     "name": "stdout",
     "output_type": "stream",
     "text": [
      "Calling protected member of base class:  2\n",
      "Calling modified protected member outside class:  3\n",
      "Accessing protected member of obj1:  3\n",
      "Accessing protected member of obj2:  2\n"
     ]
    }
   ],
   "source": [
    "# Python program to \n",
    "# demonstrate protected members \n",
    "\n",
    "# Creating a base class \n",
    "class Base: \n",
    "\tdef __init__(self): \n",
    "\n",
    "\t\t# Protected member \n",
    "\t\tself._a = 2\n",
    "\n",
    "# Creating a derived class \n",
    "class Derived(Base): \n",
    "\tdef __init__(self): \n",
    "\n",
    "\t\t# Calling constructor of \n",
    "\t\t# Base class \n",
    "\t\tBase.__init__(self) \n",
    "\t\tprint(\"Calling protected member of base class: \", \n",
    "\t\t\tself._a) \n",
    "\n",
    "\t\t# Modify the protected variable: \n",
    "\t\tself._a = 3\n",
    "\t\tprint(\"Calling modified protected member outside class: \", \n",
    "\t\t\tself._a) \n",
    "\n",
    "\n",
    "obj1 = Derived() \n",
    "\n",
    "obj2 = Base() \n",
    "\n",
    "# Calling protected member \n",
    "# Can be accessed but should not be done due to convention \n",
    "print(\"Accessing protected member of obj1: \", obj1._a) \n",
    "\n",
    "# Accessing the protected variable outside \n",
    "print(\"Accessing protected member of obj2: \", obj2._a) \n"
   ]
  },
  {
   "cell_type": "code",
   "execution_count": 2,
   "id": "e294fcf2",
   "metadata": {},
   "outputs": [
    {
     "name": "stdout",
     "output_type": "stream",
     "text": [
      "equivalue\n"
     ]
    }
   ],
   "source": [
    "# Python program to \n",
    "# demonstrate private members \n",
    "\n",
    "# Creating a Base class \n",
    "\n",
    "\n",
    "class Base: \n",
    "\tdef __init__(self): \n",
    "\t\tself.a = \"equivalue\"\n",
    "\t\tself.__c = \"equivalue\"\n",
    "\n",
    "# Creating a derived class \n",
    "class Derived(Base): \n",
    "\tdef __init__(self): \n",
    "\n",
    "\t\t# Calling constructor of \n",
    "\t\t# Base class \n",
    "\t\tBase.__init__(self) \n",
    "\t\tprint(\"Calling private member of base class: \") \n",
    "\t\tprint(self.__c) \n",
    "\n",
    "\n",
    "# Driver code \n",
    "obj1 = Base() \n",
    "print(obj1.a) \n",
    "\n",
    "# Uncommenting print(obj1.c) will \n",
    "# raise an AttributeError \n",
    "\n",
    "# Uncommenting obj2 = Derived() will \n",
    "# also raise an AttributeError as \n",
    "# private member of base class \n",
    "# is called inside derived class \n"
   ]
  },
  {
   "cell_type": "code",
   "execution_count": null,
   "id": "d0dddf1c",
   "metadata": {},
   "outputs": [],
   "source": []
  }
 ],
 "metadata": {
  "kernelspec": {
   "display_name": "Python 3 (ipykernel)",
   "language": "python",
   "name": "python3"
  },
  "language_info": {
   "codemirror_mode": {
    "name": "ipython",
    "version": 3
   },
   "file_extension": ".py",
   "mimetype": "text/x-python",
   "name": "python",
   "nbconvert_exporter": "python",
   "pygments_lexer": "ipython3",
   "version": "3.11.4"
  }
 },
 "nbformat": 4,
 "nbformat_minor": 5
}
