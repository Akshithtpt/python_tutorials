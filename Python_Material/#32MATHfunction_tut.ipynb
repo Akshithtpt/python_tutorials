{
 "cells": [
  {
   "cell_type": "code",
   "execution_count": 1,
   "id": "c274d489",
   "metadata": {},
   "outputs": [
    {
     "name": "stdout",
     "output_type": "stream",
     "text": [
      "1\n"
     ]
    }
   ],
   "source": [
    "import math\n",
    "\n",
    "x = min(7,5,1,10)\n",
    "print(x)"
   ]
  },
  {
   "cell_type": "code",
   "execution_count": 2,
   "id": "5459cfec",
   "metadata": {},
   "outputs": [
    {
     "name": "stdout",
     "output_type": "stream",
     "text": [
      "10\n"
     ]
    }
   ],
   "source": [
    "x = max(7,5,1,10)\n",
    "print(x)"
   ]
  },
  {
   "cell_type": "code",
   "execution_count": 3,
   "id": "a02924c7",
   "metadata": {},
   "outputs": [
    {
     "name": "stdout",
     "output_type": "stream",
     "text": [
      "10\n"
     ]
    }
   ],
   "source": [
    "x = abs(-10)\n",
    "print(x)"
   ]
  },
  {
   "cell_type": "code",
   "execution_count": 4,
   "id": "52cf72af",
   "metadata": {},
   "outputs": [
    {
     "name": "stdout",
     "output_type": "stream",
     "text": [
      "8\n"
     ]
    }
   ],
   "source": [
    "x = pow(2,3)\n",
    "print(x)"
   ]
  },
  {
   "cell_type": "code",
   "execution_count": 6,
   "id": "4a05687d",
   "metadata": {},
   "outputs": [
    {
     "name": "stdout",
     "output_type": "stream",
     "text": [
      "3.872983346207417\n"
     ]
    }
   ],
   "source": [
    "x = math.sqrt(15)\n",
    "print(x)"
   ]
  },
  {
   "cell_type": "code",
   "execution_count": 7,
   "id": "250ee225",
   "metadata": {},
   "outputs": [
    {
     "name": "stdout",
     "output_type": "stream",
     "text": [
      "8\n",
      "7\n"
     ]
    }
   ],
   "source": [
    "x = math.ceil(7.4)\n",
    "y = math.floor(7.4)\n",
    "print(x)\n",
    "print(y)"
   ]
  },
  {
   "cell_type": "code",
   "execution_count": 8,
   "id": "0f4919ae",
   "metadata": {},
   "outputs": [
    {
     "name": "stdout",
     "output_type": "stream",
     "text": [
      "3.141592653589793\n"
     ]
    }
   ],
   "source": [
    "x = math.pi\n",
    "print(x)"
   ]
  },
  {
   "cell_type": "code",
   "execution_count": null,
   "id": "e8dbc6b8",
   "metadata": {},
   "outputs": [],
   "source": [
    "Method\tDescription\n",
    "math.acos()\tReturns the arc cosine of a number\n",
    "math.acosh()\tReturns the inverse hyperbolic cosine of a number\n",
    "math.asin()\tReturns the arc sine of a number\n",
    "math.asinh()\tReturns the inverse hyperbolic sine of a number\n",
    "math.atan()\tReturns the arc tangent of a number in radians\n",
    "math.atan2()\tReturns the arc tangent of y/x in radians\n",
    "math.atanh()\tReturns the inverse hyperbolic tangent of a number\n",
    "math.ceil()\tRounds a number up to the nearest integer\n",
    "math.comb()\tReturns the number of ways to choose k items from n items without repetition and order\n",
    "math.copysign()\tReturns a float consisting of the value of the first parameter and the sign of the second parameter\n",
    "math.cos()\tReturns the cosine of a number\n",
    "math.cosh()\tReturns the hyperbolic cosine of a number\n",
    "math.degrees()\tConverts an angle from radians to degrees\n",
    "math.dist()\tReturns the Euclidean distance between two points (p and q), where p and q are the coordinates of that point\n",
    "math.erf()\tReturns the error function of a number\n",
    "math.erfc()\tReturns the complementary error function of a number\n",
    "math.exp()\tReturns E raised to the power of x\n",
    "math.expm1()\tReturns Ex - 1\n",
    "math.fabs()\tReturns the absolute value of a number\n",
    "math.factorial()\tReturns the factorial of a number\n",
    "math.floor()\tRounds a number down to the nearest integer\n",
    "math.fmod()\tReturns the remainder of x/y\n",
    "math.frexp()\tReturns the mantissa and the exponent, of a specified number\n",
    "math.fsum()\tReturns the sum of all items in any iterable (tuples, arrays, lists, etc.)\n",
    "math.gamma()\tReturns the gamma function at x\n",
    "math.gcd()\tReturns the greatest common divisor of two integers\n",
    "math.hypot()\tReturns the Euclidean norm\n",
    "math.isclose()\tChecks whether two values are close to each other, or not\n",
    "math.isfinite()\tChecks whether a number is finite or not\n",
    "math.isinf()\tChecks whether a number is infinite or not\n",
    "math.isnan()\tChecks whether a value is NaN (not a number) or not\n",
    "math.isqrt()\tRounds a square root number downwards to the nearest integer\n",
    "math.ldexp()\tReturns the inverse of math.frexp() which is x * (2**i) of the given numbers x and i\n",
    "math.lgamma()\tReturns the log gamma value of x\n",
    "math.log()\tReturns the natural logarithm of a number, or the logarithm of number to base\n",
    "math.log10()\tReturns the base-10 logarithm of x\n",
    "math.log1p()\tReturns the natural logarithm of 1+x\n",
    "math.log2()\tReturns the base-2 logarithm of x\n",
    "math.perm()\tReturns the number of ways to choose k items from n items with order and without repetition\n",
    "math.pow()\tReturns the value of x to the power of y\n",
    "math.prod()\tReturns the product of all the elements in an iterable\n",
    "math.radians()\tConverts a degree value into radians\n",
    "math.remainder()\tReturns the closest value that can make numerator completely divisible by the denominator\n",
    "math.sin()\tReturns the sine of a number\n",
    "math.sinh()\tReturns the hyperbolic sine of a number\n",
    "math.sqrt()\tReturns the square root of a number\n",
    "math.tan()\tReturns the tangent of a number\n",
    "math.tanh()\tReturns the hyperbolic tangent of a number\n",
    "math.trunc()\tReturns the truncated integer parts of a number"
   ]
  },
  {
   "cell_type": "code",
   "execution_count": null,
   "id": "5b3e69ea",
   "metadata": {},
   "outputs": [],
   "source": [
    "Constant\tDescription\n",
    "math.e\tReturns Euler's number (2.7182...)\n",
    "math.inf\tReturns a floating-point positive infinity\n",
    "math.nan\tReturns a floating-point NaN (Not a Number) value\n",
    "math.pi\tReturns PI (3.1415...)\n",
    "math.tau\tReturns tau (6.2831...)"
   ]
  },
  {
   "cell_type": "code",
   "execution_count": null,
   "id": "a6597da7",
   "metadata": {},
   "outputs": [],
   "source": []
  }
 ],
 "metadata": {
  "kernelspec": {
   "display_name": "Python 3 (ipykernel)",
   "language": "python",
   "name": "python3"
  },
  "language_info": {
   "codemirror_mode": {
    "name": "ipython",
    "version": 3
   },
   "file_extension": ".py",
   "mimetype": "text/x-python",
   "name": "python",
   "nbconvert_exporter": "python",
   "pygments_lexer": "ipython3",
   "version": "3.11.4"
  }
 },
 "nbformat": 4,
 "nbformat_minor": 5
}
