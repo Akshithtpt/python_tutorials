{
 "cells": [
  {
   "cell_type": "code",
   "execution_count": null,
   "id": "b32cc214",
   "metadata": {},
   "outputs": [],
   "source": [
    "#pandas\n",
    "\n",
    "#Pandas is one of the most important libraries of Python.\n",
    "\n",
    "#it has data structures for data analysis. The most used of these are Series and DataFrame data structures. \n",
    "#Series is one dimensional, that is, it consists of a column. Data frame is two-dimensional\n",
    "#it consists of rows and columns."
   ]
  },
  {
   "cell_type": "code",
   "execution_count": 3,
   "id": "3cdbb502",
   "metadata": {},
   "outputs": [],
   "source": [
    "import pandas as pd"
   ]
  },
  {
   "cell_type": "code",
   "execution_count": 4,
   "id": "9a0303cd",
   "metadata": {},
   "outputs": [
    {
     "name": "stdout",
     "output_type": "stream",
     "text": [
      "Requirement already satisfied: pandas in ./anaconda3/lib/python3.11/site-packages (1.5.3)\n",
      "Requirement already satisfied: python-dateutil>=2.8.1 in ./anaconda3/lib/python3.11/site-packages (from pandas) (2.8.2)\n",
      "Requirement already satisfied: pytz>=2020.1 in ./anaconda3/lib/python3.11/site-packages (from pandas) (2022.7)\n",
      "Requirement already satisfied: numpy>=1.21.0 in ./anaconda3/lib/python3.11/site-packages (from pandas) (1.24.3)\n",
      "Requirement already satisfied: six>=1.5 in ./anaconda3/lib/python3.11/site-packages (from python-dateutil>=2.8.1->pandas) (1.16.0)\n",
      "Note: you may need to restart the kernel to use updated packages.\n"
     ]
    }
   ],
   "source": [
    "pip install pandas"
   ]
  },
  {
   "cell_type": "code",
   "execution_count": 5,
   "id": "beea0487",
   "metadata": {},
   "outputs": [
    {
     "data": {
      "text/plain": [
       "'1.5.3'"
      ]
     },
     "execution_count": 5,
     "metadata": {},
     "output_type": "execute_result"
    }
   ],
   "source": [
    "pd.__version__"
   ]
  },
  {
   "cell_type": "code",
   "execution_count": 6,
   "id": "7e993f07",
   "metadata": {},
   "outputs": [],
   "source": [
    "import numpy as np"
   ]
  },
  {
   "cell_type": "code",
   "execution_count": 7,
   "id": "62ab816d",
   "metadata": {},
   "outputs": [
    {
     "data": {
      "text/plain": [
       "'1.24.3'"
      ]
     },
     "execution_count": 7,
     "metadata": {},
     "output_type": "execute_result"
    }
   ],
   "source": [
    "np.__version__"
   ]
  },
  {
   "cell_type": "code",
   "execution_count": 8,
   "id": "c8ff49e7",
   "metadata": {},
   "outputs": [
    {
     "name": "stdout",
     "output_type": "stream",
     "text": [
      "0            3\n",
      "1    equivalue\n",
      "2          4.0\n",
      "3         test\n",
      "dtype: object\n"
     ]
    }
   ],
   "source": [
    "a=pd.Series([3,\"equivalue\",4.0,\"test\"])\n",
    "print(a)"
   ]
  },
  {
   "cell_type": "code",
   "execution_count": 13,
   "id": "0eeff7e4",
   "metadata": {},
   "outputs": [
    {
     "name": "stdout",
     "output_type": "stream",
     "text": [
      "3\n",
      "[3 'equivalue' 4.0 'test']\n"
     ]
    },
    {
     "data": {
      "text/plain": [
       "pandas.core.series.Series"
      ]
     },
     "execution_count": 13,
     "metadata": {},
     "output_type": "execute_result"
    }
   ],
   "source": [
    "#accessing elements\n",
    "\n",
    "print(a[0])\n",
    "print(a.values)\n",
    "type(a.values)\n",
    "type(a)"
   ]
  },
  {
   "cell_type": "code",
   "execution_count": 14,
   "id": "88249cfe",
   "metadata": {},
   "outputs": [
    {
     "name": "stdout",
     "output_type": "stream",
     "text": [
      "a            3\n",
      "b    equivalue\n",
      "c          4.0\n",
      "d         test\n",
      "dtype: object\n"
     ]
    }
   ],
   "source": [
    "b=pd.Series([3,\"equivalue\",4.0,\"test\"],index=[\"a\",\"b\",\"c\",\"d\"])\n",
    "print(b)"
   ]
  },
  {
   "cell_type": "code",
   "execution_count": 17,
   "id": "af976058",
   "metadata": {},
   "outputs": [
    {
     "name": "stdout",
     "output_type": "stream",
     "text": [
      "3\n",
      "4.0\n",
      "Index(['a', 'b', 'c', 'd'], dtype='object')\n"
     ]
    }
   ],
   "source": [
    "print(b[0])\n",
    "print(b[\"c\"])\n",
    "print(b.index)"
   ]
  },
  {
   "cell_type": "code",
   "execution_count": 29,
   "id": "53194d63",
   "metadata": {},
   "outputs": [
    {
     "name": "stdout",
     "output_type": "stream",
     "text": [
      "suresh    90\n",
      "magesh    80\n",
      "girish    85\n",
      "ramesh    75\n",
      "sukesh    95\n",
      "dtype: int64\n"
     ]
    }
   ],
   "source": [
    "marks={\"suresh\":90, \"magesh\":80,\"girish\":85,\"ramesh\":75,\"sukesh\":95}\n",
    "emp=pd.Series(marks) # Convert to Series \n",
    "print(emp)\n",
    "#print(type(emp))"
   ]
  },
  {
   "cell_type": "code",
   "execution_count": 30,
   "id": "b87ca94a",
   "metadata": {},
   "outputs": [
    {
     "data": {
      "text/plain": [
       "95"
      ]
     },
     "execution_count": 30,
     "metadata": {},
     "output_type": "execute_result"
    }
   ],
   "source": [
    "#emp[\"ramesh\"]\n",
    "emp[-1]"
   ]
  },
  {
   "cell_type": "code",
   "execution_count": 31,
   "id": "2b499d8f",
   "metadata": {},
   "outputs": [
    {
     "data": {
      "text/plain": [
       "Series([], dtype: int64)"
      ]
     },
     "execution_count": 31,
     "metadata": {},
     "output_type": "execute_result"
    }
   ],
   "source": [
    "#emp[emp>80]\n",
    "emp[emp<75]"
   ]
  },
  {
   "cell_type": "code",
   "execution_count": 32,
   "id": "b708c56c",
   "metadata": {},
   "outputs": [
    {
     "name": "stdout",
     "output_type": "stream",
     "text": [
      "suresh    90\n",
      "magesh    90\n",
      "girish    90\n",
      "ramesh    90\n",
      "sukesh    90\n",
      "dtype: int64\n"
     ]
    }
   ],
   "source": [
    "emp[emp>70]=90\n",
    "print(emp)"
   ]
  },
  {
   "cell_type": "code",
   "execution_count": null,
   "id": "0bc9e4c5",
   "metadata": {},
   "outputs": [],
   "source": [
    "emp[emp>80]\n",
    "#emp[emp>80]=75\n",
    "print(emp)"
   ]
  },
  {
   "cell_type": "code",
   "execution_count": 36,
   "id": "871d4393",
   "metadata": {},
   "outputs": [
    {
     "data": {
      "text/plain": [
       "True"
      ]
     },
     "execution_count": 36,
     "metadata": {},
     "output_type": "execute_result"
    }
   ],
   "source": [
    "\"suresh\" in emp"
   ]
  },
  {
   "cell_type": "code",
   "execution_count": null,
   "id": "66a6cb6c",
   "metadata": {},
   "outputs": [],
   "source": [
    "emp/10"
   ]
  },
  {
   "cell_type": "code",
   "execution_count": null,
   "id": "a0c857b5",
   "metadata": {},
   "outputs": [],
   "source": [
    "#emp**5\n",
    "print(emp*5)"
   ]
  },
  {
   "cell_type": "code",
   "execution_count": null,
   "id": "b0cc1607",
   "metadata": {},
   "outputs": [],
   "source": [
    "emp.isnull()"
   ]
  },
  {
   "cell_type": "code",
   "execution_count": 35,
   "id": "437ccc92",
   "metadata": {},
   "outputs": [
    {
     "data": {
      "text/plain": [
       "'test'"
      ]
     },
     "execution_count": 35,
     "metadata": {},
     "output_type": "execute_result"
    }
   ],
   "source": []
  },
  {
   "cell_type": "code",
   "execution_count": null,
   "id": "18c12d03",
   "metadata": {},
   "outputs": [],
   "source": []
  }
 ],
 "metadata": {
  "kernelspec": {
   "display_name": "Python 3 (ipykernel)",
   "language": "python",
   "name": "python3"
  },
  "language_info": {
   "codemirror_mode": {
    "name": "ipython",
    "version": 3
   },
   "file_extension": ".py",
   "mimetype": "text/x-python",
   "name": "python",
   "nbconvert_exporter": "python",
   "pygments_lexer": "ipython3",
   "version": "3.11.4"
  }
 },
 "nbformat": 4,
 "nbformat_minor": 5
}
