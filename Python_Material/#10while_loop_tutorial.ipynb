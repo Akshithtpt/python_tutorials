{
 "cells": [
  {
   "cell_type": "code",
   "execution_count": null,
   "id": "4d6d299a",
   "metadata": {},
   "outputs": [],
   "source": [
    "#while loop\n",
    "\n",
    "# PASS - It is a key word acts as a dummy or null statement\n",
    "#Break : It terminates loop\n",
    "#Continue : Skip current iteration and takes next iteration"
   ]
  },
  {
   "cell_type": "code",
   "execution_count": null,
   "id": "6a8f7c3f",
   "metadata": {},
   "outputs": [],
   "source": [
    "1.while <condition>:\n",
    "    --------------\n",
    "    --------------\n",
    "    --------------\n",
    "------------------------\n",
    "------------------------\n",
    "------------------------"
   ]
  },
  {
   "cell_type": "code",
   "execution_count": 1,
   "id": "6711cd1d",
   "metadata": {},
   "outputs": [
    {
     "name": "stdout",
     "output_type": "stream",
     "text": [
      "1\n",
      "3\n",
      "5\n",
      "7\n",
      "9\n",
      "out of while\n"
     ]
    }
   ],
   "source": [
    "i=1\n",
    "while i<=10:\n",
    "    print(i)\n",
    "    i = i+2\n",
    "print('out of while')"
   ]
  },
  {
   "cell_type": "code",
   "execution_count": null,
   "id": "b53aa885",
   "metadata": {},
   "outputs": [],
   "source": [
    "2.while <condition>:\n",
    "    -----------------\n",
    "    ------------------\n",
    "    -----------------\n",
    "else:\n",
    "    -------------------\n",
    "    -------------------\n",
    "    -------------------\n",
    "----------------------------\n",
    "----------------------------\n",
    "----------------------------"
   ]
  },
  {
   "cell_type": "code",
   "execution_count": 2,
   "id": "a8ca7047",
   "metadata": {},
   "outputs": [
    {
     "name": "stdout",
     "output_type": "stream",
     "text": [
      "1\n",
      "2\n",
      "3\n",
      "4\n",
      "5\n",
      "6 is greater than or equal to 5\n"
     ]
    }
   ],
   "source": [
    "i=1\n",
    "while i<=5:\n",
    "    print(i)\n",
    "    i=i+1\n",
    "else:\n",
    "    print(i,'is greater than or equal to 5')"
   ]
  },
  {
   "cell_type": "code",
   "execution_count": null,
   "id": "4b08c216",
   "metadata": {},
   "outputs": [],
   "source": [
    "3. while True:\n",
    "    ------------\n",
    "    ----------------\n",
    "    ---------------\n",
    "    break\n",
    "--------------------\n",
    "--------------------\n",
    "--------------------"
   ]
  },
  {
   "cell_type": "code",
   "execution_count": 5,
   "id": "56e844f9",
   "metadata": {},
   "outputs": [
    {
     "name": "stdout",
     "output_type": "stream",
     "text": [
      "enter username:akshith\n",
      "enter password:akshith\n",
      "login successful\n",
      "test1\n"
     ]
    }
   ],
   "source": [
    "while True:\n",
    "    username = str(input('enter username:'))\n",
    "    password = str(input('enter password:'))\n",
    "    if username == 'akshith' and password == 'akshith':\n",
    "        print('login successful')\n",
    "        break\n",
    "    else:\n",
    "        print('invalid credentials')\n",
    "print('test1')"
   ]
  },
  {
   "cell_type": "code",
   "execution_count": null,
   "id": "221f222b",
   "metadata": {},
   "outputs": [],
   "source": [
    "4. while <condition>:\n",
    "    ------------------\n",
    "    ------------------\n",
    "    ------------------\n",
    "    break\n",
    "        ----------------------\n",
    "        ----------------------\n",
    "        ---------------------\n",
    "--------------------------------------\n",
    "--------------------------------------\n",
    "-------------------------------------"
   ]
  },
  {
   "cell_type": "code",
   "execution_count": 4,
   "id": "57dbf40e",
   "metadata": {},
   "outputs": [
    {
     "name": "stdout",
     "output_type": "stream",
     "text": [
      "1\n",
      "2\n",
      "3\n",
      "4\n"
     ]
    }
   ],
   "source": [
    "i=1\n",
    "while i<=10:\n",
    "    if i==5: \n",
    "        break\n",
    "    print(i)\n",
    "    i=i+1"
   ]
  },
  {
   "cell_type": "code",
   "execution_count": null,
   "id": "1fe947a8",
   "metadata": {},
   "outputs": [],
   "source": [
    "5. while <condition>:\n",
    "    pass\n",
    "----------------------------\n",
    "----------------------------\n",
    "----------------------------"
   ]
  },
  {
   "cell_type": "code",
   "execution_count": 3,
   "id": "af127fa4",
   "metadata": {},
   "outputs": [
    {
     "name": "stdout",
     "output_type": "stream",
     "text": [
      "1\n",
      "2\n",
      "3\n",
      "4\n",
      "5\n"
     ]
    }
   ],
   "source": [
    "i = 1\n",
    "while i<=5:\n",
    "    pass\n",
    "    print(i)\n",
    "    i=i+1"
   ]
  },
  {
   "cell_type": "code",
   "execution_count": null,
   "id": "cd2268bb",
   "metadata": {},
   "outputs": [],
   "source": [
    "6. while <condition>:\n",
    "    -------------------\n",
    "    -------------------\n",
    "    -------------------\n",
    "    continue\n",
    "        ----------------------\n",
    "        ----------------------\n",
    "        ----------------------\n",
    "-------------------------------\n",
    "-------------------------------\n",
    "-------------------------------"
   ]
  },
  {
   "cell_type": "code",
   "execution_count": 2,
   "id": "4f4af488",
   "metadata": {},
   "outputs": [
    {
     "name": "stdout",
     "output_type": "stream",
     "text": [
      "1\n",
      "2\n",
      "3\n",
      "4\n",
      "6\n",
      "7\n",
      "8\n",
      "9\n",
      "10\n"
     ]
    }
   ],
   "source": [
    "i = 1\n",
    "while i<=10:\n",
    "    if i==5:\n",
    "        i = i+1\n",
    "        continue\n",
    "    print(i)\n",
    "    i=i+1"
   ]
  },
  {
   "cell_type": "code",
   "execution_count": null,
   "id": "b5d8b4e7",
   "metadata": {},
   "outputs": [],
   "source": []
  },
  {
   "cell_type": "code",
   "execution_count": null,
   "id": "c91fc8d4",
   "metadata": {},
   "outputs": [],
   "source": []
  }
 ],
 "metadata": {
  "kernelspec": {
   "display_name": "Python 3 (ipykernel)",
   "language": "python",
   "name": "python3"
  },
  "language_info": {
   "codemirror_mode": {
    "name": "ipython",
    "version": 3
   },
   "file_extension": ".py",
   "mimetype": "text/x-python",
   "name": "python",
   "nbconvert_exporter": "python",
   "pygments_lexer": "ipython3",
   "version": "3.11.4"
  }
 },
 "nbformat": 4,
 "nbformat_minor": 5
}
