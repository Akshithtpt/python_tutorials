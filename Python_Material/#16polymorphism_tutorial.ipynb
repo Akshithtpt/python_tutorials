{
 "cells": [
  {
   "cell_type": "code",
   "execution_count": null,
   "id": "8585a1a7",
   "metadata": {},
   "outputs": [],
   "source": [
    "#polymorphism  # poly morphism\n",
    "\n",
    "POLY - MANY\n",
    "MORPHISM - FORMS\n",
    "\n",
    "polymorphism  -  many forms\n",
    "\n",
    "in programming language, polymorphism means same function name used for different types.\n",
    "\n",
    "There are 2 types of polymorphism - \n",
    "\n",
    "1.Static Polymorphism\n",
    "2.Dynamic polymorphism"
   ]
  },
  {
   "cell_type": "code",
   "execution_count": null,
   "id": "16f37396",
   "metadata": {},
   "outputs": [],
   "source": [
    "1. Static polymorphism -  it means it uses defined fuctions or methods. There are 2 types of static\n",
    "   polymorphism\n",
    "    \n",
    "   There are two types of static polymorphism - \n",
    "\n",
    "     a. Function overloading   --> functios or methods\n",
    "     b . Operator overloading"
   ]
  },
  {
   "cell_type": "code",
   "execution_count": null,
   "id": "c9b260ac",
   "metadata": {},
   "outputs": [],
   "source": [
    "a. Function overloading - function overloading means using the same function in different ways\n",
    "\n",
    "python doesn't support method overriding\n"
   ]
  },
  {
   "cell_type": "code",
   "execution_count": 1,
   "id": "38e86b03",
   "metadata": {},
   "outputs": [
    {
     "name": "stdout",
     "output_type": "stream",
     "text": [
      "9\n",
      "18\n",
      "6\n"
     ]
    }
   ],
   "source": [
    "def sum(a,b):\n",
    "    c = a+b\n",
    "    print(c)\n",
    "\n",
    "sum(4,5)\n",
    "\n",
    "def sum(a,b,c):\n",
    "    d = a+b+c\n",
    "    print(d)\n",
    "\n",
    "sum(5,6,7)\n",
    "\n",
    "#sum(8,9)\n",
    "\n",
    "sum(1,2,3)\n"
   ]
  },
  {
   "cell_type": "code",
   "execution_count": 1,
   "id": "b9f1776c",
   "metadata": {},
   "outputs": [
    {
     "data": {
      "text/plain": [
       "'I speak Python'"
      ]
     },
     "execution_count": 1,
     "metadata": {},
     "output_type": "execute_result"
    }
   ],
   "source": [
    "def add(test,*args):\n",
    "      if test=='int':\n",
    "              result=0\n",
    "      if test=='str':\n",
    "              result=''\n",
    "      for i in args:\n",
    "              result+=i\n",
    "      return result\n",
    "#add('int',3,4,5,6,7)\n",
    "add('str','I ','speak ','Python')"
   ]
  },
  {
   "cell_type": "code",
   "execution_count": 3,
   "id": "7131ce47",
   "metadata": {},
   "outputs": [
    {
     "name": "stdout",
     "output_type": "stream",
     "text": [
      "6\n",
      "5\n",
      "5\n",
      "3\n"
     ]
    }
   ],
   "source": [
    "x = 'python'   # string\n",
    "a = [10,20,30,40,50]  #list\n",
    "b = (10,20,30,40,50)  # tuple\n",
    "c = {'A':65,'B':66 , 'C':67}  #dict\n",
    "print(len(x))\n",
    "print(len(a))\n",
    "print(len(b))\n",
    "print(len(c))"
   ]
  },
  {
   "cell_type": "code",
   "execution_count": 4,
   "id": "c0eb18bc",
   "metadata": {},
   "outputs": [
    {
     "name": "stdout",
     "output_type": "stream",
     "text": [
      "30\n",
      "1020\n",
      "30\n",
      "101010\n"
     ]
    }
   ],
   "source": [
    "# Operator overloading\n",
    "\n",
    "print(10+20)   # 30\n",
    "print('10'+'20')  #ab\n",
    "print(10*3)   #30\n",
    "print('10'*3)  #101010"
   ]
  },
  {
   "cell_type": "code",
   "execution_count": 5,
   "id": "1f741c40",
   "metadata": {},
   "outputs": [
    {
     "name": "stdout",
     "output_type": "stream",
     "text": [
      "1\n",
      "2\n",
      "1\n",
      "2\n",
      "3\n"
     ]
    }
   ],
   "source": [
    "# Python Program illustrate how \n",
    "# to overload an binary + operator \n",
    "\n",
    "class A: \n",
    "    def __init__(self, a):  #consturtcor  \n",
    "        self.a = a\n",
    "        print(self.a)\n",
    "\n",
    "# adding two objects \n",
    "    def __add__(self, other): \n",
    "        print(self.a)\n",
    "        print(other.a)\n",
    "        return self.a + other.a \n",
    "ob1 = A(1) \n",
    "ob2 = A(2) \n",
    "#ob3 = A(\"AKSHITH\") \n",
    "#ob4 = A(\"KUMAR\") \n",
    "\n",
    "print(ob1 + ob2) \n",
    "#print(ob3 + ob4)"
   ]
  },
  {
   "cell_type": "code",
   "execution_count": 6,
   "id": "2a29f334",
   "metadata": {},
   "outputs": [
    {
     "name": "stdout",
     "output_type": "stream",
     "text": [
      "(3, 5)\n"
     ]
    }
   ],
   "source": [
    "# Python Program to perform addition \n",
    "# of two complex numbers using binary \n",
    "# + operator overloading. \n",
    "\n",
    "class complex: \n",
    "    def __init__(self, a, b): \n",
    "        self.a = a \n",
    "        self.b = b \n",
    "\n",
    "# adding two objects \n",
    "    def __add__(self, other): \n",
    "        return self.a + other.a, self.b + other.b \n",
    "\n",
    "Ob1 = complex(1, 2) \n",
    "Ob2 = complex(2, 3)\n",
    "Ob3 = Ob1 + Ob2 \n",
    "print(Ob3) "
   ]
  },
  {
   "cell_type": "code",
   "execution_count": 7,
   "id": "dfab4d10",
   "metadata": {},
   "outputs": [
    {
     "name": "stdout",
     "output_type": "stream",
     "text": [
      "ob2 is greater than ob1\n"
     ]
    }
   ],
   "source": [
    "# Python program to overload \n",
    "# a comparison operators \n",
    "\n",
    "class A: \n",
    "    def __init__(self, a): \n",
    "        self.a = a \n",
    "    def __gt__(self, other): \n",
    "        if(self.a>other.a): \n",
    "            return True\n",
    "        else: \n",
    "            return False\n",
    "ob1 = A(2) \n",
    "ob2 = A(3) \n",
    "if(ob1>ob2): \n",
    "    print(\"ob1 is greater than ob2\") \n",
    "else: \n",
    "    print(\"ob2 is greater than ob1\") "
   ]
  },
  {
   "cell_type": "code",
   "execution_count": 8,
   "id": "1bdecfd5",
   "metadata": {},
   "outputs": [
    {
     "name": "stdout",
     "output_type": "stream",
     "text": [
      "ob1 is lessthan ob2\n",
      "False\n"
     ]
    }
   ],
   "source": [
    "# Python program to overload equality \n",
    "# and less than operators \n",
    "\n",
    "class A: \n",
    "    def __init__(self, a): \n",
    "        self.a = a \n",
    "    def __lt__(self, other): \n",
    "        if(self.a<other.a): \n",
    "            return \"ob1 is lessthan ob2\"\n",
    "        else: \n",
    "            return \"ob2 is less than ob1\"\n",
    "        def __eq__(self, other): \n",
    "            if(self.a == other.a): \n",
    "                return \"Both are equal\"\n",
    "            else: \n",
    "                return \"Not equal\"\n",
    "\n",
    "ob1 = A(2) \n",
    "ob2 = A(3) \n",
    "print(ob1 < ob2) \n",
    "\n",
    "ob3 = A(4) \n",
    "ob4 = A(4) \n",
    "print(ob1 == ob2) "
   ]
  },
  {
   "cell_type": "code",
   "execution_count": null,
   "id": "a20cc787",
   "metadata": {},
   "outputs": [],
   "source": [
    "OPERATOR         MAGIC METHOD\n",
    "+            __add__(self, other)\n",
    "–            __sub__(self, other)\n",
    "*            __mul__(self, other)\n",
    "__truediv__((self,, other))\n",
    "(/, __floordiv__(self,, other))\n",
    "get_ipython().run_line_magic('__mod__', '(self, other)')\n",
    "**           __pow__(self, other)\n",
    "<            __lt__(self, other)\n",
    ">            __gt__(self, other)\n",
    "<=           __le__(self, other)\n",
    ">=           __ge__(self, other)\n",
    "==           __eq__(self, other)\n",
    "get_ipython().system('=           __ne__(self, other)')\n",
    "-=           __isub__(self, other)\n",
    "+=           __iadd__(self, other)\n",
    "*=           __imul__(self, other)\n",
    "(=, __idiv__(self,, other))\n",
    "(/=, __ifloordiv__(self,, other))\n",
    "get_ipython().run_line_magic('=', '          __imod__(self, other)')\n",
    "**=          __ipow__(self, other)\n",
    "–            __neg__(self, other)\n",
    "+            __pos__(self, other)\n",
    "~            __invert__(self, other)\n"
   ]
  },
  {
   "cell_type": "code",
   "execution_count": null,
   "id": "17818d70",
   "metadata": {},
   "outputs": [],
   "source": [
    "2. Dynamic Polymorphism\n",
    "\n",
    "      a. Function overriding"
   ]
  },
  {
   "cell_type": "code",
   "execution_count": 9,
   "id": "be31b33d",
   "metadata": {},
   "outputs": [
    {
     "data": {
      "text/plain": [
       "5"
      ]
     },
     "execution_count": 9,
     "metadata": {},
     "output_type": "execute_result"
    }
   ],
   "source": [
    "class Parent(object):\n",
    "    def __init__(self):\n",
    "        self.value = 5\n",
    "\n",
    "    def get_value(self):\n",
    "        return self.value\n",
    "\n",
    "class Child(Parent):\n",
    "    pass\n",
    "\n",
    "c = Child()\n",
    "c.get_value()"
   ]
  },
  {
   "cell_type": "code",
   "execution_count": null,
   "id": "7264d67e",
   "metadata": {},
   "outputs": [],
   "source": [
    "In Python method overriding occurs simply defining in the child class a method with the same name \n",
    "of a method in the parent class. When you define a method in the object you make the latter able \n",
    "to satisfy that method call, so the implementations of its ancestors do not come in play."
   ]
  },
  {
   "cell_type": "code",
   "execution_count": 10,
   "id": "8643f5b1",
   "metadata": {},
   "outputs": [
    {
     "data": {
      "text/plain": [
       "6"
      ]
     },
     "execution_count": 10,
     "metadata": {},
     "output_type": "execute_result"
    }
   ],
   "source": [
    "class Parent(object):\n",
    "    def __init__(self):\n",
    "        self.value = 5\n",
    "\n",
    "    def get_value(self):\n",
    "        return self.value\n",
    "\n",
    "class Child(Parent):\n",
    "    def get_value(self):\n",
    "        return self.value + 1\n",
    "c = Child()\n",
    "c.get_value()"
   ]
  },
  {
   "cell_type": "code",
   "execution_count": 11,
   "id": "9f366801",
   "metadata": {},
   "outputs": [
    {
     "name": "stdout",
     "output_type": "stream",
     "text": [
      "16  is area of square\n",
      "8  is area of rectangle\n"
     ]
    }
   ],
   "source": [
    "class Rectangle():\n",
    "    def __init__(self,length,breadth):\n",
    "            self.length = length\n",
    "            self.breadth = breadth\n",
    "    def getArea(self):\n",
    "        print(self.length*self.breadth,\" is area of rectangle\")\n",
    "class Square(Rectangle):\n",
    "    def __init__(self,side):\n",
    "        self.side = side\n",
    "        Rectangle.__init__(self,side,side)\n",
    "    def getArea(self):\n",
    "        print(self.side*self.side,\" is area of square\")\n",
    "s = Square(4)\n",
    "r = Rectangle(2,4)\n",
    "s.getArea()\n",
    "r.getArea()"
   ]
  },
  {
   "cell_type": "code",
   "execution_count": 12,
   "id": "bb16c100",
   "metadata": {},
   "outputs": [
    {
     "name": "stdout",
     "output_type": "stream",
     "text": [
      "I eat only plants. I am vegetarian.\n",
      "I breathe oxygen.\n"
     ]
    }
   ],
   "source": [
    "class Animal:\n",
    "    multicellular = True\n",
    "    eukaryotic = True\n",
    "    \n",
    "    def breathe(self):\n",
    "        print(\"I breathe oxygen.\")\n",
    "    \n",
    "    def feed(self):\n",
    "        print(\"I eat food.\")\n",
    "\n",
    "class Herbivorous(Animal):\n",
    "    \n",
    "    def feed(self):\n",
    "        print(\"I eat only plants. I am vegetarian.\")\n",
    "\n",
    "herbi = Herbivorous()\n",
    "herbi.feed()\n",
    "herbi.breathe()"
   ]
  },
  {
   "cell_type": "code",
   "execution_count": 13,
   "id": "79942704",
   "metadata": {},
   "outputs": [
    {
     "name": "stdout",
     "output_type": "stream",
     "text": [
      "1\n",
      "3\n",
      "4\n"
     ]
    }
   ],
   "source": [
    "class A:\n",
    "    def __init__(self,a):\n",
    "        self.a = a\n",
    "        print(self.a)\n",
    "    def __add__(self,other):\n",
    "        c = self.a + other.a\n",
    "        print(c)\n",
    "\n",
    "a1 = A(1)\n",
    "a2 = A(3)\n",
    "#a3 = A(4)\n",
    "a1+a2"
   ]
  },
  {
   "cell_type": "code",
   "execution_count": null,
   "id": "e74b5361",
   "metadata": {},
   "outputs": [],
   "source": []
  }
 ],
 "metadata": {
  "kernelspec": {
   "display_name": "Python 3 (ipykernel)",
   "language": "python",
   "name": "python3"
  },
  "language_info": {
   "codemirror_mode": {
    "name": "ipython",
    "version": 3
   },
   "file_extension": ".py",
   "mimetype": "text/x-python",
   "name": "python",
   "nbconvert_exporter": "python",
   "pygments_lexer": "ipython3",
   "version": "3.11.4"
  }
 },
 "nbformat": 4,
 "nbformat_minor": 5
}
