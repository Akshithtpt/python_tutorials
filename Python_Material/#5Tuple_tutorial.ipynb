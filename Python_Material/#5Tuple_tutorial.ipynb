{
 "cells": [
  {
   "cell_type": "code",
   "execution_count": null,
   "id": "e1f482fe",
   "metadata": {},
   "outputs": [],
   "source": [
    "TUPLE:\n",
    "\n",
    "IT is same as list but the elements are immutable(Not Chnages).\n",
    "\n",
    "Elements must enclosed with in Paranthesis().\n",
    "\n",
    "Tuple is a sequence of elements. \n",
    "A tuple is immutable, unlike a list in Python. By immutable, we mean that it is not possible to update a tuple after declaring one. \n",
    "The elements inside a tuple can be any Python object such a string, integer etc. Tuples are surrounded by parenthesis.\n",
    "\n",
    "If we can't able to change in tuple why we are using it?\n",
    "\n",
    "Not only do they provide \"read-only\" access to the data values but they are also faster than lists. Consider the following pieces of code:"
   ]
  },
  {
   "cell_type": "code",
   "execution_count": 2,
   "id": "08a237c7",
   "metadata": {},
   "outputs": [
    {
     "name": "stdout",
     "output_type": "stream",
     "text": [
      "0.001246916000127385\n",
      "0.007407791999867186\n"
     ]
    }
   ],
   "source": [
    "import timeit\n",
    "\n",
    "print(timeit.timeit('x=(1,2,3,4,5,6,7,8,9)', number=100000))  #0.0018976779974764213\n",
    "print(timeit.timeit('x=[1,2,3,4,5,6,7,8,9]', number=100000))  #0.019868606992531568"
   ]
  },
  {
   "cell_type": "code",
   "execution_count": 5,
   "id": "4d113b7f",
   "metadata": {},
   "outputs": [
    {
     "name": "stdout",
     "output_type": "stream",
     "text": [
      "(1, 'abc', 3.0)\n",
      "<class 'tuple'>\n",
      "1\n",
      "<class 'int'>\n",
      "('a',)\n",
      "<class 'tuple'>\n"
     ]
    }
   ],
   "source": [
    "#Examples:\n",
    "\n",
    "t1 = (1, \"abc\", 3.0)\n",
    "print(t1)\n",
    "print(type(t1))\n",
    "\n",
    "t2=(1)\n",
    "print(t2)\n",
    "print(type(t2))\n",
    "\n",
    "t3=('a',)\n",
    "print(t3)\n",
    "print(type(t3))\n"
   ]
  },
  {
   "cell_type": "code",
   "execution_count": 18,
   "id": "3a0e5ddd",
   "metadata": {},
   "outputs": [
    {
     "name": "stdout",
     "output_type": "stream",
     "text": [
      "<class 'list'>\n",
      "<class 'tuple'>\n"
     ]
    }
   ],
   "source": [
    "t1 = (1, \"abc\", 3.0)\n",
    "t2 = 1,'abc',3.0\n",
    "\n",
    "l1 = [10,20,30,50]\n",
    "l2 = 10,20,30,40,50\n",
    "print(type(l1))\n",
    "print(type(l2))\n",
    "#print(t1)\n",
    "#print(type(t1))\n"
   ]
  },
  {
   "cell_type": "code",
   "execution_count": 19,
   "id": "c07ad787",
   "metadata": {},
   "outputs": [
    {
     "name": "stdout",
     "output_type": "stream",
     "text": [
      "<class 'tuple'>\n",
      "1\n",
      "<class 'int'>\n",
      "(1,)\n",
      "<class 'tuple'>\n",
      "<class 'str'>\n",
      "<class 'tuple'>\n",
      "<class 'bool'>\n",
      "<class 'tuple'>\n"
     ]
    }
   ],
   "source": [
    "#Declaring a Tuple\n",
    "\n",
    "t2 = ()\n",
    "print(type(t2))\n",
    "\n",
    "#It is important to note that declaring a tuple consisting a single element requires a comma after the first element.\n",
    "\n",
    "t3 = (1)\n",
    "print(t3)\n",
    "print(type(t3))\n",
    "\n",
    "t4 = (1,)\n",
    "print(t4)\n",
    "print(type(t4))\n",
    "\n",
    "t5 = ('abc')\n",
    "print(type(t5))\n",
    "\n",
    "t6=('abc',)\n",
    "print(type(t6))\n",
    "\n",
    "t7 = (True)\n",
    "print(type(t7))\n",
    "\n",
    "t8 = (True,10,10.0,'YYY')\n",
    "print(type(t8))"
   ]
  },
  {
   "cell_type": "code",
   "execution_count": 6,
   "id": "086dd54d",
   "metadata": {},
   "outputs": [
    {
     "name": "stdout",
     "output_type": "stream",
     "text": [
      "1\n",
      "3.0\n"
     ]
    },
    {
     "ename": "IndexError",
     "evalue": "tuple index out of range",
     "output_type": "error",
     "traceback": [
      "\u001b[0;31m---------------------------------------------------------------------------\u001b[0m",
      "\u001b[0;31mIndexError\u001b[0m                                Traceback (most recent call last)",
      "Cell \u001b[0;32mIn[6], line 10\u001b[0m\n\u001b[1;32m      8\u001b[0m \u001b[38;5;28mprint\u001b[39m(t1[\u001b[38;5;241m0\u001b[39m])\n\u001b[1;32m      9\u001b[0m \u001b[38;5;28mprint\u001b[39m(t1[\u001b[38;5;241m-\u001b[39m\u001b[38;5;241m1\u001b[39m])\n\u001b[0;32m---> 10\u001b[0m \u001b[38;5;28mprint\u001b[39m(t1[\u001b[38;5;241m4\u001b[39m])\n\u001b[1;32m     12\u001b[0m \u001b[38;5;124;03m'''Index table indicating positive and negative index values.\u001b[39;00m\n\u001b[1;32m     13\u001b[0m \n\u001b[1;32m     14\u001b[0m \u001b[38;5;124;03m---------------------------\u001b[39;00m\n\u001b[0;32m   (...)\u001b[0m\n\u001b[1;32m     17\u001b[0m \u001b[38;5;124;03m-ve index  | -3    -2    -1\u001b[39;00m\n\u001b[1;32m     18\u001b[0m \u001b[38;5;124;03m---------------------------'''\u001b[39;00m\n",
      "\u001b[0;31mIndexError\u001b[0m: tuple index out of range"
     ]
    }
   ],
   "source": [
    "#Accessing elements of a Tuple\n",
    "\n",
    "#We use square brackets along with the index which we want to access.\n",
    "\n",
    "#Examples:\n",
    "\n",
    "t1 = (1, \"abc\", 3.0)\n",
    "print(t1[0])\n",
    "print(t1[-1])\n",
    "print(t1[4])\n",
    "\n",
    "'''Index table indicating positive and negative index values.\n",
    "\n",
    "---------------------------\n",
    "tuple      |  1  \"abc\"  3.0\n",
    "+ve index  |  0     1     2\n",
    "-ve index  | -3    -2    -1\n",
    "---------------------------'''\n"
   ]
  },
  {
   "cell_type": "code",
   "execution_count": 20,
   "id": "a7f7b9a2",
   "metadata": {},
   "outputs": [
    {
     "ename": "TypeError",
     "evalue": "'tuple' object does not support item assignment",
     "output_type": "error",
     "traceback": [
      "\u001b[0;31m---------------------------------------------------------------------------\u001b[0m",
      "\u001b[0;31mTypeError\u001b[0m                                 Traceback (most recent call last)",
      "Cell \u001b[0;32mIn[20], line 5\u001b[0m\n\u001b[1;32m      1\u001b[0m \u001b[38;5;66;03m#we saw in the definition of a tuple that tuples are immutable. \u001b[39;00m\n\u001b[1;32m      2\u001b[0m \u001b[38;5;66;03m#It is not possible to update them once declared. but what happens if we try to do so?\u001b[39;00m\n\u001b[1;32m      4\u001b[0m t1 \u001b[38;5;241m=\u001b[39m (\u001b[38;5;241m1\u001b[39m, \u001b[38;5;124m\"\u001b[39m\u001b[38;5;124mabc\u001b[39m\u001b[38;5;124m\"\u001b[39m, \u001b[38;5;241m3.0\u001b[39m)\n\u001b[0;32m----> 5\u001b[0m t1[\u001b[38;5;241m1\u001b[39m] \u001b[38;5;241m=\u001b[39m \u001b[38;5;124m'\u001b[39m\u001b[38;5;124mxyz\u001b[39m\u001b[38;5;124m'\u001b[39m\n",
      "\u001b[0;31mTypeError\u001b[0m: 'tuple' object does not support item assignment"
     ]
    }
   ],
   "source": [
    "#we saw in the definition of a tuple that tuples are immutable. \n",
    "#It is not possible to update them once declared. but what happens if we try to do so?\n",
    "\n",
    "t1 = (1, \"abc\", 3.0)\n",
    "t1[1] = 'xyz'"
   ]
  },
  {
   "cell_type": "code",
   "execution_count": 21,
   "id": "5adb5f8d",
   "metadata": {},
   "outputs": [
    {
     "name": "stdout",
     "output_type": "stream",
     "text": [
      "([1, 2], [4, 5])\n",
      "([1, 2, 3], [4, 5])\n"
     ]
    }
   ],
   "source": [
    "#If we try to update the element by using index, it raises an error saying that ‘tuple’ object does not support item assignment.\n",
    "\n",
    "#However, if you add mutable elements such as a list inside a tuple, we can mutate them. For example:\n",
    "\n",
    "a = [1, 2]\n",
    "b = [4, 5]\n",
    "t = (a, b) #([1,2],[4,5])\n",
    "print(t)\n",
    "a.append(3)\n",
    "print(t)"
   ]
  },
  {
   "cell_type": "code",
   "execution_count": 22,
   "id": "fc0c6799",
   "metadata": {},
   "outputs": [
    {
     "name": "stdout",
     "output_type": "stream",
     "text": [
      "((1, 2), (4, 5))\n",
      "((1, 2), 3, (4, 5))\n"
     ]
    }
   ],
   "source": [
    "#A tuple can also be nested, i.e. just like a list inside a tuple, we can have tuples inside a tuple.\n",
    "\n",
    "a = (1, 2)\n",
    "b = (4, 5)\n",
    "t = (a, b)\n",
    "print(t)\n",
    "\n",
    "#However, now that tuples are not mutable, we cannot update the tuple inside a tuple either.\n",
    "#If we really want to update a tuple, we can use that tuple to create another tuple.\n",
    "\n",
    "t2 = (t[0], (3), t[1])\n",
    "print(t2)"
   ]
  },
  {
   "cell_type": "code",
   "execution_count": 23,
   "id": "d754c0c8",
   "metadata": {},
   "outputs": [
    {
     "name": "stdout",
     "output_type": "stream",
     "text": [
      "(1, 'abc', 3.0)\n"
     ]
    },
    {
     "ename": "NameError",
     "evalue": "name 't' is not defined",
     "output_type": "error",
     "traceback": [
      "\u001b[0;31m---------------------------------------------------------------------------\u001b[0m",
      "\u001b[0;31mNameError\u001b[0m                                 Traceback (most recent call last)",
      "Cell \u001b[0;32mIn[23], line 9\u001b[0m\n\u001b[1;32m      7\u001b[0m \u001b[38;5;28mprint\u001b[39m(t)\n\u001b[1;32m      8\u001b[0m \u001b[38;5;28;01mdel\u001b[39;00m(t)\n\u001b[0;32m----> 9\u001b[0m \u001b[38;5;28mprint\u001b[39m(t)\n",
      "\u001b[0;31mNameError\u001b[0m: name 't' is not defined"
     ]
    }
   ],
   "source": [
    "#Deleting a Tuple\n",
    "\n",
    "#Since tuples are immutable, it is not possible to delete individual elements of a tuple.\n",
    "#however, we can delete the whole tuple itself.\n",
    "\n",
    "t = (1, \"abc\", 3.0)\n",
    "print(t)\n",
    "del(t)\n",
    "print(t)"
   ]
  },
  {
   "cell_type": "code",
   "execution_count": 17,
   "id": "8397e98a",
   "metadata": {},
   "outputs": [
    {
     "name": "stdout",
     "output_type": "stream",
     "text": [
      "('u', 's', 'a')\n"
     ]
    }
   ],
   "source": [
    "#Slicing a Tuple\n",
    "\n",
    "#Tuple slicing is similar to string slicing. Using slicing we can extract out elements of any tuple. \n",
    "#We have to provide the starting index and the ending index i.e. tuple[start:end]\n",
    "\n",
    "t = ('s', 'u', 's', 'a', 'n')\n",
    "print(t[1:4])"
   ]
  },
  {
   "cell_type": "code",
   "execution_count": 16,
   "id": "e0f0ccf6",
   "metadata": {},
   "outputs": [
    {
     "name": "stdout",
     "output_type": "stream",
     "text": [
      "2\n",
      "9\n",
      "4\n"
     ]
    }
   ],
   "source": [
    "t = (5, 2, 9, 7)\n",
    "print(min(t)) # Returns the minimum element\n",
    "print(max(t)) # Returns the maximum element\n",
    "print(len(t)) # Returns the length of the tuple"
   ]
  },
  {
   "cell_type": "code",
   "execution_count": 13,
   "id": "8983d99f",
   "metadata": {},
   "outputs": [
    {
     "name": "stdout",
     "output_type": "stream",
     "text": [
      "(1, 2, 3, 4, 5)\n"
     ]
    }
   ],
   "source": [
    "#Using + to create a new tuple using existing tuples. This is called concatenation.\n",
    "\n",
    "t1 = (1, 2)\n",
    "t2 = (3,)\n",
    "t3 = (4, 5)\n",
    "t = (t1 + t2 + t3)\n",
    "print(t)"
   ]
  },
  {
   "cell_type": "code",
   "execution_count": 12,
   "id": "a1a6db97",
   "metadata": {},
   "outputs": [
    {
     "name": "stdout",
     "output_type": "stream",
     "text": [
      "True\n",
      "False\n"
     ]
    }
   ],
   "source": [
    "my_tuple = ('a','p','p','l','e',)\n",
    "print('a' in my_tuple)  # TRUE\n",
    "print('b' in my_tuple)  #FALSE"
   ]
  },
  {
   "cell_type": "code",
   "execution_count": 24,
   "id": "cd64c724",
   "metadata": {},
   "outputs": [
    {
     "name": "stdout",
     "output_type": "stream",
     "text": [
      "[5, 10, 7, 4, 15, 3]\n",
      "(5, 10, 7, 4, 15, 3)\n"
     ]
    },
    {
     "ename": "TypeError",
     "evalue": "'list' object is not callable",
     "output_type": "error",
     "traceback": [
      "\u001b[0;31m---------------------------------------------------------------------------\u001b[0m",
      "\u001b[0;31mTypeError\u001b[0m                                 Traceback (most recent call last)",
      "Cell \u001b[0;32mIn[24], line 9\u001b[0m\n\u001b[1;32m      6\u001b[0m tuplex \u001b[38;5;241m=\u001b[39m \u001b[38;5;28mtuple\u001b[39m(\u001b[38;5;28mlist\u001b[39m)\n\u001b[1;32m      7\u001b[0m \u001b[38;5;28mprint\u001b[39m(tuplex)\n\u001b[0;32m----> 9\u001b[0m x \u001b[38;5;241m=\u001b[39m \u001b[38;5;28mlist\u001b[39m(tuplex)\n\u001b[1;32m     10\u001b[0m \u001b[38;5;28mprint\u001b[39m(x)\n",
      "\u001b[0;31mTypeError\u001b[0m: 'list' object is not callable"
     ]
    }
   ],
   "source": [
    "#Convert list to tuple\n",
    "\n",
    "list = [5, 10, 7, 4, 15, 3]\n",
    "print(list)\n",
    "#use the tuple() function built-in Python, passing as parameter the list\n",
    "tuplex = tuple(list)\n",
    "print(tuplex)\n",
    "\n",
    "x = list(tuplex)\n",
    "print(x)"
   ]
  },
  {
   "cell_type": "code",
   "execution_count": 25,
   "id": "917fec08",
   "metadata": {},
   "outputs": [
    {
     "ename": "NameError",
     "evalue": "name 'cmp' is not defined",
     "output_type": "error",
     "traceback": [
      "\u001b[0;31m---------------------------------------------------------------------------\u001b[0m",
      "\u001b[0;31mNameError\u001b[0m                                 Traceback (most recent call last)",
      "Cell \u001b[0;32mIn[25], line 11\u001b[0m\n\u001b[1;32m      9\u001b[0m t2\u001b[38;5;241m=\u001b[39m(\u001b[38;5;241m40\u001b[39m,\u001b[38;5;241m50\u001b[39m,\u001b[38;5;241m60\u001b[39m)\n\u001b[1;32m     10\u001b[0m t3\u001b[38;5;241m=\u001b[39m(\u001b[38;5;241m10\u001b[39m,\u001b[38;5;241m20\u001b[39m,\u001b[38;5;241m30\u001b[39m)\n\u001b[0;32m---> 11\u001b[0m \u001b[38;5;28mprint\u001b[39m(cmp(t1,t2)) \u001b[38;5;66;03m# -1\u001b[39;00m\n\u001b[1;32m     12\u001b[0m \u001b[38;5;28mprint\u001b[39m(cmp(t1,t3)) \u001b[38;5;66;03m# 0\u001b[39;00m\n\u001b[1;32m     13\u001b[0m \u001b[38;5;28mprint\u001b[39m(cmp(t2,t3))\n",
      "\u001b[0;31mNameError\u001b[0m: name 'cmp' is not defined"
     ]
    }
   ],
   "source": [
    "#Tuple Compares\n",
    "\n",
    "#It compares the elements of both tuples.\n",
    "#If both tuples are equal then returns 0\n",
    "#If the first tuple is less than second tuple then it returns -1\n",
    "#If the first tuple is greater than second tuple then it returns +1\n",
    "\n",
    "t1=(10,20,30)\n",
    "t2=(40,50,60)\n",
    "t3=(10,20,30)\n",
    "print(cmp(t1,t2)) # -1\n",
    "print(cmp(t1,t3)) # 0\n",
    "print(cmp(t2,t3)) # +1\n",
    "\n",
    "#cmp() function is available only in Python2 but not in Python 3\n"
   ]
  },
  {
   "cell_type": "code",
   "execution_count": 26,
   "id": "0b269e8d",
   "metadata": {},
   "outputs": [
    {
     "name": "stdout",
     "output_type": "stream",
     "text": [
      "(10, 20, 30, 40)\n",
      "a= 10 b= 20 c= 30 d= 40\n"
     ]
    }
   ],
   "source": [
    "#Tuple Packing and Unpacking:\n",
    "\n",
    "#We can create a tuple by packing a group of variables.\n",
    "\n",
    "a=10\n",
    "b=20\n",
    "c=30\n",
    "d=40\n",
    "t=a,b,c,d\n",
    "\n",
    "print(t)\n",
    "\n",
    "#Tuple unpacking is the reverse process of tuple packing\n",
    "#We can unpack a tuple and assign its values to different variables\n",
    "\n",
    "t=(10,20,30,40)\n",
    "a,b,c,d=t\n",
    "print(\"a=\",a,\"b=\",b,\"c=\",c,\"d=\",d)"
   ]
  },
  {
   "cell_type": "code",
   "execution_count": null,
   "id": "7b323f7a",
   "metadata": {},
   "outputs": [],
   "source": [
    "\n",
    "\n",
    "#Difference between List & Tuple\n",
    "\n",
    "List:\n",
    "    \n",
    "1) List is a Group of Comma separeated Values within Square Brackets and Square Brackets are mandatory.\n",
    "Eg: i = [10, 20, 30, 40]\n",
    "    \n",
    "2) List Objects are Mutable i.e. once we creates List Object we can perform any changes in that Object.\n",
    "Eg: i[1] = 70\n",
    "    \n",
    "3) If the Content is not fixed and keep on changing then we should go for List.\n",
    "\n",
    "4) List Objects can not used as Keys for Dictionries because Keys should be Hashable and Immutable.\n",
    "\n",
    "Tuple:\n",
    "\n",
    "1) Tuple is a Group of Comma separeated Values within Parenthesis and Parenthesis are optional.\n",
    "Eg: t = (10, 20, 30, 40)\n",
    "t = 10, 20, 30, 40\n",
    "\n",
    "2) Tuple Objeccts are Immutable i.e. once we creates Tuple Object we cannot change\n",
    "its content.\n",
    "t[1] = 70  ValueError: tuple object does not support item assignment.\n",
    "\n",
    "3) If the content is fixed and never changes then we should go for Tuple.\n",
    "\n",
    "4) Tuple Objects can be used as Keys for Dictionries because Keys should be Hashable and Immutable.\n"
   ]
  },
  {
   "cell_type": "code",
   "execution_count": null,
   "id": "560f6429",
   "metadata": {},
   "outputs": [],
   "source": []
  }
 ],
 "metadata": {
  "kernelspec": {
   "display_name": "Python 3 (ipykernel)",
   "language": "python",
   "name": "python3"
  },
  "language_info": {
   "codemirror_mode": {
    "name": "ipython",
    "version": 3
   },
   "file_extension": ".py",
   "mimetype": "text/x-python",
   "name": "python",
   "nbconvert_exporter": "python",
   "pygments_lexer": "ipython3",
   "version": "3.11.4"
  }
 },
 "nbformat": 4,
 "nbformat_minor": 5
}
