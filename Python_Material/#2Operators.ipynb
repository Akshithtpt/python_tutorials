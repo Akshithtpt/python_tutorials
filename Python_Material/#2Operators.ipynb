{
 "cells": [
  {
   "cell_type": "code",
   "execution_count": null,
   "id": "be8036f4",
   "metadata": {},
   "outputs": [],
   "source": [
    "OPERATORS:\n",
    "\n",
    "OPERATOR: Operators are special symbols in Python that carry out computation. The value that the operator operates on is called the operand. For example: >>> 7+8 = 15. Here, + is the operator that performs addition. 7 and 8 are the operands and 15 is the output of the operation.\n",
    "\n",
    "OPERATIONS IN PYTHON:\n",
    "\n",
    "1.Arithmetic operators\n",
    "2.Relational Operators\n",
    "3.Logical operators\n",
    "4.Bitwise operators\n",
    "5.Assignment operators\n",
    "6.Special operators"
   ]
  },
  {
   "cell_type": "code",
   "execution_count": null,
   "id": "7cdaed0d",
   "metadata": {},
   "outputs": [],
   "source": [
    "\n",
    "1.ARITHMETIC OPERATORS: Arithmetic operators are used to perform mathematical operations like addition, subtraction, multiplication and division.\n",
    "\n",
    "OPERATOR\tDESCRIPTION\t                                                                            SYNTAX\n",
    "+\tAddition: adds two operands\t                                                                      x + y\n",
    "-\tSubtraction: subtracts two operands\t                                                              x - y\n",
    "*\tMultiplication: multiplies two operands\t                                                          x * y\n",
    "/\tDivision (float): divides the first operand by the second\t                                      x / y\n",
    "//\tDivision (floor): divides the first operand by the second\t                                      x // y\n",
    "%\tModulus: returns the remainder when first operand is divided by the second\t                      x % y\n",
    "**              exponent                                                                                                                      x**y"
   ]
  },
  {
   "cell_type": "code",
   "execution_count": 1,
   "id": "59f58df0",
   "metadata": {},
   "outputs": [
    {
     "name": "stdout",
     "output_type": "stream",
     "text": [
      "11\n",
      "1\n",
      "30\n",
      "1.2\n",
      "1\n",
      "1\n"
     ]
    }
   ],
   "source": [
    "# Examples of Arithmetic Operator \n",
    "a = 6\n",
    "b = 5\n",
    "\n",
    "# Addition of numbers \n",
    "add = a + b \n",
    "# Subtraction of numbers \n",
    "sub = a - b \n",
    "# Multiplication of number \n",
    "mul = a * b \n",
    "# Division(float) of number \n",
    "div1 = a / b \n",
    "# Division(floor) of number \n",
    "div2 = a // b \n",
    "# Modulo of both number \n",
    "mod = a % b \n",
    "\n",
    "# print results \n",
    "print(add) \n",
    "print(sub) \n",
    "print(mul) \n",
    "print(div1) \n",
    "print(div2) \n",
    "print(mod) "
   ]
  },
  {
   "cell_type": "code",
   "execution_count": null,
   "id": "bcce20d5",
   "metadata": {},
   "outputs": [],
   "source": [
    "\n",
    "2.RELATIONAL OPERATORS: It compares the values. It either returns True or False according to the condition.\n",
    "\n",
    "OPERATOR\tDESCRIPTION\t                                                                           SYNTAX\n",
    ">\tGreater than: True if left operand is greater than the right\t                                 x > y\n",
    "<\tLess than: True if left operand is less than the right\t                                         x < y\n",
    "==\tEqual to: True if both operands are equal\t                                                     x == y\n",
    "!=\tNot equal to - True if operands are not equal\t                                                 x != y\n",
    ">=\tGreater than or equal to: True if left operand is greater than or equal to the right\t         x >= y\n",
    "<=\tLess than or equal to: True if left operand is less than or equal to the right\t                 x <= y"
   ]
  },
  {
   "cell_type": "code",
   "execution_count": 2,
   "id": "f5eb4a3a",
   "metadata": {},
   "outputs": [
    {
     "name": "stdout",
     "output_type": "stream",
     "text": [
      "False\n",
      "True\n",
      "False\n",
      "True\n",
      "False\n",
      "True\n"
     ]
    }
   ],
   "source": [
    "# Examples of Relational Operators \n",
    "a = 16\n",
    "b = 25\n",
    "\n",
    "# a > b is False \n",
    "print(a > b) \n",
    "\n",
    "# a < b is True \n",
    "print(a < b) \n",
    "\n",
    "# a == b is False \n",
    "print(a == b) \n",
    "\n",
    "# a != b is True \n",
    "print(a != b) \n",
    "\n",
    "# a >= b is False \n",
    "print(a >= b) \n",
    "\n",
    "# a <= b is True \n",
    "print(a <= b) "
   ]
  },
  {
   "cell_type": "code",
   "execution_count": null,
   "id": "280568b8",
   "metadata": {},
   "outputs": [],
   "source": [
    "3.LOGICAL OPERATORS: Logical operators perform Logical AND, Logical OR and Logical NOT operations.\n",
    "\n",
    "OPERATOR\tDESCRIPTION                                            \tSYNTAX\n",
    "and\tLogical AND: True if both the operands are true\t                 x and y\n",
    "or\tLogical OR: True if either of the operands is true\t             x or y\n",
    "not\tLogical NOT: True if operand is false\t                         not x"
   ]
  },
  {
   "cell_type": "code",
   "execution_count": 3,
   "id": "9a16d1b4",
   "metadata": {},
   "outputs": [
    {
     "name": "stdout",
     "output_type": "stream",
     "text": [
      "False\n",
      "True\n",
      "False\n"
     ]
    }
   ],
   "source": [
    "# Examples of Logical Operator \n",
    "a = True\n",
    "b = False\n",
    "\n",
    "# Print a and b is False \n",
    "print(a and b) \n",
    "\n",
    "# Print a or b is True \n",
    "print(a or b) \n",
    "\n",
    "# Print not a is False \n",
    "print(not a) "
   ]
  },
  {
   "cell_type": "code",
   "execution_count": null,
   "id": "39b01cf2",
   "metadata": {},
   "outputs": [],
   "source": [
    "4.BITWISE OPERATORS: Bitwise operators acts on bits and performs bit by bit operation.\n",
    "\n",
    "OPERATOR\tDESCRIPTION\t             SYNTAX\n",
    "&\tBitwise AND\t                     x & y\n",
    "|\tBitwise OR\t                     x | y\n",
    "~\tBitwise NOT\t                     ~x\n",
    "^\tBitwise XOR\t                     x ^ y\n",
    ">>\tBitwise right shift\t             x>>\n",
    "<<\tBitwise left shift\t             x<<"
   ]
  },
  {
   "cell_type": "code",
   "execution_count": 6,
   "id": "15f3b32c",
   "metadata": {},
   "outputs": [
    {
     "name": "stdout",
     "output_type": "stream",
     "text": [
      "0\n",
      "12\n",
      "-9\n",
      "12\n",
      "2\n",
      "32\n"
     ]
    }
   ],
   "source": [
    "# Examples of Bitwise operators \n",
    "a = 8\n",
    "b = 4\n",
    "\n",
    "# Print bitwise AND operation \n",
    "print(a & b) \n",
    "\n",
    "# Print bitwise OR operation \n",
    "print(a | b) \n",
    "\n",
    "# Print bitwise NOT operation \n",
    "print(~a) \n",
    "\n",
    "# print bitwise XOR operation \n",
    "print(a ^ b) \n",
    "\n",
    "# print bitwise right shift operation \n",
    "print(a >> 2) \n",
    "\n",
    "# print bitwise left shift operation \n",
    "print(a << 2) "
   ]
  },
  {
   "cell_type": "code",
   "execution_count": null,
   "id": "eeca31de",
   "metadata": {},
   "outputs": [],
   "source": [
    "5.ASSIGNMENT OPERATORS: Assignment operators are used to assign values to the variables.\n",
    "\n",
    "PERATOR\tDESCRIPTION\t                                                                                                                   SYNTAX\n",
    "=\tAssign value of right side of expression to left side operand                                                                   \tx = y + z\n",
    "+=\tAdd AND: Add right side operand with left side operand and then assign to left operand\t                 a+=b     a=a+b\n",
    "-=\tSubtract AND: Subtract right operand from left operand and then assign to left operand\t                 a-=b       a=a-b\n",
    "*=\tMultiply AND: Multiply right operand with left operand and then assign to left operand\t                 a*=b       a=a*b\n",
    "/=\tDivide AND: Divide left operand with right operand and then assign to left operand\t                                   a/=b         a=a/b\n",
    "%=\tModulus AND: Takes modulus using left and right operands and assign result to left operand\t                 a%=b   a=a%b\n",
    "//=\tDivide(floor) AND: Divide left operand with right operand and then assign the value(floor) to left operand\ta//=b       a=a//b\n",
    "**=\tExponent AND: Calculate exponent(raise power) value using operands and assign value to left operand\ta**=b     a=a**b\n",
    "&=\tPerforms Bitwise AND on operands and assign value to left operand\t                                                    a&=b     a=a&b\n",
    "|=\tPerforms Bitwise OR on operands and assign value to left operand\t                                                     a|=b         a=a|b\n",
    "^=\tPerforms Bitwise xOR on operands and assign value to left operand\t                                                      a^=b       a=a^b\n",
    ">>=\tPerforms Bitwise right shift on operands and assign value to left operand\t                                                     a>>=b     a=a>>b\n",
    "<<=\tPerforms Bitwise left shift on operands and assign value to left operand\t                                                   a <<= b     a= a << b"
   ]
  },
  {
   "cell_type": "code",
   "execution_count": null,
   "id": "c8b771e2",
   "metadata": {},
   "outputs": [],
   "source": [
    "6.SPECIAL OPERATORS: There are some special type of operators like-\n",
    "\n",
    "Identity operators- \n",
    "\n",
    "is and is not are the identity operators both are used to check if two values are located on the same part of the memory. Two variables that are equal does not imply that they are identical.\n",
    "\n",
    "is          True if the operands are identical \n",
    "is not      True if the operands are not identical "
   ]
  },
  {
   "cell_type": "code",
   "execution_count": 5,
   "id": "489fde16",
   "metadata": {},
   "outputs": [
    {
     "name": "stdout",
     "output_type": "stream",
     "text": [
      "False\n",
      "True\n",
      "False\n"
     ]
    }
   ],
   "source": [
    "# Examples of Identity operators \n",
    "a1 = 3\n",
    "b1 = 3\n",
    "a2 = 'EQUIVALUE'\n",
    "b2 = 'EQUIVALUE'\n",
    "a3 = [1,2,3] \n",
    "b3 = [1,2,3] \n",
    "\n",
    "print(a1 is not b1) \n",
    "\n",
    "print(a2 is b2) \n",
    "\n",
    "# Output is False, if both are same for LIST and TUPULE\n",
    "print(a3 is b3) "
   ]
  },
  {
   "cell_type": "code",
   "execution_count": null,
   "id": "4203131d",
   "metadata": {},
   "outputs": [],
   "source": [
    "Membership operators-\n",
    "\n",
    "in and not in are the membership operators; used to test whether a value or variable is in a sequence.\n",
    "\n",
    "in            True if value is found in the sequence\n",
    "not in        True if value is not found in the sequence"
   ]
  },
  {
   "cell_type": "code",
   "execution_count": 4,
   "id": "46642698",
   "metadata": {},
   "outputs": [
    {
     "name": "stdout",
     "output_type": "stream",
     "text": [
      "True\n",
      "False\n",
      "False\n",
      "True\n",
      "False\n"
     ]
    }
   ],
   "source": [
    "\n",
    "# Examples of Membership operator \n",
    "x = 'EQUIVALUE'\n",
    "y = {3:'a',4:'b'} \n",
    "\n",
    "\n",
    "print('E' in x) \n",
    "\n",
    "print('EQUI' not in x) \n",
    "\n",
    "print('VALUE' not in x) \n",
    "\n",
    "print(3 in y) \n",
    "\n",
    "print('b' in y) "
   ]
  },
  {
   "cell_type": "code",
   "execution_count": null,
   "id": "4eef0ad5",
   "metadata": {},
   "outputs": [],
   "source": []
  }
 ],
 "metadata": {
  "kernelspec": {
   "display_name": "Python 3 (ipykernel)",
   "language": "python",
   "name": "python3"
  },
  "language_info": {
   "codemirror_mode": {
    "name": "ipython",
    "version": 3
   },
   "file_extension": ".py",
   "mimetype": "text/x-python",
   "name": "python",
   "nbconvert_exporter": "python",
   "pygments_lexer": "ipython3",
   "version": "3.11.4"
  }
 },
 "nbformat": 4,
 "nbformat_minor": 5
}
