{
 "cells": [
  {
   "cell_type": "code",
   "execution_count": 1,
   "id": "df44850c",
   "metadata": {},
   "outputs": [
    {
     "name": "stdout",
     "output_type": "stream",
     "text": [
      "64\n"
     ]
    }
   ],
   "source": [
    "# showing difference between def() and lambda(). \n",
    "#def cube(y): \n",
    "#    return y*y*y \n",
    "\n",
    "g = lambda x: x*x*x \n",
    "print(g(4)) \n",
    "\n",
    "#print(cube(4)) "
   ]
  },
  {
   "cell_type": "code",
   "execution_count": 2,
   "id": "9fad5627",
   "metadata": {},
   "outputs": [
    {
     "name": "stdout",
     "output_type": "stream",
     "text": [
      "[3, 5, 7, 9, 11]\n"
     ]
    }
   ],
   "source": [
    "# filter() with lambda() \n",
    "l1 = [2,3,4,5,6,7,8,9,10,11,12] \n",
    "final_list = list(filter(lambda x: (x%2 != 0) , l1)) \n",
    "print(final_list) "
   ]
  },
  {
   "cell_type": "code",
   "execution_count": 3,
   "id": "b42f39eb",
   "metadata": {},
   "outputs": [
    {
     "name": "stdout",
     "output_type": "stream",
     "text": [
      "[4, 10, 22, 40, 50, 102, 52]\n"
     ]
    }
   ],
   "source": [
    "# map() with lambda() \n",
    "# to get double of a list. \n",
    "li = [2,5,11,20,25,51,26] \n",
    "final_list = list(map(lambda x: x*2 , li)) \n",
    "print(final_list) "
   ]
  },
  {
   "cell_type": "code",
   "execution_count": 4,
   "id": "b54bf03e",
   "metadata": {},
   "outputs": [
    {
     "name": "stdout",
     "output_type": "stream",
     "text": [
      "68\n"
     ]
    }
   ],
   "source": [
    "# reduce() with lambda() \n",
    "# to get sum of a list \n",
    "from functools import reduce\n",
    "l1 = [1,2,5,10,50] \n",
    "sum = reduce((lambda x, y: x + y), l1) \n",
    "print (sum) "
   ]
  },
  {
   "cell_type": "code",
   "execution_count": 5,
   "id": "6e10d353",
   "metadata": {},
   "outputs": [
    {
     "name": "stdout",
     "output_type": "stream",
     "text": [
      "16\n"
     ]
    }
   ],
   "source": [
    "def sqre(x):\n",
    "    c = x*x\n",
    "    print(c)\n",
    "sqre(4)"
   ]
  },
  {
   "cell_type": "code",
   "execution_count": 6,
   "id": "17ecc44c",
   "metadata": {},
   "outputs": [
    {
     "name": "stdout",
     "output_type": "stream",
     "text": [
      "16\n"
     ]
    }
   ],
   "source": [
    "d = lambda x: x*x\n",
    "print(d(4))"
   ]
  },
  {
   "cell_type": "code",
   "execution_count": 7,
   "id": "6c7017e2",
   "metadata": {},
   "outputs": [
    {
     "name": "stdout",
     "output_type": "stream",
     "text": [
      "[2, 4, 6, 8, 10]\n"
     ]
    }
   ],
   "source": [
    "l1 = [2,4,6,8,7,9,10,15]\n",
    "g = list(filter(lambda x: (x%2 == 0),l1))\n",
    "print(g)"
   ]
  },
  {
   "cell_type": "code",
   "execution_count": 8,
   "id": "8812ee0e",
   "metadata": {},
   "outputs": [
    {
     "name": "stdout",
     "output_type": "stream",
     "text": [
      "[-4, -8, -10, -30]\n"
     ]
    }
   ],
   "source": [
    "l1 = [1,3,5,-4,-8,-10,15,-30]\n",
    "e = list(filter(lambda y: (y < 0),l1))\n",
    "print(e)"
   ]
  },
  {
   "cell_type": "code",
   "execution_count": 9,
   "id": "8892417d",
   "metadata": {},
   "outputs": [
    {
     "name": "stdout",
     "output_type": "stream",
     "text": [
      "[4, 10, 22, 40, 50, 102, 52]\n"
     ]
    }
   ],
   "source": [
    "li = [2,5,11,20,25,51,26] \n",
    "final_list = list(map(lambda x: x*2 , li)) \n",
    "print(final_list)"
   ]
  },
  {
   "cell_type": "code",
   "execution_count": 10,
   "id": "5f55c767",
   "metadata": {},
   "outputs": [
    {
     "name": "stdout",
     "output_type": "stream",
     "text": [
      "[4, 7, 13, 22, 27, 53, 28]\n"
     ]
    }
   ],
   "source": [
    "li = [2,5,11,20,25,51,26] \n",
    "final_list = list(map(lambda x: x+2 , li)) \n",
    "print(final_list)"
   ]
  },
  {
   "cell_type": "code",
   "execution_count": null,
   "id": "ed59eb94",
   "metadata": {},
   "outputs": [],
   "source": []
  }
 ],
 "metadata": {
  "kernelspec": {
   "display_name": "Python 3 (ipykernel)",
   "language": "python",
   "name": "python3"
  },
  "language_info": {
   "codemirror_mode": {
    "name": "ipython",
    "version": 3
   },
   "file_extension": ".py",
   "mimetype": "text/x-python",
   "name": "python",
   "nbconvert_exporter": "python",
   "pygments_lexer": "ipython3",
   "version": "3.11.4"
  }
 },
 "nbformat": 4,
 "nbformat_minor": 5
}
