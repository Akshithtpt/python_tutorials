{
 "cells": [
  {
   "cell_type": "code",
   "execution_count": 1,
   "id": "92f4dc69",
   "metadata": {},
   "outputs": [],
   "source": [
    "import openpyxl"
   ]
  },
  {
   "cell_type": "code",
   "execution_count": 3,
   "id": "ca6dce36",
   "metadata": {},
   "outputs": [],
   "source": [
    "from openpyxl.workbook import Workbook\n",
    "from openpyxl import load_workbook"
   ]
  },
  {
   "cell_type": "code",
   "execution_count": 16,
   "id": "d00ff183",
   "metadata": {},
   "outputs": [
    {
     "name": "stdout",
     "output_type": "stream",
     "text": [
      "Cumings, Mrs. John Bradley (Florence Briggs Thayer):female\n"
     ]
    }
   ],
   "source": [
    "#create workbook object\n",
    "\n",
    "#wb = Workbook()\n",
    "\n",
    "#load exsisiting workbook\n",
    "\n",
    "wb = load_workbook('titanic.xlsx')\n",
    "\n",
    "#create new active worksheet\n",
    "\n",
    "ws = wb.active\n",
    "\n",
    "#print something from worksheet\n",
    "\n",
    "#print(ws[\"D3\"].value)\n",
    "print(f'{ws[\"D3\"].value}:{ws[\"e3\"].value}')"
   ]
  },
  {
   "cell_type": "code",
   "execution_count": 34,
   "id": "19d7e113",
   "metadata": {},
   "outputs": [
    {
     "name": "stdout",
     "output_type": "stream",
     "text": [
      "['Instructions', 'SalesOrders', 'MyLinks']\n",
      "<Worksheet \"SalesOrders\">\n",
      "<Worksheet \"MyLinks\">\n"
     ]
    }
   ],
   "source": [
    "from openpyxl.workbook import Workbook\n",
    "from openpyxl import load_workbook\n",
    "wb = load_workbook('Sampledata.xlsx')\n",
    "\n",
    "#checking number of work sheet under workbook\n",
    "\n",
    "print(wb.sheetnames)\n",
    "\n",
    "#how to select one work sheet\n",
    "\n",
    "ws = wb['SalesOrders']\n",
    "print(ws)\n",
    "\n",
    "ws1 = wb['MyLinks']\n",
    "print(ws1)"
   ]
  },
  {
   "cell_type": "code",
   "execution_count": 35,
   "id": "afa967e8",
   "metadata": {},
   "outputs": [
    {
     "name": "stdout",
     "output_type": "stream",
     "text": [
      "['Instructions', 'SalesOrders', 'MyLinks', 'newsheet']\n"
     ]
    }
   ],
   "source": [
    "#creating new sheet\n",
    "\n",
    "from openpyxl.workbook import Workbook\n",
    "from openpyxl import load_workbook\n",
    "wb = load_workbook('Sampledata.xlsx')\n",
    "\n",
    "wb.create_sheet('newsheet')\n",
    "wb.save('Sampledata.xlsx') #this is mandatory to save file\n",
    "\n",
    "print(wb.sheetnames)"
   ]
  },
  {
   "cell_type": "code",
   "execution_count": 36,
   "id": "519960a2",
   "metadata": {},
   "outputs": [
    {
     "name": "stdout",
     "output_type": "stream",
     "text": [
      "['newsheet1', 'Instructions', 'SalesOrders', 'MyLinks', 'newsheet']\n"
     ]
    }
   ],
   "source": [
    "#if we need to create a sheet in certain location then we need to pass index value, it starts with 0\n",
    "\n",
    "from openpyxl.workbook import Workbook\n",
    "from openpyxl import load_workbook\n",
    "wb = load_workbook('Sampledata.xlsx')\n",
    "\n",
    "wb.create_sheet('newsheet1',0)\n",
    "wb.save('Sampledata.xlsx') #this is mandatory to save file\n",
    "\n",
    "print(wb.sheetnames)"
   ]
  },
  {
   "cell_type": "code",
   "execution_count": 17,
   "id": "38710b3c",
   "metadata": {},
   "outputs": [
    {
     "name": "stdout",
     "output_type": "stream",
     "text": [
      "Cumings, Mrs. John Bradley (Florence Briggs Thayer):female\n"
     ]
    }
   ],
   "source": [
    "from openpyxl.workbook import Workbook\n",
    "from openpyxl import load_workbook\n",
    "wb = load_workbook('titanic.xlsx')\n",
    "\n",
    "#create new active worksheet\n",
    "\n",
    "ws = wb.active # this can also be written as ws = wb['worksheet name']\n",
    "\n",
    "#set variables\n",
    "\n",
    "name = ws[\"D3\"].value\n",
    "sex = ws[\"e3\"].value\n",
    "\n",
    "#print something from worksheet\n",
    "\n",
    "#print(ws[\"D3\"].value)\n",
    "print(f'{name}:{sex}')"
   ]
  },
  {
   "cell_type": "code",
   "execution_count": 41,
   "id": "be53dd48",
   "metadata": {},
   "outputs": [
    {
     "name": "stdout",
     "output_type": "stream",
     "text": [
      "Central\n"
     ]
    }
   ],
   "source": [
    "from openpyxl.workbook import Workbook\n",
    "from openpyxl import load_workbook\n",
    "wb = load_workbook('Sampledata.xlsx')\n",
    "\n",
    "#create new active worksheet\n",
    "\n",
    "ws = wb['SalesOrders']\n",
    "\n",
    "print(ws.cell(row=3,column=2).value)"
   ]
  },
  {
   "cell_type": "code",
   "execution_count": 18,
   "id": "853fe538",
   "metadata": {},
   "outputs": [
    {
     "name": "stdout",
     "output_type": "stream",
     "text": [
      "(<Cell 'passengers'.A1>, <Cell 'passengers'.A2>, <Cell 'passengers'.A3>, <Cell 'passengers'.A4>, <Cell 'passengers'.A5>, <Cell 'passengers'.A6>, <Cell 'passengers'.A7>, <Cell 'passengers'.A8>, <Cell 'passengers'.A9>, <Cell 'passengers'.A10>, <Cell 'passengers'.A11>, <Cell 'passengers'.A12>, <Cell 'passengers'.A13>, <Cell 'passengers'.A14>, <Cell 'passengers'.A15>, <Cell 'passengers'.A16>, <Cell 'passengers'.A17>, <Cell 'passengers'.A18>, <Cell 'passengers'.A19>, <Cell 'passengers'.A20>, <Cell 'passengers'.A21>, <Cell 'passengers'.A22>, <Cell 'passengers'.A23>, <Cell 'passengers'.A24>, <Cell 'passengers'.A25>, <Cell 'passengers'.A26>, <Cell 'passengers'.A27>, <Cell 'passengers'.A28>, <Cell 'passengers'.A29>, <Cell 'passengers'.A30>, <Cell 'passengers'.A31>, <Cell 'passengers'.A32>, <Cell 'passengers'.A33>, <Cell 'passengers'.A34>, <Cell 'passengers'.A35>, <Cell 'passengers'.A36>, <Cell 'passengers'.A37>, <Cell 'passengers'.A38>, <Cell 'passengers'.A39>, <Cell 'passengers'.A40>, <Cell 'passengers'.A41>, <Cell 'passengers'.A42>, <Cell 'passengers'.A43>, <Cell 'passengers'.A44>, <Cell 'passengers'.A45>, <Cell 'passengers'.A46>, <Cell 'passengers'.A47>, <Cell 'passengers'.A48>, <Cell 'passengers'.A49>, <Cell 'passengers'.A50>, <Cell 'passengers'.A51>, <Cell 'passengers'.A52>, <Cell 'passengers'.A53>, <Cell 'passengers'.A54>, <Cell 'passengers'.A55>, <Cell 'passengers'.A56>, <Cell 'passengers'.A57>, <Cell 'passengers'.A58>, <Cell 'passengers'.A59>, <Cell 'passengers'.A60>, <Cell 'passengers'.A61>, <Cell 'passengers'.A62>, <Cell 'passengers'.A63>, <Cell 'passengers'.A64>, <Cell 'passengers'.A65>, <Cell 'passengers'.A66>, <Cell 'passengers'.A67>, <Cell 'passengers'.A68>, <Cell 'passengers'.A69>, <Cell 'passengers'.A70>, <Cell 'passengers'.A71>, <Cell 'passengers'.A72>, <Cell 'passengers'.A73>, <Cell 'passengers'.A74>, <Cell 'passengers'.A75>, <Cell 'passengers'.A76>, <Cell 'passengers'.A77>, <Cell 'passengers'.A78>, <Cell 'passengers'.A79>, <Cell 'passengers'.A80>, <Cell 'passengers'.A81>, <Cell 'passengers'.A82>, <Cell 'passengers'.A83>, <Cell 'passengers'.A84>, <Cell 'passengers'.A85>, <Cell 'passengers'.A86>, <Cell 'passengers'.A87>, <Cell 'passengers'.A88>, <Cell 'passengers'.A89>, <Cell 'passengers'.A90>, <Cell 'passengers'.A91>, <Cell 'passengers'.A92>, <Cell 'passengers'.A93>, <Cell 'passengers'.A94>, <Cell 'passengers'.A95>, <Cell 'passengers'.A96>, <Cell 'passengers'.A97>, <Cell 'passengers'.A98>, <Cell 'passengers'.A99>, <Cell 'passengers'.A100>, <Cell 'passengers'.A101>, <Cell 'passengers'.A102>, <Cell 'passengers'.A103>, <Cell 'passengers'.A104>, <Cell 'passengers'.A105>, <Cell 'passengers'.A106>, <Cell 'passengers'.A107>, <Cell 'passengers'.A108>, <Cell 'passengers'.A109>, <Cell 'passengers'.A110>, <Cell 'passengers'.A111>, <Cell 'passengers'.A112>, <Cell 'passengers'.A113>, <Cell 'passengers'.A114>, <Cell 'passengers'.A115>, <Cell 'passengers'.A116>, <Cell 'passengers'.A117>, <Cell 'passengers'.A118>, <Cell 'passengers'.A119>, <Cell 'passengers'.A120>, <Cell 'passengers'.A121>, <Cell 'passengers'.A122>, <Cell 'passengers'.A123>, <Cell 'passengers'.A124>, <Cell 'passengers'.A125>, <Cell 'passengers'.A126>, <Cell 'passengers'.A127>, <Cell 'passengers'.A128>, <Cell 'passengers'.A129>, <Cell 'passengers'.A130>, <Cell 'passengers'.A131>, <Cell 'passengers'.A132>, <Cell 'passengers'.A133>, <Cell 'passengers'.A134>, <Cell 'passengers'.A135>, <Cell 'passengers'.A136>, <Cell 'passengers'.A137>, <Cell 'passengers'.A138>, <Cell 'passengers'.A139>, <Cell 'passengers'.A140>, <Cell 'passengers'.A141>, <Cell 'passengers'.A142>, <Cell 'passengers'.A143>, <Cell 'passengers'.A144>, <Cell 'passengers'.A145>, <Cell 'passengers'.A146>, <Cell 'passengers'.A147>, <Cell 'passengers'.A148>, <Cell 'passengers'.A149>, <Cell 'passengers'.A150>, <Cell 'passengers'.A151>, <Cell 'passengers'.A152>, <Cell 'passengers'.A153>, <Cell 'passengers'.A154>, <Cell 'passengers'.A155>, <Cell 'passengers'.A156>, <Cell 'passengers'.A157>, <Cell 'passengers'.A158>, <Cell 'passengers'.A159>, <Cell 'passengers'.A160>, <Cell 'passengers'.A161>, <Cell 'passengers'.A162>, <Cell 'passengers'.A163>, <Cell 'passengers'.A164>, <Cell 'passengers'.A165>, <Cell 'passengers'.A166>, <Cell 'passengers'.A167>, <Cell 'passengers'.A168>, <Cell 'passengers'.A169>, <Cell 'passengers'.A170>, <Cell 'passengers'.A171>, <Cell 'passengers'.A172>, <Cell 'passengers'.A173>, <Cell 'passengers'.A174>, <Cell 'passengers'.A175>, <Cell 'passengers'.A176>, <Cell 'passengers'.A177>, <Cell 'passengers'.A178>, <Cell 'passengers'.A179>, <Cell 'passengers'.A180>, <Cell 'passengers'.A181>, <Cell 'passengers'.A182>, <Cell 'passengers'.A183>, <Cell 'passengers'.A184>, <Cell 'passengers'.A185>, <Cell 'passengers'.A186>, <Cell 'passengers'.A187>, <Cell 'passengers'.A188>, <Cell 'passengers'.A189>, <Cell 'passengers'.A190>, <Cell 'passengers'.A191>, <Cell 'passengers'.A192>, <Cell 'passengers'.A193>, <Cell 'passengers'.A194>, <Cell 'passengers'.A195>, <Cell 'passengers'.A196>, <Cell 'passengers'.A197>, <Cell 'passengers'.A198>, <Cell 'passengers'.A199>, <Cell 'passengers'.A200>, <Cell 'passengers'.A201>, <Cell 'passengers'.A202>, <Cell 'passengers'.A203>, <Cell 'passengers'.A204>, <Cell 'passengers'.A205>, <Cell 'passengers'.A206>, <Cell 'passengers'.A207>, <Cell 'passengers'.A208>, <Cell 'passengers'.A209>, <Cell 'passengers'.A210>, <Cell 'passengers'.A211>, <Cell 'passengers'.A212>, <Cell 'passengers'.A213>, <Cell 'passengers'.A214>, <Cell 'passengers'.A215>, <Cell 'passengers'.A216>, <Cell 'passengers'.A217>, <Cell 'passengers'.A218>, <Cell 'passengers'.A219>, <Cell 'passengers'.A220>, <Cell 'passengers'.A221>, <Cell 'passengers'.A222>, <Cell 'passengers'.A223>, <Cell 'passengers'.A224>, <Cell 'passengers'.A225>, <Cell 'passengers'.A226>, <Cell 'passengers'.A227>, <Cell 'passengers'.A228>, <Cell 'passengers'.A229>, <Cell 'passengers'.A230>, <Cell 'passengers'.A231>, <Cell 'passengers'.A232>, <Cell 'passengers'.A233>, <Cell 'passengers'.A234>, <Cell 'passengers'.A235>, <Cell 'passengers'.A236>, <Cell 'passengers'.A237>, <Cell 'passengers'.A238>, <Cell 'passengers'.A239>, <Cell 'passengers'.A240>, <Cell 'passengers'.A241>, <Cell 'passengers'.A242>, <Cell 'passengers'.A243>, <Cell 'passengers'.A244>, <Cell 'passengers'.A245>, <Cell 'passengers'.A246>, <Cell 'passengers'.A247>, <Cell 'passengers'.A248>, <Cell 'passengers'.A249>, <Cell 'passengers'.A250>, <Cell 'passengers'.A251>, <Cell 'passengers'.A252>, <Cell 'passengers'.A253>, <Cell 'passengers'.A254>, <Cell 'passengers'.A255>, <Cell 'passengers'.A256>, <Cell 'passengers'.A257>, <Cell 'passengers'.A258>, <Cell 'passengers'.A259>, <Cell 'passengers'.A260>, <Cell 'passengers'.A261>, <Cell 'passengers'.A262>, <Cell 'passengers'.A263>, <Cell 'passengers'.A264>, <Cell 'passengers'.A265>, <Cell 'passengers'.A266>, <Cell 'passengers'.A267>, <Cell 'passengers'.A268>, <Cell 'passengers'.A269>, <Cell 'passengers'.A270>, <Cell 'passengers'.A271>, <Cell 'passengers'.A272>, <Cell 'passengers'.A273>, <Cell 'passengers'.A274>, <Cell 'passengers'.A275>, <Cell 'passengers'.A276>, <Cell 'passengers'.A277>, <Cell 'passengers'.A278>, <Cell 'passengers'.A279>, <Cell 'passengers'.A280>, <Cell 'passengers'.A281>, <Cell 'passengers'.A282>, <Cell 'passengers'.A283>, <Cell 'passengers'.A284>, <Cell 'passengers'.A285>, <Cell 'passengers'.A286>, <Cell 'passengers'.A287>, <Cell 'passengers'.A288>, <Cell 'passengers'.A289>, <Cell 'passengers'.A290>, <Cell 'passengers'.A291>, <Cell 'passengers'.A292>, <Cell 'passengers'.A293>, <Cell 'passengers'.A294>, <Cell 'passengers'.A295>, <Cell 'passengers'.A296>, <Cell 'passengers'.A297>, <Cell 'passengers'.A298>, <Cell 'passengers'.A299>, <Cell 'passengers'.A300>, <Cell 'passengers'.A301>, <Cell 'passengers'.A302>, <Cell 'passengers'.A303>, <Cell 'passengers'.A304>, <Cell 'passengers'.A305>, <Cell 'passengers'.A306>, <Cell 'passengers'.A307>, <Cell 'passengers'.A308>, <Cell 'passengers'.A309>, <Cell 'passengers'.A310>, <Cell 'passengers'.A311>, <Cell 'passengers'.A312>, <Cell 'passengers'.A313>, <Cell 'passengers'.A314>, <Cell 'passengers'.A315>, <Cell 'passengers'.A316>, <Cell 'passengers'.A317>, <Cell 'passengers'.A318>, <Cell 'passengers'.A319>, <Cell 'passengers'.A320>, <Cell 'passengers'.A321>, <Cell 'passengers'.A322>, <Cell 'passengers'.A323>, <Cell 'passengers'.A324>, <Cell 'passengers'.A325>, <Cell 'passengers'.A326>, <Cell 'passengers'.A327>, <Cell 'passengers'.A328>, <Cell 'passengers'.A329>, <Cell 'passengers'.A330>, <Cell 'passengers'.A331>, <Cell 'passengers'.A332>, <Cell 'passengers'.A333>, <Cell 'passengers'.A334>, <Cell 'passengers'.A335>, <Cell 'passengers'.A336>, <Cell 'passengers'.A337>, <Cell 'passengers'.A338>, <Cell 'passengers'.A339>, <Cell 'passengers'.A340>, <Cell 'passengers'.A341>, <Cell 'passengers'.A342>, <Cell 'passengers'.A343>, <Cell 'passengers'.A344>, <Cell 'passengers'.A345>, <Cell 'passengers'.A346>, <Cell 'passengers'.A347>, <Cell 'passengers'.A348>, <Cell 'passengers'.A349>, <Cell 'passengers'.A350>, <Cell 'passengers'.A351>, <Cell 'passengers'.A352>, <Cell 'passengers'.A353>, <Cell 'passengers'.A354>, <Cell 'passengers'.A355>, <Cell 'passengers'.A356>, <Cell 'passengers'.A357>, <Cell 'passengers'.A358>, <Cell 'passengers'.A359>, <Cell 'passengers'.A360>, <Cell 'passengers'.A361>, <Cell 'passengers'.A362>, <Cell 'passengers'.A363>, <Cell 'passengers'.A364>, <Cell 'passengers'.A365>, <Cell 'passengers'.A366>, <Cell 'passengers'.A367>, <Cell 'passengers'.A368>, <Cell 'passengers'.A369>, <Cell 'passengers'.A370>, <Cell 'passengers'.A371>, <Cell 'passengers'.A372>, <Cell 'passengers'.A373>, <Cell 'passengers'.A374>, <Cell 'passengers'.A375>, <Cell 'passengers'.A376>, <Cell 'passengers'.A377>, <Cell 'passengers'.A378>, <Cell 'passengers'.A379>, <Cell 'passengers'.A380>, <Cell 'passengers'.A381>, <Cell 'passengers'.A382>, <Cell 'passengers'.A383>, <Cell 'passengers'.A384>, <Cell 'passengers'.A385>, <Cell 'passengers'.A386>, <Cell 'passengers'.A387>, <Cell 'passengers'.A388>, <Cell 'passengers'.A389>, <Cell 'passengers'.A390>, <Cell 'passengers'.A391>, <Cell 'passengers'.A392>, <Cell 'passengers'.A393>, <Cell 'passengers'.A394>, <Cell 'passengers'.A395>, <Cell 'passengers'.A396>, <Cell 'passengers'.A397>, <Cell 'passengers'.A398>, <Cell 'passengers'.A399>, <Cell 'passengers'.A400>, <Cell 'passengers'.A401>, <Cell 'passengers'.A402>, <Cell 'passengers'.A403>, <Cell 'passengers'.A404>, <Cell 'passengers'.A405>, <Cell 'passengers'.A406>, <Cell 'passengers'.A407>, <Cell 'passengers'.A408>, <Cell 'passengers'.A409>, <Cell 'passengers'.A410>, <Cell 'passengers'.A411>, <Cell 'passengers'.A412>, <Cell 'passengers'.A413>, <Cell 'passengers'.A414>, <Cell 'passengers'.A415>, <Cell 'passengers'.A416>, <Cell 'passengers'.A417>, <Cell 'passengers'.A418>, <Cell 'passengers'.A419>, <Cell 'passengers'.A420>, <Cell 'passengers'.A421>, <Cell 'passengers'.A422>, <Cell 'passengers'.A423>, <Cell 'passengers'.A424>, <Cell 'passengers'.A425>, <Cell 'passengers'.A426>, <Cell 'passengers'.A427>, <Cell 'passengers'.A428>, <Cell 'passengers'.A429>, <Cell 'passengers'.A430>, <Cell 'passengers'.A431>, <Cell 'passengers'.A432>, <Cell 'passengers'.A433>, <Cell 'passengers'.A434>, <Cell 'passengers'.A435>, <Cell 'passengers'.A436>, <Cell 'passengers'.A437>, <Cell 'passengers'.A438>, <Cell 'passengers'.A439>, <Cell 'passengers'.A440>, <Cell 'passengers'.A441>, <Cell 'passengers'.A442>, <Cell 'passengers'.A443>, <Cell 'passengers'.A444>, <Cell 'passengers'.A445>, <Cell 'passengers'.A446>, <Cell 'passengers'.A447>, <Cell 'passengers'.A448>, <Cell 'passengers'.A449>, <Cell 'passengers'.A450>, <Cell 'passengers'.A451>, <Cell 'passengers'.A452>, <Cell 'passengers'.A453>, <Cell 'passengers'.A454>, <Cell 'passengers'.A455>, <Cell 'passengers'.A456>, <Cell 'passengers'.A457>, <Cell 'passengers'.A458>, <Cell 'passengers'.A459>, <Cell 'passengers'.A460>, <Cell 'passengers'.A461>, <Cell 'passengers'.A462>, <Cell 'passengers'.A463>, <Cell 'passengers'.A464>, <Cell 'passengers'.A465>, <Cell 'passengers'.A466>, <Cell 'passengers'.A467>, <Cell 'passengers'.A468>, <Cell 'passengers'.A469>, <Cell 'passengers'.A470>, <Cell 'passengers'.A471>, <Cell 'passengers'.A472>, <Cell 'passengers'.A473>, <Cell 'passengers'.A474>, <Cell 'passengers'.A475>, <Cell 'passengers'.A476>, <Cell 'passengers'.A477>, <Cell 'passengers'.A478>, <Cell 'passengers'.A479>, <Cell 'passengers'.A480>, <Cell 'passengers'.A481>, <Cell 'passengers'.A482>, <Cell 'passengers'.A483>, <Cell 'passengers'.A484>, <Cell 'passengers'.A485>, <Cell 'passengers'.A486>, <Cell 'passengers'.A487>, <Cell 'passengers'.A488>, <Cell 'passengers'.A489>, <Cell 'passengers'.A490>, <Cell 'passengers'.A491>, <Cell 'passengers'.A492>, <Cell 'passengers'.A493>, <Cell 'passengers'.A494>, <Cell 'passengers'.A495>, <Cell 'passengers'.A496>, <Cell 'passengers'.A497>, <Cell 'passengers'.A498>, <Cell 'passengers'.A499>, <Cell 'passengers'.A500>, <Cell 'passengers'.A501>, <Cell 'passengers'.A502>, <Cell 'passengers'.A503>, <Cell 'passengers'.A504>, <Cell 'passengers'.A505>, <Cell 'passengers'.A506>, <Cell 'passengers'.A507>, <Cell 'passengers'.A508>, <Cell 'passengers'.A509>, <Cell 'passengers'.A510>, <Cell 'passengers'.A511>, <Cell 'passengers'.A512>, <Cell 'passengers'.A513>, <Cell 'passengers'.A514>, <Cell 'passengers'.A515>, <Cell 'passengers'.A516>, <Cell 'passengers'.A517>, <Cell 'passengers'.A518>, <Cell 'passengers'.A519>, <Cell 'passengers'.A520>, <Cell 'passengers'.A521>, <Cell 'passengers'.A522>, <Cell 'passengers'.A523>, <Cell 'passengers'.A524>, <Cell 'passengers'.A525>, <Cell 'passengers'.A526>, <Cell 'passengers'.A527>, <Cell 'passengers'.A528>, <Cell 'passengers'.A529>, <Cell 'passengers'.A530>, <Cell 'passengers'.A531>, <Cell 'passengers'.A532>, <Cell 'passengers'.A533>, <Cell 'passengers'.A534>, <Cell 'passengers'.A535>, <Cell 'passengers'.A536>, <Cell 'passengers'.A537>, <Cell 'passengers'.A538>, <Cell 'passengers'.A539>, <Cell 'passengers'.A540>, <Cell 'passengers'.A541>, <Cell 'passengers'.A542>, <Cell 'passengers'.A543>, <Cell 'passengers'.A544>, <Cell 'passengers'.A545>, <Cell 'passengers'.A546>, <Cell 'passengers'.A547>, <Cell 'passengers'.A548>, <Cell 'passengers'.A549>, <Cell 'passengers'.A550>, <Cell 'passengers'.A551>, <Cell 'passengers'.A552>, <Cell 'passengers'.A553>, <Cell 'passengers'.A554>, <Cell 'passengers'.A555>, <Cell 'passengers'.A556>, <Cell 'passengers'.A557>, <Cell 'passengers'.A558>, <Cell 'passengers'.A559>, <Cell 'passengers'.A560>, <Cell 'passengers'.A561>, <Cell 'passengers'.A562>, <Cell 'passengers'.A563>, <Cell 'passengers'.A564>, <Cell 'passengers'.A565>, <Cell 'passengers'.A566>, <Cell 'passengers'.A567>, <Cell 'passengers'.A568>, <Cell 'passengers'.A569>, <Cell 'passengers'.A570>, <Cell 'passengers'.A571>, <Cell 'passengers'.A572>, <Cell 'passengers'.A573>, <Cell 'passengers'.A574>, <Cell 'passengers'.A575>, <Cell 'passengers'.A576>, <Cell 'passengers'.A577>, <Cell 'passengers'.A578>, <Cell 'passengers'.A579>, <Cell 'passengers'.A580>, <Cell 'passengers'.A581>, <Cell 'passengers'.A582>, <Cell 'passengers'.A583>, <Cell 'passengers'.A584>, <Cell 'passengers'.A585>, <Cell 'passengers'.A586>, <Cell 'passengers'.A587>, <Cell 'passengers'.A588>, <Cell 'passengers'.A589>, <Cell 'passengers'.A590>, <Cell 'passengers'.A591>, <Cell 'passengers'.A592>, <Cell 'passengers'.A593>, <Cell 'passengers'.A594>, <Cell 'passengers'.A595>, <Cell 'passengers'.A596>, <Cell 'passengers'.A597>, <Cell 'passengers'.A598>, <Cell 'passengers'.A599>, <Cell 'passengers'.A600>, <Cell 'passengers'.A601>, <Cell 'passengers'.A602>, <Cell 'passengers'.A603>, <Cell 'passengers'.A604>, <Cell 'passengers'.A605>, <Cell 'passengers'.A606>, <Cell 'passengers'.A607>, <Cell 'passengers'.A608>, <Cell 'passengers'.A609>, <Cell 'passengers'.A610>, <Cell 'passengers'.A611>, <Cell 'passengers'.A612>, <Cell 'passengers'.A613>, <Cell 'passengers'.A614>, <Cell 'passengers'.A615>, <Cell 'passengers'.A616>, <Cell 'passengers'.A617>, <Cell 'passengers'.A618>, <Cell 'passengers'.A619>, <Cell 'passengers'.A620>, <Cell 'passengers'.A621>, <Cell 'passengers'.A622>, <Cell 'passengers'.A623>, <Cell 'passengers'.A624>, <Cell 'passengers'.A625>, <Cell 'passengers'.A626>, <Cell 'passengers'.A627>, <Cell 'passengers'.A628>, <Cell 'passengers'.A629>, <Cell 'passengers'.A630>, <Cell 'passengers'.A631>, <Cell 'passengers'.A632>, <Cell 'passengers'.A633>, <Cell 'passengers'.A634>, <Cell 'passengers'.A635>, <Cell 'passengers'.A636>, <Cell 'passengers'.A637>, <Cell 'passengers'.A638>, <Cell 'passengers'.A639>, <Cell 'passengers'.A640>, <Cell 'passengers'.A641>, <Cell 'passengers'.A642>, <Cell 'passengers'.A643>, <Cell 'passengers'.A644>, <Cell 'passengers'.A645>, <Cell 'passengers'.A646>, <Cell 'passengers'.A647>, <Cell 'passengers'.A648>, <Cell 'passengers'.A649>, <Cell 'passengers'.A650>, <Cell 'passengers'.A651>, <Cell 'passengers'.A652>, <Cell 'passengers'.A653>, <Cell 'passengers'.A654>, <Cell 'passengers'.A655>, <Cell 'passengers'.A656>, <Cell 'passengers'.A657>, <Cell 'passengers'.A658>, <Cell 'passengers'.A659>, <Cell 'passengers'.A660>, <Cell 'passengers'.A661>, <Cell 'passengers'.A662>, <Cell 'passengers'.A663>, <Cell 'passengers'.A664>, <Cell 'passengers'.A665>, <Cell 'passengers'.A666>, <Cell 'passengers'.A667>, <Cell 'passengers'.A668>, <Cell 'passengers'.A669>, <Cell 'passengers'.A670>, <Cell 'passengers'.A671>, <Cell 'passengers'.A672>, <Cell 'passengers'.A673>, <Cell 'passengers'.A674>, <Cell 'passengers'.A675>, <Cell 'passengers'.A676>, <Cell 'passengers'.A677>, <Cell 'passengers'.A678>, <Cell 'passengers'.A679>, <Cell 'passengers'.A680>, <Cell 'passengers'.A681>, <Cell 'passengers'.A682>, <Cell 'passengers'.A683>, <Cell 'passengers'.A684>, <Cell 'passengers'.A685>, <Cell 'passengers'.A686>, <Cell 'passengers'.A687>, <Cell 'passengers'.A688>, <Cell 'passengers'.A689>, <Cell 'passengers'.A690>, <Cell 'passengers'.A691>, <Cell 'passengers'.A692>, <Cell 'passengers'.A693>, <Cell 'passengers'.A694>, <Cell 'passengers'.A695>, <Cell 'passengers'.A696>, <Cell 'passengers'.A697>, <Cell 'passengers'.A698>, <Cell 'passengers'.A699>, <Cell 'passengers'.A700>, <Cell 'passengers'.A701>, <Cell 'passengers'.A702>, <Cell 'passengers'.A703>, <Cell 'passengers'.A704>, <Cell 'passengers'.A705>, <Cell 'passengers'.A706>, <Cell 'passengers'.A707>, <Cell 'passengers'.A708>, <Cell 'passengers'.A709>, <Cell 'passengers'.A710>, <Cell 'passengers'.A711>, <Cell 'passengers'.A712>, <Cell 'passengers'.A713>, <Cell 'passengers'.A714>, <Cell 'passengers'.A715>, <Cell 'passengers'.A716>, <Cell 'passengers'.A717>, <Cell 'passengers'.A718>, <Cell 'passengers'.A719>, <Cell 'passengers'.A720>, <Cell 'passengers'.A721>, <Cell 'passengers'.A722>, <Cell 'passengers'.A723>, <Cell 'passengers'.A724>, <Cell 'passengers'.A725>, <Cell 'passengers'.A726>, <Cell 'passengers'.A727>, <Cell 'passengers'.A728>, <Cell 'passengers'.A729>, <Cell 'passengers'.A730>, <Cell 'passengers'.A731>, <Cell 'passengers'.A732>, <Cell 'passengers'.A733>, <Cell 'passengers'.A734>, <Cell 'passengers'.A735>, <Cell 'passengers'.A736>, <Cell 'passengers'.A737>, <Cell 'passengers'.A738>, <Cell 'passengers'.A739>, <Cell 'passengers'.A740>, <Cell 'passengers'.A741>, <Cell 'passengers'.A742>, <Cell 'passengers'.A743>, <Cell 'passengers'.A744>, <Cell 'passengers'.A745>, <Cell 'passengers'.A746>, <Cell 'passengers'.A747>, <Cell 'passengers'.A748>, <Cell 'passengers'.A749>, <Cell 'passengers'.A750>, <Cell 'passengers'.A751>, <Cell 'passengers'.A752>, <Cell 'passengers'.A753>, <Cell 'passengers'.A754>, <Cell 'passengers'.A755>, <Cell 'passengers'.A756>, <Cell 'passengers'.A757>, <Cell 'passengers'.A758>, <Cell 'passengers'.A759>, <Cell 'passengers'.A760>, <Cell 'passengers'.A761>, <Cell 'passengers'.A762>, <Cell 'passengers'.A763>, <Cell 'passengers'.A764>, <Cell 'passengers'.A765>, <Cell 'passengers'.A766>, <Cell 'passengers'.A767>, <Cell 'passengers'.A768>, <Cell 'passengers'.A769>, <Cell 'passengers'.A770>, <Cell 'passengers'.A771>, <Cell 'passengers'.A772>, <Cell 'passengers'.A773>, <Cell 'passengers'.A774>, <Cell 'passengers'.A775>, <Cell 'passengers'.A776>, <Cell 'passengers'.A777>, <Cell 'passengers'.A778>, <Cell 'passengers'.A779>, <Cell 'passengers'.A780>, <Cell 'passengers'.A781>, <Cell 'passengers'.A782>, <Cell 'passengers'.A783>, <Cell 'passengers'.A784>, <Cell 'passengers'.A785>, <Cell 'passengers'.A786>, <Cell 'passengers'.A787>, <Cell 'passengers'.A788>, <Cell 'passengers'.A789>, <Cell 'passengers'.A790>, <Cell 'passengers'.A791>, <Cell 'passengers'.A792>, <Cell 'passengers'.A793>, <Cell 'passengers'.A794>, <Cell 'passengers'.A795>, <Cell 'passengers'.A796>, <Cell 'passengers'.A797>, <Cell 'passengers'.A798>, <Cell 'passengers'.A799>, <Cell 'passengers'.A800>, <Cell 'passengers'.A801>, <Cell 'passengers'.A802>, <Cell 'passengers'.A803>, <Cell 'passengers'.A804>, <Cell 'passengers'.A805>, <Cell 'passengers'.A806>, <Cell 'passengers'.A807>, <Cell 'passengers'.A808>, <Cell 'passengers'.A809>, <Cell 'passengers'.A810>, <Cell 'passengers'.A811>, <Cell 'passengers'.A812>, <Cell 'passengers'.A813>, <Cell 'passengers'.A814>, <Cell 'passengers'.A815>, <Cell 'passengers'.A816>, <Cell 'passengers'.A817>, <Cell 'passengers'.A818>, <Cell 'passengers'.A819>, <Cell 'passengers'.A820>, <Cell 'passengers'.A821>, <Cell 'passengers'.A822>, <Cell 'passengers'.A823>, <Cell 'passengers'.A824>, <Cell 'passengers'.A825>, <Cell 'passengers'.A826>, <Cell 'passengers'.A827>, <Cell 'passengers'.A828>, <Cell 'passengers'.A829>, <Cell 'passengers'.A830>, <Cell 'passengers'.A831>, <Cell 'passengers'.A832>, <Cell 'passengers'.A833>, <Cell 'passengers'.A834>, <Cell 'passengers'.A835>, <Cell 'passengers'.A836>, <Cell 'passengers'.A837>, <Cell 'passengers'.A838>, <Cell 'passengers'.A839>, <Cell 'passengers'.A840>, <Cell 'passengers'.A841>, <Cell 'passengers'.A842>, <Cell 'passengers'.A843>, <Cell 'passengers'.A844>, <Cell 'passengers'.A845>, <Cell 'passengers'.A846>, <Cell 'passengers'.A847>, <Cell 'passengers'.A848>, <Cell 'passengers'.A849>, <Cell 'passengers'.A850>, <Cell 'passengers'.A851>, <Cell 'passengers'.A852>, <Cell 'passengers'.A853>, <Cell 'passengers'.A854>, <Cell 'passengers'.A855>, <Cell 'passengers'.A856>, <Cell 'passengers'.A857>, <Cell 'passengers'.A858>, <Cell 'passengers'.A859>, <Cell 'passengers'.A860>, <Cell 'passengers'.A861>, <Cell 'passengers'.A862>, <Cell 'passengers'.A863>, <Cell 'passengers'.A864>, <Cell 'passengers'.A865>, <Cell 'passengers'.A866>, <Cell 'passengers'.A867>, <Cell 'passengers'.A868>, <Cell 'passengers'.A869>, <Cell 'passengers'.A870>, <Cell 'passengers'.A871>, <Cell 'passengers'.A872>, <Cell 'passengers'.A873>, <Cell 'passengers'.A874>, <Cell 'passengers'.A875>, <Cell 'passengers'.A876>, <Cell 'passengers'.A877>, <Cell 'passengers'.A878>, <Cell 'passengers'.A879>, <Cell 'passengers'.A880>, <Cell 'passengers'.A881>, <Cell 'passengers'.A882>, <Cell 'passengers'.A883>, <Cell 'passengers'.A884>, <Cell 'passengers'.A885>, <Cell 'passengers'.A886>, <Cell 'passengers'.A887>, <Cell 'passengers'.A888>, <Cell 'passengers'.A889>, <Cell 'passengers'.A890>, <Cell 'passengers'.A891>, <Cell 'passengers'.A892>)\n"
     ]
    }
   ],
   "source": [
    "from openpyxl.workbook import Workbook\n",
    "from openpyxl import load_workbook\n",
    "wb = load_workbook('titanic.xlsx')\n",
    "\n",
    "#create new active worksheet\n",
    "\n",
    "ws = wb.active\n",
    "\n",
    "#set variables\n",
    "\n",
    "column_a = ws['A']\n",
    "print(column_a)"
   ]
  },
  {
   "cell_type": "code",
   "execution_count": 25,
   "id": "4636962b",
   "metadata": {},
   "outputs": [
    {
     "name": "stdout",
     "output_type": "stream",
     "text": [
      "4\n",
      "1\n",
      "1\n",
      "Futrelle, Mrs. Jacques Heath (Lily May Peel)\n",
      "female\n",
      "35\n",
      "1\n",
      "0\n",
      "113803\n",
      "53.1\n",
      "C123\n",
      "S\n"
     ]
    }
   ],
   "source": [
    "from openpyxl.workbook import Workbook\n",
    "from openpyxl import load_workbook\n",
    "wb = load_workbook('titanic.xlsx')\n",
    "\n",
    "#create new active worksheet\n",
    "\n",
    "ws = wb.active\n",
    "\n",
    "#set variables\n",
    "\n",
    "#column_a = ws['D'] # for column\n",
    "\n",
    "# id we need to fetch rows we need to use numbers\n",
    "\n",
    "column_a = ws['5']\n",
    "\n",
    "#print(column_a)\n",
    "\n",
    "for x in column_a:\n",
    "    #print(f'{x}')\n",
    "    #print(f'{x}\\n')\n",
    "    #print(f'{x.value}\\n')\n",
    "    print(x.value)"
   ]
  },
  {
   "cell_type": "code",
   "execution_count": 27,
   "id": "42e4b553",
   "metadata": {},
   "outputs": [
    {
     "name": "stdout",
     "output_type": "stream",
     "text": [
      "Cumings, Mrs. John Bradley (Florence Briggs Thayer)\n",
      "Heikkinen, Miss. Laina\n",
      "Futrelle, Mrs. Jacques Heath (Lily May Peel)\n",
      "Allen, Mr. William Henry\n",
      "Moran, Mr. James\n"
     ]
    }
   ],
   "source": [
    "from openpyxl.workbook import Workbook\n",
    "from openpyxl import load_workbook\n",
    "wb = load_workbook('titanic.xlsx')\n",
    "\n",
    "#create new active worksheet\n",
    "\n",
    "ws = wb.active\n",
    "\n",
    "#set variables\n",
    "\n",
    "column_a = ws['D3':'D7'] # for column\n",
    "\n",
    "#print(column_a)\n",
    "\n",
    "for x in column_a:\n",
    "    for y in x:\n",
    "        print(y.value)"
   ]
  },
  {
   "cell_type": "code",
   "execution_count": 51,
   "id": "c5c35ae5",
   "metadata": {},
   "outputs": [
    {
     "name": "stdout",
     "output_type": "stream",
     "text": [
      "2021-02-26 00:00:00 2021-03-15 00:00:00 2021-04-01 00:00:00 2021-04-18 00:00:00\n",
      "Central West East Central\n",
      "Gill Sorvino Jones Andrews\n"
     ]
    }
   ],
   "source": [
    "import openpyxl\n",
    "wb = load_workbook('Sampledata.xlsx')\n",
    "\n",
    "#create new active worksheet\n",
    "\n",
    "ws = wb['SalesOrders']\n",
    "\n",
    "#a = ws.iter_rows(min_row=5,max_row=8,min_col=1,max_col=3)\n",
    "a = ws.iter_cols(min_row=5,max_row=8,min_col=1,max_col=3)\n",
    "\n",
    "#for b in a:\n",
    "#    print(b)\n",
    "\n",
    "#for b,c,d in a:\n",
    "#    print(b.value,c.value,d.value)\n",
    "\n",
    "for b,c,d,e in a:\n",
    "      print(b.value,c.value,d.value,e.value)"
   ]
  },
  {
   "cell_type": "code",
   "execution_count": 54,
   "id": "148c1afb",
   "metadata": {},
   "outputs": [
    {
     "name": "stdout",
     "output_type": "stream",
     "text": [
      "[datetime.datetime(2021, 2, 26, 0, 0), 'Central', 'Gill']\n",
      "[datetime.datetime(2021, 3, 15, 0, 0), 'West', 'Sorvino']\n",
      "[datetime.datetime(2021, 4, 1, 0, 0), 'East', 'Jones']\n",
      "[datetime.datetime(2021, 4, 18, 0, 0), 'Central', 'Andrews']\n"
     ]
    }
   ],
   "source": [
    "#Get data and store in List\n",
    "\n",
    "import openpyxl\n",
    "wb = load_workbook('Sampledata.xlsx')\n",
    "\n",
    "#create new active worksheet\n",
    "\n",
    "ws = wb['SalesOrders']\n",
    "\n",
    "#a = ws.iter_rows(min_row=5,max_row=8,min_col=1,max_col=3)\n",
    "a = ws.iter_cols(min_row=5,max_row=8,min_col=1,max_col=3)\n",
    "\n",
    "timesmp = []\n",
    "timezn = []\n",
    "name = []\n",
    "age = [] #only use when iter cols\n",
    "\n",
    "for b,c,d,e in a: # e when using iter cols\n",
    "    timesmp.append(b.value)\n",
    "    timezn.append(c.value)\n",
    "    name.append(d.value)\n",
    "    age.append(e.value) #when iter cols\n",
    "    \n",
    "print(timesmp)\n",
    "print(timezn)\n",
    "print(name)\n",
    "print(age) #when iter cols"
   ]
  },
  {
   "cell_type": "code",
   "execution_count": 59,
   "id": "1ca64bb4",
   "metadata": {},
   "outputs": [
    {
     "name": "stdout",
     "output_type": "stream",
     "text": [
      "TESTE\n",
      "testing\n",
      "2021-05-22 00:00:00\n",
      "2021-06-08 00:00:00\n",
      "2021-04-18 00:00:00\n"
     ]
    }
   ],
   "source": [
    "import openpyxl\n",
    "wb = load_workbook('Sampledata.xlsx')\n",
    "\n",
    "#create new active worksheet\n",
    "\n",
    "ws = wb['SalesOrders']\n",
    "\n",
    "ws['A9'] = 'TESTE'\n",
    "ws['B9'] = 'testing'\n",
    "\n",
    "wb.save('Sampledata.xlsx')\n",
    "\n",
    "print(ws.cell(row=9,column=1).value)\n",
    "print(ws.cell(row=9,column=2).value)\n",
    "print(ws.cell(row=10,column=1).value)\n",
    "print(ws.cell(row=11,column=1).value)\n",
    "print(ws.cell(row=8,column=1).value)"
   ]
  },
  {
   "cell_type": "code",
   "execution_count": 5,
   "id": "bf7ff567",
   "metadata": {},
   "outputs": [
    {
     "name": "stdout",
     "output_type": "stream",
     "text": [
      "<Worksheet \"SalesOrders\">\n"
     ]
    }
   ],
   "source": [
    "#how to create a new column\n",
    "\n",
    "from openpyxl.workbook import Workbook\n",
    "from openpyxl import load_workbook\n",
    "wb = load_workbook('Sampledata.xlsx')\n",
    "\n",
    "#create new active worksheet\n",
    "\n",
    "ws = wb['SalesOrders']\n",
    "\n",
    "ws['H1'] = 'DOUBLE'\n",
    "\n",
    "wb.save('Sampledata.xlsx')\n",
    "\n",
    "print(ws)\n"
   ]
  },
  {
   "cell_type": "code",
   "execution_count": 9,
   "id": "dab98973",
   "metadata": {},
   "outputs": [
    {
     "name": "stdout",
     "output_type": "stream",
     "text": [
      "<openpyxl.workbook.workbook.Workbook object at 0x1180d4710>\n"
     ]
    }
   ],
   "source": [
    "#how to create data into new column\n",
    "\n",
    "from openpyxl.workbook import Workbook\n",
    "from openpyxl import load_workbook\n",
    "wb = load_workbook('Sampledata.xlsx')\n",
    "\n",
    "#create new active worksheet\n",
    "\n",
    "ws = wb['SalesOrders']\n",
    "\n",
    "for i in range(2,15):\n",
    "    b_col = ws.cell(row=i,column=4).value\n",
    "    c_col = b_col * 2\n",
    "    ws.cell(row=i,column=8).value = c_col\n",
    "\n",
    "wb.save('Sampledata.xlsx')\n",
    "\n",
    "print(wb)\n"
   ]
  },
  {
   "cell_type": "code",
   "execution_count": 14,
   "id": "f1dd0790",
   "metadata": {},
   "outputs": [],
   "source": [
    "#font changes\n",
    "\n",
    "\n",
    "from openpyxl.workbook import Workbook\n",
    "from openpyxl import load_workbook\n",
    "from openpyxl.styles import Font, Color\n",
    "wb = load_workbook('Sampledata.xlsx')\n",
    "\n",
    "#create new active worksheet\n",
    "\n",
    "ws = wb['SalesOrders']\n",
    "\n",
    "#font_style = Font(name='chalkboard',size=20,color=\"1A4FDF\")\n",
    "#font_style = Font(name='chalkboard',size=20,color=\"1A4FDF\",italic=True)\n",
    "font_style = Font(name='chalkboard',size=20,color=\"1A4FDF\",italic=True,bold=True)\n",
    "A4 = ws[\"A4\"]\n",
    "A4.font = font_style\n",
    "\n",
    "wb.save('Sampledata.xlsx')"
   ]
  },
  {
   "cell_type": "code",
   "execution_count": 15,
   "id": "38c8464d",
   "metadata": {},
   "outputs": [],
   "source": [
    "#font changes with loop\n",
    "\n",
    "\n",
    "from openpyxl.workbook import Workbook\n",
    "from openpyxl import load_workbook\n",
    "from openpyxl.styles import Font, Color\n",
    "wb = load_workbook('Sampledata.xlsx')\n",
    "\n",
    "#create new active worksheet\n",
    "\n",
    "ws = wb['SalesOrders']\n",
    "\n",
    "font_style = Font(name=\"Reem Kufi\",size=12,color=\"DB3B22\",underline=\"double\",strikethrough=True)\n",
    "\n",
    "for i in range(2,10):\n",
    "    ws.cell(row=i,column=8).font=font_style\n",
    "\n",
    "wb.save('Sampledata.xlsx')"
   ]
  },
  {
   "cell_type": "code",
   "execution_count": 19,
   "id": "fc79ea5b",
   "metadata": {},
   "outputs": [],
   "source": [
    "#pattern filling\n",
    "\n",
    "from openpyxl.workbook import Workbook\n",
    "from openpyxl import load_workbook\n",
    "from openpyxl.styles import Font, Color\n",
    "from openpyxl.styles import PatternFill\n",
    "wb = load_workbook('Sampledata.xlsx')\n",
    "\n",
    "#create new active worksheet\n",
    "\n",
    "ws = wb['SalesOrders']\n",
    "\n",
    "fill_pattern = PatternFill(patternType=\"solid\",fgColor=\"c64747\")\n",
    "ws[\"C4\"].fill = fill_pattern\n",
    "\n",
    "wb.save('Sampledata.xlsx')"
   ]
  },
  {
   "cell_type": "code",
   "execution_count": 24,
   "id": "f4dcde44",
   "metadata": {},
   "outputs": [],
   "source": [
    "#border style\n",
    "\n",
    "from openpyxl.workbook import Workbook\n",
    "from openpyxl import load_workbook\n",
    "from openpyxl.styles import Font, Color\n",
    "from openpyxl.styles import PatternFill,Border , Side\n",
    "wb = load_workbook('Sampledata.xlsx')\n",
    "\n",
    "#create new active worksheet\n",
    "\n",
    "ws = wb['SalesOrders']\n",
    "\n",
    "top = Side(border_style='dashed',color=\"FF0707\")\n",
    "bottom = Side(border_style='double',color=\"10AF2A\")\n",
    "border = Border(top=top,bottom=bottom)\n",
    "ws[\"B6\"].border =border\n",
    "\n",
    "wb.save('Sampledata.xlsx')"
   ]
  },
  {
   "cell_type": "code",
   "execution_count": 25,
   "id": "7a93e5f6",
   "metadata": {},
   "outputs": [],
   "source": [
    "#format data\n",
    "\n",
    "from openpyxl.workbook import Workbook\n",
    "from openpyxl import load_workbook\n",
    "from openpyxl.styles import Font, Color\n",
    "from openpyxl.styles import PatternFill,Border , Side , numbers\n",
    "wb = load_workbook('Sampledata.xlsx')\n",
    "\n",
    "#create new active worksheet\n",
    "\n",
    "ws = wb['SalesOrders']\n",
    "\n",
    "ws[\"B6\"] = \"TEST\"\n",
    "\n",
    "ws[\"B6\"].number_format = numbers.FORMAT_TEXT\n",
    "\n",
    "wb.save('Sampledata.xlsx')"
   ]
  },
  {
   "cell_type": "code",
   "execution_count": null,
   "id": "2c0dee97",
   "metadata": {},
   "outputs": [],
   "source": [
    "#formulas \n",
    "\n",
    "ws[\"B8\"]= \"=SUM(B3:B9)\""
   ]
  }
 ],
 "metadata": {
  "kernelspec": {
   "display_name": "Python 3 (ipykernel)",
   "language": "python",
   "name": "python3"
  },
  "language_info": {
   "codemirror_mode": {
    "name": "ipython",
    "version": 3
   },
   "file_extension": ".py",
   "mimetype": "text/x-python",
   "name": "python",
   "nbconvert_exporter": "python",
   "pygments_lexer": "ipython3",
   "version": "3.11.4"
  }
 },
 "nbformat": 4,
 "nbformat_minor": 5
}
