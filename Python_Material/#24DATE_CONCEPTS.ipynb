{
 "cells": [
  {
   "cell_type": "code",
   "execution_count": 3,
   "id": "82fd6d36",
   "metadata": {},
   "outputs": [],
   "source": [
    "from datetime import date as dt\n",
    "from datetime import time\n",
    "from datetime import datetime"
   ]
  },
  {
   "cell_type": "code",
   "execution_count": 5,
   "id": "de8632dc",
   "metadata": {},
   "outputs": [
    {
     "name": "stdout",
     "output_type": "stream",
     "text": [
      "2023-09-06\n"
     ]
    }
   ],
   "source": [
    "today = dt.today()\n",
    "print(today)"
   ]
  },
  {
   "cell_type": "code",
   "execution_count": 6,
   "id": "38b50d83",
   "metadata": {},
   "outputs": [
    {
     "name": "stdout",
     "output_type": "stream",
     "text": [
      "6\n",
      "9\n",
      "2023\n"
     ]
    }
   ],
   "source": [
    "day = today.day\n",
    "print(day)\n",
    "month = today.month\n",
    "print(month)\n",
    "year = today.year\n",
    "print(year)"
   ]
  },
  {
   "cell_type": "code",
   "execution_count": 7,
   "id": "62bca1ce",
   "metadata": {},
   "outputs": [
    {
     "name": "stdout",
     "output_type": "stream",
     "text": [
      "2\n"
     ]
    },
    {
     "data": {
      "text/plain": [
       "'monday - 0\\ntuesday - 1\\nwednesyday - 2\\nthursday - 3\\nfriday - 4\\nsaturday - 5\\nsunday - 6'"
      ]
     },
     "execution_count": 7,
     "metadata": {},
     "output_type": "execute_result"
    }
   ],
   "source": [
    "weekday = today.weekday()\n",
    "print(weekday)\n",
    "\n",
    "\"\"\"monday - 0\n",
    "tuesday - 1\n",
    "wednesyday - 2\n",
    "thursday - 3\n",
    "friday - 4\n",
    "saturday - 5\n",
    "sunday - 6\"\"\""
   ]
  },
  {
   "cell_type": "code",
   "execution_count": 14,
   "id": "f411ae19",
   "metadata": {},
   "outputs": [
    {
     "name": "stdout",
     "output_type": "stream",
     "text": [
      "2023-09-06 16:48:39.024378\n"
     ]
    }
   ],
   "source": [
    "# %y/%Y - year , %a/%A - weekday , %b/%B - Month , %d - day\n",
    "\n",
    "time = datetime.now()\n",
    "print(time)"
   ]
  },
  {
   "cell_type": "code",
   "execution_count": 9,
   "id": "bc46bd7b",
   "metadata": {},
   "outputs": [
    {
     "name": "stdout",
     "output_type": "stream",
     "text": [
      "16:47:35.000468\n"
     ]
    }
   ],
   "source": [
    "time = datetime.time(datetime.now())\n",
    "print(time)"
   ]
  },
  {
   "cell_type": "code",
   "execution_count": 11,
   "id": "48f74583",
   "metadata": {},
   "outputs": [
    {
     "name": "stdout",
     "output_type": "stream",
     "text": [
      "2\n"
     ]
    }
   ],
   "source": [
    "weekday = dt.weekday(today)\n",
    "print(weekday)"
   ]
  },
  {
   "cell_type": "code",
   "execution_count": 13,
   "id": "8893cfad",
   "metadata": {},
   "outputs": [
    {
     "name": "stdout",
     "output_type": "stream",
     "text": [
      "2\n",
      "wednesday\n"
     ]
    }
   ],
   "source": [
    "days = ['monday','tuesday','wednesday','thursday','friday','saturday','sunday']\n",
    "weekday = dt.weekday(today)\n",
    "print(weekday)\n",
    "print(days[weekday])"
   ]
  },
  {
   "cell_type": "code",
   "execution_count": 15,
   "id": "a50f4478",
   "metadata": {},
   "outputs": [
    {
     "name": "stdout",
     "output_type": "stream",
     "text": [
      "2023\n"
     ]
    }
   ],
   "source": [
    "#year = time.strftime('%y')\n",
    "year = time.strftime('%Y')\n",
    "print(year)"
   ]
  },
  {
   "cell_type": "code",
   "execution_count": 16,
   "id": "4b0d308b",
   "metadata": {},
   "outputs": [
    {
     "name": "stdout",
     "output_type": "stream",
     "text": [
      "36\n"
     ]
    }
   ],
   "source": [
    "#weekday = time.strftime('%a')\n",
    "#weekday = time.strftime('%A')\n",
    "weekday = time.strftime('%U') #it give number week in an year\n",
    "print(weekday)"
   ]
  },
  {
   "cell_type": "code",
   "execution_count": 17,
   "id": "04720976",
   "metadata": {},
   "outputs": [
    {
     "name": "stdout",
     "output_type": "stream",
     "text": [
      "September\n"
     ]
    }
   ],
   "source": [
    "#month = time.strftime('%b')\n",
    "month = time.strftime('%B')\n",
    "print(month)"
   ]
  },
  {
   "cell_type": "code",
   "execution_count": 18,
   "id": "b8d74153",
   "metadata": {},
   "outputs": [
    {
     "name": "stdout",
     "output_type": "stream",
     "text": [
      "06\n"
     ]
    }
   ],
   "source": [
    "day = time.strftime('%d')\n",
    "#day = time.strftime('%D')\n",
    "#day = time.strftime('%j') # used to get the particular day in an year\n",
    "print(day)"
   ]
  },
  {
   "cell_type": "code",
   "execution_count": 19,
   "id": "c0d6c499",
   "metadata": {},
   "outputs": [
    {
     "name": "stdout",
     "output_type": "stream",
     "text": [
      "Wednesday,06 Sep,2023\n"
     ]
    }
   ],
   "source": [
    "#date = time.strftime('%a,%d %B,%y')\n",
    "date = time.strftime('%A,%d %b,%Y')\n",
    "print(date)"
   ]
  },
  {
   "cell_type": "code",
   "execution_count": 20,
   "id": "a78c625c",
   "metadata": {},
   "outputs": [
    {
     "name": "stdout",
     "output_type": "stream",
     "text": [
      "Wed Sep  6 16:48:39 2023\n",
      "09/06/23\n",
      "16:48:39\n"
     ]
    }
   ],
   "source": [
    "# %c - indicates local date and time\n",
    "#%x - local date\n",
    "#% X - local time\n",
    "\n",
    "dt = time.strftime('%c')\n",
    "print(dt)\n",
    "\n",
    "d = time.strftime('%x')\n",
    "print(d)\n",
    "\n",
    "t = time.strftime('%X')\n",
    "print(t)"
   ]
  },
  {
   "cell_type": "code",
   "execution_count": 21,
   "id": "b9f94663",
   "metadata": {},
   "outputs": [
    {
     "name": "stdout",
     "output_type": "stream",
     "text": [
      "04:48:39:024378 PM\n",
      "16:48:39\n"
     ]
    }
   ],
   "source": [
    "# %I/%H - Hour , %M - Minute , %S - Seconds , %p - AM/PM, %f - milliseconds %Z - time zone(Only python2)\n",
    "\n",
    "t1 = time.strftime('%I:%M:%S:%f %p')\n",
    "print(t1)\n",
    "\n",
    "t2 = time.strftime('%H:%M:%S')\n",
    "print(t2)"
   ]
  },
  {
   "cell_type": "code",
   "execution_count": 22,
   "id": "fe4492ae",
   "metadata": {},
   "outputs": [
    {
     "name": "stdout",
     "output_type": "stream",
     "text": [
      "2023-09-06 16:50:16.192392\n",
      "date from 1 year: 2024-09-05 16:50:16.192467\n",
      "date from 1 year: 2024-09-05 19:50:16.192514\n",
      "date from 1 year: 2024-09-05 21:05:16.192552\n",
      "date from 1 year: 2024-09-26 21:05:41.192595\n"
     ]
    }
   ],
   "source": [
    "# timedelta used to estimate time for both future and past\n",
    "\n",
    "from datetime import timedelta\n",
    "from datetime import datetime\n",
    "\n",
    "print(datetime.now())\n",
    "\n",
    "print('date from 1 year:', datetime.now()+timedelta(days=365))\n",
    "print('date from 1 year:', datetime.now()+timedelta(days=365,hours=3))\n",
    "print('date from 1 year:', datetime.now()+timedelta(days=365,hours=4,minutes=15))\n",
    "print('date from 1 year:', datetime.now()+timedelta(weeks=3,days=365,hours=4,minutes=15,seconds=25))\n"
   ]
  },
  {
   "cell_type": "code",
   "execution_count": 23,
   "id": "358a2f6f",
   "metadata": {},
   "outputs": [
    {
     "name": "stdout",
     "output_type": "stream",
     "text": [
      "2023\n",
      "Wednesday\n"
     ]
    }
   ],
   "source": [
    "import datetime\n",
    "\n",
    "x = datetime.datetime.now()\n",
    "\n",
    "print(x.year)\n",
    "print(x.strftime(\"%A\"))"
   ]
  },
  {
   "cell_type": "code",
   "execution_count": 24,
   "id": "bbdf4c04",
   "metadata": {},
   "outputs": [
    {
     "name": "stdout",
     "output_type": "stream",
     "text": [
      "2020-05-17 00:00:00\n"
     ]
    }
   ],
   "source": [
    "import datetime\n",
    "\n",
    "x = datetime.datetime(2020, 5, 17)\n",
    "\n",
    "print(x)"
   ]
  },
  {
   "cell_type": "code",
   "execution_count": null,
   "id": "d69537e4",
   "metadata": {},
   "outputs": [],
   "source": [
    "Directive\tDescription\tExample\tTry it\n",
    "%a\tWeekday, short version\tWed\t\n",
    "%A\tWeekday, full version\tWednesday\t\n",
    "%w\tWeekday as a number 0-6, 0 is Sunday\t3\t\n",
    "%d\tDay of month 01-31\t31\t\n",
    "%b\tMonth name, short version\tDec\t\n",
    "%B\tMonth name, full version\tDecember\t\n",
    "%m\tMonth as a number 01-12\t12\t\n",
    "%y\tYear, short version, without century\t18\t\n",
    "%Y\tYear, full version\t2018\t\n",
    "%H\tHour 00-23\t17\t\n",
    "%I\tHour 00-12\t05\t\n",
    "%p\tAM/PM\tPM\t\n",
    "%M\tMinute 00-59\t41\t\n",
    "%S\tSecond 00-59\t08\t\n",
    "%f\tMicrosecond 000000-999999\t548513\t\n",
    "%z\tUTC offset\t+0100\t\n",
    "%Z\tTimezone\tCST\t\n",
    "%j\tDay number of year 001-366\t365\t\n",
    "%U\tWeek number of year, Sunday as the first day of week, 00-53\t52\t\n",
    "%W\tWeek number of year, Monday as the first day of week, 00-53\t52\t\n",
    "%c\tLocal version of date and time\tMon Dec 31 17:41:00 2018\t\n",
    "%C\tCentury\t20\t\n",
    "%x\tLocal version of date\t12/31/18\t\n",
    "%X\tLocal version of time\t17:41:00\t\n",
    "%%\tA % character\t%\t\n",
    "%G\tISO 8601 year\t2018\t\n",
    "%u\tISO 8601 weekday (1-7)\t1\t\n",
    "%V\tISO 8601 weeknumber (01-53)\t01"
   ]
  }
 ],
 "metadata": {
  "kernelspec": {
   "display_name": "Python 3 (ipykernel)",
   "language": "python",
   "name": "python3"
  },
  "language_info": {
   "codemirror_mode": {
    "name": "ipython",
    "version": 3
   },
   "file_extension": ".py",
   "mimetype": "text/x-python",
   "name": "python",
   "nbconvert_exporter": "python",
   "pygments_lexer": "ipython3",
   "version": "3.11.4"
  }
 },
 "nbformat": 4,
 "nbformat_minor": 5
}
