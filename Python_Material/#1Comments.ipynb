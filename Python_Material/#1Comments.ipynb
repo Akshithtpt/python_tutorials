{
 "cells": [
  {
   "cell_type": "code",
   "execution_count": null,
   "id": "63622897",
   "metadata": {},
   "outputs": [],
   "source": [
    "#Comments are used to explain code when the basic code itself isn't clear.\n",
    "\n",
    "#Python ignores comments, and so will not execute code in there, or raise syntax errors for plain English sentences.\n",
    "\n",
    "#Types of comments:\n",
    "\n",
    "1.Single line comment\n",
    "2.Inline comment\n",
    "3.Multiple Line Comment"
   ]
  },
  {
   "cell_type": "code",
   "execution_count": null,
   "id": "864caa0d",
   "metadata": {},
   "outputs": [],
   "source": [
    "1.Single Line comment:\n",
    "\n",
    "Single-line comments begin with the hash character (#) and are terminated by the end of line.\n",
    "\n",
    "# This is a single line comment in Python"
   ]
  },
  {
   "cell_type": "code",
   "execution_count": null,
   "id": "d516c0ce",
   "metadata": {},
   "outputs": [],
   "source": [
    "\n",
    "2.Inline comment:\n",
    "\n",
    "print(\"Hello World\")  # This line prints \"Hello World\""
   ]
  },
  {
   "cell_type": "code",
   "execution_count": null,
   "id": "8d884686",
   "metadata": {},
   "outputs": [],
   "source": [
    "3.Multiple Line comment:\n",
    "\n",
    "Comments spanning multiple lines have \"\"\" or ''' on either end. This is the same as a multiline string, but they can be used as comments:\n",
    "\n",
    "\"\"\"\n",
    "This type of comment spans multiple lines.\n",
    "These are mostly used for documentation of functions, classes and modules.\n",
    "\"\"\""
   ]
  }
 ],
 "metadata": {
  "kernelspec": {
   "display_name": "Python 3 (ipykernel)",
   "language": "python",
   "name": "python3"
  },
  "language_info": {
   "codemirror_mode": {
    "name": "ipython",
    "version": 3
   },
   "file_extension": ".py",
   "mimetype": "text/x-python",
   "name": "python",
   "nbconvert_exporter": "python",
   "pygments_lexer": "ipython3",
   "version": "3.11.4"
  }
 },
 "nbformat": 4,
 "nbformat_minor": 5
}
