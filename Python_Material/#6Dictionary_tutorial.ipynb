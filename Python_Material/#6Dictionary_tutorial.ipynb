{
 "cells": [
  {
   "cell_type": "code",
   "execution_count": null,
   "id": "20554fa1",
   "metadata": {},
   "outputs": [],
   "source": [
    "#Dictionary Data type\n",
    "\n",
    "It is a group of key pair values.\n",
    "The elemens must enclosed with in flower braces { }\n",
    "The elements are orderded list \n",
    "The elements are mutable \n",
    "Keys must be unique \n",
    "\n",
    "d = {key:value,key:value}"
   ]
  },
  {
   "cell_type": "code",
   "execution_count": 1,
   "id": "eb26d50c",
   "metadata": {},
   "outputs": [
    {
     "name": "stdout",
     "output_type": "stream",
     "text": [
      "{'AP': 'HYD', 'TN': 'chennai', 'KN': 'Banglore'}\n",
      "<class 'dict'>\n"
     ]
    }
   ],
   "source": [
    "#creating dictonary\n",
    "\n",
    "d1 = { 'AP': 'HYD', 'TN': 'chennai', 'KN':'Banglore' }\n",
    "d2 = {'A':65, 'B':66, 'C':69 , 'D':70}\n",
    "d3 = { 10:'ACC', 20:'Sal', 30:'IT'}\n",
    "d4 = {'empno':101,'ename':'Hari', 'sal':9000,'des no':10 }\n",
    "d5 = {} \n",
    "\n",
    "print(d1)\n",
    "print(type(d1))"
   ]
  },
  {
   "cell_type": "code",
   "execution_count": 2,
   "id": "a83c3d15",
   "metadata": {},
   "outputs": [
    {
     "name": "stdout",
     "output_type": "stream",
     "text": [
      "{'AP': 'HYD', 'TN': 'chennai', 'KN': 'Banglore', 'ms': 'mumbai'}\n",
      "{'A': 65, 'B': 66, 'C': 69, 'D': 70, 'E': 71}\n",
      "{'AP': 'amaravathi', 'TN': 'chennai', 'KN': 'Banglore', 'ms': 'mumbai'}\n"
     ]
    }
   ],
   "source": [
    "#Adding/updating\n",
    "\n",
    "d1['ms']= 'mumbai'\n",
    "print(d1)\n",
    "d2['E'] = 71\n",
    "print(d2)\n",
    "d1['AP']='amaravathi' \n",
    "print(d1)\n",
    "#d4['sal']-93000 \n",
    "#print(d4)"
   ]
  },
  {
   "cell_type": "code",
   "execution_count": 3,
   "id": "44f37631",
   "metadata": {},
   "outputs": [
    {
     "name": "stdout",
     "output_type": "stream",
     "text": [
      "{'AP': 'amaravathi', 'TN': 'chennai', 'KN': 'Banglore'}\n"
     ]
    }
   ],
   "source": [
    "#delete\n",
    "\n",
    "del d1['ms']\n",
    "print(d1)\n",
    "\n",
    "#del d1\n",
    "#print(d1)"
   ]
  },
  {
   "cell_type": "code",
   "execution_count": 4,
   "id": "d2f2ccd7",
   "metadata": {},
   "outputs": [
    {
     "name": "stdout",
     "output_type": "stream",
     "text": [
      "{}\n"
     ]
    }
   ],
   "source": [
    "#clear\n",
    "\n",
    "d1.clear()\n",
    "print(d1)"
   ]
  },
  {
   "cell_type": "code",
   "execution_count": 5,
   "id": "07c16173",
   "metadata": {},
   "outputs": [
    {
     "name": "stdout",
     "output_type": "stream",
     "text": [
      "{100: 'durga', 200: 'shiva', 300: 'ravi'}\n"
     ]
    }
   ],
   "source": [
    "#functions of dictionary\n",
    "\n",
    "#dict() - To create dictionary\n",
    "\n",
    "d1=dict()  # It creates empty dictionary\n",
    "d1 = {}\n",
    "d2=dict({100:\"durga\",200:\"ravi\"}) # It creates dictionary with specified elements\n",
    "d3=dict([(100,\"durga\"),(200,\"shiva\"),(300,\"ravi\")]) #It creates dictionary with the given list of tuple elements\n",
    "print(d3)"
   ]
  },
  {
   "cell_type": "code",
   "execution_count": 6,
   "id": "d4268dc9",
   "metadata": {},
   "outputs": [
    {
     "name": "stdout",
     "output_type": "stream",
     "text": [
      "2\n",
      "durga\n"
     ]
    }
   ],
   "source": [
    "#len() - return length of dict\n",
    "\n",
    "print(len(d2))\n",
    "\n",
    "#get() - To get the value associated with the key\n",
    "\n",
    "print(d3.get(100))"
   ]
  },
  {
   "cell_type": "code",
   "execution_count": 7,
   "id": "a3489223",
   "metadata": {},
   "outputs": [
    {
     "name": "stdout",
     "output_type": "stream",
     "text": [
      "durga\n",
      "{200: 'shiva', 300: 'ravi'}\n"
     ]
    }
   ],
   "source": [
    "#pop()\n",
    "\n",
    "print(d3.pop(100))\n",
    "print(d3)"
   ]
  },
  {
   "cell_type": "code",
   "execution_count": 8,
   "id": "0c190997",
   "metadata": {},
   "outputs": [
    {
     "name": "stdout",
     "output_type": "stream",
     "text": [
      "(300, 'ravi')\n",
      "{100: 'durga', 200: 'shiva'}\n"
     ]
    }
   ],
   "source": [
    "#popitem()\n",
    "\n",
    "d3=dict([(100,\"durga\"),(200,\"shiva\"),(300,\"ravi\")])\n",
    "print(d3.popitem())\n",
    "print(d3)"
   ]
  },
  {
   "cell_type": "code",
   "execution_count": 9,
   "id": "e7afdb13",
   "metadata": {},
   "outputs": [
    {
     "name": "stdout",
     "output_type": "stream",
     "text": [
      "dict_keys([100, 200, 300])\n"
     ]
    }
   ],
   "source": [
    "#keys()\n",
    "\n",
    "d3=dict([(100,\"durga\"),(200,\"shiva\"),(300,\"ravi\")])\n",
    "print(d3.keys())"
   ]
  },
  {
   "cell_type": "code",
   "execution_count": 10,
   "id": "a9f8d4d7",
   "metadata": {},
   "outputs": [
    {
     "name": "stdout",
     "output_type": "stream",
     "text": [
      "dict_values(['durga', 'shiva', 'ravi'])\n"
     ]
    }
   ],
   "source": [
    "#values()\n",
    "\n",
    "d3=dict([(100,\"durga\"),(200,\"shiva\"),(300,\"ravi\")])\n",
    "print(d3.values())"
   ]
  },
  {
   "cell_type": "code",
   "execution_count": 11,
   "id": "059b2e18",
   "metadata": {},
   "outputs": [
    {
     "name": "stdout",
     "output_type": "stream",
     "text": [
      "dict_items([(100, 'durga'), (200, 'shiva'), (300, 'ravi')])\n"
     ]
    }
   ],
   "source": [
    "#items\n",
    "\n",
    "d3=dict([(100,\"durga\"),(200,\"shiva\"),(300,\"ravi\")])\n",
    "print(d3.items())"
   ]
  },
  {
   "cell_type": "code",
   "execution_count": 12,
   "id": "09ccbeef",
   "metadata": {},
   "outputs": [
    {
     "name": "stdout",
     "output_type": "stream",
     "text": [
      "{100: 'durga', 200: 'shiva', 300: 'ravi'}\n"
     ]
    }
   ],
   "source": [
    "#copy() --> To create exactly duplicate dictionary(cloned copy)  d1=d.copy();\n",
    "\n",
    "d3=dict([(100,\"durga\"),(200,\"shiva\"),(300,\"ravi\")])\n",
    "d4=d3.copy()\n",
    "print(d4)"
   ]
  },
  {
   "cell_type": "code",
   "execution_count": null,
   "id": "23a25c42",
   "metadata": {},
   "outputs": [],
   "source": []
  }
 ],
 "metadata": {
  "kernelspec": {
   "display_name": "Python 3 (ipykernel)",
   "language": "python",
   "name": "python3"
  },
  "language_info": {
   "codemirror_mode": {
    "name": "ipython",
    "version": 3
   },
   "file_extension": ".py",
   "mimetype": "text/x-python",
   "name": "python",
   "nbconvert_exporter": "python",
   "pygments_lexer": "ipython3",
   "version": "3.11.4"
  }
 },
 "nbformat": 4,
 "nbformat_minor": 5
}
