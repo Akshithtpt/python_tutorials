{
 "cells": [
  {
   "cell_type": "code",
   "execution_count": null,
   "id": "a26d38b8",
   "metadata": {},
   "outputs": [],
   "source": [
    "#SET Data type\n",
    "\n",
    "A set is a collection which is unordered and unindexed.\n",
    "It is denoted by flower Brackets{}.\n",
    "it is mutable\n",
    "duplicate are not allowed\n",
    "We can apply mathematical operations like union,intersection,difference etc on set objects\n",
    "Insertion order is not preserved.But we can sort the elements.\n",
    "Indexing and slicing not allowed for the set.\n",
    "\n",
    "it has 2 types\n",
    "\n",
    "simple set - mostly we will not use sets , if we use will use simple set\n",
    "frozen set - it is immutable , Hence add and Remove functions NOT applicable "
   ]
  },
  {
   "cell_type": "code",
   "execution_count": 1,
   "id": "0016e513",
   "metadata": {},
   "outputs": [
    {
     "name": "stdout",
     "output_type": "stream",
     "text": [
      "{50, 20, 40, 10, 30}\n",
      "<class 'set'>\n",
      "{40, 10, 20, 30}\n",
      "{0, 1, 2, 3, 4}\n",
      "<class 'dict'>\n",
      "<class 'set'>\n"
     ]
    }
   ],
   "source": [
    "#Creating a set\n",
    "\n",
    "s = {10,20,30,40,50}\n",
    "print(s)\n",
    "print(type(s))\n",
    "\n",
    "#create sets unsing set() option\n",
    "\n",
    "a = [10,20,30,40]\n",
    "b = set(a)\n",
    "print(b)\n",
    "\n",
    "c = set(range(5))\n",
    "print(c)\n",
    "\n",
    "d = {}\n",
    "print(type(d))\n",
    "\n",
    "e = set()\n",
    "print(type(e))"
   ]
  },
  {
   "cell_type": "code",
   "execution_count": 2,
   "id": "ff5d2e9e",
   "metadata": {},
   "outputs": [
    {
     "name": "stdout",
     "output_type": "stream",
     "text": [
      "{1, 2, 3, 4, 5, 40}\n",
      "{0, 1, 2, 3, 4, 40, 10, 50, 20, 90, 60, 30}\n"
     ]
    }
   ],
   "source": [
    "#Functions on sets\n",
    "\n",
    "#add(x)\n",
    "\n",
    "s = {1,2,3,4,5}\n",
    "s.add(40)\n",
    "print(s)\n",
    "\n",
    "#update(x,y,z)\n",
    "\n",
    "#To add multiple items to the set.\n",
    "#Arguments are not individual elements and these are Iterable objects like List,range etc.\n",
    "#All elements present in the given Iterable objects will be added to the set.\n",
    "\n",
    "a={10,20,30}\n",
    "b=[40,50,60,90]\n",
    "a.update(b,range(5))\n",
    "print(a)"
   ]
  },
  {
   "cell_type": "code",
   "execution_count": 3,
   "id": "032acfc4",
   "metadata": {},
   "outputs": [
    {
     "name": "stdout",
     "output_type": "stream",
     "text": [
      "{10, 20, 30}\n"
     ]
    }
   ],
   "source": [
    "#copy()\n",
    "\n",
    "a = {10,20,30}\n",
    "b = a.copy()\n",
    "print(b)"
   ]
  },
  {
   "cell_type": "code",
   "execution_count": 4,
   "id": "45c4acf3",
   "metadata": {},
   "outputs": [
    {
     "name": "stdout",
     "output_type": "stream",
     "text": [
      "40\n"
     ]
    }
   ],
   "source": [
    "#pop()\n",
    "\n",
    "c = {20,40,60,80}\n",
    "d = c.pop()\n",
    "print(d)"
   ]
  },
  {
   "cell_type": "code",
   "execution_count": 5,
   "id": "46d1da5f",
   "metadata": {},
   "outputs": [
    {
     "name": "stdout",
     "output_type": "stream",
     "text": [
      "{20, 40, 10, 30}\n"
     ]
    }
   ],
   "source": [
    "#remove(x)\n",
    "\n",
    "#It removes specified element from the set.\n",
    "#If the specified element not present in the Set then we will get KeyError\n",
    "\n",
    "a = {10,20,30,60,40}\n",
    "a.remove(60)\n",
    "print(a)"
   ]
  },
  {
   "cell_type": "code",
   "execution_count": 6,
   "id": "c86698f8",
   "metadata": {},
   "outputs": [
    {
     "name": "stdout",
     "output_type": "stream",
     "text": [
      "{20, 40, 10, 30}\n"
     ]
    }
   ],
   "source": [
    "#discard(x)\n",
    "\n",
    "#It removes the specified element from the set.\n",
    "#If the specified element not present in the set then we won't get any error.\n",
    "\n",
    "a = {10,20,30,60,40}\n",
    "a.discard(60)\n",
    "print(a)"
   ]
  },
  {
   "cell_type": "code",
   "execution_count": 7,
   "id": "3ed1c1bc",
   "metadata": {},
   "outputs": [
    {
     "name": "stdout",
     "output_type": "stream",
     "text": [
      "set()\n"
     ]
    }
   ],
   "source": [
    "#clear()\n",
    "\n",
    "a = {10,20,30,60,40}\n",
    "a.clear()\n",
    "print(a)"
   ]
  },
  {
   "cell_type": "code",
   "execution_count": 8,
   "id": "bca748e1",
   "metadata": {},
   "outputs": [
    {
     "name": "stdout",
     "output_type": "stream",
     "text": [
      "{1, 2, 3, 4, 5, 6, 7, 8, 9}\n"
     ]
    }
   ],
   "source": [
    "#mathematical operations on SET\n",
    "\n",
    "#union()\n",
    "#x.union(y) ==>We can use this function to return all elements present in both sets\n",
    "#x.union(y) or x|y\n",
    "\n",
    "x = {1,2,3,4,5}\n",
    "y = {6,7,8,9}\n",
    "print(x.union(y))"
   ]
  },
  {
   "cell_type": "code",
   "execution_count": 9,
   "id": "82be6208",
   "metadata": {},
   "outputs": [
    {
     "name": "stdout",
     "output_type": "stream",
     "text": [
      "{5}\n"
     ]
    }
   ],
   "source": [
    "#intersection()\n",
    "\n",
    "#x.intersection(y) or x&y\n",
    "#Returns common elements present in both x and y\n",
    "\n",
    "x = {1,2,3,4,5}\n",
    "y = {6,7,8,9,5}\n",
    "print(x.intersection(y))"
   ]
  },
  {
   "cell_type": "code",
   "execution_count": 10,
   "id": "0c085d59",
   "metadata": {},
   "outputs": [
    {
     "name": "stdout",
     "output_type": "stream",
     "text": [
      "{1, 2, 3, 4}\n"
     ]
    }
   ],
   "source": [
    "#difference()\n",
    "\n",
    "#x.difference(y) or x-y\n",
    "#returns the elements present in x but not in y\n",
    "\n",
    "x = {1,2,3,4,5}\n",
    "y = {6,7,8,9,5}\n",
    "print(x.difference(y))"
   ]
  },
  {
   "cell_type": "code",
   "execution_count": 11,
   "id": "1a142971",
   "metadata": {},
   "outputs": [
    {
     "name": "stdout",
     "output_type": "stream",
     "text": [
      "{1, 2, 3, 4, 6, 7, 8, 9}\n"
     ]
    }
   ],
   "source": [
    "#symmetric_difference()\n",
    "\n",
    "#x.symmetric_difference(y) or x^y\n",
    "#Returns elements present in either x or y but not in both\n",
    "\n",
    "x = {1,2,3,4,5}\n",
    "y = {6,7,8,9,5}\n",
    "print(x.symmetric_difference(y))"
   ]
  },
  {
   "cell_type": "code",
   "execution_count": null,
   "id": "783ca119",
   "metadata": {},
   "outputs": [],
   "source": []
  }
 ],
 "metadata": {
  "kernelspec": {
   "display_name": "Python 3 (ipykernel)",
   "language": "python",
   "name": "python3"
  },
  "language_info": {
   "codemirror_mode": {
    "name": "ipython",
    "version": 3
   },
   "file_extension": ".py",
   "mimetype": "text/x-python",
   "name": "python",
   "nbconvert_exporter": "python",
   "pygments_lexer": "ipython3",
   "version": "3.11.4"
  }
 },
 "nbformat": 4,
 "nbformat_minor": 5
}
