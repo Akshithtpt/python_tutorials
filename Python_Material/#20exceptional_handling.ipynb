{
 "cells": [
  {
   "cell_type": "code",
   "execution_count": null,
   "id": "36bc3d0e",
   "metadata": {},
   "outputs": [],
   "source": [
    "#What is an Exception?\n",
    "\n",
    "A)An exception is an error that happens during execution of a program. When that\n",
    "error occurs, Python generate an exception that can be handled, which avoids your\n",
    "program to crash."
   ]
  },
  {
   "cell_type": "code",
   "execution_count": null,
   "id": "f9e7bf86",
   "metadata": {},
   "outputs": [],
   "source": [
    "#Why use Exceptions?\n",
    "\n",
    "A)Exceptions are convenient in many ways for handling errors and special conditions in a program. \n",
    "When you think that you have a code which can produce an error then you can use exception handling."
   ]
  },
  {
   "cell_type": "code",
   "execution_count": null,
   "id": "24d490a1",
   "metadata": {},
   "outputs": [],
   "source": [
    "#Raising an Exception:\n",
    "\n",
    "You can raise an exception in your own program by using the raise exception statement.\n",
    "Raising an exception breaks current code execution and returns the exception back until it is handled.\n",
    "\n",
    "#Exception Errors:\n",
    "\n",
    "Below is some common exceptions errors in Python:\n",
    "IOError\n",
    "If the file cannot be opened.\n",
    "\n",
    "ImportError\n",
    "If python cannot find the module\n",
    "\n",
    "ValueError\n",
    "Raised when a built-in operation or function receives an argument that has the\n",
    "right type but an inappropriate value\n",
    "\n",
    "KeyboardInterrupt\n",
    "Raised when the user hits the interrupt key (normally Control-C or Delete)\n",
    "\n",
    "EOFError\n",
    "Raised when one of the built-in functions (input() or raw_input()) hits an\n",
    "end-of-file condition (EOF) without reading any data"
   ]
  },
  {
   "cell_type": "code",
   "execution_count": null,
   "id": "db4e21c3",
   "metadata": {},
   "outputs": [],
   "source": [
    "Exception Syntax:\n",
    "\n",
    "try:\n",
    "   -----------------------\n",
    "   -----------------------\n",
    "   -----------------------\n",
    "except <Exceptionname1>:\n",
    "   -----------------------\n",
    "   -----------------------\n",
    "   -----------------------\n",
    "except <Exceptionname2>:\n",
    "   -----------------------\n",
    "   -----------------------\n",
    "   -----------------------\n",
    "..\n",
    "..\n",
    "..\n",
    "..\n",
    "except <Exceptionname n>:\n",
    "   -----------------------\n",
    "   -----------------------\n",
    "   -----------------------\n",
    "else:\n",
    "   -----------------------\n",
    "   -----------------------\n",
    "   -----------------------"
   ]
  },
  {
   "cell_type": "code",
   "execution_count": null,
   "id": "03800705",
   "metadata": {},
   "outputs": [],
   "source": [
    "#Predefined Exception names and meaning:\n",
    "\n",
    "1.OverflowError : Raised when a calculation exceeds maximum for numeric type.\n",
    "2.EOFError : Raised when there is no input from either input() function and the                        end offile is reached.\n",
    "3.ImportError: Raised when an import statements fails.\n",
    "4.IndexError:Raised when index is not found in sequence\n",
    "5.KeyError:Raised when a mapping (dictionary) key is not found in the set of                      existing keys.\n",
    "6.KeyboardInterrupt:Raised when the user hits the interrupt key (normally                       Control-C or Delete)\n",
    "7.ZeroDivisionError: Raised when division or modulo by zero takes place for all                      numeric types(Not used now)\n",
    "8.IOError: Raised when I/o operation fails."
   ]
  },
  {
   "cell_type": "code",
   "execution_count": null,
   "id": "d5a24074",
   "metadata": {},
   "outputs": [],
   "source": [
    "#The try block lets you test a block of code for errors.\n",
    "\n",
    "#The except block lets you handle the error.\n",
    "\n",
    "#The else block lets you execute code when there is no error.\n",
    "\n",
    "#The finally block lets you execute code, regardless of the result of the try- and except blocks."
   ]
  },
  {
   "cell_type": "code",
   "execution_count": 3,
   "id": "5c23d807",
   "metadata": {},
   "outputs": [
    {
     "name": "stdout",
     "output_type": "stream",
     "text": [
      "An exception occurred\n"
     ]
    }
   ],
   "source": [
    "try:\n",
    "    print(x)\n",
    "except:\n",
    "    print(\"An exception occurred\")\n",
    "    \n",
    "#Since the try block raises an error, the except block will be executed.\n",
    "#Without the try block, the program will crash and raise an error\n",
    "\n",
    "#print(x)"
   ]
  },
  {
   "cell_type": "code",
   "execution_count": 5,
   "id": "c4c12a41",
   "metadata": {},
   "outputs": [
    {
     "name": "stdout",
     "output_type": "stream",
     "text": [
      "Variable x is not defined - please check\n"
     ]
    }
   ],
   "source": [
    "try:\n",
    "    print(x)\n",
    "except NameError:\n",
    "    print(\"Variable x is not defined - please check\")\n",
    "except:\n",
    "    print(\"something else went wrong\")"
   ]
  },
  {
   "cell_type": "code",
   "execution_count": 6,
   "id": "a185cbb5",
   "metadata": {},
   "outputs": [
    {
     "name": "stdout",
     "output_type": "stream",
     "text": [
      "10\n",
      "everything is fine\n"
     ]
    }
   ],
   "source": [
    "#else statement testing\n",
    "x = 10\n",
    "try:\n",
    "    print(x)\n",
    "except:\n",
    "    print(\"Variable x is not defined - please check\")\n",
    "else:\n",
    "  print(\"everything is fine\")"
   ]
  },
  {
   "cell_type": "code",
   "execution_count": 8,
   "id": "89e60876",
   "metadata": {},
   "outputs": [
    {
     "name": "stdout",
     "output_type": "stream",
     "text": [
      "ariable x is not defined - please check\n",
      "The 'try except' is finished\n"
     ]
    }
   ],
   "source": [
    "#The finally block, if specified, will be executed regardless if the try block raises an error or not.\n",
    "\n",
    "try:\n",
    "    print(y)\n",
    "except:\n",
    "    print(\"variable y is not defined - please check\")\n",
    "finally:\n",
    "    print(\"The 'try except' is finished\")"
   ]
  },
  {
   "cell_type": "code",
   "execution_count": 10,
   "id": "c8753189",
   "metadata": {},
   "outputs": [
    {
     "name": "stdout",
     "output_type": "stream",
     "text": [
      "Something went wrong when opening the file\n"
     ]
    }
   ],
   "source": [
    "try:\n",
    "    f = open(\"test1.txt\")\n",
    "    try:\n",
    "        f.write(\"testing file write with exception\")\n",
    "    except:\n",
    "        print(\"Something went wrong when writing to the file\")\n",
    "    finally:\n",
    "        f.close()\n",
    "except:\n",
    "    print(\"Something went wrong when opening the file\")"
   ]
  },
  {
   "cell_type": "code",
   "execution_count": 12,
   "id": "6b9b95dc",
   "metadata": {},
   "outputs": [
    {
     "ename": "Exception",
     "evalue": "oops, no numbers below 20",
     "output_type": "error",
     "traceback": [
      "\u001b[0;31m---------------------------------------------------------------------------\u001b[0m",
      "\u001b[0;31mException\u001b[0m                                 Traceback (most recent call last)",
      "Cell \u001b[0;32mIn[12], line 6\u001b[0m\n\u001b[1;32m      3\u001b[0m x \u001b[38;5;241m=\u001b[39m \u001b[38;5;241m10\u001b[39m\n\u001b[1;32m      5\u001b[0m \u001b[38;5;28;01mif\u001b[39;00m x \u001b[38;5;241m<\u001b[39m \u001b[38;5;241m20\u001b[39m:\n\u001b[0;32m----> 6\u001b[0m     \u001b[38;5;28;01mraise\u001b[39;00m \u001b[38;5;167;01mException\u001b[39;00m(\u001b[38;5;124m\"\u001b[39m\u001b[38;5;124moops, no numbers below 20\u001b[39m\u001b[38;5;124m\"\u001b[39m)\n",
      "\u001b[0;31mException\u001b[0m: oops, no numbers below 20"
     ]
    }
   ],
   "source": [
    "#raise a exception\n",
    "\n",
    "x = 10\n",
    "\n",
    "if x < 20:\n",
    "    raise Exception(\"oops, no numbers below 20\")"
   ]
  },
  {
   "cell_type": "code",
   "execution_count": 13,
   "id": "98c35d44",
   "metadata": {},
   "outputs": [
    {
     "ename": "TypeError",
     "evalue": "Only integers are allowed",
     "output_type": "error",
     "traceback": [
      "\u001b[0;31m---------------------------------------------------------------------------\u001b[0m",
      "\u001b[0;31mTypeError\u001b[0m                                 Traceback (most recent call last)",
      "Cell \u001b[0;32mIn[13], line 4\u001b[0m\n\u001b[1;32m      1\u001b[0m x \u001b[38;5;241m=\u001b[39m \u001b[38;5;124m\"\u001b[39m\u001b[38;5;124mhello\u001b[39m\u001b[38;5;124m\"\u001b[39m\n\u001b[1;32m      3\u001b[0m \u001b[38;5;28;01mif\u001b[39;00m \u001b[38;5;129;01mnot\u001b[39;00m \u001b[38;5;28mtype\u001b[39m(x) \u001b[38;5;129;01mis\u001b[39;00m \u001b[38;5;28mint\u001b[39m:\n\u001b[0;32m----> 4\u001b[0m     \u001b[38;5;28;01mraise\u001b[39;00m \u001b[38;5;167;01mTypeError\u001b[39;00m(\u001b[38;5;124m\"\u001b[39m\u001b[38;5;124mOnly integers are allowed\u001b[39m\u001b[38;5;124m\"\u001b[39m)\n",
      "\u001b[0;31mTypeError\u001b[0m: Only integers are allowed"
     ]
    }
   ],
   "source": [
    "x = \"hello\"\n",
    "\n",
    "if not type(x) is int:\n",
    "    raise TypeError(\"Only integers are allowed\")"
   ]
  },
  {
   "cell_type": "code",
   "execution_count": null,
   "id": "3a9695bd",
   "metadata": {},
   "outputs": [],
   "source": []
  }
 ],
 "metadata": {
  "kernelspec": {
   "display_name": "Python 3 (ipykernel)",
   "language": "python",
   "name": "python3"
  },
  "language_info": {
   "codemirror_mode": {
    "name": "ipython",
    "version": 3
   },
   "file_extension": ".py",
   "mimetype": "text/x-python",
   "name": "python",
   "nbconvert_exporter": "python",
   "pygments_lexer": "ipython3",
   "version": "3.11.4"
  }
 },
 "nbformat": 4,
 "nbformat_minor": 5
}
