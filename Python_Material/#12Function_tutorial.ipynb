{
 "cells": [
  {
   "cell_type": "code",
   "execution_count": null,
   "id": "22c861d1",
   "metadata": {},
   "outputs": [],
   "source": [
    "#functions:\n",
    "\n",
    "It is a group of statements to perform specific task.\n",
    "Main concept of functions is to - \n",
    "    1. To reduce length code of program\n",
    "    2. Easy to maintain\n",
    "    3. Easy to understand\n",
    "    4. provides more readability and clarity\n",
    "    5. Supports re-useability"
   ]
  },
  {
   "cell_type": "code",
   "execution_count": null,
   "id": "8be04f2f",
   "metadata": {},
   "outputs": [],
   "source": [
    "#creating a function\n",
    "\n",
    "def <functionname>:\n",
    "    ---------------------------------\n",
    "    ---------------------------------\n",
    "    ---------------------------------\n",
    "function()"
   ]
  },
  {
   "cell_type": "code",
   "execution_count": 2,
   "id": "597e51e3",
   "metadata": {},
   "outputs": [
    {
     "name": "stdout",
     "output_type": "stream",
     "text": [
      "welcome to functions class\n"
     ]
    }
   ],
   "source": [
    "#calling a function\n",
    "\n",
    "def main():  # empty function\n",
    "    print('welcome to functions class')\n",
    "\n",
    "main()"
   ]
  },
  {
   "cell_type": "code",
   "execution_count": 3,
   "id": "06e2039b",
   "metadata": {},
   "outputs": [
    {
     "name": "stdout",
     "output_type": "stream",
     "text": [
      "Rohit welcome to functions class\n"
     ]
    }
   ],
   "source": [
    "# Functions with arguments\n",
    "\n",
    "def main(name):    #argument --> name\n",
    "    print(name,'welcome to functions class')\n",
    "\n",
    "main('Rohit')"
   ]
  },
  {
   "cell_type": "code",
   "execution_count": 4,
   "id": "403064f4",
   "metadata": {},
   "outputs": [
    {
     "name": "stdout",
     "output_type": "stream",
     "text": [
      "I am sumith\n",
      "I am rakesh\n",
      "I am suresh\n"
     ]
    }
   ],
   "source": [
    "def main(name = \"suresh\"):\n",
    "  print(\"I am\",name)\n",
    "\n",
    "main(\"sumith\")\n",
    "main(\"rakesh\")\n",
    "main()"
   ]
  },
  {
   "cell_type": "code",
   "execution_count": 5,
   "id": "68a82d43",
   "metadata": {},
   "outputs": [
    {
     "name": "stdout",
     "output_type": "stream",
     "text": [
      "apple\n",
      "banana\n",
      "cherry\n"
     ]
    }
   ],
   "source": [
    "def name(fruits):\n",
    "  for x in fruits:\n",
    "    print(x)\n",
    "\n",
    "fruits = [\"apple\", \"banana\", \"cherry\"]\n",
    "\n",
    "name(fruits)"
   ]
  },
  {
   "cell_type": "code",
   "execution_count": 6,
   "id": "a0d53105",
   "metadata": {},
   "outputs": [
    {
     "name": "stdout",
     "output_type": "stream",
     "text": [
      "21\n",
      "18\n"
     ]
    }
   ],
   "source": [
    "#Return values\n",
    "\n",
    "def main(x):\n",
    "#    c = 3*x\n",
    "#    print(c)\n",
    "    return 3 * x\n",
    "\n",
    "#main(3)\n",
    "\n",
    "#main(1)\n",
    "print(main(7))\n",
    "print(main(6))"
   ]
  },
  {
   "cell_type": "code",
   "execution_count": 7,
   "id": "f733b9b3",
   "metadata": {},
   "outputs": [
    {
     "name": "stdout",
     "output_type": "stream",
     "text": [
      "entered number is even\n",
      "entered number is odd\n"
     ]
    }
   ],
   "source": [
    "def check( x ): \n",
    "    if (x%2==0):\n",
    "        print('entered number is even')\n",
    "    else:\n",
    "        print('entered number is odd')\n",
    "        \n",
    "check(8) \n",
    "check(7) "
   ]
  },
  {
   "cell_type": "code",
   "execution_count": 12,
   "id": "c86dccdf",
   "metadata": {},
   "outputs": [
    {
     "name": "stdout",
     "output_type": "stream",
     "text": [
      "X value is: 6\n",
      "y value is: 7\n"
     ]
    }
   ],
   "source": [
    "def main(x,y):\n",
    "        print('X value is:',x)\n",
    "        print('y value is:',y)\n",
    "\n",
    "main(y=7,x=6)"
   ]
  },
  {
   "cell_type": "code",
   "execution_count": 13,
   "id": "58501303",
   "metadata": {},
   "outputs": [
    {
     "name": "stdout",
     "output_type": "stream",
     "text": [
      "3\n",
      "2\n"
     ]
    }
   ],
   "source": [
    "def swap(x, y):\n",
    "    temp = x\n",
    "    x = y\n",
    "    y = temp;\n",
    "    print(x) \n",
    "    print(y)\n",
    "\n",
    "x = 2\n",
    "y = 3\n",
    "swap(x, y) "
   ]
  },
  {
   "cell_type": "code",
   "execution_count": 14,
   "id": "dcb0cdae",
   "metadata": {},
   "outputs": [
    {
     "name": "stdout",
     "output_type": "stream",
     "text": [
      "Hello Rakesh Nice to meet you! You are 20 years old\n",
      "Hello sumith Nice to meet you! You are 20 years old\n",
      "Hello sumith Nice to meet you! You are 20 years old\n"
     ]
    }
   ],
   "source": [
    "def fun1(name,age):\n",
    "    print('Hello',name,'Nice to meet you!','You are',age,'years old')\n",
    "    \n",
    "fun1('Rakesh',20)\n",
    "fun1(name='sumith',age=20)\n",
    "fun1(age=20,name='sumith')"
   ]
  },
  {
   "cell_type": "code",
   "execution_count": 15,
   "id": "a8fe76ae",
   "metadata": {},
   "outputs": [
    {
     "name": "stdout",
     "output_type": "stream",
     "text": [
      "30\n"
     ]
    }
   ],
   "source": [
    "def sum(a,b):\n",
    "    c = a+b\n",
    "    return c\n",
    "x=sum(10,20)\n",
    "print(x)"
   ]
  },
  {
   "cell_type": "code",
   "execution_count": null,
   "id": "8825b19a",
   "metadata": {},
   "outputs": [],
   "source": []
  }
 ],
 "metadata": {
  "kernelspec": {
   "display_name": "Python 3 (ipykernel)",
   "language": "python",
   "name": "python3"
  },
  "language_info": {
   "codemirror_mode": {
    "name": "ipython",
    "version": 3
   },
   "file_extension": ".py",
   "mimetype": "text/x-python",
   "name": "python",
   "nbconvert_exporter": "python",
   "pygments_lexer": "ipython3",
   "version": "3.11.4"
  }
 },
 "nbformat": 4,
 "nbformat_minor": 5
}
