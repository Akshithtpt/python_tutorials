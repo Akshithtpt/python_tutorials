{
 "cells": [
  {
   "cell_type": "code",
   "execution_count": 1,
   "id": "e70716ab",
   "metadata": {},
   "outputs": [],
   "source": [
    "#import collections\n",
    "#import collections as cs\n",
    "#from collections import counter\n",
    "from collections import Counter as cs\n",
    "#from collections import Counter\n",
    "#import collections.Counter as cs\n",
    "\n",
    "#pyplot \n",
    "\n",
    "import matplotlib\n",
    "import matplotlib as np\n",
    "from matplotlib import pyplot\n",
    "from matplotlib import pyplot as plt\n",
    "#import matplotlib.pylot\n",
    "#import matplotlib.pyplot as plt"
   ]
  },
  {
   "cell_type": "code",
   "execution_count": 2,
   "id": "bae2cf08",
   "metadata": {},
   "outputs": [
    {
     "name": "stdout",
     "output_type": "stream",
     "text": [
      "Counter()\n"
     ]
    }
   ],
   "source": [
    "#empty counter\n",
    "counter = cs()\n",
    "print (counter)"
   ]
  },
  {
   "cell_type": "code",
   "execution_count": 3,
   "id": "2fd9b8c5",
   "metadata": {},
   "outputs": [
    {
     "name": "stdout",
     "output_type": "stream",
     "text": [
      "13\n",
      "2\n",
      "Counter({1: 3, 'a': 2, 8: 2, 'b': 1, 'd': 1, 3: 1, 4: 1, 6: 1, 7: 1})\n"
     ]
    }
   ],
   "source": [
    "l = ['a','b','a','d',1,1,1,3,4,6,7,8,8]\n",
    "count = 0\n",
    "for i in l:\n",
    "    count = count +1\n",
    "print(count)\n",
    "print(l.count('a'))\n",
    "C=cs(l)\n",
    "print(C)"
   ]
  },
  {
   "cell_type": "code",
   "execution_count": 4,
   "id": "de8eb36a",
   "metadata": {},
   "outputs": [
    {
     "name": "stdout",
     "output_type": "stream",
     "text": [
      "Counter({'b': 3, 'c': 2, 'a': 1, 'd': 1})\n"
     ]
    }
   ],
   "source": [
    "#l=['abcdaa','abcd','abcd']\n",
    "#counter = cs(l)\n",
    "counter = cs('babcbcd')\n",
    "print(counter)"
   ]
  },
  {
   "cell_type": "code",
   "execution_count": 5,
   "id": "91028ff1",
   "metadata": {},
   "outputs": [
    {
     "name": "stdout",
     "output_type": "stream",
     "text": [
      "Counter({'b': 3, 'a': 2, 'c': 1})\n"
     ]
    }
   ],
   "source": [
    "l = ['a','b','b','a','c','b']\n",
    "counter = cs(l)\n",
    "print(counter)"
   ]
  },
  {
   "cell_type": "code",
   "execution_count": 9,
   "id": "20da8b87",
   "metadata": {},
   "outputs": [
    {
     "name": "stdout",
     "output_type": "stream",
     "text": [
      "1\n"
     ]
    }
   ],
   "source": [
    "from collections import Counter\n",
    "counter = Counter({'dog':2,'cat':1})\n",
    "counterdog=counter['cat']\n",
    "print(counterdog)  "
   ]
  },
  {
   "cell_type": "code",
   "execution_count": 10,
   "id": "1dd78a68",
   "metadata": {},
   "outputs": [
    {
     "name": "stdout",
     "output_type": "stream",
     "text": [
      "Counter({'b': 3, 'a': 2, 'c': 0})\n",
      "Counter({'b': 3, 'a': 2, 'c': 0, 'd': -3})\n"
     ]
    }
   ],
   "source": [
    "#Setting count of elements\n",
    "\n",
    "counter = Counter({'a':2,'b':3,'c':1})\n",
    "counter['c'] = 0\n",
    "print(counter)  #counter({'a':2,'b':3,'c':0})\n",
    "    \n",
    "counter['d'] = -3\n",
    "print(counter)"
   ]
  },
  {
   "cell_type": "code",
   "execution_count": 11,
   "id": "31e3279d",
   "metadata": {},
   "outputs": [
    {
     "name": "stdout",
     "output_type": "stream",
     "text": [
      "a\n"
     ]
    }
   ],
   "source": [
    "counter = cs({'a':1,'b':-1,'c':0})\n",
    "elements = counter.elements()\n",
    "for value in elements:\n",
    "    print(value) # positive values not include 0"
   ]
  },
  {
   "cell_type": "code",
   "execution_count": null,
   "id": "eae777d7",
   "metadata": {},
   "outputs": [],
   "source": []
  }
 ],
 "metadata": {
  "kernelspec": {
   "display_name": "Python 3 (ipykernel)",
   "language": "python",
   "name": "python3"
  },
  "language_info": {
   "codemirror_mode": {
    "name": "ipython",
    "version": 3
   },
   "file_extension": ".py",
   "mimetype": "text/x-python",
   "name": "python",
   "nbconvert_exporter": "python",
   "pygments_lexer": "ipython3",
   "version": "3.11.4"
  }
 },
 "nbformat": 4,
 "nbformat_minor": 5
}
