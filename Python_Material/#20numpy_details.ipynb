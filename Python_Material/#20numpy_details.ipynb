{
 "cells": [
  {
   "cell_type": "code",
   "execution_count": null,
   "id": "4d6d0fdb",
   "metadata": {},
   "outputs": [],
   "source": [
    "#Lists Recap\n",
    "\n",
    "#Powerful\n",
    "#Collection of values\n",
    "#Hold diﬀerent types\n",
    "#Change, add, remove\n",
    "#Need for Data Science\n",
    "     #Mathematical operations over collections\n",
    "     #Speed\n"
   ]
  },
  {
   "cell_type": "code",
   "execution_count": 2,
   "id": "1acc0e27",
   "metadata": {},
   "outputs": [],
   "source": [
    "#WHAT IS NUMPY\n",
    "\n",
    "#IT IS A FUNDAMENTAL PACKAGE FOR SCENTIFIC COMPUTATION ON ARRAYS IN PYTHON\n",
    "\n",
    "#IT IS FASTER THAN LISTS AND IT CONSUMES LESS MEMORY, CONVINENT TO USE\n",
    "\n",
    "#LIST STORES MULTIPLE DATA TYPES BUT NUMPY CONTAINS ONLY ONE DATA TYPE\n",
    "\n",
    "#ARRAY MEANS - CONATINS HOMOGENEITY OF OBJECTS"
   ]
  },
  {
   "cell_type": "code",
   "execution_count": 3,
   "id": "853661f4",
   "metadata": {},
   "outputs": [
    {
     "name": "stdout",
     "output_type": "stream",
     "text": [
      "[10 20 30]\n"
     ]
    }
   ],
   "source": [
    "#CREATING AN ARRAY USING NUMPY\n",
    "\n",
    "import numpy as np\n",
    "arr = np.array([10,20,30])\n",
    "print(arr)"
   ]
  },
  {
   "cell_type": "code",
   "execution_count": 6,
   "id": "65946a6d",
   "metadata": {},
   "outputs": [
    {
     "name": "stdout",
     "output_type": "stream",
     "text": [
      "[145. 144. 154. 165.]\n",
      "[64 55 56 78]\n",
      "[0.03540039 0.04760331 0.04910714 0.02712032]\n"
     ]
    }
   ],
   "source": [
    "import numpy as np\n",
    "height = np.array([145.0,144.0,154.0,165.0])\n",
    "print(height)\n",
    "weight = np.array([64,55,56,78])\n",
    "print(weight)\n",
    "bmi = height/weight ** 2\n",
    "print(bmi)"
   ]
  },
  {
   "cell_type": "code",
   "execution_count": 7,
   "id": "dd89835e",
   "metadata": {},
   "outputs": [
    {
     "ename": "TypeError",
     "evalue": "unsupported operand type(s) for ** or pow(): 'list' and 'int'",
     "output_type": "error",
     "traceback": [
      "\u001b[0;31m---------------------------------------------------------------------------\u001b[0m",
      "\u001b[0;31mTypeError\u001b[0m                                 Traceback (most recent call last)",
      "Cell \u001b[0;32mIn[7], line 3\u001b[0m\n\u001b[1;32m      1\u001b[0m height \u001b[38;5;241m=\u001b[39m [\u001b[38;5;241m145.0\u001b[39m,\u001b[38;5;241m144.0\u001b[39m,\u001b[38;5;241m154.0\u001b[39m,\u001b[38;5;241m165.0\u001b[39m]\n\u001b[1;32m      2\u001b[0m weight \u001b[38;5;241m=\u001b[39m [\u001b[38;5;241m64\u001b[39m,\u001b[38;5;241m55\u001b[39m,\u001b[38;5;241m56\u001b[39m,\u001b[38;5;241m78\u001b[39m]\n\u001b[0;32m----> 3\u001b[0m bmi \u001b[38;5;241m=\u001b[39m height\u001b[38;5;241m/\u001b[39mweight \u001b[38;5;241m*\u001b[39m\u001b[38;5;241m*\u001b[39m \u001b[38;5;241m2\u001b[39m\n\u001b[1;32m      4\u001b[0m \u001b[38;5;28mprint\u001b[39m(bmi)\n",
      "\u001b[0;31mTypeError\u001b[0m: unsupported operand type(s) for ** or pow(): 'list' and 'int'"
     ]
    }
   ],
   "source": [
    "height = [145.0,144.0,154.0,165.0]\n",
    "weight = [64,55,56,78]\n",
    "bmi = height/weight ** 2\n",
    "print(bmi)"
   ]
  },
  {
   "cell_type": "code",
   "execution_count": 10,
   "id": "65b9b0f9",
   "metadata": {},
   "outputs": [
    {
     "name": "stdout",
     "output_type": "stream",
     "text": [
      "[12.  34.5]\n"
     ]
    }
   ],
   "source": [
    "import numpy as np\n",
    "#a = np.array([12,34.5,\"test\",\"TRUE\"])\n",
    "a = np.array([12,34.5])\n",
    "print(a)"
   ]
  },
  {
   "cell_type": "code",
   "execution_count": 12,
   "id": "2d433d56",
   "metadata": {},
   "outputs": [
    {
     "name": "stdout",
     "output_type": "stream",
     "text": [
      "[1 2 3]\n",
      "[1, 2, 3]\n",
      "[2 4 6]\n",
      "[1, 2, 3, 1, 2, 3]\n"
     ]
    }
   ],
   "source": [
    "import numpy as np\n",
    "a = np.array([1,2,3])\n",
    "b = [1,2,3]\n",
    "print(a)\n",
    "print(b)\n",
    "c = a + a\n",
    "d = b + b\n",
    "print(c)\n",
    "print(d)"
   ]
  },
  {
   "cell_type": "code",
   "execution_count": 13,
   "id": "f7e0bdc7",
   "metadata": {},
   "outputs": [
    {
     "name": "stdout",
     "output_type": "stream",
     "text": [
      "<class 'numpy.ndarray'>\n"
     ]
    }
   ],
   "source": [
    "import numpy as np\n",
    "height = np.array([145.0,144.0,154.0,165.0])\n",
    "weight = np.array([64,55,56,78])\n",
    "print(type(height)) #ndarray - n dimensional array"
   ]
  },
  {
   "cell_type": "code",
   "execution_count": 17,
   "id": "41efb964",
   "metadata": {},
   "outputs": [
    {
     "name": "stdout",
     "output_type": "stream",
     "text": [
      "<class 'numpy.ndarray'>\n",
      "(2, 4)\n"
     ]
    }
   ],
   "source": [
    "import numpy as np\n",
    "height = np.array([[145.0,144.0,154.0,165.0],[64,55,56,78]])\n",
    "print(type(height)) #ndarray - n dimensional array\n",
    "print(height.shape)"
   ]
  },
  {
   "cell_type": "code",
   "execution_count": 27,
   "id": "189633fa",
   "metadata": {},
   "outputs": [
    {
     "name": "stdout",
     "output_type": "stream",
     "text": [
      "55\n",
      "165.0\n",
      "165.0\n"
     ]
    }
   ],
   "source": [
    "#accessing elements\n",
    "\n",
    "print(weight[1])\n",
    "print(height[0][3])\n",
    "print(height[0,3])"
   ]
  },
  {
   "cell_type": "code",
   "execution_count": 29,
   "id": "a5e8f339",
   "metadata": {},
   "outputs": [
    {
     "name": "stdout",
     "output_type": "stream",
     "text": [
      "5.083333333333333\n",
      "5.5\n"
     ]
    }
   ],
   "source": [
    "a = [1,2,3,4,5,6,7,6,7,5,6,9]\n",
    "import numpy as np\n",
    "mean = np.mean(a)\n",
    "print(mean)\n",
    "median = np.median(a)\n",
    "print(median)"
   ]
  },
  {
   "cell_type": "code",
   "execution_count": 31,
   "id": "0e727d1f",
   "metadata": {},
   "outputs": [
    {
     "name": "stdout",
     "output_type": "stream",
     "text": [
      "Ones Array:\n",
      "[[1. 1. 1. 1.]\n",
      " [1. 1. 1. 1.]\n",
      " [1. 1. 1. 1.]]\n",
      "\n"
     ]
    }
   ],
   "source": [
    "import numpy as np\n",
    "\n",
    "# Create an array of ones\n",
    "ones_array = np.ones((3, 4))\n",
    "print(\"Ones Array:\")\n",
    "print(ones_array)\n",
    "print()"
   ]
  },
  {
   "cell_type": "code",
   "execution_count": 32,
   "id": "1a93797a",
   "metadata": {},
   "outputs": [
    {
     "name": "stdout",
     "output_type": "stream",
     "text": [
      "Zeros Array:\n",
      "[[[0 0 0 0]\n",
      "  [0 0 0 0]\n",
      "  [0 0 0 0]]\n",
      "\n",
      " [[0 0 0 0]\n",
      "  [0 0 0 0]\n",
      "  [0 0 0 0]]]\n",
      "\n"
     ]
    }
   ],
   "source": [
    "# Create an array of zeros\n",
    "zeros_array = np.zeros((2, 3, 4), dtype=np.int16)\n",
    "print(\"Zeros Array:\")\n",
    "print(zeros_array)\n",
    "print()"
   ]
  },
  {
   "cell_type": "code",
   "execution_count": 33,
   "id": "0381ca96",
   "metadata": {},
   "outputs": [
    {
     "name": "stdout",
     "output_type": "stream",
     "text": [
      "Random Array:\n",
      "[[0.68037453 0.9922083 ]\n",
      " [0.39578303 0.01941818]]\n",
      "\n"
     ]
    }
   ],
   "source": [
    "# Create an array with random values\n",
    "random_array = np.random.random((2, 2))\n",
    "print(\"Random Array:\")\n",
    "print(random_array)\n",
    "print()"
   ]
  },
  {
   "cell_type": "code",
   "execution_count": 34,
   "id": "ea911c97",
   "metadata": {},
   "outputs": [
    {
     "name": "stdout",
     "output_type": "stream",
     "text": [
      "Empty Array:\n",
      "[[0. 0.]\n",
      " [0. 0.]\n",
      " [0. 0.]]\n",
      "\n"
     ]
    }
   ],
   "source": [
    "# Create an empty array\n",
    "empty_array = np.empty((3, 2))\n",
    "print(\"Empty Array:\")\n",
    "print(empty_array)\n",
    "print()"
   ]
  },
  {
   "cell_type": "code",
   "execution_count": 35,
   "id": "969de45b",
   "metadata": {},
   "outputs": [
    {
     "name": "stdout",
     "output_type": "stream",
     "text": [
      "Full Array:\n",
      "[[7 7]\n",
      " [7 7]]\n",
      "\n"
     ]
    }
   ],
   "source": [
    "# Create a full array\n",
    "full_array = np.full((2, 2), 7)\n",
    "print(\"Full Array:\")\n",
    "print(full_array)\n",
    "print()"
   ]
  },
  {
   "cell_type": "code",
   "execution_count": 36,
   "id": "e2d91064",
   "metadata": {},
   "outputs": [
    {
     "name": "stdout",
     "output_type": "stream",
     "text": [
      "Arange Array:\n",
      "[10 15 20]\n",
      "\n"
     ]
    }
   ],
   "source": [
    "# Create an array of evenly-spaced values\n",
    "arange_array = np.arange(10, 25, 5)\n",
    "print(\"Arange Array:\")\n",
    "print(arange_array)\n",
    "print()"
   ]
  },
  {
   "cell_type": "code",
   "execution_count": 37,
   "id": "f5595af3",
   "metadata": {},
   "outputs": [
    {
     "data": {
      "text/plain": [
       "array([0.  , 0.25, 0.5 , 0.75, 1.  , 1.25, 1.5 , 1.75, 2.  ])"
      ]
     },
     "execution_count": 37,
     "metadata": {},
     "output_type": "execute_result"
    }
   ],
   "source": [
    "# Create an array of evenly-spaced values\n",
    "np.linspace(0,2,9)"
   ]
  },
  {
   "cell_type": "code",
   "execution_count": 40,
   "id": "30fc4a2a",
   "metadata": {},
   "outputs": [
    {
     "name": "stdout",
     "output_type": "stream",
     "text": [
      "Number of dimensions of my_array:\n",
      "2\n",
      "\n",
      "Number of elements in my_array:\n",
      "8\n",
      "\n",
      "Length of one array element in bytes:\n",
      "8\n",
      "\n",
      "Total consumed bytes by my_array's elements:\n",
      "64\n",
      "\n"
     ]
    }
   ],
   "source": [
    "import numpy as np\n",
    "\n",
    "# Create a numpy array with shape (2,4)\n",
    "my_array = np.array([[1,2,3,4], [5,6,7,8]])\n",
    "\n",
    "# Print the number of dimensions of `my_array`\n",
    "print(\"Number of dimensions of my_array:\")\n",
    "print(my_array.ndim)\n",
    "print()\n",
    "\n",
    "# Print the number of elements in `my_array`\n",
    "print(\"Number of elements in my_array:\")\n",
    "print(my_array.size)\n",
    "print()\n",
    "\n",
    "# Print the length of one array element in bytes\n",
    "print(\"Length of one array element in bytes:\")\n",
    "print(my_array.itemsize)\n",
    "print()\n",
    "\n",
    "# Print the total consumed bytes by `my_array`'s elements\n",
    "print(\"Total consumed bytes by my_array's elements:\")\n",
    "print(my_array.nbytes)\n",
    "print()"
   ]
  },
  {
   "cell_type": "code",
   "execution_count": 42,
   "id": "3e031079",
   "metadata": {},
   "outputs": [
    {
     "name": "stdout",
     "output_type": "stream",
     "text": [
      "2\n"
     ]
    },
    {
     "data": {
      "text/plain": [
       "array([['1', '2', '3', '4'],\n",
       "       ['5', '6', '7', '8']], dtype='<U21')"
      ]
     },
     "execution_count": 42,
     "metadata": {},
     "output_type": "execute_result"
    }
   ],
   "source": [
    "import numpy as np\n",
    "my_array = np.array([[1,2,3,4], [5,6,7,8]])\n",
    "\n",
    "# Print the length of `my_array`\n",
    "print(len(my_array))\n",
    "\n",
    "# Change the data type of `my_array`\n",
    "#my_array.astype(float)\n",
    "my_array.astype(str)"
   ]
  },
  {
   "cell_type": "code",
   "execution_count": 43,
   "id": "9eff78de",
   "metadata": {},
   "outputs": [
    {
     "name": "stdout",
     "output_type": "stream",
     "text": [
      "Shape of x: (3, 4)\n",
      "Shape of y: (3, 4)\n",
      "Result of x + y:\n",
      " [[1.74210325 1.05648095 1.37218153 1.9394568 ]\n",
      " [1.95266457 1.10162148 1.521345   1.03562177]\n",
      " [1.37705377 1.87252232 1.43264653 1.53701616]]\n",
      "Shape of x + y: (3, 4)\n"
     ]
    }
   ],
   "source": [
    "# Import the NumPy library and give it an alias of `np`\n",
    "import numpy as np\n",
    "\n",
    "# Initialize a 3x4 array of ones and assign it to the variable `x`\n",
    "x = np.ones((3,4))\n",
    "\n",
    "# Print the shape of the array `x`\n",
    "print(\"Shape of x:\", x.shape)\n",
    "\n",
    "# Initialize a 3x4 array of random numbers between 0 and 1 and assign it to the variable `y`\n",
    "y = np.random.random((3,4))\n",
    "\n",
    "# Print the shape of the array `y`\n",
    "print(\"Shape of y:\", y.shape)\n",
    "\n",
    "# Add the arrays `x` and `y` element-wise and print the resulting array\n",
    "z = x + y\n",
    "print(\"Result of x + y:\\n\", z)\n",
    "\n",
    "# Print the shape of the resulting array\n",
    "print(\"Shape of x + y:\", z.shape)"
   ]
  },
  {
   "cell_type": "code",
   "execution_count": 45,
   "id": "9be6f8b4",
   "metadata": {},
   "outputs": [
    {
     "name": "stdout",
     "output_type": "stream",
     "text": [
      "Shape of x: (3, 4)\n",
      "Shape of y: (3, 4)\n",
      "[[1. 1. 1. 1.]\n",
      " [1. 1. 1. 1.]\n",
      " [1. 1. 1. 1.]]\n",
      "[[0.74314265 0.9921833  0.81511881 0.92820893]\n",
      " [0.4357894  0.1849425  0.95008374 0.80945381]\n",
      " [0.44997171 0.95337816 0.48296718 0.47537761]]\n",
      "Result of x + y:\n",
      " [[1.74314265 1.9921833  1.81511881 1.92820893]\n",
      " [1.4357894  1.1849425  1.95008374 1.80945381]\n",
      " [1.44997171 1.95337816 1.48296718 1.47537761]]\n",
      "Shape of x + y: (3, 4)\n"
     ]
    }
   ],
   "source": [
    "# Import the NumPy library and give it an alias of `np`\n",
    "import numpy as np\n",
    "\n",
    "# Initialize a 3x4 array of ones and assign it to the variable `x`\n",
    "x = np.ones((3,4))\n",
    "\n",
    "# Print the shape of the array `x`\n",
    "print(\"Shape of x:\", x.shape)\n",
    "\n",
    "# Initialize a 3x4 array of random numbers between 0 and 1 and assign it to the variable `y`\n",
    "y = np.random.random((3,4))\n",
    "\n",
    "# Print the shape of the array `y`\n",
    "print(\"Shape of y:\", y.shape)\n",
    "print(x)\n",
    "print(y)\n",
    "\n",
    "# Add the arrays `x` and `y` element-wise and print the resulting array\n",
    "z = x + y\n",
    "print(\"Result of x + y:\\n\", z)\n",
    "\n",
    "# Print the shape of the resulting array\n",
    "print(\"Shape of x + y:\", z.shape)"
   ]
  },
  {
   "cell_type": "code",
   "execution_count": 46,
   "id": "344fd89f",
   "metadata": {},
   "outputs": [
    {
     "name": "stdout",
     "output_type": "stream",
     "text": [
      "Addition of x and y:\n",
      " [[ 7  9 11]\n",
      " [ 9 11 13]]\n",
      "Subtraction of y from x:\n",
      " [[-5 -5 -5]\n",
      " [-3 -3 -3]]\n",
      "Element-wise multiplication of x and y:\n",
      " [[ 6 14 24]\n",
      " [18 28 40]]\n"
     ]
    }
   ],
   "source": [
    "# Import `numpy` as `np`\n",
    "import numpy as np\n",
    "x = np.array([[1, 2, 3], [3, 4, 5]])\n",
    "y = np.array([6,7,8])\n",
    "\n",
    "# Add `x` and `y`\n",
    "z = np.add(x,y)\n",
    "print(\"Addition of x and y:\\n\", z)\n",
    "\n",
    "# Subtract `x` and `y`\n",
    "z = np.subtract(x,y)\n",
    "print(\"Subtraction of y from x:\\n\", z)\n",
    "\n",
    "# Multiply `x` and `y`\n",
    "z = np.multiply(x,y)\n",
    "print(\"Element-wise multiplication of x and y:\\n\", z)"
   ]
  },
  {
   "cell_type": "code",
   "execution_count": null,
   "id": "6b9585e7",
   "metadata": {},
   "outputs": [],
   "source": [
    "a.sum()\tArray-wise sum\n",
    "a.min()\tArray-wise minimum value\n",
    "b.max(axis=0)\tMaximum value of an array row\n",
    "b.cumsum(axis=1)\tCumulative sum of the elements\n",
    "a.mean()\tMean\n",
    "b.median()\tMedian\n",
    "a.corrcoef()\tCorrelation coefficient\n",
    "np.std(b)\tStandard deviation"
   ]
  },
  {
   "cell_type": "code",
   "execution_count": 49,
   "id": "3692a61f",
   "metadata": {},
   "outputs": [
    {
     "name": "stdout",
     "output_type": "stream",
     "text": [
      "[ True False False False]\n",
      "[ True  True  True False]\n",
      "[False False  True  True]\n"
     ]
    }
   ],
   "source": [
    "# Import `numpy` as `np`\n",
    "import numpy as np\n",
    "# Initialize arrays\n",
    "a = np.array([1, 1, 0, 0], dtype=bool)\n",
    "b = np.array([1, 0, 1, 0], dtype=bool)\n",
    "\n",
    "# `a` AND `b` \n",
    "print(np.logical_and(a, b))\n",
    "\n",
    "# `a` OR `b`\n",
    "print(np.logical_or(a, b))\n",
    "\n",
    "# `a` NOT `b`\n",
    "print(np.logical_not(a,b))"
   ]
  },
  {
   "cell_type": "code",
   "execution_count": 50,
   "id": "d2dd727e",
   "metadata": {},
   "outputs": [
    {
     "name": "stdout",
     "output_type": "stream",
     "text": [
      "2\n"
     ]
    }
   ],
   "source": [
    "import numpy as np\n",
    "\n",
    "# Initialize 1D array\n",
    "my_array = np.array([1,2,3,4])\n",
    "\n",
    "# Print subsets\n",
    "print(my_array[1])"
   ]
  },
  {
   "cell_type": "code",
   "execution_count": 51,
   "id": "6f177482",
   "metadata": {},
   "outputs": [
    {
     "name": "stdout",
     "output_type": "stream",
     "text": [
      "7\n",
      "7\n"
     ]
    }
   ],
   "source": [
    "import numpy as np\n",
    "\n",
    "# Initialize 2D array\n",
    "my_2d_array = np.array([[1,2,3,4], [5,6,7,8]], dtype=np.int64)\n",
    "\n",
    "# Print subsets\n",
    "print(my_2d_array[1][2])\n",
    "print(my_2d_array[1,2])"
   ]
  },
  {
   "cell_type": "code",
   "execution_count": 52,
   "id": "d1744d06",
   "metadata": {},
   "outputs": [
    {
     "name": "stdout",
     "output_type": "stream",
     "text": [
      "11\n"
     ]
    }
   ],
   "source": [
    "import numpy as np\n",
    "\n",
    "# Initialize 3D array\n",
    "my_3d_array = np.array([[[1,2,3,4], [5,6,7,8]], [[1,2,3,4], [9,10,11,12]]], dtype=np.int64)\n",
    "\n",
    "# Print subset\n",
    "print(my_3d_array[1,1,2])"
   ]
  },
  {
   "cell_type": "code",
   "execution_count": 53,
   "id": "5fd90d7b",
   "metadata": {},
   "outputs": [
    {
     "name": "stdout",
     "output_type": "stream",
     "text": [
      "[1 2]\n"
     ]
    }
   ],
   "source": [
    "import numpy as np\n",
    "\n",
    "# Initialize 1D array\n",
    "my_array = np.array([1,2,3,4])\n",
    "\n",
    "# Print subsets\n",
    "print(my_array[0:2])"
   ]
  },
  {
   "cell_type": "code",
   "execution_count": 54,
   "id": "12dd851e",
   "metadata": {},
   "outputs": [
    {
     "name": "stdout",
     "output_type": "stream",
     "text": [
      "[2 6]\n"
     ]
    }
   ],
   "source": [
    "import numpy as np\n",
    "\n",
    "# Initialize 2D array\n",
    "my_2d_array = np.array([[1,2,3,4], [5,6,7,8]], dtype=np.int64)\n",
    "\n",
    "# Print subsets\n",
    "print(my_2d_array[0:2,1])"
   ]
  },
  {
   "cell_type": "code",
   "execution_count": 55,
   "id": "e4422258",
   "metadata": {},
   "outputs": [
    {
     "name": "stdout",
     "output_type": "stream",
     "text": [
      "[[ 1  2  3  4]\n",
      " [ 9 10 11 12]]\n"
     ]
    }
   ],
   "source": [
    "import numpy as np\n",
    "\n",
    "# Initialize 3D array\n",
    "my_3d_array = np.array([[[1,2,3,4], [5,6,7,8]], [[1,2,3,4], [9,10,11,12]]], dtype=np.int64)\n",
    "\n",
    "# Print subset\n",
    "print(my_3d_array[1,...])"
   ]
  },
  {
   "cell_type": "code",
   "execution_count": null,
   "id": "a27b13af",
   "metadata": {},
   "outputs": [],
   "source": [
    "a[start:end] # items start through the end (but the end is not included!)\n",
    "a[start:]    # items start through the rest of the array\n",
    "a[:end]      # items from the beginning through the end (but the end is not included!)"
   ]
  },
  {
   "cell_type": "code",
   "execution_count": 56,
   "id": "c8c80169",
   "metadata": {},
   "outputs": [
    {
     "name": "stdout",
     "output_type": "stream",
     "text": [
      "[1]\n",
      "[ 3  4  5  6  7  8  3  4  9 10 11 12]\n"
     ]
    }
   ],
   "source": [
    "import numpy as np\n",
    "my_array = np.array([1,2,3,4])\n",
    "my_3d_array = np.array([[[1,2,3,4], [5,6,7,8]], [[1,2,3,4], [9,10,11,12]]], dtype=np.int64)\n",
    "\n",
    "# Try out a simple example\n",
    "print(my_array[my_array<2])\n",
    "\n",
    "# Specify a condition\n",
    "bigger_than_3 = (my_3d_array >= 3)\n",
    "\n",
    "# Use the condition to index our 3d array\n",
    "print(my_3d_array[bigger_than_3])"
   ]
  },
  {
   "cell_type": "code",
   "execution_count": 57,
   "id": "969ff888",
   "metadata": {},
   "outputs": [
    {
     "name": "stdout",
     "output_type": "stream",
     "text": [
      "[5 2 7 1]\n",
      "[[5 6 7 5]\n",
      " [1 2 3 1]\n",
      " [5 6 7 5]\n",
      " [1 2 3 1]]\n"
     ]
    }
   ],
   "source": [
    "import numpy as np\n",
    "my_array = np.array([1,2,3,4])\n",
    "my_2d_array = np.array([[1,2,3,4], [5,6,7,8]], dtype=np.int64)\n",
    "my_3d_array = np.array([[[1,2,3,4], [5,6,7,8]], [[1,2,3,4], [9,10,11,12]]], dtype=np.int64)\n",
    "\n",
    "# Select elements at (1,0), (0,1), (1,2) and (0,0)\n",
    "print(my_2d_array[[1, 0, 1, 0],[0, 1, 2, 0]])\n",
    "\n",
    "# Select a subset of the rows and columns\n",
    "print(my_2d_array[[1, 0, 1, 0]][:,[0,1,2,0]])"
   ]
  },
  {
   "cell_type": "code",
   "execution_count": 58,
   "id": "7eb127b3",
   "metadata": {},
   "outputs": [
    {
     "name": "stdout",
     "output_type": "stream",
     "text": [
      "[[1 2 3 4]\n",
      " [5 6 7 8]]\n",
      "[[1 5]\n",
      " [2 6]\n",
      " [3 7]\n",
      " [4 8]]\n",
      "[[1 5]\n",
      " [2 6]\n",
      " [3 7]\n",
      " [4 8]]\n"
     ]
    }
   ],
   "source": [
    "import numpy as np\n",
    "my_2d_array = np.array([[1,2,3,4], [5,6,7,8]], dtype=np.int64)\n",
    "\n",
    "# Print `my_2d_array`\n",
    "print(my_2d_array)\n",
    "\n",
    "# Transpose `my_2d_array`\n",
    "print(np.transpose(my_2d_array))\n",
    "\n",
    "# Or use `T` to transpose `my_2d_array`\n",
    "print(my_2d_array.T)"
   ]
  },
  {
   "cell_type": "code",
   "execution_count": 59,
   "id": "3b54860b",
   "metadata": {},
   "outputs": [
    {
     "name": "stdout",
     "output_type": "stream",
     "text": [
      "[1 2 3 4]\n",
      "[1 2 3 4]\n",
      "[1 2 3 4]\n"
     ]
    }
   ],
   "source": [
    "import numpy as np\n",
    "my_array = np.array([1,2,3,4])\n",
    "\n",
    "# Print `my_2d_array\n",
    "print(my_array)\n",
    "\n",
    "# Transpose `my_2d_array\n",
    "print(np.transpose(my_array))\n",
    "\n",
    "# Or use `T` to transpose `my_2d_array\n",
    "print(my_array.T)"
   ]
  },
  {
   "cell_type": "code",
   "execution_count": 60,
   "id": "039058e8",
   "metadata": {},
   "outputs": [
    {
     "name": "stdout",
     "output_type": "stream",
     "text": [
      "(3, 4)\n",
      "[[1. 1. 1. 1.]\n",
      " [1. 1. 1. 1.]\n",
      " [1. 1. 1. 1.]\n",
      " [0. 0. 0. 0.]\n",
      " [0. 0. 0. 0.]\n",
      " [0. 0. 0. 0.]]\n"
     ]
    }
   ],
   "source": [
    "import numpy as np\n",
    "x = np.ones((3,4))\n",
    "\n",
    "# Print the shape of `x`\n",
    "print(x.shape)\n",
    "\n",
    "# Resize `x` to ((6,4))\n",
    "np.resize(x, (6,4))\n",
    "\n",
    "# Try out this as well\n",
    "x.resize((6,4))\n",
    "\n",
    "# Print out `x`\n",
    "print(x)"
   ]
  },
  {
   "cell_type": "code",
   "execution_count": 61,
   "id": "f118c4fc",
   "metadata": {},
   "outputs": [
    {
     "name": "stdout",
     "output_type": "stream",
     "text": [
      "Shape of x: (3, 4)\n",
      "Array before transposing:\n",
      " [[1. 1. 1. 1.]\n",
      " [1. 1. 1. 1.]\n",
      " [1. 1. 1. 1.]\n",
      " [0. 0. 0. 0.]\n",
      " [0. 0. 0. 0.]\n",
      " [0. 0. 0. 0.]]\n",
      "Shape of array before transposing: (6, 4)\n",
      "Array after transposing:\n",
      " [[1. 1. 1. 0. 0. 0.]\n",
      " [1. 1. 1. 0. 0. 0.]\n",
      " [1. 1. 1. 0. 0. 0.]\n",
      " [1. 1. 1. 0. 0. 0.]]\n",
      "Shape of array after transposing: (4, 6)\n"
     ]
    }
   ],
   "source": [
    "import numpy as np\n",
    "\n",
    "# Initialize array with shape (3,4) containing all ones\n",
    "x = np.ones((3,4))\n",
    "\n",
    "# Print the shape of `x`\n",
    "print(\"Shape of x:\", x.shape)\n",
    "\n",
    "# Resize `x` to ((6,4))\n",
    "np.resize(x, (6,4))\n",
    "\n",
    "# Try out this as well\n",
    "x.resize((6,4))\n",
    "\n",
    "# Print out `x` before and after resizing\n",
    "print(\"Array before transposing:\\n\", x)\n",
    "print(\"Shape of array before transposing:\", x.shape)\n",
    "\n",
    "# Transpose `x`\n",
    "x = x.T\n",
    "\n",
    "# Print out `x` after transposing\n",
    "print(\"Array after transposing:\\n\", x)\n",
    "print(\"Shape of array after transposing:\", x.shape)"
   ]
  },
  {
   "cell_type": "code",
   "execution_count": 62,
   "id": "c4eeb040",
   "metadata": {},
   "outputs": [
    {
     "name": "stdout",
     "output_type": "stream",
     "text": [
      "my_array before appending: [1 2 3 4]\n",
      "new_array: [ 1  2  3  4  7  8  9 10]\n",
      "my_array after appending: [1 2 3 4]\n"
     ]
    }
   ],
   "source": [
    "import numpy as np\n",
    "\n",
    "my_array = np.array([1,2,3,4])\n",
    "\n",
    "# Print `my_array` before appending\n",
    "print(\"my_array before appending:\", my_array)\n",
    "\n",
    "# Append a 1D array to `my_array`\n",
    "new_array = np.append(my_array, [7, 8, 9, 10])\n",
    "\n",
    "# Print `new_array`\n",
    "print(\"new_array:\", new_array)\n",
    "\n",
    "# Print `my_array` after appending\n",
    "print(\"my_array after appending:\", my_array)"
   ]
  },
  {
   "cell_type": "code",
   "execution_count": 63,
   "id": "2cb54bba",
   "metadata": {},
   "outputs": [
    {
     "name": "stdout",
     "output_type": "stream",
     "text": [
      "my_2d_array before appending:\n",
      " [[1 2 3 4]\n",
      " [5 6 7 8]]\n",
      "new_2d_array:\n",
      " [[1 2 3 4 7]\n",
      " [5 6 7 8 8]]\n",
      "my_2d_array after appending:\n",
      " [[1 2 3 4]\n",
      " [5 6 7 8]]\n"
     ]
    }
   ],
   "source": [
    "import numpy as np\n",
    "\n",
    "my_2d_array = np.array([[1,2,3,4], [5,6,7,8]], dtype=np.int64)\n",
    "\n",
    "# Print `my_2d_array` before appending\n",
    "print(\"my_2d_array before appending:\\n\", my_2d_array)\n",
    "\n",
    "# Append an extra column to `my_2d_array`\n",
    "new_2d_array = np.append(my_2d_array, [[7], [8]], axis=1)\n",
    "\n",
    "# Print `new_2d_array`\n",
    "print(\"new_2d_array:\\n\", new_2d_array)\n",
    "\n",
    "# Print `my_2d_array` after appending\n",
    "print(\"my_2d_array after appending:\\n\", my_2d_array)"
   ]
  },
  {
   "cell_type": "code",
   "execution_count": 64,
   "id": "b434c308",
   "metadata": {},
   "outputs": [
    {
     "data": {
      "text/plain": [
       "array([1, 3, 4])"
      ]
     },
     "execution_count": 64,
     "metadata": {},
     "output_type": "execute_result"
    }
   ],
   "source": [
    "import numpy as np\n",
    "my_array = np.array([1,2,3,4])\n",
    "my_2d_array = np.array([[1,2,3,4], [5,6,7,8]], dtype=np.int64)\n",
    "\n",
    "# Insert `5` at index 1\n",
    "np.insert(my_array, 1, 5)\n",
    "\n",
    "# Delete the value at index 1\n",
    "np.delete(my_array,[1])"
   ]
  },
  {
   "cell_type": "code",
   "execution_count": 65,
   "id": "75a0999b",
   "metadata": {},
   "outputs": [
    {
     "name": "stdout",
     "output_type": "stream",
     "text": [
      "[1. 2. 3. 4. 1. 1. 1. 1.]\n",
      "[[1 2 3 4]\n",
      " [1 2 3 4]\n",
      " [5 6 7 8]]\n",
      "[[1 2 3 4]\n",
      " [1 2 3 4]\n",
      " [1 2 3 4]\n",
      " [5 6 7 8]]\n",
      "[[1 2 3 4 1 2 3 4]\n",
      " [1 2 3 4 5 6 7 8]]\n",
      "[[1 2 3 4 1 2 3 4]\n",
      " [1 2 3 4 5 6 7 8]]\n",
      "[[1 2 3 4 1 2 3 4]\n",
      " [1 2 3 4 5 6 7 8]]\n"
     ]
    }
   ],
   "source": [
    "import numpy as np \n",
    "x = np.ones((4,))\n",
    "my_array = np.array([1,2,3,4])\n",
    "my_resized_array=np.resize(my_array,(2,4))\n",
    "my_2d_array = np.array([[1,2,3,4], [5,6,7,8]], dtype=np.int64)\n",
    "\n",
    "# Concatentate `my_array` and `x`\n",
    "print(np.concatenate((my_array,x)))\n",
    "\n",
    "# Stack arrays row-wise\n",
    "print(np.vstack((my_array, my_2d_array)))\n",
    "\n",
    "# Stack arrays row-wise\n",
    "print(np.r_[my_resized_array, my_2d_array])\n",
    "\n",
    "# Stack arrays horizontally\n",
    "print(np.hstack((my_resized_array, my_2d_array)))\n",
    "\n",
    "# Stack arrays column-wise\n",
    "print(np.column_stack((my_resized_array, my_2d_array)))\n",
    "\n",
    "# Stack arrays column-wise\n",
    "print(np.c_[my_resized_array, my_2d_array])"
   ]
  },
  {
   "cell_type": "code",
   "execution_count": 66,
   "id": "c1909d60",
   "metadata": {},
   "outputs": [
    {
     "name": "stdout",
     "output_type": "stream",
     "text": [
      "[array([[1, 2, 3, 4],\n",
      "       [1, 2, 3, 4]]), array([[1, 2, 3, 4],\n",
      "       [5, 6, 7, 8]])]\n",
      "[array([[1, 2, 3, 4, 1, 2, 3, 4]]), array([[1, 2, 3, 4, 5, 6, 7, 8]])]\n"
     ]
    }
   ],
   "source": [
    "import numpy as np\n",
    "my_array = np.array([1,2,3,4])\n",
    "my_resized_array=np.resize(my_array,(2,4))\n",
    "my_2d_array = np.array([[1,2,3,4], [5,6,7,8]], dtype=np.int64)\n",
    "my_stacked_array = np.hstack((my_resized_array, my_2d_array))\n",
    "\n",
    "# Split `my_stacked_array` horizontally at the 2nd index\n",
    "print(np.hsplit(my_stacked_array, 2))\n",
    "\n",
    "# Split `my_stacked_array` vertically at the 2nd index\n",
    "print(np.vsplit(my_stacked_array, 2))"
   ]
  },
  {
   "cell_type": "code",
   "execution_count": 67,
   "id": "1e03cbfa",
   "metadata": {},
   "outputs": [
    {
     "name": "stdout",
     "output_type": "stream",
     "text": [
      "(array([4, 2, 2, 1, 1, 1, 1, 1, 1, 2]), array([ 1. ,  2.1,  3.2,  4.3,  5.4,  6.5,  7.6,  8.7,  9.8, 10.9, 12. ]))\n",
      "(array([0, 2, 2, 2, 2, 1, 1, 1, 1, 1, 1, 2]), array([ 0,  1,  2,  3,  4,  5,  6,  7,  8,  9, 10, 11, 12]))\n"
     ]
    }
   ],
   "source": [
    "# Import `numpy` as `np`\n",
    "import numpy as np\n",
    "\n",
    "# Initialize your array\n",
    "my_3d_array = np.array([[[1,2,3,4], [5,6,7,8]], [[1,2,3,4], [9,10,11,12]]], dtype=np.int64)\n",
    "\n",
    "# Pass the array to `np.histogram()`\n",
    "print(np.histogram(my_3d_array))\n",
    "\n",
    "# Specify the number of bins\n",
    "print(np.histogram(my_3d_array, bins=range(0,13)))"
   ]
  },
  {
   "cell_type": "code",
   "execution_count": 68,
   "id": "e7be2793",
   "metadata": {},
   "outputs": [
    {
     "data": {
      "image/png": "[encoded data removed]",
      "text/plain": [
       "<Figure size 640x480 with 1 Axes>"
      ]
     },
     "metadata": {},
     "output_type": "display_data"
    }
   ],
   "source": [
    "# Import numpy and matplotlib\n",
    "import numpy as np\n",
    "import matplotlib.pyplot as plt\n",
    "\n",
    "# Construct the histogram with a flattened 3d array and a range of bins\n",
    "plt.hist(my_3d_array.ravel(), bins=range(0,13))\n",
    "\n",
    "# Add a title to the plot\n",
    "plt.title('Frequency of My 3D Array Elements')\n",
    "\n",
    "# Show the plot\n",
    "plt.show()"
   ]
  },
  {
   "cell_type": "code",
   "execution_count": 69,
   "id": "eb052ad5",
   "metadata": {},
   "outputs": [
    {
     "data": {
      "image/png": "[encoded data removed]",
      "text/plain": [
       "<Figure size 640x480 with 2 Axes>"
      ]
     },
     "metadata": {},
     "output_type": "display_data"
    }
   ],
   "source": [
    "# Import NumPy and Matplotlib\n",
    "import numpy as np\n",
    "import matplotlib.pyplot as plt\n",
    "\n",
    "# Create an array\n",
    "points = np.arange(-5, 5, 0.01)\n",
    "\n",
    "# Make a meshgrid\n",
    "xs, ys = np.meshgrid(points, points)\n",
    "z = np.sqrt(xs ** 2 + ys ** 2)\n",
    "\n",
    "# Display the image on the axes\n",
    "plt.imshow(z, cmap=plt.cm.gray)\n",
    "\n",
    "# Draw a color bar\n",
    "plt.colorbar()\n",
    "\n",
    "# Show the plot\n",
    "plt.show()"
   ]
  },
  {
   "cell_type": "code",
   "execution_count": null,
   "id": "24fb9a75",
   "metadata": {},
   "outputs": [],
   "source": []
  }
 ],
 "metadata": {
  "kernelspec": {
   "display_name": "Python 3 (ipykernel)",
   "language": "python",
   "name": "python3"
  },
  "language_info": {
   "codemirror_mode": {
    "name": "ipython",
    "version": 3
   },
   "file_extension": ".py",
   "mimetype": "text/x-python",
   "name": "python",
   "nbconvert_exporter": "python",
   "pygments_lexer": "ipython3",
   "version": "3.11.4"
  }
 },
 "nbformat": 4,
 "nbformat_minor": 5
}
