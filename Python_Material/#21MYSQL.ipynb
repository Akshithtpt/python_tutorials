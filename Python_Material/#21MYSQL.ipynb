{
 "cells": [
  {
   "cell_type": "code",
   "execution_count": 1,
   "id": "5042ce50",
   "metadata": {},
   "outputs": [],
   "source": [
    "import mysql.connector"
   ]
  },
  {
   "cell_type": "code",
   "execution_count": 2,
   "id": "daf460db",
   "metadata": {},
   "outputs": [
    {
     "name": "stdout",
     "output_type": "stream",
     "text": [
      "Requirement already satisfied: mysql.connector-python in ./anaconda3/lib/python3.11/site-packages (8.1.0)\n",
      "Requirement already satisfied: protobuf<=4.21.12,>=4.21.1 in ./anaconda3/lib/python3.11/site-packages (from mysql.connector-python) (4.21.12)\n",
      "Note: you may need to restart the kernel to use updated packages.\n"
     ]
    }
   ],
   "source": [
    "pip install mysql.connector-python"
   ]
  },
  {
   "cell_type": "code",
   "execution_count": 1,
   "id": "bea806fc",
   "metadata": {},
   "outputs": [
    {
     "name": "stdout",
     "output_type": "stream",
     "text": [
      "<mysql.connector.connection_cext.CMySQLConnection object at 0x107b13590>\n"
     ]
    }
   ],
   "source": [
    "#check conection\n",
    "\n",
    "import mysql.connector\n",
    "\n",
    "mydb = mysql.connector.connect(\n",
    "  host=\"localhost\",\n",
    "  user=\"akshith\",\n",
    "  password='Nopassword@1'\n",
    ")\n",
    "\n",
    "print(mydb)"
   ]
  },
  {
   "cell_type": "code",
   "execution_count": 9,
   "id": "37616fa7",
   "metadata": {},
   "outputs": [],
   "source": [
    "#creating a database -- use the \"CREATE DATABASE\" statement\n",
    "\n",
    "import mysql.connector\n",
    "\n",
    "mydb = mysql.connector.connect(\n",
    "  host=\"localhost\",\n",
    "  user=\"akshith\",\n",
    "  password='Nopassword@1'\n",
    ")\n",
    "\n",
    "mycursor = mydb.cursor()\n",
    "\n",
    "mycursor.execute(\"CREATE DATABASE clientindex\")"
   ]
  },
  {
   "cell_type": "code",
   "execution_count": 2,
   "id": "629afc53",
   "metadata": {},
   "outputs": [
    {
     "name": "stdout",
     "output_type": "stream",
     "text": [
      "('clientindex',)\n",
      "('information_schema',)\n",
      "('mysql',)\n",
      "('performance_schema',)\n",
      "('sys',)\n"
     ]
    }
   ],
   "source": [
    "#check if DB exsists\n",
    "\n",
    "import mysql.connector\n",
    "\n",
    "mydb = mysql.connector.connect(\n",
    "  host=\"localhost\",\n",
    "  user=\"akshith\",\n",
    "  password=\"Nopassword@1\"\n",
    ")\n",
    "\n",
    "mycursor = mydb.cursor()\n",
    "\n",
    "mycursor.execute(\"SHOW DATABASES\")\n",
    "\n",
    "for x in mycursor:\n",
    "  print(x)"
   ]
  },
  {
   "cell_type": "code",
   "execution_count": 3,
   "id": "54801522",
   "metadata": {},
   "outputs": [],
   "source": [
    "#try connecting to DB\n",
    "\n",
    "import mysql.connector\n",
    "\n",
    "mydb = mysql.connector.connect(\n",
    "  host=\"localhost\",\n",
    "  user=\"akshith\",\n",
    "  password=\"Nopassword@1\",\n",
    "  database=\"clientindex\"\n",
    ")"
   ]
  },
  {
   "cell_type": "code",
   "execution_count": 12,
   "id": "a8ddb854",
   "metadata": {},
   "outputs": [],
   "source": [
    "#creating table\n",
    "\n",
    "import mysql.connector\n",
    "\n",
    "mydb = mysql.connector.connect(\n",
    "  host=\"localhost\",\n",
    "  user=\"akshith\",\n",
    "  password=\"Nopassword@1\",\n",
    "  database=\"clientindex\"\n",
    ")\n",
    "\n",
    "mycursor = mydb.cursor()\n",
    "\n",
    "mycursor.execute(\"CREATE TABLE NDXMBR (NAME VARCHAR(25), address1 VARCHAR(25), address2 VARCHAR(25), address3 VARCHAR(25), city VARCHAR(25), state VARCHAR(2))\")"
   ]
  },
  {
   "cell_type": "code",
   "execution_count": 16,
   "id": "45cbe85a",
   "metadata": {},
   "outputs": [
    {
     "name": "stdout",
     "output_type": "stream",
     "text": [
      "('NDXMBR',)\n"
     ]
    }
   ],
   "source": [
    "#check table created or NOT\n",
    "\n",
    "import mysql.connector\n",
    "\n",
    "mydb = mysql.connector.connect(\n",
    "  host=\"localhost\",\n",
    "  user=\"akshith\",\n",
    "  password=\"Nopassword@1\",\n",
    "  database=\"clientindex\"\n",
    ")\n",
    "\n",
    "mycursor = mydb.cursor()\n",
    "\n",
    "mycursor.execute(\"SHOW TABLES\")\n",
    "\n",
    "for x in mycursor:\n",
    "  print(x)"
   ]
  },
  {
   "cell_type": "code",
   "execution_count": 19,
   "id": "ef6a8193",
   "metadata": {},
   "outputs": [],
   "source": [
    "#alter table \n",
    "import mysql.connector\n",
    "\n",
    "mydb = mysql.connector.connect(\n",
    "  host=\"localhost\",\n",
    "  user=\"akshith\",\n",
    "  password=\"Nopassword@1\",\n",
    "  database=\"clientindex\"\n",
    ")\n",
    "\n",
    "mycursor = mydb.cursor()\n",
    "\n",
    "mycursor.execute(\"ALTER TABLE NDXMBR ADD COLUMN ZIP INT\")"
   ]
  },
  {
   "cell_type": "code",
   "execution_count": null,
   "id": "b3b95452",
   "metadata": {},
   "outputs": [],
   "source": [
    "import mysql.connector\n",
    "\n",
    "mydb = mysql.connector.connect(\n",
    "  host=\"localhost\",\n",
    "  user=\"akshith\",\n",
    "  password=\"Nopassword@1\",\n",
    "  database=\"clientindex\"\n",
    ")\n",
    "\n",
    "mycursor = mydb.cursor()\n",
    "\n",
    "sql = \"INSERT INTO customers (name, address1) VALUES (%s, %s)\"\n",
    "val = (\"John\", \"Highway 21\")\n",
    "mycursor.execute(sql, val)\n",
    "\n",
    "mydb.commit()\n",
    "\n",
    "print(mycursor.rowcount, \"record inserted.\")\n"
   ]
  },
  {
   "cell_type": "code",
   "execution_count": 22,
   "id": "bc1ffe00",
   "metadata": {},
   "outputs": [
    {
     "name": "stdout",
     "output_type": "stream",
     "text": [
      "1 record inserted.\n"
     ]
    }
   ],
   "source": [
    "import mysql.connector\n",
    "\n",
    "mydb = mysql.connector.connect(\n",
    "  host=\"localhost\",\n",
    "  user=\"akshith\",\n",
    "  password=\"Nopassword@1\",\n",
    "  database=\"clientindex\"\n",
    ")\n",
    "\n",
    "mycursor = mydb.cursor()\n",
    "\n",
    "sql = \"INSERT INTO NDXMBR (name, address1, address2, address3, city, state) VALUES (%s, %s, %s, %s, %s, %s)\"\n",
    "val = (\"John\", \"Highway 21\",'unit 504','','halifax','NS')\n",
    "mycursor.execute(sql, val)\n",
    "\n",
    "mydb.commit()\n",
    "\n",
    "print(mycursor.rowcount, \"record inserted.\")"
   ]
  },
  {
   "cell_type": "code",
   "execution_count": 23,
   "id": "8ffbc2d4",
   "metadata": {},
   "outputs": [
    {
     "name": "stdout",
     "output_type": "stream",
     "text": [
      "('John', 'Highway 21', 'unit 504', '', 'halifax', 'NS', 1, None)\n"
     ]
    }
   ],
   "source": [
    "#SELECT TABLE NAMES FROM TABLE\n",
    "\n",
    "import mysql.connector\n",
    "\n",
    "mydb = mysql.connector.connect(\n",
    "  host=\"localhost\",\n",
    "  user=\"akshith\",\n",
    "  password=\"Nopassword@1\",\n",
    "  database=\"clientindex\"\n",
    ")\n",
    "\n",
    "mycursor = mydb.cursor()\n",
    "\n",
    "mycursor.execute(\"SELECT * FROM NDXMBR\")\n",
    "\n",
    "myresult = mycursor.fetchall()\n",
    "\n",
    "for x in myresult:\n",
    "  print(x)"
   ]
  },
  {
   "cell_type": "code",
   "execution_count": 26,
   "id": "cf61a515",
   "metadata": {},
   "outputs": [
    {
     "name": "stdout",
     "output_type": "stream",
     "text": [
      "13 was inserted.\n"
     ]
    }
   ],
   "source": [
    "#mutiple rows insert\n",
    "\n",
    "import mysql.connector\n",
    "\n",
    "mydb = mysql.connector.connect(\n",
    "  host=\"localhost\",\n",
    "  user=\"akshith\",\n",
    "  password=\"Nopassword@1\",\n",
    "  database=\"clientindex\"\n",
    ")\n",
    "\n",
    "mycursor = mydb.cursor()\n",
    "\n",
    "sql = \"INSERT INTO NDXMBR (name, address1, address2, address3, city, state, zip) VALUES (%s, %s, %s, %s, %s, %s, %s)\"\n",
    "val = [\n",
    "  ('Peter', 'Lowstreet 4','','','HALIFAX','NS','50604'),\n",
    "  ('Amy', 'Apple st 652','','','HALIFAX','NS','50604'),\n",
    "  ('Hannah', 'Mountain 21','','','HALIFAX','NS','50604'),\n",
    "  ('Michael', 'Valley 345','','','HALIFAX','NS','50604'),\n",
    "  ('Sandy', 'Ocean blvd 2','','','HALIFAX','NS','50604'),\n",
    "  ('Betty', 'Green Grass 1','','','HALIFAX','NS','50604'),\n",
    "  ('Richard', 'Sky st 331','','','HALIFAX','NS','50604'),\n",
    "  ('Susan', 'One way 98','','','HALIFAX','NS','50604'),\n",
    "  ('Vicky', 'Yellow Garden 2','','','HALIFAX','NS','50604'),\n",
    "  ('Ben', 'Park Lane 38','','','HALIFAX','NS','50604'),\n",
    "  ('William', 'Central st 954','','','HALIFAX','NS','50604'),\n",
    "  ('Chuck', 'Main Road 989','','','HALIFAX','NS','50604'),\n",
    "  ('Viola', 'Sideway 1633','','','HALIFAX','NS','50604')\n",
    "]\n",
    "\n",
    "mycursor.executemany(sql, val)\n",
    "\n",
    "mydb.commit()\n",
    "\n",
    "print(mycursor.rowcount, \"was inserted.\")"
   ]
  },
  {
   "cell_type": "code",
   "execution_count": 27,
   "id": "3c71f32c",
   "metadata": {},
   "outputs": [
    {
     "name": "stdout",
     "output_type": "stream",
     "text": [
      "('John', 'Highway 21', 'unit 504', '', 'halifax', 'NS', 1, None)\n",
      "('Peter', 'Lowstreet 4', '', '', 'HALIFAX', 'NS', 2, 50604)\n",
      "('Amy', 'Apple st 652', '', '', 'HALIFAX', 'NS', 3, 50604)\n",
      "('Hannah', 'Mountain 21', '', '', 'HALIFAX', 'NS', 4, 50604)\n",
      "('Michael', 'Valley 345', '', '', 'HALIFAX', 'NS', 5, 50604)\n",
      "('Sandy', 'Ocean blvd 2', '', '', 'HALIFAX', 'NS', 6, 50604)\n",
      "('Betty', 'Green Grass 1', '', '', 'HALIFAX', 'NS', 7, 50604)\n",
      "('Richard', 'Sky st 331', '', '', 'HALIFAX', 'NS', 8, 50604)\n",
      "('Susan', 'One way 98', '', '', 'HALIFAX', 'NS', 9, 50604)\n",
      "('Vicky', 'Yellow Garden 2', '', '', 'HALIFAX', 'NS', 10, 50604)\n",
      "('Ben', 'Park Lane 38', '', '', 'HALIFAX', 'NS', 11, 50604)\n",
      "('William', 'Central st 954', '', '', 'HALIFAX', 'NS', 12, 50604)\n",
      "('Chuck', 'Main Road 989', '', '', 'HALIFAX', 'NS', 13, 50604)\n",
      "('Viola', 'Sideway 1633', '', '', 'HALIFAX', 'NS', 14, 50604)\n"
     ]
    }
   ],
   "source": [
    "#SELECT TABLE NAMES FROM TABLE\n",
    "\n",
    "import mysql.connector\n",
    "\n",
    "mydb = mysql.connector.connect(\n",
    "  host=\"localhost\",\n",
    "  user=\"akshith\",\n",
    "  password=\"Nopassword@1\",\n",
    "  database=\"clientindex\"\n",
    ")\n",
    "\n",
    "mycursor = mydb.cursor()\n",
    "\n",
    "mycursor.execute(\"SELECT * FROM NDXMBR\")\n",
    "\n",
    "myresult = mycursor.fetchall()\n",
    "\n",
    "for x in myresult:\n",
    "  print(x)"
   ]
  },
  {
   "cell_type": "code",
   "execution_count": 28,
   "id": "40070c0e",
   "metadata": {},
   "outputs": [
    {
     "name": "stdout",
     "output_type": "stream",
     "text": [
      "1 record inserted, ID: 15\n"
     ]
    }
   ],
   "source": [
    "#get lastrow\n",
    "\n",
    "import mysql.connector\n",
    "\n",
    "mydb = mysql.connector.connect(\n",
    "  host=\"localhost\",\n",
    "  user=\"akshith\",\n",
    "  password=\"Nopassword@1\",\n",
    "  database=\"clientindex\"\n",
    ")\n",
    "\n",
    "mycursor = mydb.cursor()\n",
    "\n",
    "sql = \"INSERT INTO NDXMBR (name, address1, address2, address3, city, state, zip) VALUES (%s, %s, %s, %s, %s, %s, %s)\"\n",
    "val = (\"Michelle\", \"Blue Village\",'','','VERMOUNT','US','50604')\n",
    "mycursor.execute(sql, val)\n",
    "\n",
    "mydb.commit()\n",
    "\n",
    "print(\"1 record inserted, ID:\", mycursor.lastrowid)"
   ]
  },
  {
   "cell_type": "code",
   "execution_count": 29,
   "id": "d765cab3",
   "metadata": {},
   "outputs": [
    {
     "name": "stdout",
     "output_type": "stream",
     "text": [
      "('John', 'Highway 21')\n",
      "('Peter', 'Lowstreet 4')\n",
      "('Amy', 'Apple st 652')\n",
      "('Hannah', 'Mountain 21')\n",
      "('Michael', 'Valley 345')\n",
      "('Sandy', 'Ocean blvd 2')\n",
      "('Betty', 'Green Grass 1')\n",
      "('Richard', 'Sky st 331')\n",
      "('Susan', 'One way 98')\n",
      "('Vicky', 'Yellow Garden 2')\n",
      "('Ben', 'Park Lane 38')\n",
      "('William', 'Central st 954')\n",
      "('Chuck', 'Main Road 989')\n",
      "('Viola', 'Sideway 1633')\n",
      "('Michelle', 'Blue Village')\n"
     ]
    }
   ],
   "source": [
    "#SELECT ONLY CERTAIN ROWS\n",
    "import mysql.connector\n",
    "\n",
    "mydb = mysql.connector.connect(\n",
    "  host=\"localhost\",\n",
    "  user=\"akshith\",\n",
    "  password=\"Nopassword@1\",\n",
    "  database=\"clientindex\"\n",
    ")\n",
    "\n",
    "mycursor = mydb.cursor()\n",
    "\n",
    "mycursor.execute(\"SELECT name, address1 FROM NDXMBR\")\n",
    "\n",
    "myresult = mycursor.fetchall()\n",
    "\n",
    "for x in myresult:\n",
    "  print(x)"
   ]
  },
  {
   "cell_type": "code",
   "execution_count": 3,
   "id": "44aa1fe9",
   "metadata": {},
   "outputs": [
    {
     "name": "stdout",
     "output_type": "stream",
     "text": [
      "John\n",
      "Highway 21\n",
      "unit 504\n",
      "\n",
      "halifax\n",
      "NS\n",
      "1\n",
      "None\n"
     ]
    }
   ],
   "source": [
    "import mysql.connector\n",
    "\n",
    "mydb = mysql.connector.connect(\n",
    "  host=\"localhost\",\n",
    "  user=\"akshith\",\n",
    "  password=\"Nopassword@1\",\n",
    "  database=\"clientindex\"\n",
    ")\n",
    "\n",
    "mycursor = mydb.cursor()\n",
    "\n",
    "mycursor.execute(\"SELECT * FROM NDXMBR\")\n",
    "\n",
    "#myresult = mycursor.fetchall()\n",
    "myresult = mycursor.fetchone()\n",
    "\n",
    "for x in myresult:\n",
    "  print(x)"
   ]
  },
  {
   "cell_type": "code",
   "execution_count": 31,
   "id": "9f1c64e7",
   "metadata": {},
   "outputs": [
    {
     "name": "stdout",
     "output_type": "stream",
     "text": [
      "('Viola', 'Sideway 1633', '', '', 'HALIFAX', 'NS', 14, 50604)\n"
     ]
    }
   ],
   "source": [
    "#WHERE COMMAND\n",
    "\n",
    "import mysql.connector\n",
    "\n",
    "mydb = mysql.connector.connect(\n",
    "   host=\"localhost\",\n",
    "  user=\"akshith\",\n",
    "  password=\"Nopassword@1\",\n",
    "  database=\"clientindex\"\n",
    ")\n",
    "\n",
    "mycursor = mydb.cursor()\n",
    "\n",
    "sql = \"SELECT * FROM NDXMBR WHERE NAME ='VIOLA'\"\n",
    "\n",
    "mycursor.execute(sql)\n",
    "\n",
    "myresult = mycursor.fetchall()\n",
    "\n",
    "for x in myresult:\n",
    "  print(x)"
   ]
  },
  {
   "cell_type": "code",
   "execution_count": 33,
   "id": "24883f9a",
   "metadata": {},
   "outputs": [
    {
     "name": "stdout",
     "output_type": "stream",
     "text": [
      "('William', 'Central st 954', '', '', 'HALIFAX', 'NS', 12, 50604)\n"
     ]
    }
   ],
   "source": [
    "import mysql.connector\n",
    "\n",
    "mydb = mysql.connector.connect(\n",
    "   host=\"localhost\",\n",
    "  user=\"akshith\",\n",
    "  password=\"Nopassword@1\",\n",
    "  database=\"clientindex\"\n",
    ")\n",
    "\n",
    "mycursor = mydb.cursor()\n",
    "\n",
    "sql = \"SELECT * FROM NDXMBR WHERE address1 LIKE '%CEN%'\"\n",
    "\n",
    "mycursor.execute(sql)\n",
    "\n",
    "myresult = mycursor.fetchall()\n",
    "\n",
    "for x in myresult:\n",
    "  print(x)"
   ]
  },
  {
   "cell_type": "code",
   "execution_count": 37,
   "id": "b571f242",
   "metadata": {},
   "outputs": [
    {
     "name": "stdout",
     "output_type": "stream",
     "text": [
      "('Amy', 'Apple st 652', '', '', 'HALIFAX', 'NS', 3, 50604)\n",
      "('Ben', 'Park Lane 38', '', '', 'HALIFAX', 'NS', 11, 50604)\n",
      "('Betty', 'Green Grass 1', '', '', 'HALIFAX', 'NS', 7, 50604)\n",
      "('Chuck', 'Main Road 989', '', '', 'HALIFAX', 'NS', 13, 50604)\n",
      "('Hannah', 'Mountain 21', '', '', 'HALIFAX', 'NS', 4, 50604)\n",
      "('John', 'Highway 21', 'unit 504', '', 'halifax', 'NS', 1, None)\n",
      "('Michael', 'Valley 345', '', '', 'HALIFAX', 'NS', 5, 50604)\n",
      "('Michelle', 'Blue Village', '', '', 'VERMOUNT', 'US', 15, 50604)\n",
      "('Peter', 'Lowstreet 4', '', '', 'HALIFAX', 'NS', 2, 50604)\n",
      "('Richard', 'Sky st 331', '', '', 'HALIFAX', 'NS', 8, 50604)\n",
      "('Sandy', 'Ocean blvd 2', '', '', 'HALIFAX', 'NS', 6, 50604)\n",
      "('Susan', 'One way 98', '', '', 'HALIFAX', 'NS', 9, 50604)\n",
      "('Vicky', 'Yellow Garden 2', '', '', 'HALIFAX', 'NS', 10, 50604)\n",
      "('Viola', 'Sideway 1633', '', '', 'HALIFAX', 'NS', 14, 50604)\n",
      "('William', 'Central st 954', '', '', 'HALIFAX', 'NS', 12, 50604)\n"
     ]
    }
   ],
   "source": [
    "#ORDER BY\n",
    "import mysql.connector\n",
    "\n",
    "mydb = mysql.connector.connect(\n",
    "   host=\"localhost\",\n",
    "  user=\"akshith\",\n",
    "  password=\"Nopassword@1\",\n",
    "  database=\"clientindex\"\n",
    ")\n",
    "\n",
    "mycursor = mydb.cursor()\n",
    "\n",
    "sql = \"SELECT * FROM NDXMBR ORDER BY name\"\n",
    "\n",
    "mycursor.execute(sql)\n",
    "\n",
    "myresult = mycursor.fetchall()\n",
    "\n",
    "for x in myresult:\n",
    "  print(x)"
   ]
  },
  {
   "cell_type": "code",
   "execution_count": 38,
   "id": "dbd92670",
   "metadata": {},
   "outputs": [
    {
     "name": "stdout",
     "output_type": "stream",
     "text": [
      "('William', 'Central st 954', '', '', 'HALIFAX', 'NS', 12, 50604)\n",
      "('Viola', 'Sideway 1633', '', '', 'HALIFAX', 'NS', 14, 50604)\n",
      "('Vicky', 'Yellow Garden 2', '', '', 'HALIFAX', 'NS', 10, 50604)\n",
      "('Susan', 'One way 98', '', '', 'HALIFAX', 'NS', 9, 50604)\n",
      "('Sandy', 'Ocean blvd 2', '', '', 'HALIFAX', 'NS', 6, 50604)\n",
      "('Richard', 'Sky st 331', '', '', 'HALIFAX', 'NS', 8, 50604)\n",
      "('Peter', 'Lowstreet 4', '', '', 'HALIFAX', 'NS', 2, 50604)\n",
      "('Michelle', 'Blue Village', '', '', 'VERMOUNT', 'US', 15, 50604)\n",
      "('Michael', 'Valley 345', '', '', 'HALIFAX', 'NS', 5, 50604)\n",
      "('John', 'Highway 21', 'unit 504', '', 'halifax', 'NS', 1, None)\n",
      "('Hannah', 'Mountain 21', '', '', 'HALIFAX', 'NS', 4, 50604)\n",
      "('Chuck', 'Main Road 989', '', '', 'HALIFAX', 'NS', 13, 50604)\n",
      "('Betty', 'Green Grass 1', '', '', 'HALIFAX', 'NS', 7, 50604)\n",
      "('Ben', 'Park Lane 38', '', '', 'HALIFAX', 'NS', 11, 50604)\n",
      "('Amy', 'Apple st 652', '', '', 'HALIFAX', 'NS', 3, 50604)\n"
     ]
    }
   ],
   "source": [
    "import mysql.connector\n",
    "\n",
    "mydb = mysql.connector.connect(\n",
    "   host=\"localhost\",\n",
    "  user=\"akshith\",\n",
    "  password=\"Nopassword@1\",\n",
    "  database=\"clientindex\"\n",
    ")\n",
    "\n",
    "mycursor = mydb.cursor()\n",
    "\n",
    "sql = \"SELECT * FROM NDXMBR ORDER BY name DESC\"\n",
    "\n",
    "mycursor.execute(sql)\n",
    "\n",
    "myresult = mycursor.fetchall()\n",
    "\n",
    "for x in myresult:\n",
    "  print(x)"
   ]
  },
  {
   "cell_type": "code",
   "execution_count": 39,
   "id": "c1313006",
   "metadata": {},
   "outputs": [
    {
     "name": "stdout",
     "output_type": "stream",
     "text": [
      "1 record(s) deleted\n"
     ]
    }
   ],
   "source": [
    "#DELETE A RECORD IN A TABLE\n",
    "\n",
    "import mysql.connector\n",
    "\n",
    "mydb = mysql.connector.connect(\n",
    "  host=\"localhost\",\n",
    "  user=\"akshith\",\n",
    "  password=\"Nopassword@1\",\n",
    "  database=\"clientindex\"\n",
    ")\n",
    "\n",
    "mycursor = mydb.cursor()\n",
    "\n",
    "sql = \"DELETE FROM NDXMBR WHERE address1 = 'apple st 652'\"\n",
    "\n",
    "mycursor.execute(sql)\n",
    "\n",
    "mydb.commit()\n",
    "\n",
    "print(mycursor.rowcount, \"record(s) deleted\")"
   ]
  },
  {
   "cell_type": "code",
   "execution_count": 40,
   "id": "c54564b1",
   "metadata": {},
   "outputs": [],
   "source": [
    "#Create a table\n",
    "\n",
    "import mysql.connector\n",
    "\n",
    "mydb = mysql.connector.connect(\n",
    "  host=\"localhost\",\n",
    "  user=\"akshith\",\n",
    "  password=\"Nopassword@1\",\n",
    "  database=\"clientindex\"\n",
    ")\n",
    "\n",
    "mycursor = mydb.cursor()\n",
    "\n",
    "mycursor.execute(\"CREATE TABLE NDXNAM (NAME VARCHAR(25), ID INT(20) AUTO_INCREMENT PRIMARY KEY)\")"
   ]
  },
  {
   "cell_type": "code",
   "execution_count": 41,
   "id": "6afdf976",
   "metadata": {},
   "outputs": [],
   "source": [
    "#DELETE A TABLE\n",
    "\n",
    "import mysql.connector\n",
    "\n",
    "mydb = mysql.connector.connect(\n",
    "  host=\"localhost\",\n",
    "  user=\"akshith\",\n",
    "  password=\"Nopassword@1\",\n",
    "  database=\"clientindex\"\n",
    ")\n",
    "\n",
    "mycursor = mydb.cursor()\n",
    "\n",
    "sql = \"DROP TABLE NDXNAM\"\n",
    "\n",
    "mycursor.execute(sql)"
   ]
  },
  {
   "cell_type": "code",
   "execution_count": 42,
   "id": "f03ab0e4",
   "metadata": {},
   "outputs": [],
   "source": [
    "#DELETE TABLE IF PRESENT\n",
    "\n",
    "import mysql.connector\n",
    "\n",
    "mydb = mysql.connector.connect(\n",
    "  host=\"localhost\",\n",
    "  user=\"akshith\",\n",
    "  password=\"Nopassword@1\",\n",
    "  database=\"clientindex\"\n",
    ")\n",
    "\n",
    "mycursor = mydb.cursor()\n",
    "\n",
    "sql = \"DROP TABLE IF EXISTS NDXNAM\"\n",
    "\n",
    "mycursor.execute(sql)"
   ]
  },
  {
   "cell_type": "code",
   "execution_count": 43,
   "id": "032595bc",
   "metadata": {},
   "outputs": [
    {
     "name": "stdout",
     "output_type": "stream",
     "text": [
      "1 record(s) affected\n"
     ]
    }
   ],
   "source": [
    "#UPDATE A TABLE\n",
    "\n",
    "import mysql.connector\n",
    "\n",
    "mydb = mysql.connector.connect(\n",
    " host=\"localhost\",\n",
    "  user=\"akshith\",\n",
    "  password=\"Nopassword@1\",\n",
    "  database=\"clientindex\"\n",
    ")\n",
    "\n",
    "mycursor = mydb.cursor()\n",
    "\n",
    "sql = \"UPDATE NDXMBR SET address1 = '1 NATIONALLIFE DRIVE' WHERE address1 = 'Ocean blvd 2'\"\n",
    "\n",
    "mycursor.execute(sql)\n",
    "\n",
    "mydb.commit()\n",
    "\n",
    "print(mycursor.rowcount, \"record(s) affected\")"
   ]
  },
  {
   "cell_type": "code",
   "execution_count": 45,
   "id": "4c859f86",
   "metadata": {},
   "outputs": [
    {
     "name": "stdout",
     "output_type": "stream",
     "text": [
      "1 record(s) affected\n"
     ]
    }
   ],
   "source": [
    "#UPDATING USE PLACEHOLDER\n",
    "\n",
    "import mysql.connector\n",
    "\n",
    "mydb = mysql.connector.connect(\n",
    " host=\"localhost\",\n",
    "  user=\"akshith\",\n",
    "  password=\"Nopassword@1\",\n",
    "  database=\"clientindex\"\n",
    ")\n",
    "\n",
    "mycursor = mydb.cursor()\n",
    "\n",
    "sql = \"UPDATE NDXMBR SET address1 = %s WHERE address1 = %s\"\n",
    "val = (\"OCEAN BLVD 2\", \"1 NATIONALLIFE DRIVE\")\n",
    "\n",
    "mycursor.execute(sql, val)\n",
    "\n",
    "mydb.commit()\n",
    "\n",
    "print(mycursor.rowcount, \"record(s) affected\")"
   ]
  },
  {
   "cell_type": "code",
   "execution_count": 46,
   "id": "33e8c011",
   "metadata": {},
   "outputs": [
    {
     "name": "stdout",
     "output_type": "stream",
     "text": [
      "('John', 'Highway 21', 'unit 504', '', 'halifax', 'NS', 1, None)\n",
      "('Peter', 'Lowstreet 4', '', '', 'HALIFAX', 'NS', 2, 50604)\n",
      "('Hannah', 'Mountain 21', '', '', 'HALIFAX', 'NS', 4, 50604)\n",
      "('Michael', 'Valley 345', '', '', 'HALIFAX', 'NS', 5, 50604)\n",
      "('Sandy', 'OCEAN BLVD 2', '', '', 'HALIFAX', 'NS', 6, 50604)\n"
     ]
    }
   ],
   "source": [
    "#LIMIT\n",
    "\n",
    "import mysql.connector\n",
    "\n",
    "mydb = mysql.connector.connect(\n",
    " host=\"localhost\",\n",
    "  user=\"akshith\",\n",
    "  password=\"Nopassword@1\",\n",
    "  database=\"clientindex\"\n",
    ")\n",
    "\n",
    "mycursor = mydb.cursor()\n",
    "\n",
    "mycursor.execute(\"SELECT * FROM NDXMBR LIMIT 5\")\n",
    "\n",
    "myresult = mycursor.fetchall()\n",
    "\n",
    "for x in myresult:\n",
    "  print(x)"
   ]
  },
  {
   "cell_type": "code",
   "execution_count": 47,
   "id": "8bdb73de",
   "metadata": {},
   "outputs": [
    {
     "name": "stdout",
     "output_type": "stream",
     "text": [
      "('Hannah', 'Mountain 21', '', '', 'HALIFAX', 'NS', 4, 50604)\n",
      "('Michael', 'Valley 345', '', '', 'HALIFAX', 'NS', 5, 50604)\n",
      "('Sandy', 'OCEAN BLVD 2', '', '', 'HALIFAX', 'NS', 6, 50604)\n",
      "('Betty', 'Green Grass 1', '', '', 'HALIFAX', 'NS', 7, 50604)\n",
      "('Richard', 'Sky st 331', '', '', 'HALIFAX', 'NS', 8, 50604)\n"
     ]
    }
   ],
   "source": [
    "import mysql.connector\n",
    "\n",
    "mydb = mysql.connector.connect(\n",
    " host=\"localhost\",\n",
    "  user=\"akshith\",\n",
    "  password=\"Nopassword@1\",\n",
    "  database=\"clientindex\"\n",
    ")\n",
    "\n",
    "mycursor = mydb.cursor()\n",
    "\n",
    "mycursor.execute(\"SELECT * FROM NDXMBR LIMIT 5 OFFSET 2\")\n",
    "\n",
    "myresult = mycursor.fetchall()\n",
    "\n",
    "for x in myresult:\n",
    "  print(x)"
   ]
  },
  {
   "cell_type": "code",
   "execution_count": 48,
   "id": "08dc4a98",
   "metadata": {},
   "outputs": [],
   "source": [
    "#Create a table\n",
    "\n",
    "import mysql.connector\n",
    "\n",
    "mydb = mysql.connector.connect(\n",
    "  host=\"localhost\",\n",
    "  user=\"akshith\",\n",
    "  password=\"Nopassword@1\",\n",
    "  database=\"clientindex\"\n",
    ")\n",
    "\n",
    "mycursor = mydb.cursor()\n",
    "\n",
    "mycursor.execute(\"CREATE TABLE NDXNAM (NAME VARCHAR(25), ID INT(20) AUTO_INCREMENT PRIMARY KEY)\")"
   ]
  },
  {
   "cell_type": "code",
   "execution_count": 51,
   "id": "c92a234b",
   "metadata": {},
   "outputs": [
    {
     "name": "stdout",
     "output_type": "stream",
     "text": [
      "8 was inserted.\n"
     ]
    }
   ],
   "source": [
    "#mutiple rows insert\n",
    "\n",
    "import mysql.connector\n",
    "\n",
    "mydb = mysql.connector.connect(\n",
    "  host=\"localhost\",\n",
    "  user=\"akshith\",\n",
    "  password=\"Nopassword@1\",\n",
    "  database=\"clientindex\"\n",
    ")\n",
    "\n",
    "mycursor = mydb.cursor()\n",
    "\n",
    "sql = \"INSERT INTO NDXNAM (NAME) VALUES (%s)\"\n",
    "val = [\n",
    "  ('Peter',),\n",
    "  ('Amy',),\n",
    "  ('Hannah',),\n",
    "  ('Michael',),\n",
    "  ('Sandy',),\n",
    "  ('Betty',),\n",
    "  ('Richard',),\n",
    "  ('Susan',)\n",
    "]\n",
    "\n",
    "mycursor.executemany(sql, val)\n",
    "\n",
    "mydb.commit()\n",
    "\n",
    "print(mycursor.rowcount, \"was inserted.\")"
   ]
  },
  {
   "cell_type": "code",
   "execution_count": null,
   "id": "c641cd84",
   "metadata": {},
   "outputs": [],
   "source": []
  }
 ],
 "metadata": {
  "kernelspec": {
   "display_name": "Python 3 (ipykernel)",
   "language": "python",
   "name": "python3"
  },
  "language_info": {
   "codemirror_mode": {
    "name": "ipython",
    "version": 3
   },
   "file_extension": ".py",
   "mimetype": "text/x-python",
   "name": "python",
   "nbconvert_exporter": "python",
   "pygments_lexer": "ipython3",
   "version": "3.11.4"
  }
 },
 "nbformat": 4,
 "nbformat_minor": 5
}
