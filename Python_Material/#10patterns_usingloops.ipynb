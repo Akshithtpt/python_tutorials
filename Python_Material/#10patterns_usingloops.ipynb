{
 "cells": [
  {
   "cell_type": "code",
   "execution_count": 1,
   "id": "6da3a7d0",
   "metadata": {},
   "outputs": [
    {
     "name": "stdout",
     "output_type": "stream",
     "text": [
      "* * * * * \n",
      "* * * * * \n",
      "* * * * * \n",
      "* * * * * \n",
      "* * * * * \n"
     ]
    }
   ],
   "source": [
    "for row in range(5):\n",
    "    for col in range(5):\n",
    "        print('*',end=\" \")\n",
    "    print()"
   ]
  },
  {
   "cell_type": "code",
   "execution_count": 2,
   "id": "c819f1c4",
   "metadata": {},
   "outputs": [
    {
     "name": "stdout",
     "output_type": "stream",
     "text": [
      "# \n",
      "# # \n",
      "# # # \n",
      "# # # # \n",
      "# # # # # \n",
      "# # # # # # \n",
      "# # # # # # # \n"
     ]
    }
   ],
   "source": [
    "for i in range(7):\n",
    "    for j in range(i+1):\n",
    "        print('#',end=\" \")\n",
    "    print()"
   ]
  },
  {
   "cell_type": "code",
   "execution_count": 3,
   "id": "d66b1dda",
   "metadata": {},
   "outputs": [
    {
     "name": "stdout",
     "output_type": "stream",
     "text": [
      "# # # # # # # \n",
      "# # # # # # \n",
      "# # # # # \n",
      "# # # # \n",
      "# # # \n",
      "# # \n",
      "# \n"
     ]
    }
   ],
   "source": [
    "for i in range(7):\n",
    "    for j in range(7-i):\n",
    "        print('#',end=\" \")\n",
    "    print()"
   ]
  },
  {
   "cell_type": "code",
   "execution_count": 4,
   "id": "10c4f8f7",
   "metadata": {},
   "outputs": [
    {
     "name": "stdout",
     "output_type": "stream",
     "text": [
      "# \n",
      "# # \n",
      "# # # \n",
      "# # # # \n",
      "# # # # # \n",
      "# # # # # # \n",
      "# # # # # # # \n",
      "# # # # # # # \n",
      "# # # # # # \n",
      "# # # # # \n",
      "# # # # \n",
      "# # # \n",
      "# # \n",
      "# \n"
     ]
    }
   ],
   "source": [
    "for i in range(7):\n",
    "    for j in range(i+1):\n",
    "        print('#',end=\" \")\n",
    "    print()\n",
    "for i in range(7):\n",
    "    for j in range(7-i):\n",
    "        print('#',end=\" \")\n",
    "    print()"
   ]
  },
  {
   "cell_type": "code",
   "execution_count": null,
   "id": "72df2187",
   "metadata": {},
   "outputs": [],
   "source": []
  }
 ],
 "metadata": {
  "kernelspec": {
   "display_name": "Python 3 (ipykernel)",
   "language": "python",
   "name": "python3"
  },
  "language_info": {
   "codemirror_mode": {
    "name": "ipython",
    "version": 3
   },
   "file_extension": ".py",
   "mimetype": "text/x-python",
   "name": "python",
   "nbconvert_exporter": "python",
   "pygments_lexer": "ipython3",
   "version": "3.11.4"
  }
 },
 "nbformat": 4,
 "nbformat_minor": 5
}
